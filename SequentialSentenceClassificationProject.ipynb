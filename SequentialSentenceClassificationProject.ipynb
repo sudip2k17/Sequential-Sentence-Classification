{
  "nbformat": 4,
  "nbformat_minor": 0,
  "metadata": {
    "colab": {
      "provenance": []
    },
    "kernelspec": {
      "name": "python3",
      "display_name": "Python 3"
    },
    "language_info": {
      "name": "python"
    }
  },
  "cells": [
    {
      "cell_type": "markdown",
      "source": [
        "# **Objective:**\n",
        "\n",
        "\n",
        "\n",
        "1.   Build Deep learning Model for Sequential Sentence Classification, for Converting “Harder to Read” text into “Easier to Read ” text.\n",
        "2.   Approach:Create many to one model\n",
        "\n",
        "3. Use following models\n",
        "\n",
        "  A. Naïve Bayes with TF-IDF encoder (baseline)\n",
        "\n",
        "  B. Conv1D with token embedding\n",
        "\n",
        "  C. Pertained Feature Extractor\n",
        "\n",
        "  D. Conv1D with character embedding\n",
        "\n",
        "\n",
        "\n"
      ],
      "metadata": {
        "id": "rgWPF0SMYuVh"
      }
    },
    {
      "cell_type": "markdown",
      "source": [
        "# **Dataset details :**\n",
        "PubMed 20k RCT is dataset based on PubMed for sequential sentence classification. The dataset consists of approximately 20,000 abstracts of randomized controlled trials. Each sentence of each abstract is labelled with their role in the abstract using one of the following classes: background, objective, method, result, or conclusion. The purpose of releasing this dataset is twofold. First, the majority of datasets for sequential short-text classification i.e., classification of short texts that appear in sequences. Second, from an application perspective, researchers need better tools to efficiently skim through the literature. Automatically classifying each sentence in an abstract would help researchers read abstracts more efficiently, especially in fields where abstracts may be long, such as the medical field."
      ],
      "metadata": {
        "id": "zjS9ZYyrZsws"
      }
    },
    {
      "cell_type": "code",
      "source": [
        "#storing the PubMed_20k_RCT dataset in reference variable for future use\n",
        "datafile_directory = \"dataset/\""
      ],
      "metadata": {
        "id": "ZWwy99efA11k"
      },
      "execution_count": 1,
      "outputs": []
    },
    {
      "cell_type": "code",
      "execution_count": 2,
      "metadata": {
        "id": "WZ3qiPsfZq1s"
      },
      "outputs": [],
      "source": [
        "#Importing required libraries\n",
        "import pandas as pd\n",
        "import matplotlib.pyplot as plt\n",
        "import seaborn as sns\n",
        "import numpy as np\n",
        "import tensorflow as tf\n",
        "from tensorflow.keras import layers\n",
        "# TextVectorization is now in keras.layers.preprocessing\n",
        "from tensorflow.keras.layers import TextVectorization\n",
        "import random"
      ]
    },
    {
      "cell_type": "markdown",
      "source": [
        "# **Explore & Preprocess Data**"
      ],
      "metadata": {
        "id": "OlUjmtHrb9CS"
      }
    },
    {
      "cell_type": "code",
      "source": [
        "def get_raw_data(filepath):\n",
        "    with open(filepath) as f:\n",
        "        return f.readlines()"
      ],
      "metadata": {
        "id": "YWUa8M7kAtb-"
      },
      "execution_count": 3,
      "outputs": []
    },
    {
      "cell_type": "markdown",
      "source": [
        "train.txt -This contains list of training set.\n",
        "\n",
        "dev.txt - This contains the development set (i.e validation set)\n",
        "\n",
        "test.txt - This file contains the test set"
      ],
      "metadata": {
        "id": "FY5cL6SyaGsc"
      }
    },
    {
      "cell_type": "code",
      "source": [
        "#Loading the data\n",
        "train_data = get_raw_data(datafile_directory + 'train.txt')\n",
        "#Viewing first 15 records from training dataset file\n",
        "train_data[:15]"
      ],
      "metadata": {
        "colab": {
          "base_uri": "https://localhost:8080/"
        },
        "id": "DmhuZ17aCYnB",
        "outputId": "36dae937-25e0-4fe5-9828-93b205afae42"
      },
      "execution_count": 4,
      "outputs": [
        {
          "output_type": "execute_result",
          "data": {
            "text/plain": [
              "['###24293578\\n',\n",
              " 'OBJECTIVE\\tTo investigate the efficacy of 6 weeks of daily low-dose oral prednisolone in improving pain , mobility , and systemic low-grade inflammation in the short term and whether the effect would be sustained at 12 weeks in older adults with moderate to severe knee osteoarthritis ( OA ) .\\n',\n",
              " 'METHODS\\tA total of 125 patients with primary knee OA were randomized 1:1 ; 63 received 7.5 mg/day of prednisolone and 62 received placebo for 6 weeks .\\n',\n",
              " 'METHODS\\tOutcome measures included pain reduction and improvement in function scores and systemic inflammation markers .\\n',\n",
              " 'METHODS\\tPain was assessed using the visual analog pain scale ( 0-100 mm ) .\\n',\n",
              " 'METHODS\\tSecondary outcome measures included the Western Ontario and McMaster Universities Osteoarthritis Index scores , patient global assessment ( PGA ) of the severity of knee OA , and 6-min walk distance ( 6MWD ) .\\n',\n",
              " 'METHODS\\tSerum levels of interleukin 1 ( IL-1 ) , IL-6 , tumor necrosis factor ( TNF ) - , and high-sensitivity C-reactive protein ( hsCRP ) were measured .\\n',\n",
              " 'RESULTS\\tThere was a clinically relevant reduction in the intervention group compared to the placebo group for knee pain , physical function , PGA , and 6MWD at 6 weeks .\\n',\n",
              " 'RESULTS\\tThe mean difference between treatment arms ( 95 % CI ) was 10.9 ( 4.8-18 .0 ) , p < 0.001 ; 9.5 ( 3.7-15 .4 ) , p < 0.05 ; 15.7 ( 5.3-26 .1 ) , p < 0.001 ; and 86.9 ( 29.8-144 .1 ) , p < 0.05 , respectively .\\n',\n",
              " 'RESULTS\\tFurther , there was a clinically relevant reduction in the serum levels of IL-1 , IL-6 , TNF - , and hsCRP at 6 weeks in the intervention group when compared to the placebo group .\\n',\n",
              " 'RESULTS\\tThese differences remained significant at 12 weeks .\\n',\n",
              " 'RESULTS\\tThe Outcome Measures in Rheumatology Clinical Trials-Osteoarthritis Research Society International responder rate was 65 % in the intervention group and 34 % in the placebo group ( p < 0.05 ) .\\n',\n",
              " 'CONCLUSIONS\\tLow-dose oral prednisolone had both a short-term and a longer sustained effect resulting in less knee pain , better physical function , and attenuation of systemic inflammation in older patients with knee OA ( ClinicalTrials.gov identifier NCT01619163 ) .\\n',\n",
              " '\\n',\n",
              " '###24854809\\n']"
            ]
          },
          "metadata": {},
          "execution_count": 4
        }
      ]
    },
    {
      "cell_type": "markdown",
      "source": [
        "In the dataset, each abstract in the dataset is delineated by a newline character ('\\n'). Additionally, each abstract commences with '###', followed by the abstract ID and another newline. Within each abstract, individual lines begin with the target value we aim to predict, followed by the corresponding text of the abstract line. In the below function preprocessing is performed on the raw data and abstract ids and newlines are omitted from the returned preprocessed data."
      ],
      "metadata": {
        "id": "oS0JFpI_cHKR"
      }
    },
    {
      "cell_type": "code",
      "source": [
        "def preprocess_raw_data(filepath):\n",
        "    raw_data = get_raw_data(filepath)\n",
        "    abstract_data = ''\n",
        "    abstract_samples = []\n",
        "    abstract_id = 0\n",
        "\n",
        "    for line in raw_data:\n",
        "        if line.startswith('###'):\n",
        "            abstract_id = int(line.replace('###', '').replace('\\n', ''))\n",
        "            abstract_data = ''\n",
        "\n",
        "        elif line.isspace(): # check if current line is an abstract end\n",
        "            abstract_data_split = abstract_data.splitlines()\n",
        "\n",
        "            for abstract_line_number, abstract_line in enumerate(abstract_data_split):\n",
        "                line_data = {}\n",
        "                target_text_split = abstract_line.split(\"\\t\")\n",
        "\n",
        "\n",
        "                line_data[\"abstract_text\"] = target_text_split[1] # get target text and lower it\n",
        "                line_data[\"line_number\"] = abstract_line_number # get line number in the abstract\n",
        "                line_data[\"total_lines\"] = len(abstract_data_split) # get total count for abstract lines\n",
        "                line_data[\"target\"] = target_text_split[0] # get target label\n",
        "\n",
        "                abstract_samples.append(line_data)\n",
        "\n",
        "        else:\n",
        "            abstract_data += line\n",
        "\n",
        "    return abstract_samples"
      ],
      "metadata": {
        "id": "njVpCy2vCzxX"
      },
      "execution_count": 5,
      "outputs": []
    },
    {
      "cell_type": "code",
      "source": [
        "#Preprocessing data in train,test and validation sets\n",
        "train_set_samples = preprocess_raw_data(datafile_directory + \"train.txt\")\n",
        "validation_set_samples = preprocess_raw_data(datafile_directory + \"dev.txt\")\n",
        "test_set_samples = preprocess_raw_data(datafile_directory + \"test.txt\")\n"
      ],
      "metadata": {
        "id": "8ctTBSn2C8GS"
      },
      "execution_count": 6,
      "outputs": []
    },
    {
      "cell_type": "code",
      "source": [
        "train_count = len(train_set_samples)\n",
        "val_count = len(validation_set_samples)\n",
        "test_count = len(test_set_samples)\n",
        "print(f'train set samples count:\\t{train_count}')\n",
        "print(f'validation set samples count:\\t{val_count}')\n",
        "print(f'test set samples count:\\t\\t{test_count}')"
      ],
      "metadata": {
        "colab": {
          "base_uri": "https://localhost:8080/"
        },
        "id": "_gDh3GzeC7z5",
        "outputId": "2aea6dba-d7ab-421e-8c2c-4b46134cbd63"
      },
      "execution_count": 7,
      "outputs": [
        {
          "output_type": "stream",
          "name": "stdout",
          "text": [
            "train set samples count:\t180040\n",
            "validation set samples count:\t30212\n",
            "test set samples count:\t\t30135\n"
          ]
        }
      ]
    },
    {
      "cell_type": "code",
      "source": [
        "train_set_samples[:20]"
      ],
      "metadata": {
        "colab": {
          "base_uri": "https://localhost:8080/"
        },
        "id": "mYXMAydeC7V5",
        "outputId": "824c2d8e-824d-45f5-ff02-6feb9d693a3e"
      },
      "execution_count": 8,
      "outputs": [
        {
          "output_type": "execute_result",
          "data": {
            "text/plain": [
              "[{'abstract_text': 'To investigate the efficacy of 6 weeks of daily low-dose oral prednisolone in improving pain , mobility , and systemic low-grade inflammation in the short term and whether the effect would be sustained at 12 weeks in older adults with moderate to severe knee osteoarthritis ( OA ) .',\n",
              "  'line_number': 0,\n",
              "  'total_lines': 12,\n",
              "  'target': 'OBJECTIVE'},\n",
              " {'abstract_text': 'A total of 125 patients with primary knee OA were randomized 1:1 ; 63 received 7.5 mg/day of prednisolone and 62 received placebo for 6 weeks .',\n",
              "  'line_number': 1,\n",
              "  'total_lines': 12,\n",
              "  'target': 'METHODS'},\n",
              " {'abstract_text': 'Outcome measures included pain reduction and improvement in function scores and systemic inflammation markers .',\n",
              "  'line_number': 2,\n",
              "  'total_lines': 12,\n",
              "  'target': 'METHODS'},\n",
              " {'abstract_text': 'Pain was assessed using the visual analog pain scale ( 0-100 mm ) .',\n",
              "  'line_number': 3,\n",
              "  'total_lines': 12,\n",
              "  'target': 'METHODS'},\n",
              " {'abstract_text': 'Secondary outcome measures included the Western Ontario and McMaster Universities Osteoarthritis Index scores , patient global assessment ( PGA ) of the severity of knee OA , and 6-min walk distance ( 6MWD ) .',\n",
              "  'line_number': 4,\n",
              "  'total_lines': 12,\n",
              "  'target': 'METHODS'},\n",
              " {'abstract_text': 'Serum levels of interleukin 1 ( IL-1 ) , IL-6 , tumor necrosis factor ( TNF ) - , and high-sensitivity C-reactive protein ( hsCRP ) were measured .',\n",
              "  'line_number': 5,\n",
              "  'total_lines': 12,\n",
              "  'target': 'METHODS'},\n",
              " {'abstract_text': 'There was a clinically relevant reduction in the intervention group compared to the placebo group for knee pain , physical function , PGA , and 6MWD at 6 weeks .',\n",
              "  'line_number': 6,\n",
              "  'total_lines': 12,\n",
              "  'target': 'RESULTS'},\n",
              " {'abstract_text': 'The mean difference between treatment arms ( 95 % CI ) was 10.9 ( 4.8-18 .0 ) , p < 0.001 ; 9.5 ( 3.7-15 .4 ) , p < 0.05 ; 15.7 ( 5.3-26 .1 ) , p < 0.001 ; and 86.9 ( 29.8-144 .1 ) , p < 0.05 , respectively .',\n",
              "  'line_number': 7,\n",
              "  'total_lines': 12,\n",
              "  'target': 'RESULTS'},\n",
              " {'abstract_text': 'Further , there was a clinically relevant reduction in the serum levels of IL-1 , IL-6 , TNF - , and hsCRP at 6 weeks in the intervention group when compared to the placebo group .',\n",
              "  'line_number': 8,\n",
              "  'total_lines': 12,\n",
              "  'target': 'RESULTS'},\n",
              " {'abstract_text': 'These differences remained significant at 12 weeks .',\n",
              "  'line_number': 9,\n",
              "  'total_lines': 12,\n",
              "  'target': 'RESULTS'},\n",
              " {'abstract_text': 'The Outcome Measures in Rheumatology Clinical Trials-Osteoarthritis Research Society International responder rate was 65 % in the intervention group and 34 % in the placebo group ( p < 0.05 ) .',\n",
              "  'line_number': 10,\n",
              "  'total_lines': 12,\n",
              "  'target': 'RESULTS'},\n",
              " {'abstract_text': 'Low-dose oral prednisolone had both a short-term and a longer sustained effect resulting in less knee pain , better physical function , and attenuation of systemic inflammation in older patients with knee OA ( ClinicalTrials.gov identifier NCT01619163 ) .',\n",
              "  'line_number': 11,\n",
              "  'total_lines': 12,\n",
              "  'target': 'CONCLUSIONS'},\n",
              " {'abstract_text': 'Emotional eating is associated with overeating and the development of obesity .',\n",
              "  'line_number': 0,\n",
              "  'total_lines': 11,\n",
              "  'target': 'BACKGROUND'},\n",
              " {'abstract_text': 'Yet , empirical evidence for individual ( trait ) differences in emotional eating and cognitive mechanisms that contribute to eating during sad mood remain equivocal .',\n",
              "  'line_number': 1,\n",
              "  'total_lines': 11,\n",
              "  'target': 'BACKGROUND'},\n",
              " {'abstract_text': 'The aim of this study was to test if attention bias for food moderates the effect of self-reported emotional eating during sad mood ( vs neutral mood ) on actual food intake .',\n",
              "  'line_number': 2,\n",
              "  'total_lines': 11,\n",
              "  'target': 'OBJECTIVE'},\n",
              " {'abstract_text': 'It was expected that emotional eating is predictive of elevated attention for food and higher food intake after an experimentally induced sad mood and that attentional maintenance on food predicts food intake during a sad versus a neutral mood .',\n",
              "  'line_number': 3,\n",
              "  'total_lines': 11,\n",
              "  'target': 'OBJECTIVE'},\n",
              " {'abstract_text': 'Participants ( N = 85 ) were randomly assigned to one of the two experimental mood induction conditions ( sad/neutral ) .',\n",
              "  'line_number': 4,\n",
              "  'total_lines': 11,\n",
              "  'target': 'METHODS'},\n",
              " {'abstract_text': 'Attentional biases for high caloric foods were measured by eye tracking during a visual probe task with pictorial food and neutral stimuli .',\n",
              "  'line_number': 5,\n",
              "  'total_lines': 11,\n",
              "  'target': 'METHODS'},\n",
              " {'abstract_text': 'Self-reported emotional eating was assessed with the Dutch Eating Behavior Questionnaire ( DEBQ ) and ad libitum food intake was tested by a disguised food offer .',\n",
              "  'line_number': 6,\n",
              "  'total_lines': 11,\n",
              "  'target': 'METHODS'},\n",
              " {'abstract_text': 'Hierarchical multivariate regression modeling showed that self-reported emotional eating did not account for changes in attention allocation for food or food intake in either condition .',\n",
              "  'line_number': 7,\n",
              "  'total_lines': 11,\n",
              "  'target': 'RESULTS'}]"
            ]
          },
          "metadata": {},
          "execution_count": 8
        }
      ]
    },
    {
      "cell_type": "code",
      "source": [
        "#converting train,test,validation samples into dataframes\n",
        "train_df = pd.DataFrame(train_set_samples)\n",
        "val_df = pd.DataFrame(validation_set_samples)\n",
        "test_df = pd.DataFrame(test_set_samples)\n",
        "train_df.head(20)"
      ],
      "metadata": {
        "colab": {
          "base_uri": "https://localhost:8080/",
          "height": 676
        },
        "id": "GBfcW4WkC6nG",
        "outputId": "bd9d4d8b-c7f6-4ddb-8914-c93264adcec3"
      },
      "execution_count": 9,
      "outputs": [
        {
          "output_type": "execute_result",
          "data": {
            "text/plain": [
              "                                        abstract_text  line_number  \\\n",
              "0   To investigate the efficacy of 6 weeks of dail...            0   \n",
              "1   A total of 125 patients with primary knee OA w...            1   \n",
              "2   Outcome measures included pain reduction and i...            2   \n",
              "3   Pain was assessed using the visual analog pain...            3   \n",
              "4   Secondary outcome measures included the Wester...            4   \n",
              "5   Serum levels of interleukin 1 ( IL-1 ) , IL-6 ...            5   \n",
              "6   There was a clinically relevant reduction in t...            6   \n",
              "7   The mean difference between treatment arms ( 9...            7   \n",
              "8   Further , there was a clinically relevant redu...            8   \n",
              "9   These differences remained significant at 12 w...            9   \n",
              "10  The Outcome Measures in Rheumatology Clinical ...           10   \n",
              "11  Low-dose oral prednisolone had both a short-te...           11   \n",
              "12  Emotional eating is associated with overeating...            0   \n",
              "13  Yet , empirical evidence for individual ( trai...            1   \n",
              "14  The aim of this study was to test if attention...            2   \n",
              "15  It was expected that emotional eating is predi...            3   \n",
              "16  Participants ( N = 85 ) were randomly assigned...            4   \n",
              "17  Attentional biases for high caloric foods were...            5   \n",
              "18  Self-reported emotional eating was assessed wi...            6   \n",
              "19  Hierarchical multivariate regression modeling ...            7   \n",
              "\n",
              "    total_lines       target  \n",
              "0            12    OBJECTIVE  \n",
              "1            12      METHODS  \n",
              "2            12      METHODS  \n",
              "3            12      METHODS  \n",
              "4            12      METHODS  \n",
              "5            12      METHODS  \n",
              "6            12      RESULTS  \n",
              "7            12      RESULTS  \n",
              "8            12      RESULTS  \n",
              "9            12      RESULTS  \n",
              "10           12      RESULTS  \n",
              "11           12  CONCLUSIONS  \n",
              "12           11   BACKGROUND  \n",
              "13           11   BACKGROUND  \n",
              "14           11    OBJECTIVE  \n",
              "15           11    OBJECTIVE  \n",
              "16           11      METHODS  \n",
              "17           11      METHODS  \n",
              "18           11      METHODS  \n",
              "19           11      RESULTS  "
            ],
            "text/html": [
              "\n",
              "  <div id=\"df-c02de0a2-d4a3-4e76-bde0-8f949ea57048\" class=\"colab-df-container\">\n",
              "    <div>\n",
              "<style scoped>\n",
              "    .dataframe tbody tr th:only-of-type {\n",
              "        vertical-align: middle;\n",
              "    }\n",
              "\n",
              "    .dataframe tbody tr th {\n",
              "        vertical-align: top;\n",
              "    }\n",
              "\n",
              "    .dataframe thead th {\n",
              "        text-align: right;\n",
              "    }\n",
              "</style>\n",
              "<table border=\"1\" class=\"dataframe\">\n",
              "  <thead>\n",
              "    <tr style=\"text-align: right;\">\n",
              "      <th></th>\n",
              "      <th>abstract_text</th>\n",
              "      <th>line_number</th>\n",
              "      <th>total_lines</th>\n",
              "      <th>target</th>\n",
              "    </tr>\n",
              "  </thead>\n",
              "  <tbody>\n",
              "    <tr>\n",
              "      <th>0</th>\n",
              "      <td>To investigate the efficacy of 6 weeks of dail...</td>\n",
              "      <td>0</td>\n",
              "      <td>12</td>\n",
              "      <td>OBJECTIVE</td>\n",
              "    </tr>\n",
              "    <tr>\n",
              "      <th>1</th>\n",
              "      <td>A total of 125 patients with primary knee OA w...</td>\n",
              "      <td>1</td>\n",
              "      <td>12</td>\n",
              "      <td>METHODS</td>\n",
              "    </tr>\n",
              "    <tr>\n",
              "      <th>2</th>\n",
              "      <td>Outcome measures included pain reduction and i...</td>\n",
              "      <td>2</td>\n",
              "      <td>12</td>\n",
              "      <td>METHODS</td>\n",
              "    </tr>\n",
              "    <tr>\n",
              "      <th>3</th>\n",
              "      <td>Pain was assessed using the visual analog pain...</td>\n",
              "      <td>3</td>\n",
              "      <td>12</td>\n",
              "      <td>METHODS</td>\n",
              "    </tr>\n",
              "    <tr>\n",
              "      <th>4</th>\n",
              "      <td>Secondary outcome measures included the Wester...</td>\n",
              "      <td>4</td>\n",
              "      <td>12</td>\n",
              "      <td>METHODS</td>\n",
              "    </tr>\n",
              "    <tr>\n",
              "      <th>5</th>\n",
              "      <td>Serum levels of interleukin 1 ( IL-1 ) , IL-6 ...</td>\n",
              "      <td>5</td>\n",
              "      <td>12</td>\n",
              "      <td>METHODS</td>\n",
              "    </tr>\n",
              "    <tr>\n",
              "      <th>6</th>\n",
              "      <td>There was a clinically relevant reduction in t...</td>\n",
              "      <td>6</td>\n",
              "      <td>12</td>\n",
              "      <td>RESULTS</td>\n",
              "    </tr>\n",
              "    <tr>\n",
              "      <th>7</th>\n",
              "      <td>The mean difference between treatment arms ( 9...</td>\n",
              "      <td>7</td>\n",
              "      <td>12</td>\n",
              "      <td>RESULTS</td>\n",
              "    </tr>\n",
              "    <tr>\n",
              "      <th>8</th>\n",
              "      <td>Further , there was a clinically relevant redu...</td>\n",
              "      <td>8</td>\n",
              "      <td>12</td>\n",
              "      <td>RESULTS</td>\n",
              "    </tr>\n",
              "    <tr>\n",
              "      <th>9</th>\n",
              "      <td>These differences remained significant at 12 w...</td>\n",
              "      <td>9</td>\n",
              "      <td>12</td>\n",
              "      <td>RESULTS</td>\n",
              "    </tr>\n",
              "    <tr>\n",
              "      <th>10</th>\n",
              "      <td>The Outcome Measures in Rheumatology Clinical ...</td>\n",
              "      <td>10</td>\n",
              "      <td>12</td>\n",
              "      <td>RESULTS</td>\n",
              "    </tr>\n",
              "    <tr>\n",
              "      <th>11</th>\n",
              "      <td>Low-dose oral prednisolone had both a short-te...</td>\n",
              "      <td>11</td>\n",
              "      <td>12</td>\n",
              "      <td>CONCLUSIONS</td>\n",
              "    </tr>\n",
              "    <tr>\n",
              "      <th>12</th>\n",
              "      <td>Emotional eating is associated with overeating...</td>\n",
              "      <td>0</td>\n",
              "      <td>11</td>\n",
              "      <td>BACKGROUND</td>\n",
              "    </tr>\n",
              "    <tr>\n",
              "      <th>13</th>\n",
              "      <td>Yet , empirical evidence for individual ( trai...</td>\n",
              "      <td>1</td>\n",
              "      <td>11</td>\n",
              "      <td>BACKGROUND</td>\n",
              "    </tr>\n",
              "    <tr>\n",
              "      <th>14</th>\n",
              "      <td>The aim of this study was to test if attention...</td>\n",
              "      <td>2</td>\n",
              "      <td>11</td>\n",
              "      <td>OBJECTIVE</td>\n",
              "    </tr>\n",
              "    <tr>\n",
              "      <th>15</th>\n",
              "      <td>It was expected that emotional eating is predi...</td>\n",
              "      <td>3</td>\n",
              "      <td>11</td>\n",
              "      <td>OBJECTIVE</td>\n",
              "    </tr>\n",
              "    <tr>\n",
              "      <th>16</th>\n",
              "      <td>Participants ( N = 85 ) were randomly assigned...</td>\n",
              "      <td>4</td>\n",
              "      <td>11</td>\n",
              "      <td>METHODS</td>\n",
              "    </tr>\n",
              "    <tr>\n",
              "      <th>17</th>\n",
              "      <td>Attentional biases for high caloric foods were...</td>\n",
              "      <td>5</td>\n",
              "      <td>11</td>\n",
              "      <td>METHODS</td>\n",
              "    </tr>\n",
              "    <tr>\n",
              "      <th>18</th>\n",
              "      <td>Self-reported emotional eating was assessed wi...</td>\n",
              "      <td>6</td>\n",
              "      <td>11</td>\n",
              "      <td>METHODS</td>\n",
              "    </tr>\n",
              "    <tr>\n",
              "      <th>19</th>\n",
              "      <td>Hierarchical multivariate regression modeling ...</td>\n",
              "      <td>7</td>\n",
              "      <td>11</td>\n",
              "      <td>RESULTS</td>\n",
              "    </tr>\n",
              "  </tbody>\n",
              "</table>\n",
              "</div>\n",
              "    <div class=\"colab-df-buttons\">\n",
              "\n",
              "  <div class=\"colab-df-container\">\n",
              "    <button class=\"colab-df-convert\" onclick=\"convertToInteractive('df-c02de0a2-d4a3-4e76-bde0-8f949ea57048')\"\n",
              "            title=\"Convert this dataframe to an interactive table.\"\n",
              "            style=\"display:none;\">\n",
              "\n",
              "  <svg xmlns=\"http://www.w3.org/2000/svg\" height=\"24px\" viewBox=\"0 -960 960 960\">\n",
              "    <path d=\"M120-120v-720h720v720H120Zm60-500h600v-160H180v160Zm220 220h160v-160H400v160Zm0 220h160v-160H400v160ZM180-400h160v-160H180v160Zm440 0h160v-160H620v160ZM180-180h160v-160H180v160Zm440 0h160v-160H620v160Z\"/>\n",
              "  </svg>\n",
              "    </button>\n",
              "\n",
              "  <style>\n",
              "    .colab-df-container {\n",
              "      display:flex;\n",
              "      gap: 12px;\n",
              "    }\n",
              "\n",
              "    .colab-df-convert {\n",
              "      background-color: #E8F0FE;\n",
              "      border: none;\n",
              "      border-radius: 50%;\n",
              "      cursor: pointer;\n",
              "      display: none;\n",
              "      fill: #1967D2;\n",
              "      height: 32px;\n",
              "      padding: 0 0 0 0;\n",
              "      width: 32px;\n",
              "    }\n",
              "\n",
              "    .colab-df-convert:hover {\n",
              "      background-color: #E2EBFA;\n",
              "      box-shadow: 0px 1px 2px rgba(60, 64, 67, 0.3), 0px 1px 3px 1px rgba(60, 64, 67, 0.15);\n",
              "      fill: #174EA6;\n",
              "    }\n",
              "\n",
              "    .colab-df-buttons div {\n",
              "      margin-bottom: 4px;\n",
              "    }\n",
              "\n",
              "    [theme=dark] .colab-df-convert {\n",
              "      background-color: #3B4455;\n",
              "      fill: #D2E3FC;\n",
              "    }\n",
              "\n",
              "    [theme=dark] .colab-df-convert:hover {\n",
              "      background-color: #434B5C;\n",
              "      box-shadow: 0px 1px 3px 1px rgba(0, 0, 0, 0.15);\n",
              "      filter: drop-shadow(0px 1px 2px rgba(0, 0, 0, 0.3));\n",
              "      fill: #FFFFFF;\n",
              "    }\n",
              "  </style>\n",
              "\n",
              "    <script>\n",
              "      const buttonEl =\n",
              "        document.querySelector('#df-c02de0a2-d4a3-4e76-bde0-8f949ea57048 button.colab-df-convert');\n",
              "      buttonEl.style.display =\n",
              "        google.colab.kernel.accessAllowed ? 'block' : 'none';\n",
              "\n",
              "      async function convertToInteractive(key) {\n",
              "        const element = document.querySelector('#df-c02de0a2-d4a3-4e76-bde0-8f949ea57048');\n",
              "        const dataTable =\n",
              "          await google.colab.kernel.invokeFunction('convertToInteractive',\n",
              "                                                    [key], {});\n",
              "        if (!dataTable) return;\n",
              "\n",
              "        const docLinkHtml = 'Like what you see? Visit the ' +\n",
              "          '<a target=\"_blank\" href=https://colab.research.google.com/notebooks/data_table.ipynb>data table notebook</a>'\n",
              "          + ' to learn more about interactive tables.';\n",
              "        element.innerHTML = '';\n",
              "        dataTable['output_type'] = 'display_data';\n",
              "        await google.colab.output.renderOutput(dataTable, element);\n",
              "        const docLink = document.createElement('div');\n",
              "        docLink.innerHTML = docLinkHtml;\n",
              "        element.appendChild(docLink);\n",
              "      }\n",
              "    </script>\n",
              "  </div>\n",
              "\n",
              "\n",
              "<div id=\"df-3a13e725-d1ef-4cab-a0f1-f3123ec9640e\">\n",
              "  <button class=\"colab-df-quickchart\" onclick=\"quickchart('df-3a13e725-d1ef-4cab-a0f1-f3123ec9640e')\"\n",
              "            title=\"Suggest charts\"\n",
              "            style=\"display:none;\">\n",
              "\n",
              "<svg xmlns=\"http://www.w3.org/2000/svg\" height=\"24px\"viewBox=\"0 0 24 24\"\n",
              "     width=\"24px\">\n",
              "    <g>\n",
              "        <path d=\"M19 3H5c-1.1 0-2 .9-2 2v14c0 1.1.9 2 2 2h14c1.1 0 2-.9 2-2V5c0-1.1-.9-2-2-2zM9 17H7v-7h2v7zm4 0h-2V7h2v10zm4 0h-2v-4h2v4z\"/>\n",
              "    </g>\n",
              "</svg>\n",
              "  </button>\n",
              "\n",
              "<style>\n",
              "  .colab-df-quickchart {\n",
              "      --bg-color: #E8F0FE;\n",
              "      --fill-color: #1967D2;\n",
              "      --hover-bg-color: #E2EBFA;\n",
              "      --hover-fill-color: #174EA6;\n",
              "      --disabled-fill-color: #AAA;\n",
              "      --disabled-bg-color: #DDD;\n",
              "  }\n",
              "\n",
              "  [theme=dark] .colab-df-quickchart {\n",
              "      --bg-color: #3B4455;\n",
              "      --fill-color: #D2E3FC;\n",
              "      --hover-bg-color: #434B5C;\n",
              "      --hover-fill-color: #FFFFFF;\n",
              "      --disabled-bg-color: #3B4455;\n",
              "      --disabled-fill-color: #666;\n",
              "  }\n",
              "\n",
              "  .colab-df-quickchart {\n",
              "    background-color: var(--bg-color);\n",
              "    border: none;\n",
              "    border-radius: 50%;\n",
              "    cursor: pointer;\n",
              "    display: none;\n",
              "    fill: var(--fill-color);\n",
              "    height: 32px;\n",
              "    padding: 0;\n",
              "    width: 32px;\n",
              "  }\n",
              "\n",
              "  .colab-df-quickchart:hover {\n",
              "    background-color: var(--hover-bg-color);\n",
              "    box-shadow: 0 1px 2px rgba(60, 64, 67, 0.3), 0 1px 3px 1px rgba(60, 64, 67, 0.15);\n",
              "    fill: var(--button-hover-fill-color);\n",
              "  }\n",
              "\n",
              "  .colab-df-quickchart-complete:disabled,\n",
              "  .colab-df-quickchart-complete:disabled:hover {\n",
              "    background-color: var(--disabled-bg-color);\n",
              "    fill: var(--disabled-fill-color);\n",
              "    box-shadow: none;\n",
              "  }\n",
              "\n",
              "  .colab-df-spinner {\n",
              "    border: 2px solid var(--fill-color);\n",
              "    border-color: transparent;\n",
              "    border-bottom-color: var(--fill-color);\n",
              "    animation:\n",
              "      spin 1s steps(1) infinite;\n",
              "  }\n",
              "\n",
              "  @keyframes spin {\n",
              "    0% {\n",
              "      border-color: transparent;\n",
              "      border-bottom-color: var(--fill-color);\n",
              "      border-left-color: var(--fill-color);\n",
              "    }\n",
              "    20% {\n",
              "      border-color: transparent;\n",
              "      border-left-color: var(--fill-color);\n",
              "      border-top-color: var(--fill-color);\n",
              "    }\n",
              "    30% {\n",
              "      border-color: transparent;\n",
              "      border-left-color: var(--fill-color);\n",
              "      border-top-color: var(--fill-color);\n",
              "      border-right-color: var(--fill-color);\n",
              "    }\n",
              "    40% {\n",
              "      border-color: transparent;\n",
              "      border-right-color: var(--fill-color);\n",
              "      border-top-color: var(--fill-color);\n",
              "    }\n",
              "    60% {\n",
              "      border-color: transparent;\n",
              "      border-right-color: var(--fill-color);\n",
              "    }\n",
              "    80% {\n",
              "      border-color: transparent;\n",
              "      border-right-color: var(--fill-color);\n",
              "      border-bottom-color: var(--fill-color);\n",
              "    }\n",
              "    90% {\n",
              "      border-color: transparent;\n",
              "      border-bottom-color: var(--fill-color);\n",
              "    }\n",
              "  }\n",
              "</style>\n",
              "\n",
              "  <script>\n",
              "    async function quickchart(key) {\n",
              "      const quickchartButtonEl =\n",
              "        document.querySelector('#' + key + ' button');\n",
              "      quickchartButtonEl.disabled = true;  // To prevent multiple clicks.\n",
              "      quickchartButtonEl.classList.add('colab-df-spinner');\n",
              "      try {\n",
              "        const charts = await google.colab.kernel.invokeFunction(\n",
              "            'suggestCharts', [key], {});\n",
              "      } catch (error) {\n",
              "        console.error('Error during call to suggestCharts:', error);\n",
              "      }\n",
              "      quickchartButtonEl.classList.remove('colab-df-spinner');\n",
              "      quickchartButtonEl.classList.add('colab-df-quickchart-complete');\n",
              "    }\n",
              "    (() => {\n",
              "      let quickchartButtonEl =\n",
              "        document.querySelector('#df-3a13e725-d1ef-4cab-a0f1-f3123ec9640e button');\n",
              "      quickchartButtonEl.style.display =\n",
              "        google.colab.kernel.accessAllowed ? 'block' : 'none';\n",
              "    })();\n",
              "  </script>\n",
              "</div>\n",
              "\n",
              "    </div>\n",
              "  </div>\n"
            ],
            "application/vnd.google.colaboratory.intrinsic+json": {
              "type": "dataframe",
              "variable_name": "train_df"
            }
          },
          "metadata": {},
          "execution_count": 9
        }
      ]
    },
    {
      "cell_type": "code",
      "source": [
        "# Check training data distribution\n",
        "train_df[\"target\"].value_counts()"
      ],
      "metadata": {
        "colab": {
          "base_uri": "https://localhost:8080/",
          "height": 272
        },
        "id": "v5OlLT24DRA_",
        "outputId": "e5cfd6f0-9927-4c75-ffca-9882620d6248"
      },
      "execution_count": 10,
      "outputs": [
        {
          "output_type": "execute_result",
          "data": {
            "text/plain": [
              "target\n",
              "METHODS        59353\n",
              "RESULTS        57953\n",
              "CONCLUSIONS    27168\n",
              "BACKGROUND     21727\n",
              "OBJECTIVE      13839\n",
              "Name: count, dtype: int64"
            ],
            "text/html": [
              "<div>\n",
              "<style scoped>\n",
              "    .dataframe tbody tr th:only-of-type {\n",
              "        vertical-align: middle;\n",
              "    }\n",
              "\n",
              "    .dataframe tbody tr th {\n",
              "        vertical-align: top;\n",
              "    }\n",
              "\n",
              "    .dataframe thead th {\n",
              "        text-align: right;\n",
              "    }\n",
              "</style>\n",
              "<table border=\"1\" class=\"dataframe\">\n",
              "  <thead>\n",
              "    <tr style=\"text-align: right;\">\n",
              "      <th></th>\n",
              "      <th>count</th>\n",
              "    </tr>\n",
              "    <tr>\n",
              "      <th>target</th>\n",
              "      <th></th>\n",
              "    </tr>\n",
              "  </thead>\n",
              "  <tbody>\n",
              "    <tr>\n",
              "      <th>METHODS</th>\n",
              "      <td>59353</td>\n",
              "    </tr>\n",
              "    <tr>\n",
              "      <th>RESULTS</th>\n",
              "      <td>57953</td>\n",
              "    </tr>\n",
              "    <tr>\n",
              "      <th>CONCLUSIONS</th>\n",
              "      <td>27168</td>\n",
              "    </tr>\n",
              "    <tr>\n",
              "      <th>BACKGROUND</th>\n",
              "      <td>21727</td>\n",
              "    </tr>\n",
              "    <tr>\n",
              "      <th>OBJECTIVE</th>\n",
              "      <td>13839</td>\n",
              "    </tr>\n",
              "  </tbody>\n",
              "</table>\n",
              "</div><br><label><b>dtype:</b> int64</label>"
            ]
          },
          "metadata": {},
          "execution_count": 10
        }
      ]
    },
    {
      "cell_type": "code",
      "source": [
        "# Create subplots\n",
        "fig, (ax_train, ax_val, ax_test) = plt.subplots(3, figsize=(16, 14))\n",
        "\n",
        "# Set the spacing between subplots\n",
        "fig.tight_layout(pad=6.0)\n",
        "sns.despine();\n",
        "\n",
        "# Plot Training Set Labels Distribution\n",
        "ax_train.set_title('Training Set Labels Distribution', fontsize=24)\n",
        "train_dist = train_df['target'].value_counts().sort_values()\n",
        "train_bar_plot = sns.barplot(x=train_dist.values,\n",
        "                            y=list(train_dist.keys()),\n",
        "                            orient=\"h\", palette=sns.color_palette(\"viridis\", 5),\n",
        "                            ax=ax_train);\n",
        "\n",
        "for container in train_bar_plot.containers:\n",
        "    train_bar_plot.bar_label(container, fmt='%.0f', fontsize=14);\n",
        "\n",
        "# Plot Validation Set Labels Distribution\n",
        "ax_val.set_title('Validation Set Labels Distribution', fontsize=24)\n",
        "val_dist = val_df['target'].value_counts().sort_values()\n",
        "val_bar_plot = sns.barplot(x=val_dist.values,\n",
        "                           y=list(val_dist.keys()),\n",
        "                           orient=\"h\", palette=sns.color_palette(\"viridis\", 5),\n",
        "                           ax=ax_val);\n",
        "\n",
        "for container in val_bar_plot.containers:\n",
        "    val_bar_plot.bar_label(container, fmt='%.0f', fontsize=14);\n",
        "\n",
        "# Plot Test Set Labels Distribution\n",
        "ax_test.set_title('Test Set Labels Distribution', fontsize=24)\n",
        "test_dist = test_df['target'].value_counts().sort_values()\n",
        "test_bar_plot = sns.barplot(x=test_dist.values,\n",
        "                            y=list(test_dist.keys()),\n",
        "                            orient=\"h\", palette=sns.color_palette(\"viridis\", 5),\n",
        "                            ax=ax_test);\n",
        "\n",
        "for container in test_bar_plot.containers:\n",
        "    test_bar_plot.bar_label(container, fmt='%.0f', fontsize=14);\n",
        "\n",
        "plt.show()"
      ],
      "metadata": {
        "colab": {
          "base_uri": "https://localhost:8080/",
          "height": 1000
        },
        "id": "MxWO4ACYDQ1W",
        "outputId": "9bed65ae-5608-4764-d441-831072f2d65f"
      },
      "execution_count": 14,
      "outputs": [
        {
          "output_type": "stream",
          "name": "stderr",
          "text": [
            "<ipython-input-14-0538bc416193>:11: FutureWarning: \n",
            "\n",
            "Passing `palette` without assigning `hue` is deprecated and will be removed in v0.14.0. Assign the `y` variable to `hue` and set `legend=False` for the same effect.\n",
            "\n",
            "  train_bar_plot = sns.barplot(x=train_dist.values,\n",
            "<ipython-input-14-0538bc416193>:22: FutureWarning: \n",
            "\n",
            "Passing `palette` without assigning `hue` is deprecated and will be removed in v0.14.0. Assign the `y` variable to `hue` and set `legend=False` for the same effect.\n",
            "\n",
            "  val_bar_plot = sns.barplot(x=val_dist.values,\n",
            "<ipython-input-14-0538bc416193>:33: FutureWarning: \n",
            "\n",
            "Passing `palette` without assigning `hue` is deprecated and will be removed in v0.14.0. Assign the `y` variable to `hue` and set `legend=False` for the same effect.\n",
            "\n",
            "  test_bar_plot = sns.barplot(x=test_dist.values,\n"
          ]
        },
        {
          "output_type": "display_data",
          "data": {
            "text/plain": [
              "<Figure size 1600x1400 with 3 Axes>"
            ],
            "image/png": "[encoded data removed]"
          },
          "metadata": {}
        }
      ]
    },
    {
      "cell_type": "code",
      "source": [
        "train_df.total_lines.plot(kind= \"hist\")"
      ],
      "metadata": {
        "colab": {
          "base_uri": "https://localhost:8080/",
          "height": 448
        },
        "id": "a8E3caYVDQom",
        "outputId": "c1b6c8ec-f863-4caf-b1da-4646d5d262d4"
      },
      "execution_count": 15,
      "outputs": [
        {
          "output_type": "execute_result",
          "data": {
            "text/plain": [
              "<Axes: ylabel='Frequency'>"
            ]
          },
          "metadata": {},
          "execution_count": 15
        },
        {
          "output_type": "display_data",
          "data": {
            "text/plain": [
              "<Figure size 640x480 with 1 Axes>"
            ],
            "image/png": "[encoded data removed]"
          },
          "metadata": {}
        }
      ]
    },
    {
      "cell_type": "markdown",
      "source": [
        "Based on the above histogram,it can be inferred that the abstracts are between 7 to 15 sentences in length."
      ],
      "metadata": {
        "id": "4sQ3urMgcYdn"
      }
    },
    {
      "cell_type": "code",
      "source": [
        "# Convert abstract text lines into lists\n",
        "train_sentences = train_df[\"abstract_text\"].tolist()\n",
        "val_sentences = val_df[\"abstract_text\"].tolist()\n",
        "test_sentences = test_df[\"abstract_text\"].tolist()"
      ],
      "metadata": {
        "id": "lmrOoJDIDmKM"
      },
      "execution_count": 16,
      "outputs": []
    },
    {
      "cell_type": "code",
      "source": [
        "train_sentences[:15]"
      ],
      "metadata": {
        "colab": {
          "base_uri": "https://localhost:8080/"
        },
        "id": "fnz6CDZHDl6Q",
        "outputId": "559b1bc2-b9d2-4702-92d8-b4f1b56d6587"
      },
      "execution_count": 17,
      "outputs": [
        {
          "output_type": "execute_result",
          "data": {
            "text/plain": [
              "['To investigate the efficacy of 6 weeks of daily low-dose oral prednisolone in improving pain , mobility , and systemic low-grade inflammation in the short term and whether the effect would be sustained at 12 weeks in older adults with moderate to severe knee osteoarthritis ( OA ) .',\n",
              " 'A total of 125 patients with primary knee OA were randomized 1:1 ; 63 received 7.5 mg/day of prednisolone and 62 received placebo for 6 weeks .',\n",
              " 'Outcome measures included pain reduction and improvement in function scores and systemic inflammation markers .',\n",
              " 'Pain was assessed using the visual analog pain scale ( 0-100 mm ) .',\n",
              " 'Secondary outcome measures included the Western Ontario and McMaster Universities Osteoarthritis Index scores , patient global assessment ( PGA ) of the severity of knee OA , and 6-min walk distance ( 6MWD ) .',\n",
              " 'Serum levels of interleukin 1 ( IL-1 ) , IL-6 , tumor necrosis factor ( TNF ) - , and high-sensitivity C-reactive protein ( hsCRP ) were measured .',\n",
              " 'There was a clinically relevant reduction in the intervention group compared to the placebo group for knee pain , physical function , PGA , and 6MWD at 6 weeks .',\n",
              " 'The mean difference between treatment arms ( 95 % CI ) was 10.9 ( 4.8-18 .0 ) , p < 0.001 ; 9.5 ( 3.7-15 .4 ) , p < 0.05 ; 15.7 ( 5.3-26 .1 ) , p < 0.001 ; and 86.9 ( 29.8-144 .1 ) , p < 0.05 , respectively .',\n",
              " 'Further , there was a clinically relevant reduction in the serum levels of IL-1 , IL-6 , TNF - , and hsCRP at 6 weeks in the intervention group when compared to the placebo group .',\n",
              " 'These differences remained significant at 12 weeks .',\n",
              " 'The Outcome Measures in Rheumatology Clinical Trials-Osteoarthritis Research Society International responder rate was 65 % in the intervention group and 34 % in the placebo group ( p < 0.05 ) .',\n",
              " 'Low-dose oral prednisolone had both a short-term and a longer sustained effect resulting in less knee pain , better physical function , and attenuation of systemic inflammation in older patients with knee OA ( ClinicalTrials.gov identifier NCT01619163 ) .',\n",
              " 'Emotional eating is associated with overeating and the development of obesity .',\n",
              " 'Yet , empirical evidence for individual ( trait ) differences in emotional eating and cognitive mechanisms that contribute to eating during sad mood remain equivocal .',\n",
              " 'The aim of this study was to test if attention bias for food moderates the effect of self-reported emotional eating during sad mood ( vs neutral mood ) on actual food intake .']"
            ]
          },
          "metadata": {},
          "execution_count": 17
        }
      ]
    },
    {
      "cell_type": "markdown",
      "source": [
        "**Using One Hot Encoding to one hot encode the train,test and validation set labels**"
      ],
      "metadata": {
        "id": "Ex9Hc03QcmRV"
      }
    },
    {
      "cell_type": "code",
      "source": [
        "from sklearn.preprocessing import OneHotEncoder\n",
        "\n",
        "# Remove the sparse argument, set handle_unknown='ignore' to ignore unseen labels during transform\n",
        "one_hot_encoder = OneHotEncoder(handle_unknown='ignore')\n",
        "\n",
        "train_labels_one_hot = one_hot_encoder.fit_transform(train_df[\"target\"].to_numpy().reshape(-1, 1))\n",
        "val_labels_one_hot = one_hot_encoder.transform(val_df[\"target\"].to_numpy().reshape(-1, 1))\n",
        "test_labels_one_hot = one_hot_encoder.transform(test_df[\"target\"].to_numpy().reshape(-1, 1))"
      ],
      "metadata": {
        "id": "ooHFmb7gDls2"
      },
      "execution_count": 18,
      "outputs": []
    },
    {
      "cell_type": "code",
      "source": [
        "train_df[\"target\"][0]"
      ],
      "metadata": {
        "colab": {
          "base_uri": "https://localhost:8080/",
          "height": 35
        },
        "id": "n7yrBdSbD_wS",
        "outputId": "48aa13a3-b262-490e-b69f-9d769604d7c1"
      },
      "execution_count": 19,
      "outputs": [
        {
          "output_type": "execute_result",
          "data": {
            "text/plain": [
              "'OBJECTIVE'"
            ],
            "application/vnd.google.colaboratory.intrinsic+json": {
              "type": "string"
            }
          },
          "metadata": {},
          "execution_count": 19
        }
      ]
    },
    {
      "cell_type": "code",
      "source": [
        "#Check one hot encoded training label\n",
        "train_labels_one_hot"
      ],
      "metadata": {
        "colab": {
          "base_uri": "https://localhost:8080/"
        },
        "id": "MZM0AXN9EEgd",
        "outputId": "1016400f-0455-4e50-944e-9d0068e8fd5e"
      },
      "execution_count": 20,
      "outputs": [
        {
          "output_type": "execute_result",
          "data": {
            "text/plain": [
              "<180040x5 sparse matrix of type '<class 'numpy.float64'>'\n",
              "\twith 180040 stored elements in Compressed Sparse Row format>"
            ]
          },
          "metadata": {},
          "execution_count": 20
        }
      ]
    },
    {
      "cell_type": "markdown",
      "source": [
        "**Label encode labels**"
      ],
      "metadata": {
        "id": "8UPALifCc07Q"
      }
    },
    {
      "cell_type": "code",
      "source": [
        "from sklearn.preprocessing import LabelEncoder\n",
        "label_encoder = LabelEncoder()\n",
        "train_labels_encoded = label_encoder.fit_transform(train_df[\"target\"].to_numpy())\n",
        "val_labels_encoded = label_encoder.transform(val_df[\"target\"].to_numpy())\n",
        "test_labels_encoded = label_encoder.transform(test_df[\"target\"].to_numpy())"
      ],
      "metadata": {
        "id": "sywzUZREEET-"
      },
      "execution_count": 21,
      "outputs": []
    },
    {
      "cell_type": "code",
      "source": [
        "train_labels_encoded"
      ],
      "metadata": {
        "colab": {
          "base_uri": "https://localhost:8080/"
        },
        "id": "0YFKawypEEGq",
        "outputId": "fdb9f63a-59cc-4bc1-9fc7-7b949bc4cc7f"
      },
      "execution_count": 22,
      "outputs": [
        {
          "output_type": "execute_result",
          "data": {
            "text/plain": [
              "array([3, 2, 2, ..., 4, 1, 1])"
            ]
          },
          "metadata": {},
          "execution_count": 22
        }
      ]
    },
    {
      "cell_type": "code",
      "source": [
        "# Get class names and number of classes from LabelEncoder instance\n",
        "num_classes = len(label_encoder.classes_)\n",
        "class_names = label_encoder.classes_"
      ],
      "metadata": {
        "id": "divLgStFEVKJ"
      },
      "execution_count": 23,
      "outputs": []
    },
    {
      "cell_type": "code",
      "source": [
        "print(f'Number of classes: {num_classes}')\n",
        "print(f'Classes: {class_names}')"
      ],
      "metadata": {
        "colab": {
          "base_uri": "https://localhost:8080/"
        },
        "id": "EYMHCp4AEXMi",
        "outputId": "f6baa162-4c77-4c55-8140-c099f5a1f31a"
      },
      "execution_count": 24,
      "outputs": [
        {
          "output_type": "stream",
          "name": "stdout",
          "text": [
            "Number of classes: 5\n",
            "Classes: ['BACKGROUND' 'CONCLUSIONS' 'METHODS' 'OBJECTIVE' 'RESULTS']\n"
          ]
        }
      ]
    },
    {
      "cell_type": "markdown",
      "source": [
        "# **Model 0: Baseline (Naïve Bayes with TF-IDF encoder)**"
      ],
      "metadata": {
        "id": "vjemCjAnEizS"
      }
    },
    {
      "cell_type": "code",
      "source": [
        "from sklearn.feature_extraction.text import TfidfVectorizer\n",
        "from sklearn.naive_bayes import MultinomialNB\n",
        "from sklearn.pipeline import Pipeline\n",
        "\n",
        "# Creating a SKlearn pipeline using TF-IDF  and Multinomial Naive bayes algorithm\n",
        "model_0 = Pipeline([\n",
        "  (\"tf-idf\", TfidfVectorizer()),\n",
        "  (\"clf\", MultinomialNB())\n",
        "])"
      ],
      "metadata": {
        "id": "i7thhda2EXAy"
      },
      "execution_count": 25,
      "outputs": []
    },
    {
      "cell_type": "code",
      "source": [
        "#fitting on train dataset\n",
        "model_0.fit(X=train_sentences,\n",
        "            y=train_labels_encoded);"
      ],
      "metadata": {
        "id": "slqt9sKYEWxZ"
      },
      "execution_count": 26,
      "outputs": []
    },
    {
      "cell_type": "code",
      "source": [
        "# Perform evaluation on validation dataset\n",
        "model_0.score(X=val_sentences,\n",
        "              y=val_labels_encoded)"
      ],
      "metadata": {
        "colab": {
          "base_uri": "https://localhost:8080/"
        },
        "id": "8M5m9FgNE0ka",
        "outputId": "df60602e-a8b4-42e5-a23d-ce603d0610cf"
      },
      "execution_count": 27,
      "outputs": [
        {
          "output_type": "execute_result",
          "data": {
            "text/plain": [
              "0.7317291142592347"
            ]
          },
          "metadata": {},
          "execution_count": 27
        }
      ]
    },
    {
      "cell_type": "code",
      "source": [
        "val_predictions = model_0.predict(val_sentences)\n",
        "test_predictions = model_0.predict(test_sentences)"
      ],
      "metadata": {
        "id": "M2uWw9S2E0X7"
      },
      "execution_count": 28,
      "outputs": []
    },
    {
      "cell_type": "code",
      "source": [
        "val_predictions"
      ],
      "metadata": {
        "colab": {
          "base_uri": "https://localhost:8080/"
        },
        "id": "7FXj-rjcE0Gz",
        "outputId": "ee462831-d5ea-40b2-b42e-0635327fff6c"
      },
      "execution_count": 29,
      "outputs": [
        {
          "output_type": "execute_result",
          "data": {
            "text/plain": [
              "array([0, 1, 3, ..., 4, 4, 1])"
            ]
          },
          "metadata": {},
          "execution_count": 29
        }
      ]
    },
    {
      "cell_type": "code",
      "source": [
        "test_predictions"
      ],
      "metadata": {
        "colab": {
          "base_uri": "https://localhost:8080/"
        },
        "id": "jetJ9Wj8E_WB",
        "outputId": "311fa2ac-dc90-487a-b213-7a201572bf61"
      },
      "execution_count": 30,
      "outputs": [
        {
          "output_type": "execute_result",
          "data": {
            "text/plain": [
              "array([2, 2, 2, ..., 4, 4, 4])"
            ]
          },
          "metadata": {},
          "execution_count": 30
        }
      ]
    },
    {
      "cell_type": "code",
      "source": [
        "from sklearn.metrics import (\n",
        "    accuracy_score, f1_score,\n",
        "    classification_report, precision_recall_fscore_support,\n",
        "    confusion_matrix, ConfusionMatrixDisplay\n",
        ")\n",
        "\n",
        "#Performance metrics summary\n",
        "print(classification_report(val_labels_encoded, val_predictions, target_names=class_names))"
      ],
      "metadata": {
        "colab": {
          "base_uri": "https://localhost:8080/"
        },
        "id": "DcMs7svAE_Ba",
        "outputId": "c8cecefd-7236-46be-9c8a-ce1ede97b419"
      },
      "execution_count": 31,
      "outputs": [
        {
          "output_type": "stream",
          "name": "stdout",
          "text": [
            "              precision    recall  f1-score   support\n",
            "\n",
            "  BACKGROUND       0.66      0.45      0.53      3449\n",
            " CONCLUSIONS       0.63      0.62      0.63      4582\n",
            "     METHODS       0.72      0.89      0.80      9964\n",
            "   OBJECTIVE       0.79      0.11      0.19      2376\n",
            "     RESULTS       0.80      0.87      0.83      9841\n",
            "\n",
            "    accuracy                           0.73     30212\n",
            "   macro avg       0.72      0.59      0.60     30212\n",
            "weighted avg       0.73      0.73      0.71     30212\n",
            "\n"
          ]
        }
      ]
    },
    {
      "cell_type": "code",
      "source": [
        "def generate_performance_scores(y_true, y_pred):\n",
        "\n",
        "    model_accuracy = round(accuracy_score(y_true, y_pred), 5)\n",
        "    model_precision, model_recall, model_f1, _ = precision_recall_fscore_support(y_true,\n",
        "                                                                                 y_pred,\n",
        "                                                                                 average=\"weighted\")\n",
        "    model_precision, model_recall, model_f1 = round(model_precision, 5), round(model_recall, 5), round(model_f1, 5)\n",
        "\n",
        "    performance_dict = {\n",
        "        'accuracy': model_accuracy,\n",
        "        'precision': model_precision,\n",
        "        'recall': model_recall,\n",
        "        'f1': model_f1\n",
        "    }\n",
        "\n",
        "    print('=============================================')\n",
        "    print(f'\\nPerformance Metrics:\\n')\n",
        "    print('=============================================')\n",
        "    print(f'accuracy_score:\\t\\t{model_accuracy}\\n')\n",
        "    print('_____________________________________________')\n",
        "    print(f'precision_score:\\t{model_precision}\\n')\n",
        "    print('_____________________________________________')\n",
        "    print(f'recall_score:\\t\\t{model_recall}\\n')\n",
        "    print('_____________________________________________')\n",
        "    print(f'f1_score:\\t\\t{model_f1}\\n')\n",
        "    print('=============================================')\n",
        "\n",
        "    return performance_dict"
      ],
      "metadata": {
        "id": "knZOgIo8FK8S"
      },
      "execution_count": 32,
      "outputs": []
    },
    {
      "cell_type": "markdown",
      "source": [
        "### **Model_0 Results**"
      ],
      "metadata": {
        "id": "VKb78iCyFRDO"
      }
    },
    {
      "cell_type": "code",
      "source": [
        "model_0_results= generate_performance_scores(val_labels_encoded, val_predictions)"
      ],
      "metadata": {
        "colab": {
          "base_uri": "https://localhost:8080/"
        },
        "id": "-qm2vHG1FZTP",
        "outputId": "8266ddf9-36c4-4814-bf2c-0702ec0aa1d7"
      },
      "execution_count": 33,
      "outputs": [
        {
          "output_type": "stream",
          "name": "stdout",
          "text": [
            "=============================================\n",
            "\n",
            "Performance Metrics:\n",
            "\n",
            "=============================================\n",
            "accuracy_score:\t\t0.73173\n",
            "\n",
            "_____________________________________________\n",
            "precision_score:\t0.73152\n",
            "\n",
            "_____________________________________________\n",
            "recall_score:\t\t0.73173\n",
            "\n",
            "_____________________________________________\n",
            "f1_score:\t\t0.70581\n",
            "\n",
            "=============================================\n"
          ]
        }
      ]
    },
    {
      "cell_type": "markdown",
      "source": [
        "# **Preparing data in format suitable for deep learning models**\n",
        "Vectorization and embedding layers needs to be created so data is in suitable format for Deep learning model\n",
        "\n",
        "The vectorization layer is going to be used to convert text to numbers and the embedding layer is going to be used to capture the relationships between those numbers."
      ],
      "metadata": {
        "id": "QbJXB0TLFoj2"
      }
    },
    {
      "cell_type": "code",
      "source": [
        "#The below analysis is being done to know the average,max and min length of sentences in order to ensure when tensorflow model is created the batch size of tensors can be decided so that all batches can have equal size tensors\n",
        "# Create a list to store the lengths of sentences in the training set\n",
        "sentence_lengths = []\n",
        "\n",
        "# Iterate over each sentence in the training set\n",
        "for sentence in train_sentences:\n",
        "    # Split the sentence into words and calculate the length\n",
        "    words_in_sentence = sentence.split()\n",
        "    length_of_sentence = len(words_in_sentence)\n",
        "\n",
        "    # Append the length of the sentence to the list\n",
        "    sentence_lengths.append(length_of_sentence)\n",
        "\n",
        "# Calculate the average sentence length using NumPy\n",
        "average_sentence_length = np.mean(sentence_lengths)\n",
        "\n",
        "# Print the average sentence length\n",
        "print(\"Average Sentence Length:\", average_sentence_length)\n",
        "\n",
        "#Min Sentence length\n",
        "print(min(sentence_lengths))\n",
        "\n",
        "#Max Sentence length\n",
        "print(max(sentence_lengths))"
      ],
      "metadata": {
        "colab": {
          "base_uri": "https://localhost:8080/"
        },
        "id": "5CgDgedAFjUu",
        "outputId": "80ec88d9-494f-4ce8-f796-024be5a7b309"
      },
      "execution_count": 34,
      "outputs": [
        {
          "output_type": "stream",
          "name": "stdout",
          "text": [
            "Average Sentence Length: 26.338435903132638\n",
            "1\n",
            "296\n"
          ]
        }
      ]
    },
    {
      "cell_type": "code",
      "source": [
        "import matplotlib.pyplot as plt\n",
        "plt.hist(sentence_lengths,bins=30) # Getting most occurence sequence length from sequence distribution"
      ],
      "metadata": {
        "colab": {
          "base_uri": "https://localhost:8080/",
          "height": 690
        },
        "id": "URb6hT0kF2sw",
        "outputId": "5de32e92-e891-44b9-9836-b16f5df3d940"
      },
      "execution_count": 35,
      "outputs": [
        {
          "output_type": "execute_result",
          "data": {
            "text/plain": [
              "(array([1.6499e+04, 5.6664e+04, 5.2682e+04, 2.9051e+04, 1.3111e+04,\n",
              "        5.6610e+03, 3.0490e+03, 1.5190e+03, 8.0800e+02, 4.3200e+02,\n",
              "        2.2600e+02, 1.2800e+02, 7.7000e+01, 3.9000e+01, 3.0000e+01,\n",
              "        1.5000e+01, 9.0000e+00, 8.0000e+00, 4.0000e+00, 8.0000e+00,\n",
              "        7.0000e+00, 5.0000e+00, 1.0000e+00, 2.0000e+00, 3.0000e+00,\n",
              "        0.0000e+00, 0.0000e+00, 1.0000e+00, 0.0000e+00, 1.0000e+00]),\n",
              " array([  1.        ,  10.83333333,  20.66666667,  30.5       ,\n",
              "         40.33333333,  50.16666667,  60.        ,  69.83333333,\n",
              "         79.66666667,  89.5       ,  99.33333333, 109.16666667,\n",
              "        119.        , 128.83333333, 138.66666667, 148.5       ,\n",
              "        158.33333333, 168.16666667, 178.        , 187.83333333,\n",
              "        197.66666667, 207.5       , 217.33333333, 227.16666667,\n",
              "        237.        , 246.83333333, 256.66666667, 266.5       ,\n",
              "        276.33333333, 286.16666667, 296.        ]),\n",
              " <BarContainer object of 30 artists>)"
            ]
          },
          "metadata": {},
          "execution_count": 35
        },
        {
          "output_type": "display_data",
          "data": {
            "text/plain": [
              "<Figure size 640x480 with 1 Axes>"
            ],
            "image/png": "[encoded data removed]"
          },
          "metadata": {}
        }
      ]
    },
    {
      "cell_type": "markdown",
      "source": [
        "The majority of sentences are between 0 to 55 tokens as per above histogram"
      ],
      "metadata": {
        "id": "T91de_jjF9N7"
      }
    },
    {
      "cell_type": "code",
      "source": [
        "np.percentile(sentence_lengths,95)   #checking the percentile distribution for sentence token,95% of sentences have token size of 55 or less\n"
      ],
      "metadata": {
        "colab": {
          "base_uri": "https://localhost:8080/"
        },
        "id": "84C0Rc82F_RU",
        "outputId": "b8b5964d-0572-4c0a-add8-9f326e71c304"
      },
      "execution_count": 36,
      "outputs": [
        {
          "output_type": "execute_result",
          "data": {
            "text/plain": [
              "55.0"
            ]
          },
          "metadata": {},
          "execution_count": 36
        }
      ]
    },
    {
      "cell_type": "markdown",
      "source": [
        "# **Creation of text vectorizer layer**"
      ],
      "metadata": {
        "id": "GcoAM6vsGFwn"
      }
    },
    {
      "cell_type": "code",
      "source": [
        "max_tokens = 68000  # value 68K taken as reference from table 3.2 of PubMed200K RCT resarch paper https://arxiv.org/pdf/1710.06071.pdf"
      ],
      "metadata": {
        "id": "T6Vo63NwGIFy"
      },
      "execution_count": 37,
      "outputs": []
    },
    {
      "cell_type": "code",
      "source": [
        "#creating text vectorizer\n",
        "#max token- Maximum size of the vocabulary\n",
        "#output_sequence_length - o/p length of resulting vector sequences\n",
        "text_vectorizer = TextVectorization(max_tokens=max_tokens,\n",
        "                                    standardize='lower_and_strip_punctuation',\n",
        "                                    output_sequence_length=55)"
      ],
      "metadata": {
        "id": "3WMedQXtGUdK"
      },
      "execution_count": 38,
      "outputs": []
    },
    {
      "cell_type": "code",
      "source": [
        "text_vectorizer.adapt(train_sentences)"
      ],
      "metadata": {
        "id": "USWkd2oCGWcC"
      },
      "execution_count": 39,
      "outputs": []
    },
    {
      "cell_type": "code",
      "source": [
        "#Validating random sentences from text vectorizer\n",
        "import random\n",
        "target_sentence  = random.choice(train_sentences)\n",
        "print(f\"Target Text:\\n{target_sentence}\")\n",
        "print(f\"\\nTarget Text length: {len(target_sentence.split())}\")\n",
        "print(f\"\\nVectorized text:\\n{text_vectorizer([target_sentence])}\")"
      ],
      "metadata": {
        "colab": {
          "base_uri": "https://localhost:8080/"
        },
        "id": "kdvMnAH6Gabu",
        "outputId": "39283f32-93ca-42c8-c7b4-1da6cedf6b9b"
      },
      "execution_count": 40,
      "outputs": [
        {
          "output_type": "stream",
          "name": "stdout",
          "text": [
            "Target Text:\n",
            "The sisters consumed their habitual diets except for the substitution of one variety of rice for another .\n",
            "\n",
            "Target Text length: 18\n",
            "\n",
            "Vectorized text:\n",
            "[[    2 32711  1710   127  4467  2040  1186    11     2  5647     4    90\n",
            "   3739     4  6441    11  1736     0     0     0     0     0     0     0\n",
            "      0     0     0     0     0     0     0     0     0     0     0     0\n",
            "      0     0     0     0     0     0     0     0     0     0     0     0\n",
            "      0     0     0     0     0     0     0]]\n"
          ]
        }
      ]
    },
    {
      "cell_type": "code",
      "source": [
        "# Getting current vocabulary and checking vocabulary length\n",
        "pubmedrct_20k_vocab = text_vectorizer.get_vocabulary()\n",
        "print(f\"total vocabulary words : {len(pubmedrct_20k_vocab)}\")"
      ],
      "metadata": {
        "colab": {
          "base_uri": "https://localhost:8080/"
        },
        "id": "61n_HnHcGhBg",
        "outputId": "03e48dd6-1ac9-4406-b517-6aef0c9c8114"
      },
      "execution_count": 41,
      "outputs": [
        {
          "output_type": "stream",
          "name": "stdout",
          "text": [
            "total vocabulary words : 68000\n"
          ]
        }
      ]
    },
    {
      "cell_type": "markdown",
      "source": [
        "# **Create text embedding**"
      ],
      "metadata": {
        "id": "Q2N_2Wi-Gl4T"
      }
    },
    {
      "cell_type": "code",
      "source": [
        "#Creating embedding layer\n",
        "#input_dim - vocabulary size\n",
        "#output_dim- embedding output dimension\n",
        "\n",
        "token_embed = layers.Embedding(input_dim=len(pubmedrct_20k_vocab),\n",
        "                               output_dim= 128,\n",
        "                               mask_zero=True # allows model to ignore padding tokens during training\n",
        "                               )\n",
        "\n",
        "print(f\"Sentence before vectorization:\\n{target_sentence}\\n\")\n",
        "vectorized_sentence = text_vectorizer([target_sentence])\n",
        "print(f\"Sentence after vectorization:\\n{vectorized_sentence}\\n\")\n",
        "embedded_sentence = token_embed(vectorized_sentence)\n",
        "print(f\"Sentence after embedding:\\n{embedded_sentence}\\n\")\n",
        "print(f\"Embedded sentence shape: {embedded_sentence.shape}\")"
      ],
      "metadata": {
        "colab": {
          "base_uri": "https://localhost:8080/"
        },
        "id": "iCklpphtGouB",
        "outputId": "769ffd37-dee7-4885-f05f-98334523a55c"
      },
      "execution_count": 42,
      "outputs": [
        {
          "output_type": "stream",
          "name": "stdout",
          "text": [
            "Sentence before vectorization:\n",
            "The sisters consumed their habitual diets except for the substitution of one variety of rice for another .\n",
            "\n",
            "Sentence after vectorization:\n",
            "[[    2 32711  1710   127  4467  2040  1186    11     2  5647     4    90\n",
            "   3739     4  6441    11  1736     0     0     0     0     0     0     0\n",
            "      0     0     0     0     0     0     0     0     0     0     0     0\n",
            "      0     0     0     0     0     0     0     0     0     0     0     0\n",
            "      0     0     0     0     0     0     0]]\n",
            "\n",
            "Sentence after embedding:\n",
            "[[[ 0.02312798  0.02903444 -0.02279698 ...  0.01754254 -0.02667332\n",
            "   -0.00906023]\n",
            "  [-0.04421717 -0.04363382 -0.00741644 ...  0.0132404  -0.00575722\n",
            "    0.01099641]\n",
            "  [ 0.02606095  0.03033063  0.01843995 ... -0.01755776  0.04420892\n",
            "   -0.04898039]\n",
            "  ...\n",
            "  [-0.04199014  0.04614994  0.03365923 ...  0.00293402 -0.02176442\n",
            "   -0.02815932]\n",
            "  [-0.04199014  0.04614994  0.03365923 ...  0.00293402 -0.02176442\n",
            "   -0.02815932]\n",
            "  [-0.04199014  0.04614994  0.03365923 ...  0.00293402 -0.02176442\n",
            "   -0.02815932]]]\n",
            "\n",
            "Embedded sentence shape: (1, 55, 128)\n"
          ]
        }
      ]
    },
    {
      "cell_type": "code",
      "source": [
        "#Enable faster loading on GPU by using tf.data prefetch() and batch() methods\n",
        "# Create and preprocess training dataset\n",
        "train_dataset = (\n",
        "    tf.data.Dataset\n",
        "    .from_tensor_slices((train_sentences, train_labels_one_hot.toarray())) # Convert to dense NumPy array\n",
        "    .batch(32)\n",
        "    .prefetch(tf.data.AUTOTUNE)\n",
        ")\n",
        "\n",
        "# Create and preprocess validation dataset\n",
        "valid_dataset = (\n",
        "    tf.data.Dataset\n",
        "    .from_tensor_slices((val_sentences, val_labels_one_hot.toarray())) # Convert to dense NumPy array\n",
        "    .batch(32)\n",
        "    .prefetch(tf.data.AUTOTUNE)\n",
        ")\n",
        "\n",
        "# Create and preprocess test dataset\n",
        "test_dataset = (\n",
        "    tf.data.Dataset\n",
        "    .from_tensor_slices((test_sentences, test_labels_one_hot.toarray())) # Convert to dense NumPy array\n",
        "    .batch(32)\n",
        "    .prefetch(tf.data.AUTOTUNE)\n",
        ")\n",
        "\n",
        "# Check training dataset\n",
        "train_dataset"
      ],
      "metadata": {
        "colab": {
          "base_uri": "https://localhost:8080/"
        },
        "id": "n6apDvd2GxBk",
        "outputId": "026976f1-4a80-4379-e921-e7bed13d8aaa"
      },
      "execution_count": 43,
      "outputs": [
        {
          "output_type": "execute_result",
          "data": {
            "text/plain": [
              "<_PrefetchDataset element_spec=(TensorSpec(shape=(None,), dtype=tf.string, name=None), TensorSpec(shape=(None, 5), dtype=tf.float64, name=None))>"
            ]
          },
          "metadata": {},
          "execution_count": 43
        }
      ]
    },
    {
      "cell_type": "markdown",
      "source": [
        "# **Model 1: Conv1D with token embedding**\n",
        "\n",
        "Model Structure\n",
        "\n",
        "Input (text) -> Tokenize -> Embedding -> Layers -> Output (label probability)"
      ],
      "metadata": {
        "id": "KbcJSA4OHc21"
      }
    },
    {
      "cell_type": "code",
      "source": [
        "# Define the input layer for text data\n",
        "inputs = tf.keras.layers.Input(shape=(1,), dtype=tf.string)\n",
        "\n",
        "# Apply the text vectorization layer to convert text to numerical sequences\n",
        "text_vector = text_vectorizer(inputs)\n",
        "\n",
        "# Embed the numerical sequences using token embeddings\n",
        "embeddings = token_embed(text_vector)\n",
        "\n",
        "# Apply a 1D convolutional layer with 64 filters and kernel size of 5\n",
        "conv1d_output = tf.keras.layers.Conv1D(filters=64, kernel_size=5, padding=\"same\", activation=\"relu\")(embeddings)\n",
        "\n",
        "# Global max pooling layer to capture key features\n",
        "global_max_pooling_output = tf.keras.layers.GlobalMaxPooling1D()(conv1d_output)\n",
        "\n",
        "# Dropout layer for regularization\n",
        "dropout_output = tf.keras.layers.Dropout(0.2)(global_max_pooling_output)\n",
        "\n",
        "# Output layer with softmax activation for multi-class classification\n",
        "outputs = tf.keras.layers.Dense(num_classes, activation=\"softmax\")(dropout_output)\n",
        "\n",
        "# Create the model\n",
        "model1 = tf.keras.Model(inputs, outputs)"
      ],
      "metadata": {
        "colab": {
          "base_uri": "https://localhost:8080/"
        },
        "id": "dis8Xke5HfQZ",
        "outputId": "1fe90717-c21b-4764-9652-d7b9df890418"
      },
      "execution_count": 44,
      "outputs": [
        {
          "output_type": "stream",
          "name": "stderr",
          "text": [
            "/usr/local/lib/python3.11/dist-packages/keras/src/layers/layer.py:938: UserWarning: Layer 'conv1d' (of type Conv1D) was passed an input with a mask attached to it. However, this layer does not support masking and will therefore destroy the mask information. Downstream layers will not see the mask.\n",
            "  warnings.warn(\n"
          ]
        }
      ]
    },
    {
      "cell_type": "code",
      "source": [
        "#compile model\n",
        "model1.compile(optimizer=tf.keras.optimizers.Adam(), loss=\"categorical_crossentropy\", metrics=[\"accuracy\"])"
      ],
      "metadata": {
        "id": "zOqE5W4oHrr9"
      },
      "execution_count": 45,
      "outputs": []
    },
    {
      "cell_type": "code",
      "source": [
        "# Display model summary\n",
        "model1.summary()"
      ],
      "metadata": {
        "colab": {
          "base_uri": "https://localhost:8080/",
          "height": 385
        },
        "id": "u04V7z4oICpz",
        "outputId": "46b37856-03ab-4441-a8b4-3cc89d7b92d1"
      },
      "execution_count": 46,
      "outputs": [
        {
          "output_type": "display_data",
          "data": {
            "text/plain": [
              "\u001b[1mModel: \"functional\"\u001b[0m\n"
            ],
            "text/html": [
              "<pre style=\"white-space:pre;overflow-x:auto;line-height:normal;font-family:Menlo,'DejaVu Sans Mono',consolas,'Courier New',monospace\"><span style=\"font-weight: bold\">Model: \"functional\"</span>\n",
              "</pre>\n"
            ]
          },
          "metadata": {}
        },
        {
          "output_type": "display_data",
          "data": {
            "text/plain": [
              "┏━━━━━━━━━━━━━━━━━━━━━━━━━━━━━━━━━━━━━━┳━━━━━━━━━━━━━━━━━━━━━━━━━━━━━┳━━━━━━━━━━━━━━━━━┓\n",
              "┃\u001b[1m \u001b[0m\u001b[1mLayer (type)                        \u001b[0m\u001b[1m \u001b[0m┃\u001b[1m \u001b[0m\u001b[1mOutput Shape               \u001b[0m\u001b[1m \u001b[0m┃\u001b[1m \u001b[0m\u001b[1m        Param #\u001b[0m\u001b[1m \u001b[0m┃\n",
              "┡━━━━━━━━━━━━━━━━━━━━━━━━━━━━━━━━━━━━━━╇━━━━━━━━━━━━━━━━━━━━━━━━━━━━━╇━━━━━━━━━━━━━━━━━┩\n",
              "│ input_layer (\u001b[38;5;33mInputLayer\u001b[0m)             │ (\u001b[38;5;45mNone\u001b[0m, \u001b[38;5;34m1\u001b[0m)                   │               \u001b[38;5;34m0\u001b[0m │\n",
              "├──────────────────────────────────────┼─────────────────────────────┼─────────────────┤\n",
              "│ text_vectorization                   │ (\u001b[38;5;45mNone\u001b[0m, \u001b[38;5;34m55\u001b[0m)                  │               \u001b[38;5;34m0\u001b[0m │\n",
              "│ (\u001b[38;5;33mTextVectorization\u001b[0m)                  │                             │                 │\n",
              "├──────────────────────────────────────┼─────────────────────────────┼─────────────────┤\n",
              "│ embedding (\u001b[38;5;33mEmbedding\u001b[0m)                │ (\u001b[38;5;45mNone\u001b[0m, \u001b[38;5;34m55\u001b[0m, \u001b[38;5;34m128\u001b[0m)             │       \u001b[38;5;34m8,704,000\u001b[0m │\n",
              "├──────────────────────────────────────┼─────────────────────────────┼─────────────────┤\n",
              "│ conv1d (\u001b[38;5;33mConv1D\u001b[0m)                      │ (\u001b[38;5;45mNone\u001b[0m, \u001b[38;5;34m55\u001b[0m, \u001b[38;5;34m64\u001b[0m)              │          \u001b[38;5;34m41,024\u001b[0m │\n",
              "├──────────────────────────────────────┼─────────────────────────────┼─────────────────┤\n",
              "│ global_max_pooling1d                 │ (\u001b[38;5;45mNone\u001b[0m, \u001b[38;5;34m64\u001b[0m)                  │               \u001b[38;5;34m0\u001b[0m │\n",
              "│ (\u001b[38;5;33mGlobalMaxPooling1D\u001b[0m)                 │                             │                 │\n",
              "├──────────────────────────────────────┼─────────────────────────────┼─────────────────┤\n",
              "│ dropout (\u001b[38;5;33mDropout\u001b[0m)                    │ (\u001b[38;5;45mNone\u001b[0m, \u001b[38;5;34m64\u001b[0m)                  │               \u001b[38;5;34m0\u001b[0m │\n",
              "├──────────────────────────────────────┼─────────────────────────────┼─────────────────┤\n",
              "│ dense (\u001b[38;5;33mDense\u001b[0m)                        │ (\u001b[38;5;45mNone\u001b[0m, \u001b[38;5;34m5\u001b[0m)                   │             \u001b[38;5;34m325\u001b[0m │\n",
              "└──────────────────────────────────────┴─────────────────────────────┴─────────────────┘\n"
            ],
            "text/html": [
              "<pre style=\"white-space:pre;overflow-x:auto;line-height:normal;font-family:Menlo,'DejaVu Sans Mono',consolas,'Courier New',monospace\">┏━━━━━━━━━━━━━━━━━━━━━━━━━━━━━━━━━━━━━━┳━━━━━━━━━━━━━━━━━━━━━━━━━━━━━┳━━━━━━━━━━━━━━━━━┓\n",
              "┃<span style=\"font-weight: bold\"> Layer (type)                         </span>┃<span style=\"font-weight: bold\"> Output Shape                </span>┃<span style=\"font-weight: bold\">         Param # </span>┃\n",
              "┡━━━━━━━━━━━━━━━━━━━━━━━━━━━━━━━━━━━━━━╇━━━━━━━━━━━━━━━━━━━━━━━━━━━━━╇━━━━━━━━━━━━━━━━━┩\n",
              "│ input_layer (<span style=\"color: #0087ff; text-decoration-color: #0087ff\">InputLayer</span>)             │ (<span style=\"color: #00d7ff; text-decoration-color: #00d7ff\">None</span>, <span style=\"color: #00af00; text-decoration-color: #00af00\">1</span>)                   │               <span style=\"color: #00af00; text-decoration-color: #00af00\">0</span> │\n",
              "├──────────────────────────────────────┼─────────────────────────────┼─────────────────┤\n",
              "│ text_vectorization                   │ (<span style=\"color: #00d7ff; text-decoration-color: #00d7ff\">None</span>, <span style=\"color: #00af00; text-decoration-color: #00af00\">55</span>)                  │               <span style=\"color: #00af00; text-decoration-color: #00af00\">0</span> │\n",
              "│ (<span style=\"color: #0087ff; text-decoration-color: #0087ff\">TextVectorization</span>)                  │                             │                 │\n",
              "├──────────────────────────────────────┼─────────────────────────────┼─────────────────┤\n",
              "│ embedding (<span style=\"color: #0087ff; text-decoration-color: #0087ff\">Embedding</span>)                │ (<span style=\"color: #00d7ff; text-decoration-color: #00d7ff\">None</span>, <span style=\"color: #00af00; text-decoration-color: #00af00\">55</span>, <span style=\"color: #00af00; text-decoration-color: #00af00\">128</span>)             │       <span style=\"color: #00af00; text-decoration-color: #00af00\">8,704,000</span> │\n",
              "├──────────────────────────────────────┼─────────────────────────────┼─────────────────┤\n",
              "│ conv1d (<span style=\"color: #0087ff; text-decoration-color: #0087ff\">Conv1D</span>)                      │ (<span style=\"color: #00d7ff; text-decoration-color: #00d7ff\">None</span>, <span style=\"color: #00af00; text-decoration-color: #00af00\">55</span>, <span style=\"color: #00af00; text-decoration-color: #00af00\">64</span>)              │          <span style=\"color: #00af00; text-decoration-color: #00af00\">41,024</span> │\n",
              "├──────────────────────────────────────┼─────────────────────────────┼─────────────────┤\n",
              "│ global_max_pooling1d                 │ (<span style=\"color: #00d7ff; text-decoration-color: #00d7ff\">None</span>, <span style=\"color: #00af00; text-decoration-color: #00af00\">64</span>)                  │               <span style=\"color: #00af00; text-decoration-color: #00af00\">0</span> │\n",
              "│ (<span style=\"color: #0087ff; text-decoration-color: #0087ff\">GlobalMaxPooling1D</span>)                 │                             │                 │\n",
              "├──────────────────────────────────────┼─────────────────────────────┼─────────────────┤\n",
              "│ dropout (<span style=\"color: #0087ff; text-decoration-color: #0087ff\">Dropout</span>)                    │ (<span style=\"color: #00d7ff; text-decoration-color: #00d7ff\">None</span>, <span style=\"color: #00af00; text-decoration-color: #00af00\">64</span>)                  │               <span style=\"color: #00af00; text-decoration-color: #00af00\">0</span> │\n",
              "├──────────────────────────────────────┼─────────────────────────────┼─────────────────┤\n",
              "│ dense (<span style=\"color: #0087ff; text-decoration-color: #0087ff\">Dense</span>)                        │ (<span style=\"color: #00d7ff; text-decoration-color: #00d7ff\">None</span>, <span style=\"color: #00af00; text-decoration-color: #00af00\">5</span>)                   │             <span style=\"color: #00af00; text-decoration-color: #00af00\">325</span> │\n",
              "└──────────────────────────────────────┴─────────────────────────────┴─────────────────┘\n",
              "</pre>\n"
            ]
          },
          "metadata": {}
        },
        {
          "output_type": "display_data",
          "data": {
            "text/plain": [
              "\u001b[1m Total params: \u001b[0m\u001b[38;5;34m8,745,349\u001b[0m (33.36 MB)\n"
            ],
            "text/html": [
              "<pre style=\"white-space:pre;overflow-x:auto;line-height:normal;font-family:Menlo,'DejaVu Sans Mono',consolas,'Courier New',monospace\"><span style=\"font-weight: bold\"> Total params: </span><span style=\"color: #00af00; text-decoration-color: #00af00\">8,745,349</span> (33.36 MB)\n",
              "</pre>\n"
            ]
          },
          "metadata": {}
        },
        {
          "output_type": "display_data",
          "data": {
            "text/plain": [
              "\u001b[1m Trainable params: \u001b[0m\u001b[38;5;34m8,745,349\u001b[0m (33.36 MB)\n"
            ],
            "text/html": [
              "<pre style=\"white-space:pre;overflow-x:auto;line-height:normal;font-family:Menlo,'DejaVu Sans Mono',consolas,'Courier New',monospace\"><span style=\"font-weight: bold\"> Trainable params: </span><span style=\"color: #00af00; text-decoration-color: #00af00\">8,745,349</span> (33.36 MB)\n",
              "</pre>\n"
            ]
          },
          "metadata": {}
        },
        {
          "output_type": "display_data",
          "data": {
            "text/plain": [
              "\u001b[1m Non-trainable params: \u001b[0m\u001b[38;5;34m0\u001b[0m (0.00 B)\n"
            ],
            "text/html": [
              "<pre style=\"white-space:pre;overflow-x:auto;line-height:normal;font-family:Menlo,'DejaVu Sans Mono',consolas,'Courier New',monospace\"><span style=\"font-weight: bold\"> Non-trainable params: </span><span style=\"color: #00af00; text-decoration-color: #00af00\">0</span> (0.00 B)\n",
              "</pre>\n"
            ]
          },
          "metadata": {}
        }
      ]
    },
    {
      "cell_type": "code",
      "source": [
        "#Fit the model on smaller subset of data (here value is taken as 10%  of training and validation set data as it is more sensible to run smaller experiments and training models on large datasets on GPU takes time)\n",
        "model1_history =  model1.fit(train_dataset,\n",
        "                             steps_per_epoch=int(0.1 * len(train_dataset)),\n",
        "                             epochs = 10,\n",
        "                             validation_data = valid_dataset,\n",
        "                             validation_steps=int(0.1 * len(valid_dataset)))"
      ],
      "metadata": {
        "colab": {
          "base_uri": "https://localhost:8080/"
        },
        "id": "0Qqj6IeIITq6",
        "outputId": "5a0c2231-77c1-4a4d-b3e2-904373acbdee"
      },
      "execution_count": 47,
      "outputs": [
        {
          "output_type": "stream",
          "name": "stdout",
          "text": [
            "Epoch 1/10\n",
            "\u001b[1m562/562\u001b[0m \u001b[32m━━━━━━━━━━━━━━━━━━━━\u001b[0m\u001b[37m\u001b[0m \u001b[1m86s\u001b[0m 150ms/step - accuracy: 0.5406 - loss: 1.1357 - val_accuracy: 0.7729 - val_loss: 0.6107\n",
            "Epoch 2/10\n",
            "\u001b[1m562/562\u001b[0m \u001b[32m━━━━━━━━━━━━━━━━━━━━\u001b[0m\u001b[37m\u001b[0m \u001b[1m82s\u001b[0m 145ms/step - accuracy: 0.7672 - loss: 0.6352 - val_accuracy: 0.7999 - val_loss: 0.5441\n",
            "Epoch 3/10\n",
            "\u001b[1m562/562\u001b[0m \u001b[32m━━━━━━━━━━━━━━━━━━━━\u001b[0m\u001b[37m\u001b[0m \u001b[1m81s\u001b[0m 143ms/step - accuracy: 0.7864 - loss: 0.5813 - val_accuracy: 0.8075 - val_loss: 0.5325\n",
            "Epoch 4/10\n",
            "\u001b[1m562/562\u001b[0m \u001b[32m━━━━━━━━━━━━━━━━━━━━\u001b[0m\u001b[37m\u001b[0m \u001b[1m71s\u001b[0m 127ms/step - accuracy: 0.7994 - loss: 0.5609 - val_accuracy: 0.8082 - val_loss: 0.5229\n",
            "Epoch 5/10\n",
            "\u001b[1m562/562\u001b[0m \u001b[32m━━━━━━━━━━━━━━━━━━━━\u001b[0m\u001b[37m\u001b[0m \u001b[1m70s\u001b[0m 125ms/step - accuracy: 0.8013 - loss: 0.5584 - val_accuracy: 0.8068 - val_loss: 0.5116\n",
            "Epoch 6/10\n",
            "\u001b[1m562/562\u001b[0m \u001b[32m━━━━━━━━━━━━━━━━━━━━\u001b[0m\u001b[37m\u001b[0m \u001b[1m82s\u001b[0m 146ms/step - accuracy: 0.8010 - loss: 0.5519 - val_accuracy: 0.8198 - val_loss: 0.4989\n",
            "Epoch 7/10\n",
            "\u001b[1m562/562\u001b[0m \u001b[32m━━━━━━━━━━━━━━━━━━━━\u001b[0m\u001b[37m\u001b[0m \u001b[1m71s\u001b[0m 126ms/step - accuracy: 0.8091 - loss: 0.5171 - val_accuracy: 0.8198 - val_loss: 0.4948\n",
            "Epoch 8/10\n",
            "\u001b[1m562/562\u001b[0m \u001b[32m━━━━━━━━━━━━━━━━━━━━\u001b[0m\u001b[37m\u001b[0m \u001b[1m69s\u001b[0m 123ms/step - accuracy: 0.8173 - loss: 0.5087 - val_accuracy: 0.8288 - val_loss: 0.4778\n",
            "Epoch 9/10\n",
            "\u001b[1m562/562\u001b[0m \u001b[32m━━━━━━━━━━━━━━━━━━━━\u001b[0m\u001b[37m\u001b[0m \u001b[1m82s\u001b[0m 146ms/step - accuracy: 0.8146 - loss: 0.5204 - val_accuracy: 0.8148 - val_loss: 0.4974\n",
            "Epoch 10/10\n",
            "\u001b[1m562/562\u001b[0m \u001b[32m━━━━━━━━━━━━━━━━━━━━\u001b[0m\u001b[37m\u001b[0m \u001b[1m82s\u001b[0m 146ms/step - accuracy: 0.8086 - loss: 0.5329 - val_accuracy: 0.8241 - val_loss: 0.4800\n"
          ]
        }
      ]
    },
    {
      "cell_type": "code",
      "source": [
        "# Evaluating on entire validation dataset\n",
        "model1.evaluate(valid_dataset)"
      ],
      "metadata": {
        "colab": {
          "base_uri": "https://localhost:8080/"
        },
        "id": "bq2yFOzdIkl7",
        "outputId": "72184e3a-c777-471a-fb86-3e3318ddf83e"
      },
      "execution_count": 48,
      "outputs": [
        {
          "output_type": "stream",
          "name": "stdout",
          "text": [
            "\u001b[1m945/945\u001b[0m \u001b[32m━━━━━━━━━━━━━━━━━━━━\u001b[0m\u001b[37m\u001b[0m \u001b[1m7s\u001b[0m 7ms/step - accuracy: 0.8262 - loss: 0.4708\n"
          ]
        },
        {
          "output_type": "execute_result",
          "data": {
            "text/plain": [
              "[0.47320500016212463, 0.8276843428611755]"
            ]
          },
          "metadata": {},
          "execution_count": 48
        }
      ]
    },
    {
      "cell_type": "code",
      "source": [
        "# Make predictions\n",
        "model1_prediction_probablities = model1.predict(valid_dataset)\n",
        "model1_prediction_probablities"
      ],
      "metadata": {
        "colab": {
          "base_uri": "https://localhost:8080/"
        },
        "id": "XEYFSPQtIlkh",
        "outputId": "bc6918a5-0ea8-4073-bc14-1c2ef7f28f57"
      },
      "execution_count": 49,
      "outputs": [
        {
          "output_type": "stream",
          "name": "stdout",
          "text": [
            "\u001b[1m945/945\u001b[0m \u001b[32m━━━━━━━━━━━━━━━━━━━━\u001b[0m\u001b[37m\u001b[0m \u001b[1m5s\u001b[0m 5ms/step\n"
          ]
        },
        {
          "output_type": "execute_result",
          "data": {
            "text/plain": [
              "array([[4.86982048e-01, 1.37387305e-01, 3.10535375e-02, 3.29464287e-01,\n",
              "        1.51127549e-02],\n",
              "       [4.55433816e-01, 3.95881206e-01, 1.83090603e-03, 1.43502831e-01,\n",
              "        3.35128116e-03],\n",
              "       [1.37655452e-01, 1.96676236e-03, 3.45841137e-04, 8.59902203e-01,\n",
              "        1.29824140e-04],\n",
              "       ...,\n",
              "       [1.19393815e-04, 1.31008029e-03, 8.03301670e-03, 1.17902833e-04,\n",
              "        9.90419567e-01],\n",
              "       [3.23340148e-02, 6.15834475e-01, 4.22978997e-02, 1.46070533e-02,\n",
              "        2.94926554e-01],\n",
              "       [1.79430973e-02, 9.44663286e-01, 6.76287059e-03, 1.40946626e-03,\n",
              "        2.92212851e-02]], dtype=float32)"
            ]
          },
          "metadata": {},
          "execution_count": 49
        }
      ]
    },
    {
      "cell_type": "code",
      "source": [
        "# Convert prediction probablities to classes\n",
        "model_1_predictions = tf.argmax(model1_prediction_probablities, axis=1)\n",
        "model_1_predictions"
      ],
      "metadata": {
        "colab": {
          "base_uri": "https://localhost:8080/"
        },
        "id": "TC2mGabYItgr",
        "outputId": "2bd31539-7574-4282-f1af-624ff645e2ca"
      },
      "execution_count": 50,
      "outputs": [
        {
          "output_type": "execute_result",
          "data": {
            "text/plain": [
              "<tf.Tensor: shape=(30212,), dtype=int64, numpy=array([0, 0, 3, ..., 4, 1, 1])>"
            ]
          },
          "metadata": {},
          "execution_count": 50
        }
      ]
    },
    {
      "cell_type": "markdown",
      "source": [
        "**Model1 Results**"
      ],
      "metadata": {
        "id": "egs01WzAIwRS"
      }
    },
    {
      "cell_type": "code",
      "source": [
        "model1_results= generate_performance_scores(val_labels_encoded, model_1_predictions)"
      ],
      "metadata": {
        "colab": {
          "base_uri": "https://localhost:8080/"
        },
        "id": "_AFrsqqoI0M5",
        "outputId": "e422b736-c470-4e5c-94d9-fb3048d890fa"
      },
      "execution_count": 51,
      "outputs": [
        {
          "output_type": "stream",
          "name": "stdout",
          "text": [
            "=============================================\n",
            "\n",
            "Performance Metrics:\n",
            "\n",
            "=============================================\n",
            "accuracy_score:\t\t0.82768\n",
            "\n",
            "_____________________________________________\n",
            "precision_score:\t0.82538\n",
            "\n",
            "_____________________________________________\n",
            "recall_score:\t\t0.82768\n",
            "\n",
            "_____________________________________________\n",
            "f1_score:\t\t0.82483\n",
            "\n",
            "=============================================\n"
          ]
        }
      ]
    },
    {
      "cell_type": "markdown",
      "source": [
        "# **Model 2: Feature extraction with pretrained token embedding**\n",
        "\n",
        "Pretrained model used: pretrained Universal Sentence Encoder embeddings from TensorFlow Hub.\n",
        "\n",
        "Reasons for using the above model:\n",
        "\n",
        "Low inference time\n",
        "Computationally inexpensive to use\n",
        "Model structure:\n",
        "\n",
        "Inputs (string) -> Pretrained embeddings from TensorFlow Hub (Universal Sentence Encoder) -> Layers -> Output (prediction probabilities)"
      ],
      "metadata": {
        "id": "pPPUqjM_I-x7"
      }
    },
    {
      "cell_type": "code",
      "source": [
        "# Download pretrained TensorFlow Hub USE\n",
        "import tensorflow_hub as hub\n",
        "def get_tfhub_model(model_link, model_name, model_trainable=False):\n",
        "    return hub.KerasLayer(model_link,\n",
        "                          trainable=model_trainable,\n",
        "                          name=model_name)"
      ],
      "metadata": {
        "id": "CL0sFaE_JEKj"
      },
      "execution_count": 52,
      "outputs": []
    },
    {
      "cell_type": "code",
      "source": [
        "encoder_link = 'https://tfhub.dev/google/universal-sentence-encoder/4'\n",
        "encoder_name = 'universal_sentence_encoder'\n",
        "encoder_trainable=False # set trainable to False for inference-only\n",
        "\n",
        "encoder = get_tfhub_model(encoder_link, encoder_name, model_trainable=encoder_trainable)"
      ],
      "metadata": {
        "id": "kcLA71FeJH6B"
      },
      "execution_count": 53,
      "outputs": []
    },
    {
      "cell_type": "code",
      "source": [
        "# Test out the embedding on a random sentence\n",
        "# Select a random sentence from the training set\n",
        "random_training_sentence = random.choice(train_sentences)\n",
        "\n",
        "# Display the random training sentence\n",
        "print(f\"Random training sentence:\\n{random_training_sentence}\\n\")\n",
        "\n",
        "# Use the TensorFlow Hub embedding layer to embed the random sentence\n",
        "embedded_sentence = encoder([random_training_sentence])\n",
        "\n",
        "# Display the embedded sentence (showing the first 20 elements, truncated if necessary)\n",
        "print(f\"Sentence after embedding:\\n{embedded_sentence[0][:20]} (truncated output)...\\n\")\n",
        "\n",
        "# Display the length of the embedded sentence\n",
        "print(f\"Length of sentence embedding:\\n{len(embedded_sentence[0])}\")"
      ],
      "metadata": {
        "colab": {
          "base_uri": "https://localhost:8080/"
        },
        "id": "Jfz3gAwTJMSz",
        "outputId": "e9cd4881-cb42-4a9c-cb50-d2bc2828d091"
      },
      "execution_count": 54,
      "outputs": [
        {
          "output_type": "stream",
          "name": "stdout",
          "text": [
            "Random training sentence:\n",
            "The order of device application was randomly permuted .\n",
            "\n",
            "Sentence after embedding:\n",
            "[ 0.00833439  0.05070375  0.02452691  0.00440396  0.0676972   0.02921792\n",
            "  0.03435915 -0.03695171  0.05359229 -0.02139026 -0.02379337 -0.00794337\n",
            "  0.03630476  0.03812642 -0.05523924  0.08751484  0.0421477  -0.07511457\n",
            "  0.01106783  0.02219777] (truncated output)...\n",
            "\n",
            "Length of sentence embedding:\n",
            "512\n"
          ]
        }
      ]
    },
    {
      "cell_type": "code",
      "source": [
        "# Define a feature extractor model using TF Hub layer\n",
        "input_layer = tf.keras.layers.Input(shape=[], dtype=tf.string)\n",
        "\n",
        "# Create a custom layer to wrap the TensorFlow Hub layer\n",
        "class USE_embedding_layer(tf.keras.layers.Layer):\n",
        "    def __init__(self, encoder):\n",
        "        super(USE_embedding_layer, self).__init__()\n",
        "        self.encoder = encoder\n",
        "\n",
        "    def call(self, inputs):\n",
        "        return self.encoder(inputs)\n",
        "\n",
        "# Tokenize text and create embedding using the custom layer\n",
        "embedding_layer = USE_embedding_layer(encoder)(input_layer)\n",
        "\n",
        "# Add a fully connected layer on top of the embedding\n",
        "dense_layer = tf.keras.layers.Dense(128, activation=\"relu\")(embedding_layer)\n",
        "\n",
        "# Create the output layer\n",
        "output_layer = tf.keras.layers.Dense(5, activation=\"softmax\")(dense_layer)\n",
        "\n",
        "# Create the model\n",
        "model2_feature_extractor_model = tf.keras.Model(inputs=input_layer, outputs=output_layer)"
      ],
      "metadata": {
        "id": "GfoTSqMFJTgX"
      },
      "execution_count": 55,
      "outputs": []
    },
    {
      "cell_type": "code",
      "source": [
        "# Compile the model\n",
        "model2_feature_extractor_model.compile(loss=\"categorical_crossentropy\",\n",
        "                                optimizer=tf.keras.optimizers.Adam(),\n",
        "                                metrics=[\"accuracy\"])"
      ],
      "metadata": {
        "id": "O-gCi8pDJW_O"
      },
      "execution_count": 56,
      "outputs": []
    },
    {
      "cell_type": "code",
      "source": [
        "# Display model summary\n",
        "model2_feature_extractor_model.summary()"
      ],
      "metadata": {
        "colab": {
          "base_uri": "https://localhost:8080/",
          "height": 273
        },
        "id": "pvoqhp9cJX_Z",
        "outputId": "6d3e7a25-3751-4bb3-a7a1-d5c5494505ad"
      },
      "execution_count": 57,
      "outputs": [
        {
          "output_type": "display_data",
          "data": {
            "text/plain": [
              "\u001b[1mModel: \"functional_1\"\u001b[0m\n"
            ],
            "text/html": [
              "<pre style=\"white-space:pre;overflow-x:auto;line-height:normal;font-family:Menlo,'DejaVu Sans Mono',consolas,'Courier New',monospace\"><span style=\"font-weight: bold\">Model: \"functional_1\"</span>\n",
              "</pre>\n"
            ]
          },
          "metadata": {}
        },
        {
          "output_type": "display_data",
          "data": {
            "text/plain": [
              "┏━━━━━━━━━━━━━━━━━━━━━━━━━━━━━━━━━━━━━━┳━━━━━━━━━━━━━━━━━━━━━━━━━━━━━┳━━━━━━━━━━━━━━━━━┓\n",
              "┃\u001b[1m \u001b[0m\u001b[1mLayer (type)                        \u001b[0m\u001b[1m \u001b[0m┃\u001b[1m \u001b[0m\u001b[1mOutput Shape               \u001b[0m\u001b[1m \u001b[0m┃\u001b[1m \u001b[0m\u001b[1m        Param #\u001b[0m\u001b[1m \u001b[0m┃\n",
              "┡━━━━━━━━━━━━━━━━━━━━━━━━━━━━━━━━━━━━━━╇━━━━━━━━━━━━━━━━━━━━━━━━━━━━━╇━━━━━━━━━━━━━━━━━┩\n",
              "│ input_layer_1 (\u001b[38;5;33mInputLayer\u001b[0m)           │ (\u001b[38;5;45mNone\u001b[0m)                      │               \u001b[38;5;34m0\u001b[0m │\n",
              "├──────────────────────────────────────┼─────────────────────────────┼─────────────────┤\n",
              "│ use_embedding_layer                  │ (\u001b[38;5;45mNone\u001b[0m, \u001b[38;5;34m512\u001b[0m)                 │               \u001b[38;5;34m0\u001b[0m │\n",
              "│ (\u001b[38;5;33mUSE_embedding_layer\u001b[0m)                │                             │                 │\n",
              "├──────────────────────────────────────┼─────────────────────────────┼─────────────────┤\n",
              "│ dense_1 (\u001b[38;5;33mDense\u001b[0m)                      │ (\u001b[38;5;45mNone\u001b[0m, \u001b[38;5;34m128\u001b[0m)                 │          \u001b[38;5;34m65,664\u001b[0m │\n",
              "├──────────────────────────────────────┼─────────────────────────────┼─────────────────┤\n",
              "│ dense_2 (\u001b[38;5;33mDense\u001b[0m)                      │ (\u001b[38;5;45mNone\u001b[0m, \u001b[38;5;34m5\u001b[0m)                   │             \u001b[38;5;34m645\u001b[0m │\n",
              "└──────────────────────────────────────┴─────────────────────────────┴─────────────────┘\n"
            ],
            "text/html": [
              "<pre style=\"white-space:pre;overflow-x:auto;line-height:normal;font-family:Menlo,'DejaVu Sans Mono',consolas,'Courier New',monospace\">┏━━━━━━━━━━━━━━━━━━━━━━━━━━━━━━━━━━━━━━┳━━━━━━━━━━━━━━━━━━━━━━━━━━━━━┳━━━━━━━━━━━━━━━━━┓\n",
              "┃<span style=\"font-weight: bold\"> Layer (type)                         </span>┃<span style=\"font-weight: bold\"> Output Shape                </span>┃<span style=\"font-weight: bold\">         Param # </span>┃\n",
              "┡━━━━━━━━━━━━━━━━━━━━━━━━━━━━━━━━━━━━━━╇━━━━━━━━━━━━━━━━━━━━━━━━━━━━━╇━━━━━━━━━━━━━━━━━┩\n",
              "│ input_layer_1 (<span style=\"color: #0087ff; text-decoration-color: #0087ff\">InputLayer</span>)           │ (<span style=\"color: #00d7ff; text-decoration-color: #00d7ff\">None</span>)                      │               <span style=\"color: #00af00; text-decoration-color: #00af00\">0</span> │\n",
              "├──────────────────────────────────────┼─────────────────────────────┼─────────────────┤\n",
              "│ use_embedding_layer                  │ (<span style=\"color: #00d7ff; text-decoration-color: #00d7ff\">None</span>, <span style=\"color: #00af00; text-decoration-color: #00af00\">512</span>)                 │               <span style=\"color: #00af00; text-decoration-color: #00af00\">0</span> │\n",
              "│ (<span style=\"color: #0087ff; text-decoration-color: #0087ff\">USE_embedding_layer</span>)                │                             │                 │\n",
              "├──────────────────────────────────────┼─────────────────────────────┼─────────────────┤\n",
              "│ dense_1 (<span style=\"color: #0087ff; text-decoration-color: #0087ff\">Dense</span>)                      │ (<span style=\"color: #00d7ff; text-decoration-color: #00d7ff\">None</span>, <span style=\"color: #00af00; text-decoration-color: #00af00\">128</span>)                 │          <span style=\"color: #00af00; text-decoration-color: #00af00\">65,664</span> │\n",
              "├──────────────────────────────────────┼─────────────────────────────┼─────────────────┤\n",
              "│ dense_2 (<span style=\"color: #0087ff; text-decoration-color: #0087ff\">Dense</span>)                      │ (<span style=\"color: #00d7ff; text-decoration-color: #00d7ff\">None</span>, <span style=\"color: #00af00; text-decoration-color: #00af00\">5</span>)                   │             <span style=\"color: #00af00; text-decoration-color: #00af00\">645</span> │\n",
              "└──────────────────────────────────────┴─────────────────────────────┴─────────────────┘\n",
              "</pre>\n"
            ]
          },
          "metadata": {}
        },
        {
          "output_type": "display_data",
          "data": {
            "text/plain": [
              "\u001b[1m Total params: \u001b[0m\u001b[38;5;34m66,309\u001b[0m (259.02 KB)\n"
            ],
            "text/html": [
              "<pre style=\"white-space:pre;overflow-x:auto;line-height:normal;font-family:Menlo,'DejaVu Sans Mono',consolas,'Courier New',monospace\"><span style=\"font-weight: bold\"> Total params: </span><span style=\"color: #00af00; text-decoration-color: #00af00\">66,309</span> (259.02 KB)\n",
              "</pre>\n"
            ]
          },
          "metadata": {}
        },
        {
          "output_type": "display_data",
          "data": {
            "text/plain": [
              "\u001b[1m Trainable params: \u001b[0m\u001b[38;5;34m66,309\u001b[0m (259.02 KB)\n"
            ],
            "text/html": [
              "<pre style=\"white-space:pre;overflow-x:auto;line-height:normal;font-family:Menlo,'DejaVu Sans Mono',consolas,'Courier New',monospace\"><span style=\"font-weight: bold\"> Trainable params: </span><span style=\"color: #00af00; text-decoration-color: #00af00\">66,309</span> (259.02 KB)\n",
              "</pre>\n"
            ]
          },
          "metadata": {}
        },
        {
          "output_type": "display_data",
          "data": {
            "text/plain": [
              "\u001b[1m Non-trainable params: \u001b[0m\u001b[38;5;34m0\u001b[0m (0.00 B)\n"
            ],
            "text/html": [
              "<pre style=\"white-space:pre;overflow-x:auto;line-height:normal;font-family:Menlo,'DejaVu Sans Mono',consolas,'Courier New',monospace\"><span style=\"font-weight: bold\"> Non-trainable params: </span><span style=\"color: #00af00; text-decoration-color: #00af00\">0</span> (0.00 B)\n",
              "</pre>\n"
            ]
          },
          "metadata": {}
        }
      ]
    },
    {
      "cell_type": "code",
      "source": [
        "#Fit the model on smaller subset of data (here value is taken as 10%  of training and validation set data as it is more sensible to run smaller experiments and training models on large datasets on GPU takes time)\n",
        "model2_feature_extractor_model_history =  model2_feature_extractor_model.fit(train_dataset,\n",
        "                             steps_per_epoch=int(0.1 * len(train_dataset)),\n",
        "                             epochs = 10,\n",
        "                             validation_data = valid_dataset,\n",
        "                             validation_steps=int(0.1 * len(valid_dataset)))"
      ],
      "metadata": {
        "colab": {
          "base_uri": "https://localhost:8080/"
        },
        "id": "42mUEiHdJe27",
        "outputId": "254ad68e-0656-42aa-e998-00f847a39824"
      },
      "execution_count": 58,
      "outputs": [
        {
          "output_type": "stream",
          "name": "stdout",
          "text": [
            "Epoch 1/10\n",
            "\u001b[1m562/562\u001b[0m \u001b[32m━━━━━━━━━━━━━━━━━━━━\u001b[0m\u001b[37m\u001b[0m \u001b[1m14s\u001b[0m 16ms/step - accuracy: 0.5886 - loss: 1.0651 - val_accuracy: 0.6932 - val_loss: 0.7767\n",
            "Epoch 2/10\n",
            "\u001b[1m562/562\u001b[0m \u001b[32m━━━━━━━━━━━━━━━━━━━━\u001b[0m\u001b[37m\u001b[0m \u001b[1m10s\u001b[0m 18ms/step - accuracy: 0.7115 - loss: 0.7467 - val_accuracy: 0.7154 - val_loss: 0.7368\n",
            "Epoch 3/10\n",
            "\u001b[1m562/562\u001b[0m \u001b[32m━━━━━━━━━━━━━━━━━━━━\u001b[0m\u001b[37m\u001b[0m \u001b[1m10s\u001b[0m 18ms/step - accuracy: 0.7224 - loss: 0.7289 - val_accuracy: 0.7128 - val_loss: 0.7259\n",
            "Epoch 4/10\n",
            "\u001b[1m562/562\u001b[0m \u001b[32m━━━━━━━━━━━━━━━━━━━━\u001b[0m\u001b[37m\u001b[0m \u001b[1m9s\u001b[0m 16ms/step - accuracy: 0.7301 - loss: 0.7058 - val_accuracy: 0.7221 - val_loss: 0.7020\n",
            "Epoch 5/10\n",
            "\u001b[1m562/562\u001b[0m \u001b[32m━━━━━━━━━━━━━━━━━━━━\u001b[0m\u001b[37m\u001b[0m \u001b[1m10s\u001b[0m 18ms/step - accuracy: 0.7277 - loss: 0.6962 - val_accuracy: 0.7330 - val_loss: 0.6799\n",
            "Epoch 6/10\n",
            "\u001b[1m562/562\u001b[0m \u001b[32m━━━━━━━━━━━━━━━━━━━━\u001b[0m\u001b[37m\u001b[0m \u001b[1m10s\u001b[0m 18ms/step - accuracy: 0.7338 - loss: 0.6923 - val_accuracy: 0.7354 - val_loss: 0.6718\n",
            "Epoch 7/10\n",
            "\u001b[1m562/562\u001b[0m \u001b[32m━━━━━━━━━━━━━━━━━━━━\u001b[0m\u001b[37m\u001b[0m \u001b[1m9s\u001b[0m 16ms/step - accuracy: 0.7482 - loss: 0.6580 - val_accuracy: 0.7493 - val_loss: 0.6540\n",
            "Epoch 8/10\n",
            "\u001b[1m562/562\u001b[0m \u001b[32m━━━━━━━━━━━━━━━━━━━━\u001b[0m\u001b[37m\u001b[0m \u001b[1m10s\u001b[0m 18ms/step - accuracy: 0.7496 - loss: 0.6607 - val_accuracy: 0.7473 - val_loss: 0.6422\n",
            "Epoch 9/10\n",
            "\u001b[1m562/562\u001b[0m \u001b[32m━━━━━━━━━━━━━━━━━━━━\u001b[0m\u001b[37m\u001b[0m \u001b[1m8s\u001b[0m 14ms/step - accuracy: 0.7494 - loss: 0.6555 - val_accuracy: 0.7483 - val_loss: 0.6458\n",
            "Epoch 10/10\n",
            "\u001b[1m562/562\u001b[0m \u001b[32m━━━━━━━━━━━━━━━━━━━━\u001b[0m\u001b[37m\u001b[0m \u001b[1m10s\u001b[0m 18ms/step - accuracy: 0.7496 - loss: 0.6598 - val_accuracy: 0.7563 - val_loss: 0.6406\n"
          ]
        }
      ]
    },
    {
      "cell_type": "code",
      "source": [
        "# Evaluate on entire validation dataset\n",
        "model2_feature_extractor_model.evaluate(valid_dataset)"
      ],
      "metadata": {
        "colab": {
          "base_uri": "https://localhost:8080/"
        },
        "id": "ZG6VAUxnJjad",
        "outputId": "5953e0ea-693e-4c9a-ef4d-55248dfa707e"
      },
      "execution_count": 59,
      "outputs": [
        {
          "output_type": "stream",
          "name": "stdout",
          "text": [
            "\u001b[1m945/945\u001b[0m \u001b[32m━━━━━━━━━━━━━━━━━━━━\u001b[0m\u001b[37m\u001b[0m \u001b[1m12s\u001b[0m 13ms/step - accuracy: 0.7569 - loss: 0.6369\n"
          ]
        },
        {
          "output_type": "execute_result",
          "data": {
            "text/plain": [
              "[0.6371225118637085, 0.7587051391601562]"
            ]
          },
          "metadata": {},
          "execution_count": 59
        }
      ]
    },
    {
      "cell_type": "code",
      "source": [
        "# Make predictions with feature extraction model\n",
        "model2_feature_extractor_model_prediction_probablities = model2_feature_extractor_model.predict(valid_dataset)\n",
        "model2_feature_extractor_model_prediction_probablities"
      ],
      "metadata": {
        "colab": {
          "base_uri": "https://localhost:8080/"
        },
        "id": "aKQJm96JJkal",
        "outputId": "72a2e99c-56ab-47af-e690-4121689006b9"
      },
      "execution_count": 60,
      "outputs": [
        {
          "output_type": "stream",
          "name": "stdout",
          "text": [
            "\u001b[1m945/945\u001b[0m \u001b[32m━━━━━━━━━━━━━━━━━━━━\u001b[0m\u001b[37m\u001b[0m \u001b[1m13s\u001b[0m 13ms/step\n"
          ]
        },
        {
          "output_type": "execute_result",
          "data": {
            "text/plain": [
              "array([[4.12511349e-01, 4.54856217e-01, 5.48627519e-04, 1.22689724e-01,\n",
              "        9.39409155e-03],\n",
              "       [3.83723646e-01, 5.18463016e-01, 3.08117131e-03, 9.34764519e-02,\n",
              "        1.25565601e-03],\n",
              "       [3.59626055e-01, 3.65023017e-02, 7.28849042e-03, 5.87855279e-01,\n",
              "        8.72791559e-03],\n",
              "       ...,\n",
              "       [6.47870649e-04, 2.36517459e-04, 1.21803693e-02, 2.46252312e-04,\n",
              "        9.86689031e-01],\n",
              "       [3.36721237e-03, 2.04543956e-02, 1.81550115e-01, 6.76595548e-04,\n",
              "        7.93951631e-01],\n",
              "       [4.75986861e-02, 8.73106480e-01, 6.74638078e-02, 9.23534622e-04,\n",
              "        1.09074935e-02]], dtype=float32)"
            ]
          },
          "metadata": {},
          "execution_count": 60
        }
      ]
    },
    {
      "cell_type": "code",
      "source": [
        "# Convert the predictions probablities to classes\n",
        "model2_feature_extractor_model_predictions = tf.argmax(model2_feature_extractor_model_prediction_probablities, axis=1)\n",
        "model2_feature_extractor_model_predictions"
      ],
      "metadata": {
        "colab": {
          "base_uri": "https://localhost:8080/"
        },
        "id": "Hug8h8ZLJqWn",
        "outputId": "65b56857-4645-4e0e-8335-7d5d62718fff"
      },
      "execution_count": 61,
      "outputs": [
        {
          "output_type": "execute_result",
          "data": {
            "text/plain": [
              "<tf.Tensor: shape=(30212,), dtype=int64, numpy=array([1, 1, 3, ..., 4, 4, 1])>"
            ]
          },
          "metadata": {},
          "execution_count": 61
        }
      ]
    },
    {
      "cell_type": "markdown",
      "source": [
        "**Model2 Results**"
      ],
      "metadata": {
        "id": "5CjDO-jBJtTc"
      }
    },
    {
      "cell_type": "code",
      "source": [
        "model2_feature_extractor_model_results= generate_performance_scores(val_labels_encoded, model2_feature_extractor_model_predictions)"
      ],
      "metadata": {
        "colab": {
          "base_uri": "https://localhost:8080/"
        },
        "id": "xlCXC_59JvaM",
        "outputId": "b90e2695-ed06-4168-9a1f-01502b0e7e61"
      },
      "execution_count": 62,
      "outputs": [
        {
          "output_type": "stream",
          "name": "stdout",
          "text": [
            "=============================================\n",
            "\n",
            "Performance Metrics:\n",
            "\n",
            "=============================================\n",
            "accuracy_score:\t\t0.75871\n",
            "\n",
            "_____________________________________________\n",
            "precision_score:\t0.75311\n",
            "\n",
            "_____________________________________________\n",
            "recall_score:\t\t0.75871\n",
            "\n",
            "_____________________________________________\n",
            "f1_score:\t\t0.75419\n",
            "\n",
            "=============================================\n"
          ]
        }
      ]
    },
    {
      "cell_type": "markdown",
      "source": [
        "# **Model 3: Conv1D with character embedding**\n",
        "\n",
        "Approach used:\n",
        "\n",
        "Split the sequences into characters and perform textvectorization on resulting sequence\n",
        "Perform embedding on the sequence obtained from step 1\n",
        "Model structure:\n",
        "\n",
        "Input (character-level text) -> Tokenize -> Embedding -> Layers (Conv1D, GlobalMaxPool1D) -> Output (label probability)\n",
        "\n",
        "**Creating a character-level tokenizer**"
      ],
      "metadata": {
        "id": "PvvMFBpdJ2M2"
      }
    },
    {
      "cell_type": "code",
      "source": [
        "def split_into_characters(text):\n",
        "    \"\"\"Split a given text into individual characters and join them with spaces.\"\"\"\n",
        "    return \" \".join(list(text))\n",
        "\n",
        "# Test the function with a random training sentence\n",
        "resulting_characters = split_into_characters(random_training_sentence)\n",
        "resulting_characters"
      ],
      "metadata": {
        "colab": {
          "base_uri": "https://localhost:8080/",
          "height": 52
        },
        "id": "EoQwq4RJJ_AA",
        "outputId": "747c1ca5-b5d6-4bfa-ec31-634085e80320"
      },
      "execution_count": 63,
      "outputs": [
        {
          "output_type": "execute_result",
          "data": {
            "text/plain": [
              "'T h e   o r d e r   o f   d e v i c e   a p p l i c a t i o n   w a s   r a n d o m l y   p e r m u t e d   .'"
            ],
            "application/vnd.google.colaboratory.intrinsic+json": {
              "type": "string"
            }
          },
          "metadata": {},
          "execution_count": 63
        }
      ]
    },
    {
      "cell_type": "code",
      "source": [
        "# Split the training, validation, and test sets into character-level data\n",
        "train_chars = [split_into_characters(sentence) for sentence in train_sentences]\n",
        "val_chars = [split_into_characters(sentence) for sentence in val_sentences]\n",
        "test_chars = [split_into_characters(sentence) for sentence in test_sentences]\n",
        "print(train_chars[1])"
      ],
      "metadata": {
        "colab": {
          "base_uri": "https://localhost:8080/"
        },
        "id": "l7uiTQ4UKBy6",
        "outputId": "b76c02f4-59dc-4c98-d78d-9acb7427f0b9"
      },
      "execution_count": 64,
      "outputs": [
        {
          "output_type": "stream",
          "name": "stdout",
          "text": [
            "A   t o t a l   o f   1 2 5   p a t i e n t s   w i t h   p r i m a r y   k n e e   O A   w e r e   r a n d o m i z e d   1 : 1   ;   6 3   r e c e i v e d   7 . 5   m g / d a y   o f   p r e d n i s o l o n e   a n d   6 2   r e c e i v e d   p l a c e b o   f o r   6   w e e k s   .\n"
          ]
        }
      ]
    },
    {
      "cell_type": "code",
      "source": [
        "# Calculate the character lengths for each training sentence\n",
        "char_lengths = [len(sentence) for sentence in train_sentences]\n",
        "\n",
        "# Calculate the total sum of character lengths\n",
        "total_char_length = sum(char_lengths)\n",
        "\n",
        "# Calculate the total number of training sentences\n",
        "num_train_sentences = len(char_lengths)\n",
        "\n",
        "# Calculate the average character length\n",
        "average_char_length = total_char_length / num_train_sentences\n",
        "\n",
        "# Display the average character length\n",
        "print(\"Average Character Length in Training Sentences:\", average_char_length)"
      ],
      "metadata": {
        "colab": {
          "base_uri": "https://localhost:8080/"
        },
        "id": "Zy9C9eb9KG7w",
        "outputId": "96f3dd64-e19d-4996-f810-c270d4f8a13d"
      },
      "execution_count": 65,
      "outputs": [
        {
          "output_type": "stream",
          "name": "stdout",
          "text": [
            "Average Character Length in Training Sentences: 152.006276383026\n"
          ]
        }
      ]
    },
    {
      "cell_type": "code",
      "source": [
        "plt.hist(char_lengths,bins =30)   #Checking sequence distribution at character level"
      ],
      "metadata": {
        "colab": {
          "base_uri": "https://localhost:8080/",
          "height": 621
        },
        "id": "fv0m38Y7KKt1",
        "outputId": "dc5a2b9a-e316-44e5-9a85-62336d962040"
      },
      "execution_count": 67,
      "outputs": [
        {
          "output_type": "execute_result",
          "data": {
            "text/plain": [
              "(array([8.7270e+03, 3.8115e+04, 5.1735e+04, 3.8852e+04, 2.2025e+04,\n",
              "        1.1103e+04, 4.9830e+03, 2.2870e+03, 1.0750e+03, 5.2400e+02,\n",
              "        2.6800e+02, 1.4200e+02, 7.9000e+01, 5.3000e+01, 1.5000e+01,\n",
              "        2.3000e+01, 6.0000e+00, 6.0000e+00, 8.0000e+00, 5.0000e+00,\n",
              "        4.0000e+00, 1.0000e+00, 1.0000e+00, 1.0000e+00, 0.0000e+00,\n",
              "        0.0000e+00, 0.0000e+00, 1.0000e+00, 0.0000e+00, 1.0000e+00]),\n",
              " array([   2. ,   50.4,   98.8,  147.2,  195.6,  244. ,  292.4,  340.8,\n",
              "         389.2,  437.6,  486. ,  534.4,  582.8,  631.2,  679.6,  728. ,\n",
              "         776.4,  824.8,  873.2,  921.6,  970. , 1018.4, 1066.8, 1115.2,\n",
              "        1163.6, 1212. , 1260.4, 1308.8, 1357.2, 1405.6, 1454. ]),\n",
              " <BarContainer object of 30 artists>)"
            ]
          },
          "metadata": {},
          "execution_count": 67
        },
        {
          "output_type": "display_data",
          "data": {
            "text/plain": [
              "<Figure size 640x480 with 1 Axes>"
            ],
            "image/png": "[encoded data removed]"
          },
          "metadata": {}
        }
      ]
    },
    {
      "cell_type": "markdown",
      "source": [
        "The majority of sentences are between 0 to 200 characters long as per above histogram"
      ],
      "metadata": {
        "id": "s_ixgF-HKP04"
      }
    },
    {
      "cell_type": "code",
      "source": [
        "output_sequence_character_length = int(np.percentile(char_lengths, 95))# Determine character length which covers 95% of sequences"
      ],
      "metadata": {
        "id": "WP7Do5zMKRJk"
      },
      "execution_count": 68,
      "outputs": []
    },
    {
      "cell_type": "code",
      "source": [
        "output_sequence_character_length"
      ],
      "metadata": {
        "colab": {
          "base_uri": "https://localhost:8080/"
        },
        "id": "9KMTkBvXKVK5",
        "outputId": "71ca7f5a-5380-44b8-9c21-f669312ea69f"
      },
      "execution_count": 69,
      "outputs": [
        {
          "output_type": "execute_result",
          "data": {
            "text/plain": [
              "296"
            ]
          },
          "metadata": {},
          "execution_count": 69
        }
      ]
    },
    {
      "cell_type": "code",
      "source": [
        "max_tokens= 28 # Total no of characters = total no of characters in alphabet+ space+ OOV(out of vocabulary token)"
      ],
      "metadata": {
        "id": "nFve0NKDKaV-"
      },
      "execution_count": 70,
      "outputs": []
    },
    {
      "cell_type": "code",
      "source": [
        "# Create char-level token vectorizer instance\n",
        "char_vectorizer = TextVectorization(max_tokens,\n",
        "                                    output_sequence_length=output_sequence_character_length,\n",
        "                                    standardize=\"lower_and_strip_punctuation\")\n",
        "\n",
        "# Adapt character vectorizer to training characters\n",
        "char_vectorizer.adapt(train_chars)"
      ],
      "metadata": {
        "id": "221uBs3UKbK3"
      },
      "execution_count": 71,
      "outputs": []
    },
    {
      "cell_type": "code",
      "source": [
        "# Check character vocabulary characteristics\n",
        "char_vocab = char_vectorizer.get_vocabulary()\n",
        "print(f\"Total Number of unique characters in vocabulary: {len(char_vocab)}\")"
      ],
      "metadata": {
        "colab": {
          "base_uri": "https://localhost:8080/"
        },
        "id": "x5w-c5yHKhw5",
        "outputId": "3cef3d40-d7d8-498e-b122-91f43fe8b0d0"
      },
      "execution_count": 72,
      "outputs": [
        {
          "output_type": "stream",
          "name": "stdout",
          "text": [
            "Total Number of unique characters in vocabulary: 28\n"
          ]
        }
      ]
    },
    {
      "cell_type": "code",
      "source": [
        "# Validate character vectorizer\n",
        "random_train_chars = random.choice(train_chars)\n",
        "print(f\"Charified text:\\n{random_train_chars}\")\n",
        "print(f\"\\nLength of characters: {len(random_train_chars.split())}\")\n",
        "vectorized_chars = char_vectorizer([random_train_chars])\n",
        "print(f\"\\nVectorized characters:\\n{vectorized_chars}\")\n",
        "print(f\"\\nLength of vectorized characters: {len(vectorized_chars[0])}\")"
      ],
      "metadata": {
        "colab": {
          "base_uri": "https://localhost:8080/"
        },
        "id": "Ye98YvnAKk1K",
        "outputId": "8a2579fa-0052-4732-e551-48e965292a71"
      },
      "execution_count": 73,
      "outputs": [
        {
          "output_type": "stream",
          "name": "stdout",
          "text": [
            "Charified text:\n",
            "Y X S C   s h o w e d   c e r t a i n   e f f e c t   i n   i m p r o v i n g   a c t i v i t i e s   o f   d a i l y   l i f e   ,   a t t e n u a t i n g   t h e   n e u r o l o g i c a l   i m p a i r m e n t   ,   a n d   e l e v a t i n g   t h e   t o t a l   e f f e c t i v e   r a t e   o f   i m p r o v i n g   C h i n e s e   m e d i c a l   s y n d r o m e s   i n   C I   p a t i e n t s   i n   t h e   r e c o v e r y   s t a g e   .\n",
            "\n",
            "Length of characters: 191\n",
            "\n",
            "Vectorized characters:\n",
            "[[19  1  9 11  9 13  7 20  2 10 11  2  8  3  5  4  6  2 17 17  2 11  3  4\n",
            "   6  4 15 14  8  7 21  4  6 18  5 11  3  4 21  4  3  4  2  9  7 17 10  5\n",
            "   4 12 19 12  4 17  2  5  3  3  2  6 16  5  3  4  6 18  3 13  2  6  2 16\n",
            "   8  7 12  7 18  4 11  5 12  4 15 14  5  4  8 15  2  6  3  5  6 10  2 12\n",
            "   2 21  5  3  4  6 18  3 13  2  3  7  3  5 12  2 17 17  2 11  3  4 21  2\n",
            "   8  5  3  2  7 17  4 15 14  8  7 21  4  6 18 11 13  4  6  2  9  2 15  2\n",
            "  10  4 11  5 12  9 19  6 10  8  7 15  2  9  4  6 11  4 14  5  3  4  2  6\n",
            "   3  9  4  6  3 13  2  8  2 11  7 21  2  8 19  9  3  5 18  2  0  0  0  0\n",
            "   0  0  0  0  0  0  0  0  0  0  0  0  0  0  0  0  0  0  0  0  0  0  0  0\n",
            "   0  0  0  0  0  0  0  0  0  0  0  0  0  0  0  0  0  0  0  0  0  0  0  0\n",
            "   0  0  0  0  0  0  0  0  0  0  0  0  0  0  0  0  0  0  0  0  0  0  0  0\n",
            "   0  0  0  0  0  0  0  0  0  0  0  0  0  0  0  0  0  0  0  0  0  0  0  0\n",
            "   0  0  0  0  0  0  0  0]]\n",
            "\n",
            "Length of vectorized characters: 296\n"
          ]
        }
      ]
    },
    {
      "cell_type": "markdown",
      "source": [
        "# **Create a character-level embedding**"
      ],
      "metadata": {
        "id": "nDMa2kQqVutU"
      }
    },
    {
      "cell_type": "code",
      "source": [
        "#Create character embedding\n",
        "#input_dim = no of characters in vocabulary(max tokens)\n",
        "#output dim= referred embedding dimension from Fig 1 of research paper https://arxiv.org/pdf/1612.05251.pdf\n",
        "char_embed = layers.Embedding(input_dim=max_tokens,\n",
        "                              output_dim= 25,\n",
        "                              mask_zero= True)"
      ],
      "metadata": {
        "id": "BmZ5GLgJVw6x"
      },
      "execution_count": 74,
      "outputs": []
    },
    {
      "cell_type": "code",
      "source": [
        "# Validate character embedding layer\n",
        "print(f\"Charified text (before vectorization and embedding):\\n{random_train_chars}\\n\")\n",
        "char_embed_example = char_embed(char_vectorizer([random_train_chars]))\n",
        "print(f\"Embedded chars (after vectorization and embedding):\\n{char_embed_example}\\n\")\n",
        "print(f\"Character embedding shape: {char_embed_example.shape}\")"
      ],
      "metadata": {
        "colab": {
          "base_uri": "https://localhost:8080/"
        },
        "id": "JZ_HJUkOV3OK",
        "outputId": "c7e3718d-7279-49a8-98aa-5050638355b4"
      },
      "execution_count": 75,
      "outputs": [
        {
          "output_type": "stream",
          "name": "stdout",
          "text": [
            "Charified text (before vectorization and embedding):\n",
            "Y X S C   s h o w e d   c e r t a i n   e f f e c t   i n   i m p r o v i n g   a c t i v i t i e s   o f   d a i l y   l i f e   ,   a t t e n u a t i n g   t h e   n e u r o l o g i c a l   i m p a i r m e n t   ,   a n d   e l e v a t i n g   t h e   t o t a l   e f f e c t i v e   r a t e   o f   i m p r o v i n g   C h i n e s e   m e d i c a l   s y n d r o m e s   i n   C I   p a t i e n t s   i n   t h e   r e c o v e r y   s t a g e   .\n",
            "\n",
            "Embedded chars (after vectorization and embedding):\n",
            "[[[-0.02093531  0.00671182  0.0021916  ... -0.03466342  0.02433077\n",
            "   -0.02271155]\n",
            "  [ 0.03272153  0.02536197 -0.03862853 ...  0.04333271  0.0009442\n",
            "    0.02504862]\n",
            "  [-0.02416745 -0.02454358 -0.02292779 ... -0.00117886 -0.01197393\n",
            "    0.00991266]\n",
            "  ...\n",
            "  [ 0.02174388 -0.03911817  0.0217314  ... -0.02202971  0.02371038\n",
            "    0.0303973 ]\n",
            "  [ 0.02174388 -0.03911817  0.0217314  ... -0.02202971  0.02371038\n",
            "    0.0303973 ]\n",
            "  [ 0.02174388 -0.03911817  0.0217314  ... -0.02202971  0.02371038\n",
            "    0.0303973 ]]]\n",
            "\n",
            "Character embedding shape: (1, 296, 25)\n"
          ]
        }
      ]
    },
    {
      "cell_type": "code",
      "source": [
        "# Create TensorFlow datasets for character-level training and validation data\n",
        "train_char_dataset = (\n",
        "    tf.data.Dataset\n",
        "    .from_tensor_slices((train_chars, train_labels_one_hot.toarray())) # Convert to dense NumPy array\n",
        "    .batch(32)\n",
        "    .prefetch(tf.data.AUTOTUNE)\n",
        ")\n",
        "\n",
        "val_char_dataset = (\n",
        "    tf.data.Dataset\n",
        "    .from_tensor_slices((val_chars, val_labels_one_hot.toarray())) # Convert to dense NumPy array\n",
        "    .batch(32)\n",
        "    .prefetch(tf.data.AUTOTUNE)\n",
        ")\n",
        "\n",
        "test_char_dataset = (\n",
        "    tf.data.Dataset\n",
        "    .from_tensor_slices((test_chars, test_labels_one_hot.toarray())) # Convert to dense NumPy array\n",
        "    .batch(32)\n",
        "    .prefetch(tf.data.AUTOTUNE)\n",
        ")\n",
        "\n",
        "\n",
        "\n",
        "\n",
        "#Check training character dataset\n",
        "train_char_dataset"
      ],
      "metadata": {
        "colab": {
          "base_uri": "https://localhost:8080/"
        },
        "id": "_rIkD5T4V7gs",
        "outputId": "af5a5efb-e12b-4bef-8c9c-9192e94f7fd6"
      },
      "execution_count": 76,
      "outputs": [
        {
          "output_type": "execute_result",
          "data": {
            "text/plain": [
              "<_PrefetchDataset element_spec=(TensorSpec(shape=(None,), dtype=tf.string, name=None), TensorSpec(shape=(None, 5), dtype=tf.float64, name=None))>"
            ]
          },
          "metadata": {},
          "execution_count": 76
        }
      ]
    },
    {
      "cell_type": "code",
      "source": [
        "# Define the input layer for character-level data\n",
        "input_layer = tf.keras.layers.Input(shape=(1,), dtype=\"string\")\n",
        "\n",
        "# Apply the character vectorization layer to convert characters to numerical sequences\n",
        "char_vectors = char_vectorizer(input_layer)\n",
        "\n",
        "# Apply the character embedding layer to create dense representations of characters\n",
        "char_embeddings = char_embed(char_vectors)\n",
        "\n",
        "# Apply a 1D convolutional layer\n",
        "conv1d_output = tf.keras.layers.Conv1D(64, kernel_size=5, padding=\"same\", activation=\"relu\")(char_embeddings)\n",
        "\n",
        "# Apply global max pooling to capture key features from the convolutional layer\n",
        "global_max_pooling_output = tf.keras.layers.GlobalMaxPooling1D()(conv1d_output)\n",
        "\n",
        "# Create the output layer with softmax activation for multi-class classification\n",
        "output_layer = tf.keras.layers.Dense(num_classes, activation=\"softmax\")(global_max_pooling_output)\n",
        "\n",
        "# Create the Conv1D character-level model\n",
        "model3 = tf.keras.Model(inputs=input_layer, outputs=output_layer)"
      ],
      "metadata": {
        "colab": {
          "base_uri": "https://localhost:8080/"
        },
        "id": "M0fA0Gr2WPGk",
        "outputId": "a340e36b-30e3-439c-a5f7-c3b472577dca"
      },
      "execution_count": 77,
      "outputs": [
        {
          "output_type": "stream",
          "name": "stderr",
          "text": [
            "/usr/local/lib/python3.11/dist-packages/keras/src/layers/layer.py:938: UserWarning: Layer 'conv1d_1' (of type Conv1D) was passed an input with a mask attached to it. However, this layer does not support masking and will therefore destroy the mask information. Downstream layers will not see the mask.\n",
            "  warnings.warn(\n"
          ]
        }
      ]
    },
    {
      "cell_type": "code",
      "source": [
        "# Compile the model\n",
        "model3.compile(loss=\"categorical_crossentropy\", optimizer=tf.keras.optimizers.Adam(), metrics=[\"accuracy\"])"
      ],
      "metadata": {
        "id": "pSeMbJdWWTsY"
      },
      "execution_count": 78,
      "outputs": []
    },
    {
      "cell_type": "code",
      "source": [
        "# Display the model summary\n",
        "model3.summary()"
      ],
      "metadata": {
        "colab": {
          "base_uri": "https://localhost:8080/",
          "height": 353
        },
        "id": "Ri0W1uBFWVg5",
        "outputId": "a123a25f-91c6-4619-b646-2f0b7154675d"
      },
      "execution_count": 79,
      "outputs": [
        {
          "output_type": "display_data",
          "data": {
            "text/plain": [
              "\u001b[1mModel: \"functional_2\"\u001b[0m\n"
            ],
            "text/html": [
              "<pre style=\"white-space:pre;overflow-x:auto;line-height:normal;font-family:Menlo,'DejaVu Sans Mono',consolas,'Courier New',monospace\"><span style=\"font-weight: bold\">Model: \"functional_2\"</span>\n",
              "</pre>\n"
            ]
          },
          "metadata": {}
        },
        {
          "output_type": "display_data",
          "data": {
            "text/plain": [
              "┏━━━━━━━━━━━━━━━━━━━━━━━━━━━━━━━━━━━━━━┳━━━━━━━━━━━━━━━━━━━━━━━━━━━━━┳━━━━━━━━━━━━━━━━━┓\n",
              "┃\u001b[1m \u001b[0m\u001b[1mLayer (type)                        \u001b[0m\u001b[1m \u001b[0m┃\u001b[1m \u001b[0m\u001b[1mOutput Shape               \u001b[0m\u001b[1m \u001b[0m┃\u001b[1m \u001b[0m\u001b[1m        Param #\u001b[0m\u001b[1m \u001b[0m┃\n",
              "┡━━━━━━━━━━━━━━━━━━━━━━━━━━━━━━━━━━━━━━╇━━━━━━━━━━━━━━━━━━━━━━━━━━━━━╇━━━━━━━━━━━━━━━━━┩\n",
              "│ input_layer_2 (\u001b[38;5;33mInputLayer\u001b[0m)           │ (\u001b[38;5;45mNone\u001b[0m, \u001b[38;5;34m1\u001b[0m)                   │               \u001b[38;5;34m0\u001b[0m │\n",
              "├──────────────────────────────────────┼─────────────────────────────┼─────────────────┤\n",
              "│ text_vectorization_1                 │ (\u001b[38;5;45mNone\u001b[0m, \u001b[38;5;34m296\u001b[0m)                 │               \u001b[38;5;34m0\u001b[0m │\n",
              "│ (\u001b[38;5;33mTextVectorization\u001b[0m)                  │                             │                 │\n",
              "├──────────────────────────────────────┼─────────────────────────────┼─────────────────┤\n",
              "│ embedding_1 (\u001b[38;5;33mEmbedding\u001b[0m)              │ (\u001b[38;5;45mNone\u001b[0m, \u001b[38;5;34m296\u001b[0m, \u001b[38;5;34m25\u001b[0m)             │             \u001b[38;5;34m700\u001b[0m │\n",
              "├──────────────────────────────────────┼─────────────────────────────┼─────────────────┤\n",
              "│ conv1d_1 (\u001b[38;5;33mConv1D\u001b[0m)                    │ (\u001b[38;5;45mNone\u001b[0m, \u001b[38;5;34m296\u001b[0m, \u001b[38;5;34m64\u001b[0m)             │           \u001b[38;5;34m8,064\u001b[0m │\n",
              "├──────────────────────────────────────┼─────────────────────────────┼─────────────────┤\n",
              "│ global_max_pooling1d_1               │ (\u001b[38;5;45mNone\u001b[0m, \u001b[38;5;34m64\u001b[0m)                  │               \u001b[38;5;34m0\u001b[0m │\n",
              "│ (\u001b[38;5;33mGlobalMaxPooling1D\u001b[0m)                 │                             │                 │\n",
              "├──────────────────────────────────────┼─────────────────────────────┼─────────────────┤\n",
              "│ dense_3 (\u001b[38;5;33mDense\u001b[0m)                      │ (\u001b[38;5;45mNone\u001b[0m, \u001b[38;5;34m5\u001b[0m)                   │             \u001b[38;5;34m325\u001b[0m │\n",
              "└──────────────────────────────────────┴─────────────────────────────┴─────────────────┘\n"
            ],
            "text/html": [
              "<pre style=\"white-space:pre;overflow-x:auto;line-height:normal;font-family:Menlo,'DejaVu Sans Mono',consolas,'Courier New',monospace\">┏━━━━━━━━━━━━━━━━━━━━━━━━━━━━━━━━━━━━━━┳━━━━━━━━━━━━━━━━━━━━━━━━━━━━━┳━━━━━━━━━━━━━━━━━┓\n",
              "┃<span style=\"font-weight: bold\"> Layer (type)                         </span>┃<span style=\"font-weight: bold\"> Output Shape                </span>┃<span style=\"font-weight: bold\">         Param # </span>┃\n",
              "┡━━━━━━━━━━━━━━━━━━━━━━━━━━━━━━━━━━━━━━╇━━━━━━━━━━━━━━━━━━━━━━━━━━━━━╇━━━━━━━━━━━━━━━━━┩\n",
              "│ input_layer_2 (<span style=\"color: #0087ff; text-decoration-color: #0087ff\">InputLayer</span>)           │ (<span style=\"color: #00d7ff; text-decoration-color: #00d7ff\">None</span>, <span style=\"color: #00af00; text-decoration-color: #00af00\">1</span>)                   │               <span style=\"color: #00af00; text-decoration-color: #00af00\">0</span> │\n",
              "├──────────────────────────────────────┼─────────────────────────────┼─────────────────┤\n",
              "│ text_vectorization_1                 │ (<span style=\"color: #00d7ff; text-decoration-color: #00d7ff\">None</span>, <span style=\"color: #00af00; text-decoration-color: #00af00\">296</span>)                 │               <span style=\"color: #00af00; text-decoration-color: #00af00\">0</span> │\n",
              "│ (<span style=\"color: #0087ff; text-decoration-color: #0087ff\">TextVectorization</span>)                  │                             │                 │\n",
              "├──────────────────────────────────────┼─────────────────────────────┼─────────────────┤\n",
              "│ embedding_1 (<span style=\"color: #0087ff; text-decoration-color: #0087ff\">Embedding</span>)              │ (<span style=\"color: #00d7ff; text-decoration-color: #00d7ff\">None</span>, <span style=\"color: #00af00; text-decoration-color: #00af00\">296</span>, <span style=\"color: #00af00; text-decoration-color: #00af00\">25</span>)             │             <span style=\"color: #00af00; text-decoration-color: #00af00\">700</span> │\n",
              "├──────────────────────────────────────┼─────────────────────────────┼─────────────────┤\n",
              "│ conv1d_1 (<span style=\"color: #0087ff; text-decoration-color: #0087ff\">Conv1D</span>)                    │ (<span style=\"color: #00d7ff; text-decoration-color: #00d7ff\">None</span>, <span style=\"color: #00af00; text-decoration-color: #00af00\">296</span>, <span style=\"color: #00af00; text-decoration-color: #00af00\">64</span>)             │           <span style=\"color: #00af00; text-decoration-color: #00af00\">8,064</span> │\n",
              "├──────────────────────────────────────┼─────────────────────────────┼─────────────────┤\n",
              "│ global_max_pooling1d_1               │ (<span style=\"color: #00d7ff; text-decoration-color: #00d7ff\">None</span>, <span style=\"color: #00af00; text-decoration-color: #00af00\">64</span>)                  │               <span style=\"color: #00af00; text-decoration-color: #00af00\">0</span> │\n",
              "│ (<span style=\"color: #0087ff; text-decoration-color: #0087ff\">GlobalMaxPooling1D</span>)                 │                             │                 │\n",
              "├──────────────────────────────────────┼─────────────────────────────┼─────────────────┤\n",
              "│ dense_3 (<span style=\"color: #0087ff; text-decoration-color: #0087ff\">Dense</span>)                      │ (<span style=\"color: #00d7ff; text-decoration-color: #00d7ff\">None</span>, <span style=\"color: #00af00; text-decoration-color: #00af00\">5</span>)                   │             <span style=\"color: #00af00; text-decoration-color: #00af00\">325</span> │\n",
              "└──────────────────────────────────────┴─────────────────────────────┴─────────────────┘\n",
              "</pre>\n"
            ]
          },
          "metadata": {}
        },
        {
          "output_type": "display_data",
          "data": {
            "text/plain": [
              "\u001b[1m Total params: \u001b[0m\u001b[38;5;34m9,089\u001b[0m (35.50 KB)\n"
            ],
            "text/html": [
              "<pre style=\"white-space:pre;overflow-x:auto;line-height:normal;font-family:Menlo,'DejaVu Sans Mono',consolas,'Courier New',monospace\"><span style=\"font-weight: bold\"> Total params: </span><span style=\"color: #00af00; text-decoration-color: #00af00\">9,089</span> (35.50 KB)\n",
              "</pre>\n"
            ]
          },
          "metadata": {}
        },
        {
          "output_type": "display_data",
          "data": {
            "text/plain": [
              "\u001b[1m Trainable params: \u001b[0m\u001b[38;5;34m9,089\u001b[0m (35.50 KB)\n"
            ],
            "text/html": [
              "<pre style=\"white-space:pre;overflow-x:auto;line-height:normal;font-family:Menlo,'DejaVu Sans Mono',consolas,'Courier New',monospace\"><span style=\"font-weight: bold\"> Trainable params: </span><span style=\"color: #00af00; text-decoration-color: #00af00\">9,089</span> (35.50 KB)\n",
              "</pre>\n"
            ]
          },
          "metadata": {}
        },
        {
          "output_type": "display_data",
          "data": {
            "text/plain": [
              "\u001b[1m Non-trainable params: \u001b[0m\u001b[38;5;34m0\u001b[0m (0.00 B)\n"
            ],
            "text/html": [
              "<pre style=\"white-space:pre;overflow-x:auto;line-height:normal;font-family:Menlo,'DejaVu Sans Mono',consolas,'Courier New',monospace\"><span style=\"font-weight: bold\"> Non-trainable params: </span><span style=\"color: #00af00; text-decoration-color: #00af00\">0</span> (0.00 B)\n",
              "</pre>\n"
            ]
          },
          "metadata": {}
        }
      ]
    },
    {
      "cell_type": "code",
      "source": [
        "# Fit the model\n",
        "model3_history = model3.fit(train_char_dataset,\n",
        "                              steps_per_epoch=int(0.1 * len(train_char_dataset)),\n",
        "                              epochs=10,\n",
        "                              validation_data=val_char_dataset,\n",
        "                              validation_steps=int(0.1 * len(val_char_dataset)))"
      ],
      "metadata": {
        "colab": {
          "base_uri": "https://localhost:8080/"
        },
        "id": "TeXm3vLSWbPa",
        "outputId": "1ddd65b4-4e53-4acc-c713-7eb6c16b43c2"
      },
      "execution_count": 80,
      "outputs": [
        {
          "output_type": "stream",
          "name": "stdout",
          "text": [
            "Epoch 1/10\n",
            "\u001b[1m562/562\u001b[0m \u001b[32m━━━━━━━━━━━━━━━━━━━━\u001b[0m\u001b[37m\u001b[0m \u001b[1m16s\u001b[0m 25ms/step - accuracy: 0.4314 - loss: 1.3773 - val_accuracy: 0.6263 - val_loss: 0.9834\n",
            "Epoch 2/10\n",
            "\u001b[1m562/562\u001b[0m \u001b[32m━━━━━━━━━━━━━━━━━━━━\u001b[0m\u001b[37m\u001b[0m \u001b[1m13s\u001b[0m 23ms/step - accuracy: 0.6207 - loss: 0.9622 - val_accuracy: 0.6672 - val_loss: 0.8761\n",
            "Epoch 3/10\n",
            "\u001b[1m562/562\u001b[0m \u001b[32m━━━━━━━━━━━━━━━━━━━━\u001b[0m\u001b[37m\u001b[0m \u001b[1m20s\u001b[0m 36ms/step - accuracy: 0.6601 - loss: 0.8716 - val_accuracy: 0.6981 - val_loss: 0.8102\n",
            "Epoch 4/10\n",
            "\u001b[1m562/562\u001b[0m \u001b[32m━━━━━━━━━━━━━━━━━━━━\u001b[0m\u001b[37m\u001b[0m \u001b[1m20s\u001b[0m 36ms/step - accuracy: 0.6764 - loss: 0.8218 - val_accuracy: 0.6968 - val_loss: 0.7870\n",
            "Epoch 5/10\n",
            "\u001b[1m562/562\u001b[0m \u001b[32m━━━━━━━━━━━━━━━━━━━━\u001b[0m\u001b[37m\u001b[0m \u001b[1m13s\u001b[0m 23ms/step - accuracy: 0.6905 - loss: 0.7921 - val_accuracy: 0.7154 - val_loss: 0.7544\n",
            "Epoch 6/10\n",
            "\u001b[1m562/562\u001b[0m \u001b[32m━━━━━━━━━━━━━━━━━━━━\u001b[0m\u001b[37m\u001b[0m \u001b[1m13s\u001b[0m 23ms/step - accuracy: 0.6943 - loss: 0.7842 - val_accuracy: 0.7124 - val_loss: 0.7396\n",
            "Epoch 7/10\n",
            "\u001b[1m562/562\u001b[0m \u001b[32m━━━━━━━━━━━━━━━━━━━━\u001b[0m\u001b[37m\u001b[0m \u001b[1m20s\u001b[0m 36ms/step - accuracy: 0.7030 - loss: 0.7586 - val_accuracy: 0.7231 - val_loss: 0.7281\n",
            "Epoch 8/10\n",
            "\u001b[1m562/562\u001b[0m \u001b[32m━━━━━━━━━━━━━━━━━━━━\u001b[0m\u001b[37m\u001b[0m \u001b[1m20s\u001b[0m 36ms/step - accuracy: 0.7131 - loss: 0.7398 - val_accuracy: 0.7291 - val_loss: 0.7141\n",
            "Epoch 9/10\n",
            "\u001b[1m562/562\u001b[0m \u001b[32m━━━━━━━━━━━━━━━━━━━━\u001b[0m\u001b[37m\u001b[0m \u001b[1m21s\u001b[0m 37ms/step - accuracy: 0.7231 - loss: 0.7291 - val_accuracy: 0.7271 - val_loss: 0.7274\n",
            "Epoch 10/10\n",
            "\u001b[1m562/562\u001b[0m \u001b[32m━━━━━━━━━━━━━━━━━━━━\u001b[0m\u001b[37m\u001b[0m \u001b[1m13s\u001b[0m 23ms/step - accuracy: 0.7112 - loss: 0.7369 - val_accuracy: 0.7400 - val_loss: 0.6889\n"
          ]
        }
      ]
    },
    {
      "cell_type": "code",
      "source": [
        "# Evaluate model on entire validation dataset\n",
        "model3.evaluate(val_char_dataset)"
      ],
      "metadata": {
        "colab": {
          "base_uri": "https://localhost:8080/"
        },
        "id": "OylBo-QrWfsK",
        "outputId": "351221ed-d0b4-446f-a2e5-399bbefdf408"
      },
      "execution_count": 81,
      "outputs": [
        {
          "output_type": "stream",
          "name": "stdout",
          "text": [
            "\u001b[1m945/945\u001b[0m \u001b[32m━━━━━━━━━━━━━━━━━━━━\u001b[0m\u001b[37m\u001b[0m \u001b[1m8s\u001b[0m 9ms/step - accuracy: 0.7333 - loss: 0.6968\n"
          ]
        },
        {
          "output_type": "execute_result",
          "data": {
            "text/plain": [
              "[0.7048512697219849, 0.7311002016067505]"
            ]
          },
          "metadata": {},
          "execution_count": 81
        }
      ]
    },
    {
      "cell_type": "code",
      "source": [
        "# Make predictions\n",
        "model3_prediction_probablities = model3.predict(val_char_dataset)\n",
        "model3_prediction_probablities"
      ],
      "metadata": {
        "colab": {
          "base_uri": "https://localhost:8080/"
        },
        "id": "8jV5TuGmWgb-",
        "outputId": "a9e298e6-9096-48db-b064-447810e0edce"
      },
      "execution_count": 82,
      "outputs": [
        {
          "output_type": "stream",
          "name": "stdout",
          "text": [
            "\u001b[1m945/945\u001b[0m \u001b[32m━━━━━━━━━━━━━━━━━━━━\u001b[0m\u001b[37m\u001b[0m \u001b[1m8s\u001b[0m 8ms/step\n"
          ]
        },
        {
          "output_type": "execute_result",
          "data": {
            "text/plain": [
              "array([[0.2391374 , 0.3585858 , 0.01289113, 0.381088  , 0.00829769],\n",
              "       [0.38624802, 0.475269  , 0.00419593, 0.12189395, 0.01239317],\n",
              "       [0.165751  , 0.14503023, 0.04248236, 0.6363769 , 0.0103596 ],\n",
              "       ...,\n",
              "       [0.00370582, 0.01493251, 0.05673016, 0.00336149, 0.9212701 ],\n",
              "       [0.01988165, 0.10650311, 0.4756633 , 0.05443092, 0.34352103],\n",
              "       [0.1970834 , 0.7633834 , 0.0230916 , 0.01459533, 0.00184622]],\n",
              "      dtype=float32)"
            ]
          },
          "metadata": {},
          "execution_count": 82
        }
      ]
    },
    {
      "cell_type": "code",
      "source": [
        "# Convert predictions to classes\n",
        "model3_predictions = tf.argmax(model3_prediction_probablities, axis=1)\n",
        "model3_predictions"
      ],
      "metadata": {
        "colab": {
          "base_uri": "https://localhost:8080/"
        },
        "id": "6cn300cEWmjK",
        "outputId": "8277f287-9204-48d7-92aa-05ae429a763a"
      },
      "execution_count": 83,
      "outputs": [
        {
          "output_type": "execute_result",
          "data": {
            "text/plain": [
              "<tf.Tensor: shape=(30212,), dtype=int64, numpy=array([3, 1, 3, ..., 4, 2, 1])>"
            ]
          },
          "metadata": {},
          "execution_count": 83
        }
      ]
    },
    {
      "cell_type": "markdown",
      "source": [
        "**Model_3 Results**"
      ],
      "metadata": {
        "id": "QxJ_qRNLWpob"
      }
    },
    {
      "cell_type": "code",
      "source": [
        "model3_results= generate_performance_scores(val_labels_encoded, model3_predictions)"
      ],
      "metadata": {
        "colab": {
          "base_uri": "https://localhost:8080/"
        },
        "id": "cxcceW1iWoWR",
        "outputId": "5582e8c6-ecb1-4515-e0d0-3fb4946af04b"
      },
      "execution_count": 84,
      "outputs": [
        {
          "output_type": "stream",
          "name": "stdout",
          "text": [
            "=============================================\n",
            "\n",
            "Performance Metrics:\n",
            "\n",
            "=============================================\n",
            "accuracy_score:\t\t0.7311\n",
            "\n",
            "_____________________________________________\n",
            "precision_score:\t0.72606\n",
            "\n",
            "_____________________________________________\n",
            "recall_score:\t\t0.7311\n",
            "\n",
            "_____________________________________________\n",
            "f1_score:\t\t0.72663\n",
            "\n",
            "=============================================\n"
          ]
        }
      ]
    },
    {
      "cell_type": "markdown",
      "source": [
        "# **Comparison of Model Results on Validation set**"
      ],
      "metadata": {
        "id": "joJ9ppDeW0if"
      }
    },
    {
      "cell_type": "code",
      "source": [
        "# Combine validation model results into a DataFrame\n",
        "combined_validation_model_results = pd.DataFrame({\"Naïve Bayes with TF-IDF encoder baseline\": model_0_results,\n",
        "                                  \"Conv1D with token embedding\": model1_results,\n",
        "                                  \"pretrained feature extractor\": model2_feature_extractor_model_results,\n",
        "                                  \"Conv1D with character embedding\": model3_results})\n",
        "combined_validation_model_results = combined_validation_model_results.transpose()\n",
        "combined_validation_model_results"
      ],
      "metadata": {
        "colab": {
          "base_uri": "https://localhost:8080/",
          "height": 174
        },
        "id": "0Xs0-8zeW7CC",
        "outputId": "4736ac29-9c34-443d-bf23-bba8d9556b61"
      },
      "execution_count": 85,
      "outputs": [
        {
          "output_type": "execute_result",
          "data": {
            "text/plain": [
              "                                          accuracy  precision   recall  \\\n",
              "Naïve Bayes with TF-IDF encoder baseline   0.73173    0.73152  0.73173   \n",
              "Conv1D with token embedding                0.82768    0.82538  0.82768   \n",
              "pretrained feature extractor               0.75871    0.75311  0.75871   \n",
              "Conv1D with character embedding            0.73110    0.72606  0.73110   \n",
              "\n",
              "                                               f1  \n",
              "Naïve Bayes with TF-IDF encoder baseline  0.70581  \n",
              "Conv1D with token embedding               0.82483  \n",
              "pretrained feature extractor              0.75419  \n",
              "Conv1D with character embedding           0.72663  "
            ],
            "text/html": [
              "\n",
              "  <div id=\"df-f6831685-37bb-4350-9b2f-9104315281d6\" class=\"colab-df-container\">\n",
              "    <div>\n",
              "<style scoped>\n",
              "    .dataframe tbody tr th:only-of-type {\n",
              "        vertical-align: middle;\n",
              "    }\n",
              "\n",
              "    .dataframe tbody tr th {\n",
              "        vertical-align: top;\n",
              "    }\n",
              "\n",
              "    .dataframe thead th {\n",
              "        text-align: right;\n",
              "    }\n",
              "</style>\n",
              "<table border=\"1\" class=\"dataframe\">\n",
              "  <thead>\n",
              "    <tr style=\"text-align: right;\">\n",
              "      <th></th>\n",
              "      <th>accuracy</th>\n",
              "      <th>precision</th>\n",
              "      <th>recall</th>\n",
              "      <th>f1</th>\n",
              "    </tr>\n",
              "  </thead>\n",
              "  <tbody>\n",
              "    <tr>\n",
              "      <th>Naïve Bayes with TF-IDF encoder baseline</th>\n",
              "      <td>0.73173</td>\n",
              "      <td>0.73152</td>\n",
              "      <td>0.73173</td>\n",
              "      <td>0.70581</td>\n",
              "    </tr>\n",
              "    <tr>\n",
              "      <th>Conv1D with token embedding</th>\n",
              "      <td>0.82768</td>\n",
              "      <td>0.82538</td>\n",
              "      <td>0.82768</td>\n",
              "      <td>0.82483</td>\n",
              "    </tr>\n",
              "    <tr>\n",
              "      <th>pretrained feature extractor</th>\n",
              "      <td>0.75871</td>\n",
              "      <td>0.75311</td>\n",
              "      <td>0.75871</td>\n",
              "      <td>0.75419</td>\n",
              "    </tr>\n",
              "    <tr>\n",
              "      <th>Conv1D with character embedding</th>\n",
              "      <td>0.73110</td>\n",
              "      <td>0.72606</td>\n",
              "      <td>0.73110</td>\n",
              "      <td>0.72663</td>\n",
              "    </tr>\n",
              "  </tbody>\n",
              "</table>\n",
              "</div>\n",
              "    <div class=\"colab-df-buttons\">\n",
              "\n",
              "  <div class=\"colab-df-container\">\n",
              "    <button class=\"colab-df-convert\" onclick=\"convertToInteractive('df-f6831685-37bb-4350-9b2f-9104315281d6')\"\n",
              "            title=\"Convert this dataframe to an interactive table.\"\n",
              "            style=\"display:none;\">\n",
              "\n",
              "  <svg xmlns=\"http://www.w3.org/2000/svg\" height=\"24px\" viewBox=\"0 -960 960 960\">\n",
              "    <path d=\"M120-120v-720h720v720H120Zm60-500h600v-160H180v160Zm220 220h160v-160H400v160Zm0 220h160v-160H400v160ZM180-400h160v-160H180v160Zm440 0h160v-160H620v160ZM180-180h160v-160H180v160Zm440 0h160v-160H620v160Z\"/>\n",
              "  </svg>\n",
              "    </button>\n",
              "\n",
              "  <style>\n",
              "    .colab-df-container {\n",
              "      display:flex;\n",
              "      gap: 12px;\n",
              "    }\n",
              "\n",
              "    .colab-df-convert {\n",
              "      background-color: #E8F0FE;\n",
              "      border: none;\n",
              "      border-radius: 50%;\n",
              "      cursor: pointer;\n",
              "      display: none;\n",
              "      fill: #1967D2;\n",
              "      height: 32px;\n",
              "      padding: 0 0 0 0;\n",
              "      width: 32px;\n",
              "    }\n",
              "\n",
              "    .colab-df-convert:hover {\n",
              "      background-color: #E2EBFA;\n",
              "      box-shadow: 0px 1px 2px rgba(60, 64, 67, 0.3), 0px 1px 3px 1px rgba(60, 64, 67, 0.15);\n",
              "      fill: #174EA6;\n",
              "    }\n",
              "\n",
              "    .colab-df-buttons div {\n",
              "      margin-bottom: 4px;\n",
              "    }\n",
              "\n",
              "    [theme=dark] .colab-df-convert {\n",
              "      background-color: #3B4455;\n",
              "      fill: #D2E3FC;\n",
              "    }\n",
              "\n",
              "    [theme=dark] .colab-df-convert:hover {\n",
              "      background-color: #434B5C;\n",
              "      box-shadow: 0px 1px 3px 1px rgba(0, 0, 0, 0.15);\n",
              "      filter: drop-shadow(0px 1px 2px rgba(0, 0, 0, 0.3));\n",
              "      fill: #FFFFFF;\n",
              "    }\n",
              "  </style>\n",
              "\n",
              "    <script>\n",
              "      const buttonEl =\n",
              "        document.querySelector('#df-f6831685-37bb-4350-9b2f-9104315281d6 button.colab-df-convert');\n",
              "      buttonEl.style.display =\n",
              "        google.colab.kernel.accessAllowed ? 'block' : 'none';\n",
              "\n",
              "      async function convertToInteractive(key) {\n",
              "        const element = document.querySelector('#df-f6831685-37bb-4350-9b2f-9104315281d6');\n",
              "        const dataTable =\n",
              "          await google.colab.kernel.invokeFunction('convertToInteractive',\n",
              "                                                    [key], {});\n",
              "        if (!dataTable) return;\n",
              "\n",
              "        const docLinkHtml = 'Like what you see? Visit the ' +\n",
              "          '<a target=\"_blank\" href=https://colab.research.google.com/notebooks/data_table.ipynb>data table notebook</a>'\n",
              "          + ' to learn more about interactive tables.';\n",
              "        element.innerHTML = '';\n",
              "        dataTable['output_type'] = 'display_data';\n",
              "        await google.colab.output.renderOutput(dataTable, element);\n",
              "        const docLink = document.createElement('div');\n",
              "        docLink.innerHTML = docLinkHtml;\n",
              "        element.appendChild(docLink);\n",
              "      }\n",
              "    </script>\n",
              "  </div>\n",
              "\n",
              "\n",
              "<div id=\"df-492e492a-a73f-4173-b5ce-d800f6d8f6cb\">\n",
              "  <button class=\"colab-df-quickchart\" onclick=\"quickchart('df-492e492a-a73f-4173-b5ce-d800f6d8f6cb')\"\n",
              "            title=\"Suggest charts\"\n",
              "            style=\"display:none;\">\n",
              "\n",
              "<svg xmlns=\"http://www.w3.org/2000/svg\" height=\"24px\"viewBox=\"0 0 24 24\"\n",
              "     width=\"24px\">\n",
              "    <g>\n",
              "        <path d=\"M19 3H5c-1.1 0-2 .9-2 2v14c0 1.1.9 2 2 2h14c1.1 0 2-.9 2-2V5c0-1.1-.9-2-2-2zM9 17H7v-7h2v7zm4 0h-2V7h2v10zm4 0h-2v-4h2v4z\"/>\n",
              "    </g>\n",
              "</svg>\n",
              "  </button>\n",
              "\n",
              "<style>\n",
              "  .colab-df-quickchart {\n",
              "      --bg-color: #E8F0FE;\n",
              "      --fill-color: #1967D2;\n",
              "      --hover-bg-color: #E2EBFA;\n",
              "      --hover-fill-color: #174EA6;\n",
              "      --disabled-fill-color: #AAA;\n",
              "      --disabled-bg-color: #DDD;\n",
              "  }\n",
              "\n",
              "  [theme=dark] .colab-df-quickchart {\n",
              "      --bg-color: #3B4455;\n",
              "      --fill-color: #D2E3FC;\n",
              "      --hover-bg-color: #434B5C;\n",
              "      --hover-fill-color: #FFFFFF;\n",
              "      --disabled-bg-color: #3B4455;\n",
              "      --disabled-fill-color: #666;\n",
              "  }\n",
              "\n",
              "  .colab-df-quickchart {\n",
              "    background-color: var(--bg-color);\n",
              "    border: none;\n",
              "    border-radius: 50%;\n",
              "    cursor: pointer;\n",
              "    display: none;\n",
              "    fill: var(--fill-color);\n",
              "    height: 32px;\n",
              "    padding: 0;\n",
              "    width: 32px;\n",
              "  }\n",
              "\n",
              "  .colab-df-quickchart:hover {\n",
              "    background-color: var(--hover-bg-color);\n",
              "    box-shadow: 0 1px 2px rgba(60, 64, 67, 0.3), 0 1px 3px 1px rgba(60, 64, 67, 0.15);\n",
              "    fill: var(--button-hover-fill-color);\n",
              "  }\n",
              "\n",
              "  .colab-df-quickchart-complete:disabled,\n",
              "  .colab-df-quickchart-complete:disabled:hover {\n",
              "    background-color: var(--disabled-bg-color);\n",
              "    fill: var(--disabled-fill-color);\n",
              "    box-shadow: none;\n",
              "  }\n",
              "\n",
              "  .colab-df-spinner {\n",
              "    border: 2px solid var(--fill-color);\n",
              "    border-color: transparent;\n",
              "    border-bottom-color: var(--fill-color);\n",
              "    animation:\n",
              "      spin 1s steps(1) infinite;\n",
              "  }\n",
              "\n",
              "  @keyframes spin {\n",
              "    0% {\n",
              "      border-color: transparent;\n",
              "      border-bottom-color: var(--fill-color);\n",
              "      border-left-color: var(--fill-color);\n",
              "    }\n",
              "    20% {\n",
              "      border-color: transparent;\n",
              "      border-left-color: var(--fill-color);\n",
              "      border-top-color: var(--fill-color);\n",
              "    }\n",
              "    30% {\n",
              "      border-color: transparent;\n",
              "      border-left-color: var(--fill-color);\n",
              "      border-top-color: var(--fill-color);\n",
              "      border-right-color: var(--fill-color);\n",
              "    }\n",
              "    40% {\n",
              "      border-color: transparent;\n",
              "      border-right-color: var(--fill-color);\n",
              "      border-top-color: var(--fill-color);\n",
              "    }\n",
              "    60% {\n",
              "      border-color: transparent;\n",
              "      border-right-color: var(--fill-color);\n",
              "    }\n",
              "    80% {\n",
              "      border-color: transparent;\n",
              "      border-right-color: var(--fill-color);\n",
              "      border-bottom-color: var(--fill-color);\n",
              "    }\n",
              "    90% {\n",
              "      border-color: transparent;\n",
              "      border-bottom-color: var(--fill-color);\n",
              "    }\n",
              "  }\n",
              "</style>\n",
              "\n",
              "  <script>\n",
              "    async function quickchart(key) {\n",
              "      const quickchartButtonEl =\n",
              "        document.querySelector('#' + key + ' button');\n",
              "      quickchartButtonEl.disabled = true;  // To prevent multiple clicks.\n",
              "      quickchartButtonEl.classList.add('colab-df-spinner');\n",
              "      try {\n",
              "        const charts = await google.colab.kernel.invokeFunction(\n",
              "            'suggestCharts', [key], {});\n",
              "      } catch (error) {\n",
              "        console.error('Error during call to suggestCharts:', error);\n",
              "      }\n",
              "      quickchartButtonEl.classList.remove('colab-df-spinner');\n",
              "      quickchartButtonEl.classList.add('colab-df-quickchart-complete');\n",
              "    }\n",
              "    (() => {\n",
              "      let quickchartButtonEl =\n",
              "        document.querySelector('#df-492e492a-a73f-4173-b5ce-d800f6d8f6cb button');\n",
              "      quickchartButtonEl.style.display =\n",
              "        google.colab.kernel.accessAllowed ? 'block' : 'none';\n",
              "    })();\n",
              "  </script>\n",
              "</div>\n",
              "\n",
              "  <div id=\"id_eed28f17-8a1d-4480-aa66-b87d2ab9d2d0\">\n",
              "    <style>\n",
              "      .colab-df-generate {\n",
              "        background-color: #E8F0FE;\n",
              "        border: none;\n",
              "        border-radius: 50%;\n",
              "        cursor: pointer;\n",
              "        display: none;\n",
              "        fill: #1967D2;\n",
              "        height: 32px;\n",
              "        padding: 0 0 0 0;\n",
              "        width: 32px;\n",
              "      }\n",
              "\n",
              "      .colab-df-generate:hover {\n",
              "        background-color: #E2EBFA;\n",
              "        box-shadow: 0px 1px 2px rgba(60, 64, 67, 0.3), 0px 1px 3px 1px rgba(60, 64, 67, 0.15);\n",
              "        fill: #174EA6;\n",
              "      }\n",
              "\n",
              "      [theme=dark] .colab-df-generate {\n",
              "        background-color: #3B4455;\n",
              "        fill: #D2E3FC;\n",
              "      }\n",
              "\n",
              "      [theme=dark] .colab-df-generate:hover {\n",
              "        background-color: #434B5C;\n",
              "        box-shadow: 0px 1px 3px 1px rgba(0, 0, 0, 0.15);\n",
              "        filter: drop-shadow(0px 1px 2px rgba(0, 0, 0, 0.3));\n",
              "        fill: #FFFFFF;\n",
              "      }\n",
              "    </style>\n",
              "    <button class=\"colab-df-generate\" onclick=\"generateWithVariable('combined_validation_model_results')\"\n",
              "            title=\"Generate code using this dataframe.\"\n",
              "            style=\"display:none;\">\n",
              "\n",
              "  <svg xmlns=\"http://www.w3.org/2000/svg\" height=\"24px\"viewBox=\"0 0 24 24\"\n",
              "       width=\"24px\">\n",
              "    <path d=\"M7,19H8.4L18.45,9,17,7.55,7,17.6ZM5,21V16.75L18.45,3.32a2,2,0,0,1,2.83,0l1.4,1.43a1.91,1.91,0,0,1,.58,1.4,1.91,1.91,0,0,1-.58,1.4L9.25,21ZM18.45,9,17,7.55Zm-12,3A5.31,5.31,0,0,0,4.9,8.1,5.31,5.31,0,0,0,1,6.5,5.31,5.31,0,0,0,4.9,4.9,5.31,5.31,0,0,0,6.5,1,5.31,5.31,0,0,0,8.1,4.9,5.31,5.31,0,0,0,12,6.5,5.46,5.46,0,0,0,6.5,12Z\"/>\n",
              "  </svg>\n",
              "    </button>\n",
              "    <script>\n",
              "      (() => {\n",
              "      const buttonEl =\n",
              "        document.querySelector('#id_eed28f17-8a1d-4480-aa66-b87d2ab9d2d0 button.colab-df-generate');\n",
              "      buttonEl.style.display =\n",
              "        google.colab.kernel.accessAllowed ? 'block' : 'none';\n",
              "\n",
              "      buttonEl.onclick = () => {\n",
              "        google.colab.notebook.generateWithVariable('combined_validation_model_results');\n",
              "      }\n",
              "      })();\n",
              "    </script>\n",
              "  </div>\n",
              "\n",
              "    </div>\n",
              "  </div>\n"
            ],
            "application/vnd.google.colaboratory.intrinsic+json": {
              "type": "dataframe",
              "variable_name": "combined_validation_model_results",
              "summary": "{\n  \"name\": \"combined_validation_model_results\",\n  \"rows\": 4,\n  \"fields\": [\n    {\n      \"column\": \"accuracy\",\n      \"properties\": {\n        \"dtype\": \"number\",\n        \"std\": 0.045443728206798054,\n        \"min\": 0.7311,\n        \"max\": 0.82768,\n        \"num_unique_values\": 4,\n        \"samples\": [\n          0.82768,\n          0.7311,\n          0.73173\n        ],\n        \"semantic_type\": \"\",\n        \"description\": \"\"\n      }\n    },\n    {\n      \"column\": \"precision\",\n      \"properties\": {\n        \"dtype\": \"number\",\n        \"std\": 0.04575729185969526,\n        \"min\": 0.72606,\n        \"max\": 0.82538,\n        \"num_unique_values\": 4,\n        \"samples\": [\n          0.82538,\n          0.72606,\n          0.73152\n        ],\n        \"semantic_type\": \"\",\n        \"description\": \"\"\n      }\n    },\n    {\n      \"column\": \"recall\",\n      \"properties\": {\n        \"dtype\": \"number\",\n        \"std\": 0.045443728206798054,\n        \"min\": 0.7311,\n        \"max\": 0.82768,\n        \"num_unique_values\": 4,\n        \"samples\": [\n          0.82768,\n          0.7311,\n          0.73173\n        ],\n        \"semantic_type\": \"\",\n        \"description\": \"\"\n      }\n    },\n    {\n      \"column\": \"f1\",\n      \"properties\": {\n        \"dtype\": \"number\",\n        \"std\": 0.0519074981738348,\n        \"min\": 0.70581,\n        \"max\": 0.82483,\n        \"num_unique_values\": 4,\n        \"samples\": [\n          0.82483,\n          0.72663,\n          0.70581\n        ],\n        \"semantic_type\": \"\",\n        \"description\": \"\"\n      }\n    }\n  ]\n}"
            }
          },
          "metadata": {},
          "execution_count": 85
        }
      ]
    },
    {
      "cell_type": "code",
      "source": [
        "# Plot the combined model results as a bar chart\n",
        "ax = combined_validation_model_results.plot(kind=\"bar\", figsize=(10, 8))\n",
        "\n",
        "# Add a legend to the upper right corner\n",
        "ax.legend(loc=\"upper right\")\n",
        "\n",
        "# Show the plot\n",
        "plt.show()"
      ],
      "metadata": {
        "colab": {
          "base_uri": "https://localhost:8080/",
          "height": 954
        },
        "id": "5HZV4leNXKtq",
        "outputId": "b6942be1-1f88-4d34-9a40-e4511acf9b99"
      },
      "execution_count": 86,
      "outputs": [
        {
          "output_type": "display_data",
          "data": {
            "text/plain": [
              "<Figure size 1000x800 with 1 Axes>"
            ],
            "image/png": "[encoded data removed]"
          },
          "metadata": {}
        }
      ]
    },
    {
      "cell_type": "code",
      "source": [
        "# Sort model results by f1-score\n",
        "combined_validation_model_results.sort_values(\"f1\", ascending=False)[\"f1\"].plot(kind=\"bar\", figsize=(10, 7))"
      ],
      "metadata": {
        "colab": {
          "base_uri": "https://localhost:8080/",
          "height": 894
        },
        "id": "bxSyZnphXQCn",
        "outputId": "845d7575-51c1-4eb6-f485-223b5c7127e2"
      },
      "execution_count": 87,
      "outputs": [
        {
          "output_type": "execute_result",
          "data": {
            "text/plain": [
              "<Axes: >"
            ]
          },
          "metadata": {},
          "execution_count": 87
        },
        {
          "output_type": "display_data",
          "data": {
            "text/plain": [
              "<Figure size 1000x700 with 1 Axes>"
            ],
            "image/png": "[encoded data removed]"
          },
          "metadata": {}
        }
      ]
    },
    {
      "cell_type": "markdown",
      "source": [
        "**Comparison of Model Results on Test set**"
      ],
      "metadata": {
        "id": "0ZbRIJQyXUmU"
      }
    },
    {
      "cell_type": "code",
      "source": [
        "model_1_pred_probs = model1.predict(test_dataset)\n",
        "model_1_preds = tf.argmax(model_1_pred_probs, axis=1)\n",
        "\n",
        "model_2_pred_probs = model2_feature_extractor_model.predict(test_dataset)\n",
        "model_2_preds = tf.argmax(model_2_pred_probs, axis=1)\n",
        "\n",
        "model_3_pred_probs = model3.predict(test_char_dataset)\n",
        "model_3_preds = tf.argmax(model_3_pred_probs, axis=1)"
      ],
      "metadata": {
        "colab": {
          "base_uri": "https://localhost:8080/"
        },
        "id": "VMulEnd2XaJk",
        "outputId": "0be89781-7730-40c2-ee85-e54310b04f2b"
      },
      "execution_count": 88,
      "outputs": [
        {
          "output_type": "stream",
          "name": "stdout",
          "text": [
            "\u001b[1m942/942\u001b[0m \u001b[32m━━━━━━━━━━━━━━━━━━━━\u001b[0m\u001b[37m\u001b[0m \u001b[1m5s\u001b[0m 6ms/step\n",
            "\u001b[1m942/942\u001b[0m \u001b[32m━━━━━━━━━━━━━━━━━━━━\u001b[0m\u001b[37m\u001b[0m \u001b[1m12s\u001b[0m 12ms/step\n",
            "\u001b[1m942/942\u001b[0m \u001b[32m━━━━━━━━━━━━━━━━━━━━\u001b[0m\u001b[37m\u001b[0m \u001b[1m6s\u001b[0m 7ms/step\n"
          ]
        }
      ]
    },
    {
      "cell_type": "code",
      "source": [
        "# Generate performance scores on Model0,Model1,Model2,Model3 results for test set\n",
        "model0_test_results= generate_performance_scores(test_labels_encoded, test_predictions)\n",
        "model1_test_results= generate_performance_scores(test_labels_encoded, model_1_preds)\n",
        "model2_test_results= generate_performance_scores(test_labels_encoded, model_2_preds)\n",
        "model3_test_results= generate_performance_scores(test_labels_encoded, model_3_preds)"
      ],
      "metadata": {
        "colab": {
          "base_uri": "https://localhost:8080/"
        },
        "id": "fe-Fi-QXXdqZ",
        "outputId": "ddb51c2c-3669-4e45-9de8-a0d4f3dfb659"
      },
      "execution_count": 89,
      "outputs": [
        {
          "output_type": "stream",
          "name": "stdout",
          "text": [
            "=============================================\n",
            "\n",
            "Performance Metrics:\n",
            "\n",
            "=============================================\n",
            "accuracy_score:\t\t0.72656\n",
            "\n",
            "_____________________________________________\n",
            "precision_score:\t0.72184\n",
            "\n",
            "_____________________________________________\n",
            "recall_score:\t\t0.72656\n",
            "\n",
            "_____________________________________________\n",
            "f1_score:\t\t0.69939\n",
            "\n",
            "=============================================\n",
            "=============================================\n",
            "\n",
            "Performance Metrics:\n",
            "\n",
            "=============================================\n",
            "accuracy_score:\t\t0.82104\n",
            "\n",
            "_____________________________________________\n",
            "precision_score:\t0.81783\n",
            "\n",
            "_____________________________________________\n",
            "recall_score:\t\t0.82104\n",
            "\n",
            "_____________________________________________\n",
            "f1_score:\t\t0.81766\n",
            "\n",
            "=============================================\n",
            "=============================================\n",
            "\n",
            "Performance Metrics:\n",
            "\n",
            "=============================================\n",
            "accuracy_score:\t\t0.75324\n",
            "\n",
            "_____________________________________________\n",
            "precision_score:\t0.74768\n",
            "\n",
            "_____________________________________________\n",
            "recall_score:\t\t0.75324\n",
            "\n",
            "_____________________________________________\n",
            "f1_score:\t\t0.74888\n",
            "\n",
            "=============================================\n",
            "=============================================\n",
            "\n",
            "Performance Metrics:\n",
            "\n",
            "=============================================\n",
            "accuracy_score:\t\t0.72819\n",
            "\n",
            "_____________________________________________\n",
            "precision_score:\t0.72351\n",
            "\n",
            "_____________________________________________\n",
            "recall_score:\t\t0.72819\n",
            "\n",
            "_____________________________________________\n",
            "f1_score:\t\t0.72309\n",
            "\n",
            "=============================================\n"
          ]
        }
      ]
    },
    {
      "cell_type": "code",
      "source": [
        "# Combine test model results into a DataFrame\n",
        "combined_test_model_results = pd.DataFrame({\"Naïve Bayes with TF-IDF encoder baseline\": model0_test_results,\n",
        "                                  \"Conv1D with token embedding\": model1_test_results,\n",
        "                                  \"pretrained feature extractor\": model2_test_results,\n",
        "                                  \"Conv1D with character embedding\": model3_test_results})\n",
        "combined_test_model_results = combined_test_model_results.transpose()\n",
        "combined_test_model_results"
      ],
      "metadata": {
        "colab": {
          "base_uri": "https://localhost:8080/",
          "height": 174
        },
        "id": "A7clMdyNXltU",
        "outputId": "e24fcb28-f449-41e9-f034-e6dd6df79edd"
      },
      "execution_count": 90,
      "outputs": [
        {
          "output_type": "execute_result",
          "data": {
            "text/plain": [
              "                                          accuracy  precision   recall  \\\n",
              "Naïve Bayes with TF-IDF encoder baseline   0.72656    0.72184  0.72656   \n",
              "Conv1D with token embedding                0.82104    0.81783  0.82104   \n",
              "pretrained feature extractor               0.75324    0.74768  0.75324   \n",
              "Conv1D with character embedding            0.72819    0.72351  0.72819   \n",
              "\n",
              "                                               f1  \n",
              "Naïve Bayes with TF-IDF encoder baseline  0.69939  \n",
              "Conv1D with token embedding               0.81766  \n",
              "pretrained feature extractor              0.74888  \n",
              "Conv1D with character embedding           0.72309  "
            ],
            "text/html": [
              "\n",
              "  <div id=\"df-2442db66-4c27-417d-8011-2add421221cc\" class=\"colab-df-container\">\n",
              "    <div>\n",
              "<style scoped>\n",
              "    .dataframe tbody tr th:only-of-type {\n",
              "        vertical-align: middle;\n",
              "    }\n",
              "\n",
              "    .dataframe tbody tr th {\n",
              "        vertical-align: top;\n",
              "    }\n",
              "\n",
              "    .dataframe thead th {\n",
              "        text-align: right;\n",
              "    }\n",
              "</style>\n",
              "<table border=\"1\" class=\"dataframe\">\n",
              "  <thead>\n",
              "    <tr style=\"text-align: right;\">\n",
              "      <th></th>\n",
              "      <th>accuracy</th>\n",
              "      <th>precision</th>\n",
              "      <th>recall</th>\n",
              "      <th>f1</th>\n",
              "    </tr>\n",
              "  </thead>\n",
              "  <tbody>\n",
              "    <tr>\n",
              "      <th>Naïve Bayes with TF-IDF encoder baseline</th>\n",
              "      <td>0.72656</td>\n",
              "      <td>0.72184</td>\n",
              "      <td>0.72656</td>\n",
              "      <td>0.69939</td>\n",
              "    </tr>\n",
              "    <tr>\n",
              "      <th>Conv1D with token embedding</th>\n",
              "      <td>0.82104</td>\n",
              "      <td>0.81783</td>\n",
              "      <td>0.82104</td>\n",
              "      <td>0.81766</td>\n",
              "    </tr>\n",
              "    <tr>\n",
              "      <th>pretrained feature extractor</th>\n",
              "      <td>0.75324</td>\n",
              "      <td>0.74768</td>\n",
              "      <td>0.75324</td>\n",
              "      <td>0.74888</td>\n",
              "    </tr>\n",
              "    <tr>\n",
              "      <th>Conv1D with character embedding</th>\n",
              "      <td>0.72819</td>\n",
              "      <td>0.72351</td>\n",
              "      <td>0.72819</td>\n",
              "      <td>0.72309</td>\n",
              "    </tr>\n",
              "  </tbody>\n",
              "</table>\n",
              "</div>\n",
              "    <div class=\"colab-df-buttons\">\n",
              "\n",
              "  <div class=\"colab-df-container\">\n",
              "    <button class=\"colab-df-convert\" onclick=\"convertToInteractive('df-2442db66-4c27-417d-8011-2add421221cc')\"\n",
              "            title=\"Convert this dataframe to an interactive table.\"\n",
              "            style=\"display:none;\">\n",
              "\n",
              "  <svg xmlns=\"http://www.w3.org/2000/svg\" height=\"24px\" viewBox=\"0 -960 960 960\">\n",
              "    <path d=\"M120-120v-720h720v720H120Zm60-500h600v-160H180v160Zm220 220h160v-160H400v160Zm0 220h160v-160H400v160ZM180-400h160v-160H180v160Zm440 0h160v-160H620v160ZM180-180h160v-160H180v160Zm440 0h160v-160H620v160Z\"/>\n",
              "  </svg>\n",
              "    </button>\n",
              "\n",
              "  <style>\n",
              "    .colab-df-container {\n",
              "      display:flex;\n",
              "      gap: 12px;\n",
              "    }\n",
              "\n",
              "    .colab-df-convert {\n",
              "      background-color: #E8F0FE;\n",
              "      border: none;\n",
              "      border-radius: 50%;\n",
              "      cursor: pointer;\n",
              "      display: none;\n",
              "      fill: #1967D2;\n",
              "      height: 32px;\n",
              "      padding: 0 0 0 0;\n",
              "      width: 32px;\n",
              "    }\n",
              "\n",
              "    .colab-df-convert:hover {\n",
              "      background-color: #E2EBFA;\n",
              "      box-shadow: 0px 1px 2px rgba(60, 64, 67, 0.3), 0px 1px 3px 1px rgba(60, 64, 67, 0.15);\n",
              "      fill: #174EA6;\n",
              "    }\n",
              "\n",
              "    .colab-df-buttons div {\n",
              "      margin-bottom: 4px;\n",
              "    }\n",
              "\n",
              "    [theme=dark] .colab-df-convert {\n",
              "      background-color: #3B4455;\n",
              "      fill: #D2E3FC;\n",
              "    }\n",
              "\n",
              "    [theme=dark] .colab-df-convert:hover {\n",
              "      background-color: #434B5C;\n",
              "      box-shadow: 0px 1px 3px 1px rgba(0, 0, 0, 0.15);\n",
              "      filter: drop-shadow(0px 1px 2px rgba(0, 0, 0, 0.3));\n",
              "      fill: #FFFFFF;\n",
              "    }\n",
              "  </style>\n",
              "\n",
              "    <script>\n",
              "      const buttonEl =\n",
              "        document.querySelector('#df-2442db66-4c27-417d-8011-2add421221cc button.colab-df-convert');\n",
              "      buttonEl.style.display =\n",
              "        google.colab.kernel.accessAllowed ? 'block' : 'none';\n",
              "\n",
              "      async function convertToInteractive(key) {\n",
              "        const element = document.querySelector('#df-2442db66-4c27-417d-8011-2add421221cc');\n",
              "        const dataTable =\n",
              "          await google.colab.kernel.invokeFunction('convertToInteractive',\n",
              "                                                    [key], {});\n",
              "        if (!dataTable) return;\n",
              "\n",
              "        const docLinkHtml = 'Like what you see? Visit the ' +\n",
              "          '<a target=\"_blank\" href=https://colab.research.google.com/notebooks/data_table.ipynb>data table notebook</a>'\n",
              "          + ' to learn more about interactive tables.';\n",
              "        element.innerHTML = '';\n",
              "        dataTable['output_type'] = 'display_data';\n",
              "        await google.colab.output.renderOutput(dataTable, element);\n",
              "        const docLink = document.createElement('div');\n",
              "        docLink.innerHTML = docLinkHtml;\n",
              "        element.appendChild(docLink);\n",
              "      }\n",
              "    </script>\n",
              "  </div>\n",
              "\n",
              "\n",
              "<div id=\"df-0bfdf906-e052-4a0b-b93b-3edf0646ee00\">\n",
              "  <button class=\"colab-df-quickchart\" onclick=\"quickchart('df-0bfdf906-e052-4a0b-b93b-3edf0646ee00')\"\n",
              "            title=\"Suggest charts\"\n",
              "            style=\"display:none;\">\n",
              "\n",
              "<svg xmlns=\"http://www.w3.org/2000/svg\" height=\"24px\"viewBox=\"0 0 24 24\"\n",
              "     width=\"24px\">\n",
              "    <g>\n",
              "        <path d=\"M19 3H5c-1.1 0-2 .9-2 2v14c0 1.1.9 2 2 2h14c1.1 0 2-.9 2-2V5c0-1.1-.9-2-2-2zM9 17H7v-7h2v7zm4 0h-2V7h2v10zm4 0h-2v-4h2v4z\"/>\n",
              "    </g>\n",
              "</svg>\n",
              "  </button>\n",
              "\n",
              "<style>\n",
              "  .colab-df-quickchart {\n",
              "      --bg-color: #E8F0FE;\n",
              "      --fill-color: #1967D2;\n",
              "      --hover-bg-color: #E2EBFA;\n",
              "      --hover-fill-color: #174EA6;\n",
              "      --disabled-fill-color: #AAA;\n",
              "      --disabled-bg-color: #DDD;\n",
              "  }\n",
              "\n",
              "  [theme=dark] .colab-df-quickchart {\n",
              "      --bg-color: #3B4455;\n",
              "      --fill-color: #D2E3FC;\n",
              "      --hover-bg-color: #434B5C;\n",
              "      --hover-fill-color: #FFFFFF;\n",
              "      --disabled-bg-color: #3B4455;\n",
              "      --disabled-fill-color: #666;\n",
              "  }\n",
              "\n",
              "  .colab-df-quickchart {\n",
              "    background-color: var(--bg-color);\n",
              "    border: none;\n",
              "    border-radius: 50%;\n",
              "    cursor: pointer;\n",
              "    display: none;\n",
              "    fill: var(--fill-color);\n",
              "    height: 32px;\n",
              "    padding: 0;\n",
              "    width: 32px;\n",
              "  }\n",
              "\n",
              "  .colab-df-quickchart:hover {\n",
              "    background-color: var(--hover-bg-color);\n",
              "    box-shadow: 0 1px 2px rgba(60, 64, 67, 0.3), 0 1px 3px 1px rgba(60, 64, 67, 0.15);\n",
              "    fill: var(--button-hover-fill-color);\n",
              "  }\n",
              "\n",
              "  .colab-df-quickchart-complete:disabled,\n",
              "  .colab-df-quickchart-complete:disabled:hover {\n",
              "    background-color: var(--disabled-bg-color);\n",
              "    fill: var(--disabled-fill-color);\n",
              "    box-shadow: none;\n",
              "  }\n",
              "\n",
              "  .colab-df-spinner {\n",
              "    border: 2px solid var(--fill-color);\n",
              "    border-color: transparent;\n",
              "    border-bottom-color: var(--fill-color);\n",
              "    animation:\n",
              "      spin 1s steps(1) infinite;\n",
              "  }\n",
              "\n",
              "  @keyframes spin {\n",
              "    0% {\n",
              "      border-color: transparent;\n",
              "      border-bottom-color: var(--fill-color);\n",
              "      border-left-color: var(--fill-color);\n",
              "    }\n",
              "    20% {\n",
              "      border-color: transparent;\n",
              "      border-left-color: var(--fill-color);\n",
              "      border-top-color: var(--fill-color);\n",
              "    }\n",
              "    30% {\n",
              "      border-color: transparent;\n",
              "      border-left-color: var(--fill-color);\n",
              "      border-top-color: var(--fill-color);\n",
              "      border-right-color: var(--fill-color);\n",
              "    }\n",
              "    40% {\n",
              "      border-color: transparent;\n",
              "      border-right-color: var(--fill-color);\n",
              "      border-top-color: var(--fill-color);\n",
              "    }\n",
              "    60% {\n",
              "      border-color: transparent;\n",
              "      border-right-color: var(--fill-color);\n",
              "    }\n",
              "    80% {\n",
              "      border-color: transparent;\n",
              "      border-right-color: var(--fill-color);\n",
              "      border-bottom-color: var(--fill-color);\n",
              "    }\n",
              "    90% {\n",
              "      border-color: transparent;\n",
              "      border-bottom-color: var(--fill-color);\n",
              "    }\n",
              "  }\n",
              "</style>\n",
              "\n",
              "  <script>\n",
              "    async function quickchart(key) {\n",
              "      const quickchartButtonEl =\n",
              "        document.querySelector('#' + key + ' button');\n",
              "      quickchartButtonEl.disabled = true;  // To prevent multiple clicks.\n",
              "      quickchartButtonEl.classList.add('colab-df-spinner');\n",
              "      try {\n",
              "        const charts = await google.colab.kernel.invokeFunction(\n",
              "            'suggestCharts', [key], {});\n",
              "      } catch (error) {\n",
              "        console.error('Error during call to suggestCharts:', error);\n",
              "      }\n",
              "      quickchartButtonEl.classList.remove('colab-df-spinner');\n",
              "      quickchartButtonEl.classList.add('colab-df-quickchart-complete');\n",
              "    }\n",
              "    (() => {\n",
              "      let quickchartButtonEl =\n",
              "        document.querySelector('#df-0bfdf906-e052-4a0b-b93b-3edf0646ee00 button');\n",
              "      quickchartButtonEl.style.display =\n",
              "        google.colab.kernel.accessAllowed ? 'block' : 'none';\n",
              "    })();\n",
              "  </script>\n",
              "</div>\n",
              "\n",
              "  <div id=\"id_10a391b1-ed9e-492f-977b-2fc2021bee3a\">\n",
              "    <style>\n",
              "      .colab-df-generate {\n",
              "        background-color: #E8F0FE;\n",
              "        border: none;\n",
              "        border-radius: 50%;\n",
              "        cursor: pointer;\n",
              "        display: none;\n",
              "        fill: #1967D2;\n",
              "        height: 32px;\n",
              "        padding: 0 0 0 0;\n",
              "        width: 32px;\n",
              "      }\n",
              "\n",
              "      .colab-df-generate:hover {\n",
              "        background-color: #E2EBFA;\n",
              "        box-shadow: 0px 1px 2px rgba(60, 64, 67, 0.3), 0px 1px 3px 1px rgba(60, 64, 67, 0.15);\n",
              "        fill: #174EA6;\n",
              "      }\n",
              "\n",
              "      [theme=dark] .colab-df-generate {\n",
              "        background-color: #3B4455;\n",
              "        fill: #D2E3FC;\n",
              "      }\n",
              "\n",
              "      [theme=dark] .colab-df-generate:hover {\n",
              "        background-color: #434B5C;\n",
              "        box-shadow: 0px 1px 3px 1px rgba(0, 0, 0, 0.15);\n",
              "        filter: drop-shadow(0px 1px 2px rgba(0, 0, 0, 0.3));\n",
              "        fill: #FFFFFF;\n",
              "      }\n",
              "    </style>\n",
              "    <button class=\"colab-df-generate\" onclick=\"generateWithVariable('combined_test_model_results')\"\n",
              "            title=\"Generate code using this dataframe.\"\n",
              "            style=\"display:none;\">\n",
              "\n",
              "  <svg xmlns=\"http://www.w3.org/2000/svg\" height=\"24px\"viewBox=\"0 0 24 24\"\n",
              "       width=\"24px\">\n",
              "    <path d=\"M7,19H8.4L18.45,9,17,7.55,7,17.6ZM5,21V16.75L18.45,3.32a2,2,0,0,1,2.83,0l1.4,1.43a1.91,1.91,0,0,1,.58,1.4,1.91,1.91,0,0,1-.58,1.4L9.25,21ZM18.45,9,17,7.55Zm-12,3A5.31,5.31,0,0,0,4.9,8.1,5.31,5.31,0,0,0,1,6.5,5.31,5.31,0,0,0,4.9,4.9,5.31,5.31,0,0,0,6.5,1,5.31,5.31,0,0,0,8.1,4.9,5.31,5.31,0,0,0,12,6.5,5.46,5.46,0,0,0,6.5,12Z\"/>\n",
              "  </svg>\n",
              "    </button>\n",
              "    <script>\n",
              "      (() => {\n",
              "      const buttonEl =\n",
              "        document.querySelector('#id_10a391b1-ed9e-492f-977b-2fc2021bee3a button.colab-df-generate');\n",
              "      buttonEl.style.display =\n",
              "        google.colab.kernel.accessAllowed ? 'block' : 'none';\n",
              "\n",
              "      buttonEl.onclick = () => {\n",
              "        google.colab.notebook.generateWithVariable('combined_test_model_results');\n",
              "      }\n",
              "      })();\n",
              "    </script>\n",
              "  </div>\n",
              "\n",
              "    </div>\n",
              "  </div>\n"
            ],
            "application/vnd.google.colaboratory.intrinsic+json": {
              "type": "dataframe",
              "variable_name": "combined_test_model_results",
              "summary": "{\n  \"name\": \"combined_test_model_results\",\n  \"rows\": 4,\n  \"fields\": [\n    {\n      \"column\": \"accuracy\",\n      \"properties\": {\n        \"dtype\": \"number\",\n        \"std\": 0.04424026700868791,\n        \"min\": 0.72656,\n        \"max\": 0.82104,\n        \"num_unique_values\": 4,\n        \"samples\": [\n          0.82104,\n          0.72819,\n          0.72656\n        ],\n        \"semantic_type\": \"\",\n        \"description\": \"\"\n      }\n    },\n    {\n      \"column\": \"precision\",\n      \"properties\": {\n        \"dtype\": \"number\",\n        \"std\": 0.04498707999711321,\n        \"min\": 0.72184,\n        \"max\": 0.81783,\n        \"num_unique_values\": 4,\n        \"samples\": [\n          0.81783,\n          0.72351,\n          0.72184\n        ],\n        \"semantic_type\": \"\",\n        \"description\": \"\"\n      }\n    },\n    {\n      \"column\": \"recall\",\n      \"properties\": {\n        \"dtype\": \"number\",\n        \"std\": 0.04424026700868791,\n        \"min\": 0.72656,\n        \"max\": 0.82104,\n        \"num_unique_values\": 4,\n        \"samples\": [\n          0.82104,\n          0.72819,\n          0.72656\n        ],\n        \"semantic_type\": \"\",\n        \"description\": \"\"\n      }\n    },\n    {\n      \"column\": \"f1\",\n      \"properties\": {\n        \"dtype\": \"number\",\n        \"std\": 0.051102870434709145,\n        \"min\": 0.69939,\n        \"max\": 0.81766,\n        \"num_unique_values\": 4,\n        \"samples\": [\n          0.81766,\n          0.72309,\n          0.69939\n        ],\n        \"semantic_type\": \"\",\n        \"description\": \"\"\n      }\n    }\n  ]\n}"
            }
          },
          "metadata": {},
          "execution_count": 90
        }
      ]
    },
    {
      "cell_type": "code",
      "source": [
        "# Plot the combined model results as a bar chart\n",
        "ax = combined_test_model_results.plot(kind=\"bar\", figsize=(10, 7))\n",
        "\n",
        "# Add a legend to the upper right corner\n",
        "ax.legend(loc=\"upper right\")\n",
        "\n",
        "# Show the plot\n",
        "plt.show()"
      ],
      "metadata": {
        "colab": {
          "base_uri": "https://localhost:8080/",
          "height": 877
        },
        "id": "UCLjmkTCXrlu",
        "outputId": "61d6b570-6ec9-4669-ac4e-46e89fe7a60d"
      },
      "execution_count": 91,
      "outputs": [
        {
          "output_type": "display_data",
          "data": {
            "text/plain": [
              "<Figure size 1000x700 with 1 Axes>"
            ],
            "image/png": "[encoded data removed]"
          },
          "metadata": {}
        }
      ]
    },
    {
      "cell_type": "code",
      "source": [
        "# Sort model results by f1-score\n",
        "combined_test_model_results.sort_values(\"f1\", ascending=False)[\"f1\"].plot(kind=\"bar\", figsize=(10, 7));"
      ],
      "metadata": {
        "colab": {
          "base_uri": "https://localhost:8080/",
          "height": 877
        },
        "id": "iMZ7bP3YXwM9",
        "outputId": "00d4243f-9864-4544-ed4f-546e676e28bd"
      },
      "execution_count": 92,
      "outputs": [
        {
          "output_type": "display_data",
          "data": {
            "text/plain": [
              "<Figure size 1000x700 with 1 Axes>"
            ],
            "image/png": "[encoded data removed]"
          },
          "metadata": {}
        }
      ]
    },
    {
      "cell_type": "code",
      "source": [
        "print(\"Classification metrics for Model 1\")\n",
        "print(classification_report(test_labels_encoded, model_1_preds, target_names=class_names))"
      ],
      "metadata": {
        "colab": {
          "base_uri": "https://localhost:8080/"
        },
        "id": "BJyLyfqJXzu4",
        "outputId": "d4c60b1b-eefc-4555-d7d5-46063d5a6164"
      },
      "execution_count": 93,
      "outputs": [
        {
          "output_type": "stream",
          "name": "stdout",
          "text": [
            "Classification metrics for Model 1\n",
            "              precision    recall  f1-score   support\n",
            "\n",
            "  BACKGROUND       0.66      0.64      0.65      3621\n",
            " CONCLUSIONS       0.73      0.77      0.75      4571\n",
            "     METHODS       0.89      0.92      0.90      9897\n",
            "   OBJECTIVE       0.73      0.51      0.60      2333\n",
            "     RESULTS       0.87      0.89      0.88      9713\n",
            "\n",
            "    accuracy                           0.82     30135\n",
            "   macro avg       0.78      0.74      0.76     30135\n",
            "weighted avg       0.82      0.82      0.82     30135\n",
            "\n"
          ]
        }
      ]
    },
    {
      "cell_type": "code",
      "source": [
        "def plot_custom_confusion_matrix(y_true, y_pred, classes='auto', figsize=(12, 12), text_size=12):\n",
        "    # Generate confusion matrix\n",
        "    cm = confusion_matrix(y_true, y_pred)\n",
        "\n",
        "    # Set plot size\n",
        "    plt.figure(figsize=figsize)\n",
        "\n",
        "    # Create custom confusion matrix heatmap\n",
        "    disp = sns.heatmap(\n",
        "        cm, annot=True, cmap='Blues',  # Change colormap to Blues\n",
        "        annot_kws={\"size\": text_size},\n",
        "        fmt=',',  # Use commas as thousand separators\n",
        "        linewidths=2, linecolor='gray',  # Change line color to gray\n",
        "        cbar=False,  # Remove color bar\n",
        "        xticklabels=classes, yticklabels=classes)\n",
        "\n",
        "    # Set title and axis labels\n",
        "    disp.set_title('Custom Confusion Matrix', fontsize=24)\n",
        "    disp.set_xlabel('Predicted Label', fontsize=22)  # Increase x-axis label font size\n",
        "    disp.set_ylabel('True Label', fontsize=22)  # Increase y-axis label font size\n",
        "\n",
        "    # Plot custom confusion matrix\n",
        "    plt.show()\n",
        "\n",
        "    return"
      ],
      "metadata": {
        "id": "anDq_8-nX4YH"
      },
      "execution_count": 94,
      "outputs": []
    },
    {
      "cell_type": "code",
      "source": [
        "#Print confusion matrix\n",
        "plot_custom_confusion_matrix(\n",
        "    test_labels_encoded,\n",
        "    model_1_preds,\n",
        "    figsize=(10, 10),\n",
        "    classes=list(class_names))"
      ],
      "metadata": {
        "colab": {
          "base_uri": "https://localhost:8080/",
          "height": 899
        },
        "id": "0PqtkxZHX8fa",
        "outputId": "3f71dff3-2280-4baa-b747-bae049e2e91f"
      },
      "execution_count": 95,
      "outputs": [
        {
          "output_type": "display_data",
          "data": {
            "text/plain": [
              "<Figure size 1000x1000 with 1 Axes>"
            ],
            "image/png": "[encoded data removed]"
          },
          "metadata": {}
        }
      ]
    },
    {
      "cell_type": "markdown",
      "source": [
        "# **Evaluating model on test dataset**\n",
        "\n",
        "As Model 1: Conv1D with token embedding is best performing model having highest accuracy as well as f1 score among all the models on validation as well as test set, model 1 is taken for making the prediction and comparing with the truth labels."
      ],
      "metadata": {
        "id": "SH-9j5KlYBX7"
      }
    },
    {
      "cell_type": "code",
      "source": [
        "test_pred_classes = [label_encoder.classes_[pred] for pred in model_1_preds]"
      ],
      "metadata": {
        "id": "KFFc-nuCYH0k"
      },
      "execution_count": 96,
      "outputs": []
    },
    {
      "cell_type": "markdown",
      "source": [
        "# **Adding below columns in test dataframe for comparing with truth label**\n",
        "\n",
        "prediction column- contains model's prediction for a given sample.\n",
        "\n",
        "pred_prob column- contains the model's maximum prediction probabiliy for a given sample.\n",
        "\n",
        "correct column- indicates whether or not the model's prediction matches the sample's target label."
      ],
      "metadata": {
        "id": "M5Tzu7VHYO0T"
      }
    },
    {
      "cell_type": "code",
      "source": [
        "test_df[\"prediction\"] = test_pred_classes\n",
        "test_df[\"pred_prob\"] = tf.reduce_max(model_1_pred_probs, axis=1).numpy()\n",
        "test_df[\"correct\"] = test_df[\"prediction\"] == test_df[\"target\"]"
      ],
      "metadata": {
        "id": "uQmKVDp6YaMk"
      },
      "execution_count": 97,
      "outputs": []
    },
    {
      "cell_type": "code",
      "source": [
        "test_df.head(50)"
      ],
      "metadata": {
        "colab": {
          "base_uri": "https://localhost:8080/",
          "height": 1000
        },
        "id": "orItXCs7Ydil",
        "outputId": "7d20192f-d427-4369-ed91-4e754ea6e5a7"
      },
      "execution_count": 98,
      "outputs": [
        {
          "output_type": "execute_result",
          "data": {
            "text/plain": [
              "                                        abstract_text  line_number  \\\n",
              "0   This study analyzed liver function abnormaliti...            0   \n",
              "1   A post hoc analysis was conducted with the use...            1   \n",
              "2   Liver function tests ( LFTs ) were measured at...            2   \n",
              "3   Survival analyses were used to assess the asso...            3   \n",
              "4   The percentage of patients with abnormal LFTs ...            4   \n",
              "5   When mean hemodynamic profiles were compared i...            5   \n",
              "6   Multivariable analyses revealed that patients ...            6   \n",
              "7   Abnormal LFTs are common in the ADHF populatio...            7   \n",
              "8   Elevated MELD-XI scores are associated with po...            8   \n",
              "9   Minimally invasive endovascular aneurysm repai...            0   \n",
              "10  The aim of this study was to analyse the cost-...            1   \n",
              "11  Resource use was determined from the Amsterdam...            2   \n",
              "12  The analysis was performed from a provider per...            3   \n",
              "13  All costs were calculated as if all patients h...            4   \n",
              "14          A total of 116 patients were randomized .            5   \n",
              "15  The 30-day mortality rate was 21 per cent afte...            6   \n",
              "16  At 6months , the total mortality rate for EVAR...            7   \n",
              "17  The mean cost difference between EVAR and OR w...            8   \n",
              "18  The incremental cost-effectiveness ratio per p...            9   \n",
              "19  There was no significant difference in quality...           10   \n",
              "20     Nor was EVAR superior regarding cost-utility .           11   \n",
              "21  EVAR may be more effective for rAAA , but its ...           12   \n",
              "22  Evidence suggests that individuals with social...            0   \n",
              "23  This study investigated whether oxytocin can a...            1   \n",
              "24  In a double-blind , randomized , placebo-contr...            2   \n",
              "25  Attentional bias was assessed using the dot-pr...            3   \n",
              "26  In the baseline placebo condition , the HSA gr...            4   \n",
              "27  Oxytocin reduced the difference between HSA an...            5   \n",
              "28  Moreover , it appeared to normalize attentiona...            6   \n",
              "29  The biological mechanisms by which oxytocin ma...            7   \n",
              "30  These results , coupled with previous research...            8   \n",
              "31  Exposure to diesel exhaust causes inflammatory...            0   \n",
              "32  Previous controlled exposure studies at a conc...            1   \n",
              "33  We prolonged the exposure period and investiga...            2   \n",
              "34  Eighteen healthy volunteers were exposed twice...            3   \n",
              "35  Immediately before and after exposure , we per...            4   \n",
              "36  Nasal lavage and blood samples were collected ...            5   \n",
              "37  Symptom scores and peak expiratory flow ( PEF ...            6   \n",
              "38  Self-rated throat irritation was higher during...            7   \n",
              "39  Clinical signs of irritation in the upper airw...            8   \n",
              "40  PEF increased during filtered air , but decrea...            9   \n",
              "41  Monocyte and total leukocyte counts in periphe...           10   \n",
              "42  Diesel exhaust induced acute adverse effects s...           11   \n",
              "43  The effects were first seen at 75 min of expos...           12   \n",
              "44  Depressive disorders are one of the leading co...            0   \n",
              "45  Numerous studies have demonstrated that pharma...            1   \n",
              "46  Psycho-education as an intervention has been s...            2   \n",
              "47  The present study aimed to assess the impact o...            3   \n",
              "48  A total of 80 eligible depressed subjects were...            4   \n",
              "49  The study group involved an eligible family me...            5   \n",
              "\n",
              "    total_lines       target   prediction  pred_prob  correct  \n",
              "0             9   BACKGROUND      RESULTS   0.300675    False  \n",
              "1             9      RESULTS      METHODS   0.910878    False  \n",
              "2             9      RESULTS      METHODS   0.938968    False  \n",
              "3             9      RESULTS      METHODS   0.727455    False  \n",
              "4             9      RESULTS      RESULTS   0.943730     True  \n",
              "5             9      RESULTS      RESULTS   0.999196     True  \n",
              "6             9      RESULTS      RESULTS   0.997751     True  \n",
              "7             9  CONCLUSIONS   BACKGROUND   0.449512    False  \n",
              "8             9  CONCLUSIONS  CONCLUSIONS   0.682694     True  \n",
              "9            13   BACKGROUND  CONCLUSIONS   0.431888    False  \n",
              "10           13   BACKGROUND    OBJECTIVE   0.683870    False  \n",
              "11           13      METHODS      METHODS   0.959305     True  \n",
              "12           13      METHODS      METHODS   0.979225     True  \n",
              "13           13      METHODS      METHODS   0.995208     True  \n",
              "14           13      RESULTS      RESULTS   0.958359     True  \n",
              "15           13      RESULTS      RESULTS   0.997751     True  \n",
              "16           13      RESULTS      RESULTS   0.992401     True  \n",
              "17           13      RESULTS      RESULTS   0.997567     True  \n",
              "18           13      RESULTS      RESULTS   0.851707     True  \n",
              "19           13      RESULTS      RESULTS   0.913900     True  \n",
              "20           13      RESULTS      RESULTS   0.645135     True  \n",
              "21           13  CONCLUSIONS   BACKGROUND   0.612827    False  \n",
              "22            9   BACKGROUND   BACKGROUND   0.700713     True  \n",
              "23            9      METHODS    OBJECTIVE   0.635359    False  \n",
              "24            9      METHODS      METHODS   0.914800     True  \n",
              "25            9      METHODS      METHODS   0.984706     True  \n",
              "26            9      RESULTS      RESULTS   0.977891     True  \n",
              "27            9      RESULTS      RESULTS   0.722397     True  \n",
              "28            9      RESULTS      RESULTS   0.713127     True  \n",
              "29            9      RESULTS  CONCLUSIONS   0.905732    False  \n",
              "30            9  CONCLUSIONS  CONCLUSIONS   0.932205     True  \n",
              "31           13   BACKGROUND  CONCLUSIONS   0.291355    False  \n",
              "32           13   BACKGROUND      METHODS   0.348705    False  \n",
              "33           13   BACKGROUND  CONCLUSIONS   0.385610    False  \n",
              "34           13      METHODS      METHODS   0.952466     True  \n",
              "35           13      METHODS      METHODS   0.975096     True  \n",
              "36           13      METHODS      METHODS   0.996678     True  \n",
              "37           13      METHODS      METHODS   0.993559     True  \n",
              "38           13      RESULTS      RESULTS   0.780546     True  \n",
              "39           13      RESULTS      RESULTS   0.999533     True  \n",
              "40           13      RESULTS      RESULTS   0.998290     True  \n",
              "41           13      RESULTS      RESULTS   0.995423     True  \n",
              "42           13  CONCLUSIONS  CONCLUSIONS   0.525302     True  \n",
              "43           13  CONCLUSIONS      RESULTS   0.673505    False  \n",
              "44           14    OBJECTIVE   BACKGROUND   0.734425    False  \n",
              "45           14    OBJECTIVE   BACKGROUND   0.686052    False  \n",
              "46           14    OBJECTIVE   BACKGROUND   0.774545    False  \n",
              "47           14    OBJECTIVE    OBJECTIVE   0.497295     True  \n",
              "48           14      METHODS      RESULTS   0.513763    False  \n",
              "49           14      METHODS      METHODS   0.986347     True  "
            ],
            "text/html": [
              "\n",
              "  <div id=\"df-31c0728c-5eb1-4ec7-8ac4-f6f3ea31804f\" class=\"colab-df-container\">\n",
              "    <div>\n",
              "<style scoped>\n",
              "    .dataframe tbody tr th:only-of-type {\n",
              "        vertical-align: middle;\n",
              "    }\n",
              "\n",
              "    .dataframe tbody tr th {\n",
              "        vertical-align: top;\n",
              "    }\n",
              "\n",
              "    .dataframe thead th {\n",
              "        text-align: right;\n",
              "    }\n",
              "</style>\n",
              "<table border=\"1\" class=\"dataframe\">\n",
              "  <thead>\n",
              "    <tr style=\"text-align: right;\">\n",
              "      <th></th>\n",
              "      <th>abstract_text</th>\n",
              "      <th>line_number</th>\n",
              "      <th>total_lines</th>\n",
              "      <th>target</th>\n",
              "      <th>prediction</th>\n",
              "      <th>pred_prob</th>\n",
              "      <th>correct</th>\n",
              "    </tr>\n",
              "  </thead>\n",
              "  <tbody>\n",
              "    <tr>\n",
              "      <th>0</th>\n",
              "      <td>This study analyzed liver function abnormaliti...</td>\n",
              "      <td>0</td>\n",
              "      <td>9</td>\n",
              "      <td>BACKGROUND</td>\n",
              "      <td>RESULTS</td>\n",
              "      <td>0.300675</td>\n",
              "      <td>False</td>\n",
              "    </tr>\n",
              "    <tr>\n",
              "      <th>1</th>\n",
              "      <td>A post hoc analysis was conducted with the use...</td>\n",
              "      <td>1</td>\n",
              "      <td>9</td>\n",
              "      <td>RESULTS</td>\n",
              "      <td>METHODS</td>\n",
              "      <td>0.910878</td>\n",
              "      <td>False</td>\n",
              "    </tr>\n",
              "    <tr>\n",
              "      <th>2</th>\n",
              "      <td>Liver function tests ( LFTs ) were measured at...</td>\n",
              "      <td>2</td>\n",
              "      <td>9</td>\n",
              "      <td>RESULTS</td>\n",
              "      <td>METHODS</td>\n",
              "      <td>0.938968</td>\n",
              "      <td>False</td>\n",
              "    </tr>\n",
              "    <tr>\n",
              "      <th>3</th>\n",
              "      <td>Survival analyses were used to assess the asso...</td>\n",
              "      <td>3</td>\n",
              "      <td>9</td>\n",
              "      <td>RESULTS</td>\n",
              "      <td>METHODS</td>\n",
              "      <td>0.727455</td>\n",
              "      <td>False</td>\n",
              "    </tr>\n",
              "    <tr>\n",
              "      <th>4</th>\n",
              "      <td>The percentage of patients with abnormal LFTs ...</td>\n",
              "      <td>4</td>\n",
              "      <td>9</td>\n",
              "      <td>RESULTS</td>\n",
              "      <td>RESULTS</td>\n",
              "      <td>0.943730</td>\n",
              "      <td>True</td>\n",
              "    </tr>\n",
              "    <tr>\n",
              "      <th>5</th>\n",
              "      <td>When mean hemodynamic profiles were compared i...</td>\n",
              "      <td>5</td>\n",
              "      <td>9</td>\n",
              "      <td>RESULTS</td>\n",
              "      <td>RESULTS</td>\n",
              "      <td>0.999196</td>\n",
              "      <td>True</td>\n",
              "    </tr>\n",
              "    <tr>\n",
              "      <th>6</th>\n",
              "      <td>Multivariable analyses revealed that patients ...</td>\n",
              "      <td>6</td>\n",
              "      <td>9</td>\n",
              "      <td>RESULTS</td>\n",
              "      <td>RESULTS</td>\n",
              "      <td>0.997751</td>\n",
              "      <td>True</td>\n",
              "    </tr>\n",
              "    <tr>\n",
              "      <th>7</th>\n",
              "      <td>Abnormal LFTs are common in the ADHF populatio...</td>\n",
              "      <td>7</td>\n",
              "      <td>9</td>\n",
              "      <td>CONCLUSIONS</td>\n",
              "      <td>BACKGROUND</td>\n",
              "      <td>0.449512</td>\n",
              "      <td>False</td>\n",
              "    </tr>\n",
              "    <tr>\n",
              "      <th>8</th>\n",
              "      <td>Elevated MELD-XI scores are associated with po...</td>\n",
              "      <td>8</td>\n",
              "      <td>9</td>\n",
              "      <td>CONCLUSIONS</td>\n",
              "      <td>CONCLUSIONS</td>\n",
              "      <td>0.682694</td>\n",
              "      <td>True</td>\n",
              "    </tr>\n",
              "    <tr>\n",
              "      <th>9</th>\n",
              "      <td>Minimally invasive endovascular aneurysm repai...</td>\n",
              "      <td>0</td>\n",
              "      <td>13</td>\n",
              "      <td>BACKGROUND</td>\n",
              "      <td>CONCLUSIONS</td>\n",
              "      <td>0.431888</td>\n",
              "      <td>False</td>\n",
              "    </tr>\n",
              "    <tr>\n",
              "      <th>10</th>\n",
              "      <td>The aim of this study was to analyse the cost-...</td>\n",
              "      <td>1</td>\n",
              "      <td>13</td>\n",
              "      <td>BACKGROUND</td>\n",
              "      <td>OBJECTIVE</td>\n",
              "      <td>0.683870</td>\n",
              "      <td>False</td>\n",
              "    </tr>\n",
              "    <tr>\n",
              "      <th>11</th>\n",
              "      <td>Resource use was determined from the Amsterdam...</td>\n",
              "      <td>2</td>\n",
              "      <td>13</td>\n",
              "      <td>METHODS</td>\n",
              "      <td>METHODS</td>\n",
              "      <td>0.959305</td>\n",
              "      <td>True</td>\n",
              "    </tr>\n",
              "    <tr>\n",
              "      <th>12</th>\n",
              "      <td>The analysis was performed from a provider per...</td>\n",
              "      <td>3</td>\n",
              "      <td>13</td>\n",
              "      <td>METHODS</td>\n",
              "      <td>METHODS</td>\n",
              "      <td>0.979225</td>\n",
              "      <td>True</td>\n",
              "    </tr>\n",
              "    <tr>\n",
              "      <th>13</th>\n",
              "      <td>All costs were calculated as if all patients h...</td>\n",
              "      <td>4</td>\n",
              "      <td>13</td>\n",
              "      <td>METHODS</td>\n",
              "      <td>METHODS</td>\n",
              "      <td>0.995208</td>\n",
              "      <td>True</td>\n",
              "    </tr>\n",
              "    <tr>\n",
              "      <th>14</th>\n",
              "      <td>A total of 116 patients were randomized .</td>\n",
              "      <td>5</td>\n",
              "      <td>13</td>\n",
              "      <td>RESULTS</td>\n",
              "      <td>RESULTS</td>\n",
              "      <td>0.958359</td>\n",
              "      <td>True</td>\n",
              "    </tr>\n",
              "    <tr>\n",
              "      <th>15</th>\n",
              "      <td>The 30-day mortality rate was 21 per cent afte...</td>\n",
              "      <td>6</td>\n",
              "      <td>13</td>\n",
              "      <td>RESULTS</td>\n",
              "      <td>RESULTS</td>\n",
              "      <td>0.997751</td>\n",
              "      <td>True</td>\n",
              "    </tr>\n",
              "    <tr>\n",
              "      <th>16</th>\n",
              "      <td>At 6months , the total mortality rate for EVAR...</td>\n",
              "      <td>7</td>\n",
              "      <td>13</td>\n",
              "      <td>RESULTS</td>\n",
              "      <td>RESULTS</td>\n",
              "      <td>0.992401</td>\n",
              "      <td>True</td>\n",
              "    </tr>\n",
              "    <tr>\n",
              "      <th>17</th>\n",
              "      <td>The mean cost difference between EVAR and OR w...</td>\n",
              "      <td>8</td>\n",
              "      <td>13</td>\n",
              "      <td>RESULTS</td>\n",
              "      <td>RESULTS</td>\n",
              "      <td>0.997567</td>\n",
              "      <td>True</td>\n",
              "    </tr>\n",
              "    <tr>\n",
              "      <th>18</th>\n",
              "      <td>The incremental cost-effectiveness ratio per p...</td>\n",
              "      <td>9</td>\n",
              "      <td>13</td>\n",
              "      <td>RESULTS</td>\n",
              "      <td>RESULTS</td>\n",
              "      <td>0.851707</td>\n",
              "      <td>True</td>\n",
              "    </tr>\n",
              "    <tr>\n",
              "      <th>19</th>\n",
              "      <td>There was no significant difference in quality...</td>\n",
              "      <td>10</td>\n",
              "      <td>13</td>\n",
              "      <td>RESULTS</td>\n",
              "      <td>RESULTS</td>\n",
              "      <td>0.913900</td>\n",
              "      <td>True</td>\n",
              "    </tr>\n",
              "    <tr>\n",
              "      <th>20</th>\n",
              "      <td>Nor was EVAR superior regarding cost-utility .</td>\n",
              "      <td>11</td>\n",
              "      <td>13</td>\n",
              "      <td>RESULTS</td>\n",
              "      <td>RESULTS</td>\n",
              "      <td>0.645135</td>\n",
              "      <td>True</td>\n",
              "    </tr>\n",
              "    <tr>\n",
              "      <th>21</th>\n",
              "      <td>EVAR may be more effective for rAAA , but its ...</td>\n",
              "      <td>12</td>\n",
              "      <td>13</td>\n",
              "      <td>CONCLUSIONS</td>\n",
              "      <td>BACKGROUND</td>\n",
              "      <td>0.612827</td>\n",
              "      <td>False</td>\n",
              "    </tr>\n",
              "    <tr>\n",
              "      <th>22</th>\n",
              "      <td>Evidence suggests that individuals with social...</td>\n",
              "      <td>0</td>\n",
              "      <td>9</td>\n",
              "      <td>BACKGROUND</td>\n",
              "      <td>BACKGROUND</td>\n",
              "      <td>0.700713</td>\n",
              "      <td>True</td>\n",
              "    </tr>\n",
              "    <tr>\n",
              "      <th>23</th>\n",
              "      <td>This study investigated whether oxytocin can a...</td>\n",
              "      <td>1</td>\n",
              "      <td>9</td>\n",
              "      <td>METHODS</td>\n",
              "      <td>OBJECTIVE</td>\n",
              "      <td>0.635359</td>\n",
              "      <td>False</td>\n",
              "    </tr>\n",
              "    <tr>\n",
              "      <th>24</th>\n",
              "      <td>In a double-blind , randomized , placebo-contr...</td>\n",
              "      <td>2</td>\n",
              "      <td>9</td>\n",
              "      <td>METHODS</td>\n",
              "      <td>METHODS</td>\n",
              "      <td>0.914800</td>\n",
              "      <td>True</td>\n",
              "    </tr>\n",
              "    <tr>\n",
              "      <th>25</th>\n",
              "      <td>Attentional bias was assessed using the dot-pr...</td>\n",
              "      <td>3</td>\n",
              "      <td>9</td>\n",
              "      <td>METHODS</td>\n",
              "      <td>METHODS</td>\n",
              "      <td>0.984706</td>\n",
              "      <td>True</td>\n",
              "    </tr>\n",
              "    <tr>\n",
              "      <th>26</th>\n",
              "      <td>In the baseline placebo condition , the HSA gr...</td>\n",
              "      <td>4</td>\n",
              "      <td>9</td>\n",
              "      <td>RESULTS</td>\n",
              "      <td>RESULTS</td>\n",
              "      <td>0.977891</td>\n",
              "      <td>True</td>\n",
              "    </tr>\n",
              "    <tr>\n",
              "      <th>27</th>\n",
              "      <td>Oxytocin reduced the difference between HSA an...</td>\n",
              "      <td>5</td>\n",
              "      <td>9</td>\n",
              "      <td>RESULTS</td>\n",
              "      <td>RESULTS</td>\n",
              "      <td>0.722397</td>\n",
              "      <td>True</td>\n",
              "    </tr>\n",
              "    <tr>\n",
              "      <th>28</th>\n",
              "      <td>Moreover , it appeared to normalize attentiona...</td>\n",
              "      <td>6</td>\n",
              "      <td>9</td>\n",
              "      <td>RESULTS</td>\n",
              "      <td>RESULTS</td>\n",
              "      <td>0.713127</td>\n",
              "      <td>True</td>\n",
              "    </tr>\n",
              "    <tr>\n",
              "      <th>29</th>\n",
              "      <td>The biological mechanisms by which oxytocin ma...</td>\n",
              "      <td>7</td>\n",
              "      <td>9</td>\n",
              "      <td>RESULTS</td>\n",
              "      <td>CONCLUSIONS</td>\n",
              "      <td>0.905732</td>\n",
              "      <td>False</td>\n",
              "    </tr>\n",
              "    <tr>\n",
              "      <th>30</th>\n",
              "      <td>These results , coupled with previous research...</td>\n",
              "      <td>8</td>\n",
              "      <td>9</td>\n",
              "      <td>CONCLUSIONS</td>\n",
              "      <td>CONCLUSIONS</td>\n",
              "      <td>0.932205</td>\n",
              "      <td>True</td>\n",
              "    </tr>\n",
              "    <tr>\n",
              "      <th>31</th>\n",
              "      <td>Exposure to diesel exhaust causes inflammatory...</td>\n",
              "      <td>0</td>\n",
              "      <td>13</td>\n",
              "      <td>BACKGROUND</td>\n",
              "      <td>CONCLUSIONS</td>\n",
              "      <td>0.291355</td>\n",
              "      <td>False</td>\n",
              "    </tr>\n",
              "    <tr>\n",
              "      <th>32</th>\n",
              "      <td>Previous controlled exposure studies at a conc...</td>\n",
              "      <td>1</td>\n",
              "      <td>13</td>\n",
              "      <td>BACKGROUND</td>\n",
              "      <td>METHODS</td>\n",
              "      <td>0.348705</td>\n",
              "      <td>False</td>\n",
              "    </tr>\n",
              "    <tr>\n",
              "      <th>33</th>\n",
              "      <td>We prolonged the exposure period and investiga...</td>\n",
              "      <td>2</td>\n",
              "      <td>13</td>\n",
              "      <td>BACKGROUND</td>\n",
              "      <td>CONCLUSIONS</td>\n",
              "      <td>0.385610</td>\n",
              "      <td>False</td>\n",
              "    </tr>\n",
              "    <tr>\n",
              "      <th>34</th>\n",
              "      <td>Eighteen healthy volunteers were exposed twice...</td>\n",
              "      <td>3</td>\n",
              "      <td>13</td>\n",
              "      <td>METHODS</td>\n",
              "      <td>METHODS</td>\n",
              "      <td>0.952466</td>\n",
              "      <td>True</td>\n",
              "    </tr>\n",
              "    <tr>\n",
              "      <th>35</th>\n",
              "      <td>Immediately before and after exposure , we per...</td>\n",
              "      <td>4</td>\n",
              "      <td>13</td>\n",
              "      <td>METHODS</td>\n",
              "      <td>METHODS</td>\n",
              "      <td>0.975096</td>\n",
              "      <td>True</td>\n",
              "    </tr>\n",
              "    <tr>\n",
              "      <th>36</th>\n",
              "      <td>Nasal lavage and blood samples were collected ...</td>\n",
              "      <td>5</td>\n",
              "      <td>13</td>\n",
              "      <td>METHODS</td>\n",
              "      <td>METHODS</td>\n",
              "      <td>0.996678</td>\n",
              "      <td>True</td>\n",
              "    </tr>\n",
              "    <tr>\n",
              "      <th>37</th>\n",
              "      <td>Symptom scores and peak expiratory flow ( PEF ...</td>\n",
              "      <td>6</td>\n",
              "      <td>13</td>\n",
              "      <td>METHODS</td>\n",
              "      <td>METHODS</td>\n",
              "      <td>0.993559</td>\n",
              "      <td>True</td>\n",
              "    </tr>\n",
              "    <tr>\n",
              "      <th>38</th>\n",
              "      <td>Self-rated throat irritation was higher during...</td>\n",
              "      <td>7</td>\n",
              "      <td>13</td>\n",
              "      <td>RESULTS</td>\n",
              "      <td>RESULTS</td>\n",
              "      <td>0.780546</td>\n",
              "      <td>True</td>\n",
              "    </tr>\n",
              "    <tr>\n",
              "      <th>39</th>\n",
              "      <td>Clinical signs of irritation in the upper airw...</td>\n",
              "      <td>8</td>\n",
              "      <td>13</td>\n",
              "      <td>RESULTS</td>\n",
              "      <td>RESULTS</td>\n",
              "      <td>0.999533</td>\n",
              "      <td>True</td>\n",
              "    </tr>\n",
              "    <tr>\n",
              "      <th>40</th>\n",
              "      <td>PEF increased during filtered air , but decrea...</td>\n",
              "      <td>9</td>\n",
              "      <td>13</td>\n",
              "      <td>RESULTS</td>\n",
              "      <td>RESULTS</td>\n",
              "      <td>0.998290</td>\n",
              "      <td>True</td>\n",
              "    </tr>\n",
              "    <tr>\n",
              "      <th>41</th>\n",
              "      <td>Monocyte and total leukocyte counts in periphe...</td>\n",
              "      <td>10</td>\n",
              "      <td>13</td>\n",
              "      <td>RESULTS</td>\n",
              "      <td>RESULTS</td>\n",
              "      <td>0.995423</td>\n",
              "      <td>True</td>\n",
              "    </tr>\n",
              "    <tr>\n",
              "      <th>42</th>\n",
              "      <td>Diesel exhaust induced acute adverse effects s...</td>\n",
              "      <td>11</td>\n",
              "      <td>13</td>\n",
              "      <td>CONCLUSIONS</td>\n",
              "      <td>CONCLUSIONS</td>\n",
              "      <td>0.525302</td>\n",
              "      <td>True</td>\n",
              "    </tr>\n",
              "    <tr>\n",
              "      <th>43</th>\n",
              "      <td>The effects were first seen at 75 min of expos...</td>\n",
              "      <td>12</td>\n",
              "      <td>13</td>\n",
              "      <td>CONCLUSIONS</td>\n",
              "      <td>RESULTS</td>\n",
              "      <td>0.673505</td>\n",
              "      <td>False</td>\n",
              "    </tr>\n",
              "    <tr>\n",
              "      <th>44</th>\n",
              "      <td>Depressive disorders are one of the leading co...</td>\n",
              "      <td>0</td>\n",
              "      <td>14</td>\n",
              "      <td>OBJECTIVE</td>\n",
              "      <td>BACKGROUND</td>\n",
              "      <td>0.734425</td>\n",
              "      <td>False</td>\n",
              "    </tr>\n",
              "    <tr>\n",
              "      <th>45</th>\n",
              "      <td>Numerous studies have demonstrated that pharma...</td>\n",
              "      <td>1</td>\n",
              "      <td>14</td>\n",
              "      <td>OBJECTIVE</td>\n",
              "      <td>BACKGROUND</td>\n",
              "      <td>0.686052</td>\n",
              "      <td>False</td>\n",
              "    </tr>\n",
              "    <tr>\n",
              "      <th>46</th>\n",
              "      <td>Psycho-education as an intervention has been s...</td>\n",
              "      <td>2</td>\n",
              "      <td>14</td>\n",
              "      <td>OBJECTIVE</td>\n",
              "      <td>BACKGROUND</td>\n",
              "      <td>0.774545</td>\n",
              "      <td>False</td>\n",
              "    </tr>\n",
              "    <tr>\n",
              "      <th>47</th>\n",
              "      <td>The present study aimed to assess the impact o...</td>\n",
              "      <td>3</td>\n",
              "      <td>14</td>\n",
              "      <td>OBJECTIVE</td>\n",
              "      <td>OBJECTIVE</td>\n",
              "      <td>0.497295</td>\n",
              "      <td>True</td>\n",
              "    </tr>\n",
              "    <tr>\n",
              "      <th>48</th>\n",
              "      <td>A total of 80 eligible depressed subjects were...</td>\n",
              "      <td>4</td>\n",
              "      <td>14</td>\n",
              "      <td>METHODS</td>\n",
              "      <td>RESULTS</td>\n",
              "      <td>0.513763</td>\n",
              "      <td>False</td>\n",
              "    </tr>\n",
              "    <tr>\n",
              "      <th>49</th>\n",
              "      <td>The study group involved an eligible family me...</td>\n",
              "      <td>5</td>\n",
              "      <td>14</td>\n",
              "      <td>METHODS</td>\n",
              "      <td>METHODS</td>\n",
              "      <td>0.986347</td>\n",
              "      <td>True</td>\n",
              "    </tr>\n",
              "  </tbody>\n",
              "</table>\n",
              "</div>\n",
              "    <div class=\"colab-df-buttons\">\n",
              "\n",
              "  <div class=\"colab-df-container\">\n",
              "    <button class=\"colab-df-convert\" onclick=\"convertToInteractive('df-31c0728c-5eb1-4ec7-8ac4-f6f3ea31804f')\"\n",
              "            title=\"Convert this dataframe to an interactive table.\"\n",
              "            style=\"display:none;\">\n",
              "\n",
              "  <svg xmlns=\"http://www.w3.org/2000/svg\" height=\"24px\" viewBox=\"0 -960 960 960\">\n",
              "    <path d=\"M120-120v-720h720v720H120Zm60-500h600v-160H180v160Zm220 220h160v-160H400v160Zm0 220h160v-160H400v160ZM180-400h160v-160H180v160Zm440 0h160v-160H620v160ZM180-180h160v-160H180v160Zm440 0h160v-160H620v160Z\"/>\n",
              "  </svg>\n",
              "    </button>\n",
              "\n",
              "  <style>\n",
              "    .colab-df-container {\n",
              "      display:flex;\n",
              "      gap: 12px;\n",
              "    }\n",
              "\n",
              "    .colab-df-convert {\n",
              "      background-color: #E8F0FE;\n",
              "      border: none;\n",
              "      border-radius: 50%;\n",
              "      cursor: pointer;\n",
              "      display: none;\n",
              "      fill: #1967D2;\n",
              "      height: 32px;\n",
              "      padding: 0 0 0 0;\n",
              "      width: 32px;\n",
              "    }\n",
              "\n",
              "    .colab-df-convert:hover {\n",
              "      background-color: #E2EBFA;\n",
              "      box-shadow: 0px 1px 2px rgba(60, 64, 67, 0.3), 0px 1px 3px 1px rgba(60, 64, 67, 0.15);\n",
              "      fill: #174EA6;\n",
              "    }\n",
              "\n",
              "    .colab-df-buttons div {\n",
              "      margin-bottom: 4px;\n",
              "    }\n",
              "\n",
              "    [theme=dark] .colab-df-convert {\n",
              "      background-color: #3B4455;\n",
              "      fill: #D2E3FC;\n",
              "    }\n",
              "\n",
              "    [theme=dark] .colab-df-convert:hover {\n",
              "      background-color: #434B5C;\n",
              "      box-shadow: 0px 1px 3px 1px rgba(0, 0, 0, 0.15);\n",
              "      filter: drop-shadow(0px 1px 2px rgba(0, 0, 0, 0.3));\n",
              "      fill: #FFFFFF;\n",
              "    }\n",
              "  </style>\n",
              "\n",
              "    <script>\n",
              "      const buttonEl =\n",
              "        document.querySelector('#df-31c0728c-5eb1-4ec7-8ac4-f6f3ea31804f button.colab-df-convert');\n",
              "      buttonEl.style.display =\n",
              "        google.colab.kernel.accessAllowed ? 'block' : 'none';\n",
              "\n",
              "      async function convertToInteractive(key) {\n",
              "        const element = document.querySelector('#df-31c0728c-5eb1-4ec7-8ac4-f6f3ea31804f');\n",
              "        const dataTable =\n",
              "          await google.colab.kernel.invokeFunction('convertToInteractive',\n",
              "                                                    [key], {});\n",
              "        if (!dataTable) return;\n",
              "\n",
              "        const docLinkHtml = 'Like what you see? Visit the ' +\n",
              "          '<a target=\"_blank\" href=https://colab.research.google.com/notebooks/data_table.ipynb>data table notebook</a>'\n",
              "          + ' to learn more about interactive tables.';\n",
              "        element.innerHTML = '';\n",
              "        dataTable['output_type'] = 'display_data';\n",
              "        await google.colab.output.renderOutput(dataTable, element);\n",
              "        const docLink = document.createElement('div');\n",
              "        docLink.innerHTML = docLinkHtml;\n",
              "        element.appendChild(docLink);\n",
              "      }\n",
              "    </script>\n",
              "  </div>\n",
              "\n",
              "\n",
              "<div id=\"df-8522c0d9-34c4-4f16-8784-9ca2afc8a30e\">\n",
              "  <button class=\"colab-df-quickchart\" onclick=\"quickchart('df-8522c0d9-34c4-4f16-8784-9ca2afc8a30e')\"\n",
              "            title=\"Suggest charts\"\n",
              "            style=\"display:none;\">\n",
              "\n",
              "<svg xmlns=\"http://www.w3.org/2000/svg\" height=\"24px\"viewBox=\"0 0 24 24\"\n",
              "     width=\"24px\">\n",
              "    <g>\n",
              "        <path d=\"M19 3H5c-1.1 0-2 .9-2 2v14c0 1.1.9 2 2 2h14c1.1 0 2-.9 2-2V5c0-1.1-.9-2-2-2zM9 17H7v-7h2v7zm4 0h-2V7h2v10zm4 0h-2v-4h2v4z\"/>\n",
              "    </g>\n",
              "</svg>\n",
              "  </button>\n",
              "\n",
              "<style>\n",
              "  .colab-df-quickchart {\n",
              "      --bg-color: #E8F0FE;\n",
              "      --fill-color: #1967D2;\n",
              "      --hover-bg-color: #E2EBFA;\n",
              "      --hover-fill-color: #174EA6;\n",
              "      --disabled-fill-color: #AAA;\n",
              "      --disabled-bg-color: #DDD;\n",
              "  }\n",
              "\n",
              "  [theme=dark] .colab-df-quickchart {\n",
              "      --bg-color: #3B4455;\n",
              "      --fill-color: #D2E3FC;\n",
              "      --hover-bg-color: #434B5C;\n",
              "      --hover-fill-color: #FFFFFF;\n",
              "      --disabled-bg-color: #3B4455;\n",
              "      --disabled-fill-color: #666;\n",
              "  }\n",
              "\n",
              "  .colab-df-quickchart {\n",
              "    background-color: var(--bg-color);\n",
              "    border: none;\n",
              "    border-radius: 50%;\n",
              "    cursor: pointer;\n",
              "    display: none;\n",
              "    fill: var(--fill-color);\n",
              "    height: 32px;\n",
              "    padding: 0;\n",
              "    width: 32px;\n",
              "  }\n",
              "\n",
              "  .colab-df-quickchart:hover {\n",
              "    background-color: var(--hover-bg-color);\n",
              "    box-shadow: 0 1px 2px rgba(60, 64, 67, 0.3), 0 1px 3px 1px rgba(60, 64, 67, 0.15);\n",
              "    fill: var(--button-hover-fill-color);\n",
              "  }\n",
              "\n",
              "  .colab-df-quickchart-complete:disabled,\n",
              "  .colab-df-quickchart-complete:disabled:hover {\n",
              "    background-color: var(--disabled-bg-color);\n",
              "    fill: var(--disabled-fill-color);\n",
              "    box-shadow: none;\n",
              "  }\n",
              "\n",
              "  .colab-df-spinner {\n",
              "    border: 2px solid var(--fill-color);\n",
              "    border-color: transparent;\n",
              "    border-bottom-color: var(--fill-color);\n",
              "    animation:\n",
              "      spin 1s steps(1) infinite;\n",
              "  }\n",
              "\n",
              "  @keyframes spin {\n",
              "    0% {\n",
              "      border-color: transparent;\n",
              "      border-bottom-color: var(--fill-color);\n",
              "      border-left-color: var(--fill-color);\n",
              "    }\n",
              "    20% {\n",
              "      border-color: transparent;\n",
              "      border-left-color: var(--fill-color);\n",
              "      border-top-color: var(--fill-color);\n",
              "    }\n",
              "    30% {\n",
              "      border-color: transparent;\n",
              "      border-left-color: var(--fill-color);\n",
              "      border-top-color: var(--fill-color);\n",
              "      border-right-color: var(--fill-color);\n",
              "    }\n",
              "    40% {\n",
              "      border-color: transparent;\n",
              "      border-right-color: var(--fill-color);\n",
              "      border-top-color: var(--fill-color);\n",
              "    }\n",
              "    60% {\n",
              "      border-color: transparent;\n",
              "      border-right-color: var(--fill-color);\n",
              "    }\n",
              "    80% {\n",
              "      border-color: transparent;\n",
              "      border-right-color: var(--fill-color);\n",
              "      border-bottom-color: var(--fill-color);\n",
              "    }\n",
              "    90% {\n",
              "      border-color: transparent;\n",
              "      border-bottom-color: var(--fill-color);\n",
              "    }\n",
              "  }\n",
              "</style>\n",
              "\n",
              "  <script>\n",
              "    async function quickchart(key) {\n",
              "      const quickchartButtonEl =\n",
              "        document.querySelector('#' + key + ' button');\n",
              "      quickchartButtonEl.disabled = true;  // To prevent multiple clicks.\n",
              "      quickchartButtonEl.classList.add('colab-df-spinner');\n",
              "      try {\n",
              "        const charts = await google.colab.kernel.invokeFunction(\n",
              "            'suggestCharts', [key], {});\n",
              "      } catch (error) {\n",
              "        console.error('Error during call to suggestCharts:', error);\n",
              "      }\n",
              "      quickchartButtonEl.classList.remove('colab-df-spinner');\n",
              "      quickchartButtonEl.classList.add('colab-df-quickchart-complete');\n",
              "    }\n",
              "    (() => {\n",
              "      let quickchartButtonEl =\n",
              "        document.querySelector('#df-8522c0d9-34c4-4f16-8784-9ca2afc8a30e button');\n",
              "      quickchartButtonEl.style.display =\n",
              "        google.colab.kernel.accessAllowed ? 'block' : 'none';\n",
              "    })();\n",
              "  </script>\n",
              "</div>\n",
              "\n",
              "    </div>\n",
              "  </div>\n"
            ],
            "application/vnd.google.colaboratory.intrinsic+json": {
              "type": "dataframe",
              "variable_name": "test_df",
              "summary": "{\n  \"name\": \"test_df\",\n  \"rows\": 30135,\n  \"fields\": [\n    {\n      \"column\": \"abstract_text\",\n      \"properties\": {\n        \"dtype\": \"string\",\n        \"num_unique_values\": 30021,\n        \"samples\": [\n          \"Treatment for displaced proximal humeral fractures is still under debate .\",\n          \"Thirty teeth were examined and subjected to statistical analysis , 12 in the control group and 18 in the test group .\",\n          \"Intensive leukocytapheresis ( 4 leukocytapheresis sessions within the first 2 weeks ) was used in > 70 % of the patients .\"\n        ],\n        \"semantic_type\": \"\",\n        \"description\": \"\"\n      }\n    },\n    {\n      \"column\": \"line_number\",\n      \"properties\": {\n        \"dtype\": \"number\",\n        \"std\": 4,\n        \"min\": 0,\n        \"max\": 27,\n        \"num_unique_values\": 28,\n        \"samples\": [\n          9,\n          25,\n          8\n        ],\n        \"semantic_type\": \"\",\n        \"description\": \"\"\n      }\n    },\n    {\n      \"column\": \"total_lines\",\n      \"properties\": {\n        \"dtype\": \"number\",\n        \"std\": 3,\n        \"min\": 4,\n        \"max\": 28,\n        \"num_unique_values\": 23,\n        \"samples\": [\n          25,\n          17,\n          9\n        ],\n        \"semantic_type\": \"\",\n        \"description\": \"\"\n      }\n    },\n    {\n      \"column\": \"target\",\n      \"properties\": {\n        \"dtype\": \"category\",\n        \"num_unique_values\": 5,\n        \"samples\": [\n          \"RESULTS\",\n          \"OBJECTIVE\",\n          \"CONCLUSIONS\"\n        ],\n        \"semantic_type\": \"\",\n        \"description\": \"\"\n      }\n    },\n    {\n      \"column\": \"prediction\",\n      \"properties\": {\n        \"dtype\": \"category\",\n        \"num_unique_values\": 5,\n        \"samples\": [\n          \"METHODS\",\n          \"OBJECTIVE\",\n          \"BACKGROUND\"\n        ],\n        \"semantic_type\": \"\",\n        \"description\": \"\"\n      }\n    },\n    {\n      \"column\": \"pred_prob\",\n      \"properties\": {\n        \"dtype\": \"float32\",\n        \"num_unique_values\": 29335,\n        \"samples\": [\n          0.9932782649993896,\n          0.9176519513130188,\n          0.6864795684814453\n        ],\n        \"semantic_type\": \"\",\n        \"description\": \"\"\n      }\n    },\n    {\n      \"column\": \"correct\",\n      \"properties\": {\n        \"dtype\": \"boolean\",\n        \"num_unique_values\": 2,\n        \"samples\": [\n          true,\n          false\n        ],\n        \"semantic_type\": \"\",\n        \"description\": \"\"\n      }\n    }\n  ]\n}"
            }
          },
          "metadata": {},
          "execution_count": 98
        }
      ]
    },
    {
      "cell_type": "code",
      "source": [
        "#Inspect Most 50 Inaccurate Predictions\n",
        "top_50_wrong = test_df[test_df[\"correct\"] == False].sort_values(\"pred_prob\", ascending=False)[:50]\n",
        "top_50_wrong"
      ],
      "metadata": {
        "colab": {
          "base_uri": "https://localhost:8080/",
          "height": 1000
        },
        "id": "V3jxRkUbYjbc",
        "outputId": "7b31e012-b987-4aec-8eed-3a2c50d57419"
      },
      "execution_count": 99,
      "outputs": [
        {
          "output_type": "execute_result",
          "data": {
            "text/plain": [
              "                                           abstract_text  line_number  \\\n",
              "21186  Mean distraction rates were similar between gr...            8   \n",
              "13598  -1.5 % vs. Fish : -1.4 % vs. Fish + S : -0.7 %...            6   \n",
              "28424  However , the subgroup of subjects , which inh...            5   \n",
              "30065  There was no significant difference in gender ...            4   \n",
              "29294  Baseline measures included sociodemographics ,...            4   \n",
              "2523   A total of 519 people ( 14.7 % ) were diagnose...           11   \n",
              "9130   The expected CIN rate was similar for the two ...            4   \n",
              "12158  In the saffron group , there was no decline in...            9   \n",
              "9468   PDT was associated with a significant decrease...            7   \n",
              "25382  At this time , an AS40 response was achieved b...            5   \n",
              "12159  No pain was reported in the saffron group , wh...           10   \n",
              "20346  Outcomes were examined using Kaplan-Meier and ...            3   \n",
              "12082  Comparable numbers of patients experienced BCG...           11   \n",
              "137    Compared to group S , there was a transient im...            8   \n",
              "8651   Women aged 20-65 years in the population that ...            8   \n",
              "2524   More sight-threatening retinopathies were foun...           12   \n",
              "19313  ( 3 ) The differences in heart rate and blood ...           17   \n",
              "25664  Rifampicin significantly increased the mean ar...            6   \n",
              "9371   In the experimental group all BODE components ...           14   \n",
              "6028          Courses were repeated every 4 to 6 weeks .            5   \n",
              "29389  In newly diagnosed glioblastoma , progression-...            2   \n",
              "29692  Repeated measures analysis of variance ( ANOVA...            3   \n",
              "8648   This is of public health importance as identif...            5   \n",
              "591    During each treatment period , blood samples w...           12   \n",
              "20752  The experiment lasted 6weeks , and samples wer...            2   \n",
              "16877  Primary efficacy endpoint was trough forced ex...            4   \n",
              "23656  Time until stable health status , length of ca...            9   \n",
              "14200  Nineteen study implants were placed according ...            7   \n",
              "8655   The intervention groups were either be given a...           12   \n",
              "17021  Study participants were asked to complete the ...            5   \n",
              "9467   Total anaerobic counts of bacteria did not dif...            6   \n",
              "7556                     Mean age was 58.5 ( SD 11.7 ) .            4   \n",
              "5052   Seventy-six patients were treated with EIA ( e...            5   \n",
              "18195  Primary outcome measure was time to BP target ...            9   \n",
              "10085  Findings suggest that POWeR is acceptable and ...            6   \n",
              "388    There were 328 patients assigned to the placeb...            2   \n",
              "29098  An active control arm received salmeterol ( SA...            5   \n",
              "303    Projected life expectancy was estimated using ...            3   \n",
              "25106  Patients ' health-related QoL was assessed usi...            6   \n",
              "8527   Participants were randomly allocated to a trea...            2   \n",
              "16840  The primary endpoint was a composite of cardio...            3   \n",
              "9881   The primary outcome was BP control , and secon...            4   \n",
              "13711  Before screening , all participants will be pr...           12   \n",
              "9663   Primary ethics approval was received from the ...           14   \n",
              "15674  Both intervention groups included a face-to-fa...            3   \n",
              "17014  The results indicate that application of trane...            3   \n",
              "1221   Data were collected prospectively for 12 month...            3   \n",
              "29826  We performed a secondary analysis using the Si...            1   \n",
              "15572  Participants were university students which li...            8   \n",
              "19427  Quality-adjusted lifeyears were calculated by ...            5   \n",
              "\n",
              "       total_lines       target   prediction  pred_prob  correct  \n",
              "21186           18      METHODS      RESULTS   0.999880    False  \n",
              "13598           10      METHODS      RESULTS   0.999838    False  \n",
              "28424           11   BACKGROUND      RESULTS   0.999679    False  \n",
              "30065           13      METHODS      RESULTS   0.999247    False  \n",
              "29294           14      RESULTS      METHODS   0.999211    False  \n",
              "2523            15    OBJECTIVE      RESULTS   0.998341    False  \n",
              "9130            11      METHODS      RESULTS   0.998313    False  \n",
              "12158           13      METHODS      RESULTS   0.998276    False  \n",
              "9468            10  CONCLUSIONS      RESULTS   0.998163    False  \n",
              "25382            8      METHODS      RESULTS   0.998147    False  \n",
              "12159           13      METHODS      RESULTS   0.997537    False  \n",
              "20346            9      RESULTS      METHODS   0.997347    False  \n",
              "12082           19  CONCLUSIONS      RESULTS   0.997070    False  \n",
              "137              9  CONCLUSIONS      RESULTS   0.996862    False  \n",
              "8651            16      RESULTS      METHODS   0.996786    False  \n",
              "2524            15    OBJECTIVE      RESULTS   0.996782    False  \n",
              "19313           20      METHODS      RESULTS   0.996759    False  \n",
              "25664           12  CONCLUSIONS      RESULTS   0.996539    False  \n",
              "9371            15  CONCLUSIONS      RESULTS   0.996406    False  \n",
              "6028            16      RESULTS      METHODS   0.996115    False  \n",
              "29389           13    OBJECTIVE      RESULTS   0.995862    False  \n",
              "29692            7      RESULTS      METHODS   0.995673    False  \n",
              "8648            16   BACKGROUND  CONCLUSIONS   0.995487    False  \n",
              "591             20      RESULTS      METHODS   0.995441    False  \n",
              "20752           10   BACKGROUND      METHODS   0.995420    False  \n",
              "16877           14      RESULTS      METHODS   0.995420    False  \n",
              "23656           15  CONCLUSIONS      RESULTS   0.995380    False  \n",
              "14200           20      RESULTS      METHODS   0.995329    False  \n",
              "8655            16      RESULTS      METHODS   0.995188    False  \n",
              "17021           11      RESULTS      METHODS   0.994906    False  \n",
              "9467            10  CONCLUSIONS      RESULTS   0.994892    False  \n",
              "7556            19      METHODS      RESULTS   0.994695    False  \n",
              "5052            12      METHODS      RESULTS   0.994161    False  \n",
              "18195           18      RESULTS      METHODS   0.993996    False  \n",
              "10085           20      RESULTS  CONCLUSIONS   0.993839    False  \n",
              "388             12      METHODS      RESULTS   0.993744    False  \n",
              "29098           16   BACKGROUND      METHODS   0.993544    False  \n",
              "303             11      RESULTS      METHODS   0.993295    False  \n",
              "25106           16      RESULTS      METHODS   0.993173    False  \n",
              "8527            11    OBJECTIVE      METHODS   0.993092    False  \n",
              "16840           13      RESULTS      METHODS   0.992974    False  \n",
              "9881            12      RESULTS      METHODS   0.992708    False  \n",
              "13711           15   BACKGROUND      METHODS   0.992581    False  \n",
              "9663            17   BACKGROUND      METHODS   0.992487    False  \n",
              "15674           11      RESULTS      METHODS   0.992281    False  \n",
              "17014            5      RESULTS  CONCLUSIONS   0.992220    False  \n",
              "1221            14      RESULTS      METHODS   0.992091    False  \n",
              "29826           14      RESULTS      METHODS   0.991881    False  \n",
              "15572           10  CONCLUSIONS      METHODS   0.991813    False  \n",
              "19427           13      RESULTS      METHODS   0.991442    False  "
            ],
            "text/html": [
              "\n",
              "  <div id=\"df-3f5aaf8f-c33d-4552-9049-5facd45bafb7\" class=\"colab-df-container\">\n",
              "    <div>\n",
              "<style scoped>\n",
              "    .dataframe tbody tr th:only-of-type {\n",
              "        vertical-align: middle;\n",
              "    }\n",
              "\n",
              "    .dataframe tbody tr th {\n",
              "        vertical-align: top;\n",
              "    }\n",
              "\n",
              "    .dataframe thead th {\n",
              "        text-align: right;\n",
              "    }\n",
              "</style>\n",
              "<table border=\"1\" class=\"dataframe\">\n",
              "  <thead>\n",
              "    <tr style=\"text-align: right;\">\n",
              "      <th></th>\n",
              "      <th>abstract_text</th>\n",
              "      <th>line_number</th>\n",
              "      <th>total_lines</th>\n",
              "      <th>target</th>\n",
              "      <th>prediction</th>\n",
              "      <th>pred_prob</th>\n",
              "      <th>correct</th>\n",
              "    </tr>\n",
              "  </thead>\n",
              "  <tbody>\n",
              "    <tr>\n",
              "      <th>21186</th>\n",
              "      <td>Mean distraction rates were similar between gr...</td>\n",
              "      <td>8</td>\n",
              "      <td>18</td>\n",
              "      <td>METHODS</td>\n",
              "      <td>RESULTS</td>\n",
              "      <td>0.999880</td>\n",
              "      <td>False</td>\n",
              "    </tr>\n",
              "    <tr>\n",
              "      <th>13598</th>\n",
              "      <td>-1.5 % vs. Fish : -1.4 % vs. Fish + S : -0.7 %...</td>\n",
              "      <td>6</td>\n",
              "      <td>10</td>\n",
              "      <td>METHODS</td>\n",
              "      <td>RESULTS</td>\n",
              "      <td>0.999838</td>\n",
              "      <td>False</td>\n",
              "    </tr>\n",
              "    <tr>\n",
              "      <th>28424</th>\n",
              "      <td>However , the subgroup of subjects , which inh...</td>\n",
              "      <td>5</td>\n",
              "      <td>11</td>\n",
              "      <td>BACKGROUND</td>\n",
              "      <td>RESULTS</td>\n",
              "      <td>0.999679</td>\n",
              "      <td>False</td>\n",
              "    </tr>\n",
              "    <tr>\n",
              "      <th>30065</th>\n",
              "      <td>There was no significant difference in gender ...</td>\n",
              "      <td>4</td>\n",
              "      <td>13</td>\n",
              "      <td>METHODS</td>\n",
              "      <td>RESULTS</td>\n",
              "      <td>0.999247</td>\n",
              "      <td>False</td>\n",
              "    </tr>\n",
              "    <tr>\n",
              "      <th>29294</th>\n",
              "      <td>Baseline measures included sociodemographics ,...</td>\n",
              "      <td>4</td>\n",
              "      <td>14</td>\n",
              "      <td>RESULTS</td>\n",
              "      <td>METHODS</td>\n",
              "      <td>0.999211</td>\n",
              "      <td>False</td>\n",
              "    </tr>\n",
              "    <tr>\n",
              "      <th>2523</th>\n",
              "      <td>A total of 519 people ( 14.7 % ) were diagnose...</td>\n",
              "      <td>11</td>\n",
              "      <td>15</td>\n",
              "      <td>OBJECTIVE</td>\n",
              "      <td>RESULTS</td>\n",
              "      <td>0.998341</td>\n",
              "      <td>False</td>\n",
              "    </tr>\n",
              "    <tr>\n",
              "      <th>9130</th>\n",
              "      <td>The expected CIN rate was similar for the two ...</td>\n",
              "      <td>4</td>\n",
              "      <td>11</td>\n",
              "      <td>METHODS</td>\n",
              "      <td>RESULTS</td>\n",
              "      <td>0.998313</td>\n",
              "      <td>False</td>\n",
              "    </tr>\n",
              "    <tr>\n",
              "      <th>12158</th>\n",
              "      <td>In the saffron group , there was no decline in...</td>\n",
              "      <td>9</td>\n",
              "      <td>13</td>\n",
              "      <td>METHODS</td>\n",
              "      <td>RESULTS</td>\n",
              "      <td>0.998276</td>\n",
              "      <td>False</td>\n",
              "    </tr>\n",
              "    <tr>\n",
              "      <th>9468</th>\n",
              "      <td>PDT was associated with a significant decrease...</td>\n",
              "      <td>7</td>\n",
              "      <td>10</td>\n",
              "      <td>CONCLUSIONS</td>\n",
              "      <td>RESULTS</td>\n",
              "      <td>0.998163</td>\n",
              "      <td>False</td>\n",
              "    </tr>\n",
              "    <tr>\n",
              "      <th>25382</th>\n",
              "      <td>At this time , an AS40 response was achieved b...</td>\n",
              "      <td>5</td>\n",
              "      <td>8</td>\n",
              "      <td>METHODS</td>\n",
              "      <td>RESULTS</td>\n",
              "      <td>0.998147</td>\n",
              "      <td>False</td>\n",
              "    </tr>\n",
              "    <tr>\n",
              "      <th>12159</th>\n",
              "      <td>No pain was reported in the saffron group , wh...</td>\n",
              "      <td>10</td>\n",
              "      <td>13</td>\n",
              "      <td>METHODS</td>\n",
              "      <td>RESULTS</td>\n",
              "      <td>0.997537</td>\n",
              "      <td>False</td>\n",
              "    </tr>\n",
              "    <tr>\n",
              "      <th>20346</th>\n",
              "      <td>Outcomes were examined using Kaplan-Meier and ...</td>\n",
              "      <td>3</td>\n",
              "      <td>9</td>\n",
              "      <td>RESULTS</td>\n",
              "      <td>METHODS</td>\n",
              "      <td>0.997347</td>\n",
              "      <td>False</td>\n",
              "    </tr>\n",
              "    <tr>\n",
              "      <th>12082</th>\n",
              "      <td>Comparable numbers of patients experienced BCG...</td>\n",
              "      <td>11</td>\n",
              "      <td>19</td>\n",
              "      <td>CONCLUSIONS</td>\n",
              "      <td>RESULTS</td>\n",
              "      <td>0.997070</td>\n",
              "      <td>False</td>\n",
              "    </tr>\n",
              "    <tr>\n",
              "      <th>137</th>\n",
              "      <td>Compared to group S , there was a transient im...</td>\n",
              "      <td>8</td>\n",
              "      <td>9</td>\n",
              "      <td>CONCLUSIONS</td>\n",
              "      <td>RESULTS</td>\n",
              "      <td>0.996862</td>\n",
              "      <td>False</td>\n",
              "    </tr>\n",
              "    <tr>\n",
              "      <th>8651</th>\n",
              "      <td>Women aged 20-65 years in the population that ...</td>\n",
              "      <td>8</td>\n",
              "      <td>16</td>\n",
              "      <td>RESULTS</td>\n",
              "      <td>METHODS</td>\n",
              "      <td>0.996786</td>\n",
              "      <td>False</td>\n",
              "    </tr>\n",
              "    <tr>\n",
              "      <th>2524</th>\n",
              "      <td>More sight-threatening retinopathies were foun...</td>\n",
              "      <td>12</td>\n",
              "      <td>15</td>\n",
              "      <td>OBJECTIVE</td>\n",
              "      <td>RESULTS</td>\n",
              "      <td>0.996782</td>\n",
              "      <td>False</td>\n",
              "    </tr>\n",
              "    <tr>\n",
              "      <th>19313</th>\n",
              "      <td>( 3 ) The differences in heart rate and blood ...</td>\n",
              "      <td>17</td>\n",
              "      <td>20</td>\n",
              "      <td>METHODS</td>\n",
              "      <td>RESULTS</td>\n",
              "      <td>0.996759</td>\n",
              "      <td>False</td>\n",
              "    </tr>\n",
              "    <tr>\n",
              "      <th>25664</th>\n",
              "      <td>Rifampicin significantly increased the mean ar...</td>\n",
              "      <td>6</td>\n",
              "      <td>12</td>\n",
              "      <td>CONCLUSIONS</td>\n",
              "      <td>RESULTS</td>\n",
              "      <td>0.996539</td>\n",
              "      <td>False</td>\n",
              "    </tr>\n",
              "    <tr>\n",
              "      <th>9371</th>\n",
              "      <td>In the experimental group all BODE components ...</td>\n",
              "      <td>14</td>\n",
              "      <td>15</td>\n",
              "      <td>CONCLUSIONS</td>\n",
              "      <td>RESULTS</td>\n",
              "      <td>0.996406</td>\n",
              "      <td>False</td>\n",
              "    </tr>\n",
              "    <tr>\n",
              "      <th>6028</th>\n",
              "      <td>Courses were repeated every 4 to 6 weeks .</td>\n",
              "      <td>5</td>\n",
              "      <td>16</td>\n",
              "      <td>RESULTS</td>\n",
              "      <td>METHODS</td>\n",
              "      <td>0.996115</td>\n",
              "      <td>False</td>\n",
              "    </tr>\n",
              "    <tr>\n",
              "      <th>29389</th>\n",
              "      <td>In newly diagnosed glioblastoma , progression-...</td>\n",
              "      <td>2</td>\n",
              "      <td>13</td>\n",
              "      <td>OBJECTIVE</td>\n",
              "      <td>RESULTS</td>\n",
              "      <td>0.995862</td>\n",
              "      <td>False</td>\n",
              "    </tr>\n",
              "    <tr>\n",
              "      <th>29692</th>\n",
              "      <td>Repeated measures analysis of variance ( ANOVA...</td>\n",
              "      <td>3</td>\n",
              "      <td>7</td>\n",
              "      <td>RESULTS</td>\n",
              "      <td>METHODS</td>\n",
              "      <td>0.995673</td>\n",
              "      <td>False</td>\n",
              "    </tr>\n",
              "    <tr>\n",
              "      <th>8648</th>\n",
              "      <td>This is of public health importance as identif...</td>\n",
              "      <td>5</td>\n",
              "      <td>16</td>\n",
              "      <td>BACKGROUND</td>\n",
              "      <td>CONCLUSIONS</td>\n",
              "      <td>0.995487</td>\n",
              "      <td>False</td>\n",
              "    </tr>\n",
              "    <tr>\n",
              "      <th>591</th>\n",
              "      <td>During each treatment period , blood samples w...</td>\n",
              "      <td>12</td>\n",
              "      <td>20</td>\n",
              "      <td>RESULTS</td>\n",
              "      <td>METHODS</td>\n",
              "      <td>0.995441</td>\n",
              "      <td>False</td>\n",
              "    </tr>\n",
              "    <tr>\n",
              "      <th>20752</th>\n",
              "      <td>The experiment lasted 6weeks , and samples wer...</td>\n",
              "      <td>2</td>\n",
              "      <td>10</td>\n",
              "      <td>BACKGROUND</td>\n",
              "      <td>METHODS</td>\n",
              "      <td>0.995420</td>\n",
              "      <td>False</td>\n",
              "    </tr>\n",
              "    <tr>\n",
              "      <th>16877</th>\n",
              "      <td>Primary efficacy endpoint was trough forced ex...</td>\n",
              "      <td>4</td>\n",
              "      <td>14</td>\n",
              "      <td>RESULTS</td>\n",
              "      <td>METHODS</td>\n",
              "      <td>0.995420</td>\n",
              "      <td>False</td>\n",
              "    </tr>\n",
              "    <tr>\n",
              "      <th>23656</th>\n",
              "      <td>Time until stable health status , length of ca...</td>\n",
              "      <td>9</td>\n",
              "      <td>15</td>\n",
              "      <td>CONCLUSIONS</td>\n",
              "      <td>RESULTS</td>\n",
              "      <td>0.995380</td>\n",
              "      <td>False</td>\n",
              "    </tr>\n",
              "    <tr>\n",
              "      <th>14200</th>\n",
              "      <td>Nineteen study implants were placed according ...</td>\n",
              "      <td>7</td>\n",
              "      <td>20</td>\n",
              "      <td>RESULTS</td>\n",
              "      <td>METHODS</td>\n",
              "      <td>0.995329</td>\n",
              "      <td>False</td>\n",
              "    </tr>\n",
              "    <tr>\n",
              "      <th>8655</th>\n",
              "      <td>The intervention groups were either be given a...</td>\n",
              "      <td>12</td>\n",
              "      <td>16</td>\n",
              "      <td>RESULTS</td>\n",
              "      <td>METHODS</td>\n",
              "      <td>0.995188</td>\n",
              "      <td>False</td>\n",
              "    </tr>\n",
              "    <tr>\n",
              "      <th>17021</th>\n",
              "      <td>Study participants were asked to complete the ...</td>\n",
              "      <td>5</td>\n",
              "      <td>11</td>\n",
              "      <td>RESULTS</td>\n",
              "      <td>METHODS</td>\n",
              "      <td>0.994906</td>\n",
              "      <td>False</td>\n",
              "    </tr>\n",
              "    <tr>\n",
              "      <th>9467</th>\n",
              "      <td>Total anaerobic counts of bacteria did not dif...</td>\n",
              "      <td>6</td>\n",
              "      <td>10</td>\n",
              "      <td>CONCLUSIONS</td>\n",
              "      <td>RESULTS</td>\n",
              "      <td>0.994892</td>\n",
              "      <td>False</td>\n",
              "    </tr>\n",
              "    <tr>\n",
              "      <th>7556</th>\n",
              "      <td>Mean age was 58.5 ( SD 11.7 ) .</td>\n",
              "      <td>4</td>\n",
              "      <td>19</td>\n",
              "      <td>METHODS</td>\n",
              "      <td>RESULTS</td>\n",
              "      <td>0.994695</td>\n",
              "      <td>False</td>\n",
              "    </tr>\n",
              "    <tr>\n",
              "      <th>5052</th>\n",
              "      <td>Seventy-six patients were treated with EIA ( e...</td>\n",
              "      <td>5</td>\n",
              "      <td>12</td>\n",
              "      <td>METHODS</td>\n",
              "      <td>RESULTS</td>\n",
              "      <td>0.994161</td>\n",
              "      <td>False</td>\n",
              "    </tr>\n",
              "    <tr>\n",
              "      <th>18195</th>\n",
              "      <td>Primary outcome measure was time to BP target ...</td>\n",
              "      <td>9</td>\n",
              "      <td>18</td>\n",
              "      <td>RESULTS</td>\n",
              "      <td>METHODS</td>\n",
              "      <td>0.993996</td>\n",
              "      <td>False</td>\n",
              "    </tr>\n",
              "    <tr>\n",
              "      <th>10085</th>\n",
              "      <td>Findings suggest that POWeR is acceptable and ...</td>\n",
              "      <td>6</td>\n",
              "      <td>20</td>\n",
              "      <td>RESULTS</td>\n",
              "      <td>CONCLUSIONS</td>\n",
              "      <td>0.993839</td>\n",
              "      <td>False</td>\n",
              "    </tr>\n",
              "    <tr>\n",
              "      <th>388</th>\n",
              "      <td>There were 328 patients assigned to the placeb...</td>\n",
              "      <td>2</td>\n",
              "      <td>12</td>\n",
              "      <td>METHODS</td>\n",
              "      <td>RESULTS</td>\n",
              "      <td>0.993744</td>\n",
              "      <td>False</td>\n",
              "    </tr>\n",
              "    <tr>\n",
              "      <th>29098</th>\n",
              "      <td>An active control arm received salmeterol ( SA...</td>\n",
              "      <td>5</td>\n",
              "      <td>16</td>\n",
              "      <td>BACKGROUND</td>\n",
              "      <td>METHODS</td>\n",
              "      <td>0.993544</td>\n",
              "      <td>False</td>\n",
              "    </tr>\n",
              "    <tr>\n",
              "      <th>303</th>\n",
              "      <td>Projected life expectancy was estimated using ...</td>\n",
              "      <td>3</td>\n",
              "      <td>11</td>\n",
              "      <td>RESULTS</td>\n",
              "      <td>METHODS</td>\n",
              "      <td>0.993295</td>\n",
              "      <td>False</td>\n",
              "    </tr>\n",
              "    <tr>\n",
              "      <th>25106</th>\n",
              "      <td>Patients ' health-related QoL was assessed usi...</td>\n",
              "      <td>6</td>\n",
              "      <td>16</td>\n",
              "      <td>RESULTS</td>\n",
              "      <td>METHODS</td>\n",
              "      <td>0.993173</td>\n",
              "      <td>False</td>\n",
              "    </tr>\n",
              "    <tr>\n",
              "      <th>8527</th>\n",
              "      <td>Participants were randomly allocated to a trea...</td>\n",
              "      <td>2</td>\n",
              "      <td>11</td>\n",
              "      <td>OBJECTIVE</td>\n",
              "      <td>METHODS</td>\n",
              "      <td>0.993092</td>\n",
              "      <td>False</td>\n",
              "    </tr>\n",
              "    <tr>\n",
              "      <th>16840</th>\n",
              "      <td>The primary endpoint was a composite of cardio...</td>\n",
              "      <td>3</td>\n",
              "      <td>13</td>\n",
              "      <td>RESULTS</td>\n",
              "      <td>METHODS</td>\n",
              "      <td>0.992974</td>\n",
              "      <td>False</td>\n",
              "    </tr>\n",
              "    <tr>\n",
              "      <th>9881</th>\n",
              "      <td>The primary outcome was BP control , and secon...</td>\n",
              "      <td>4</td>\n",
              "      <td>12</td>\n",
              "      <td>RESULTS</td>\n",
              "      <td>METHODS</td>\n",
              "      <td>0.992708</td>\n",
              "      <td>False</td>\n",
              "    </tr>\n",
              "    <tr>\n",
              "      <th>13711</th>\n",
              "      <td>Before screening , all participants will be pr...</td>\n",
              "      <td>12</td>\n",
              "      <td>15</td>\n",
              "      <td>BACKGROUND</td>\n",
              "      <td>METHODS</td>\n",
              "      <td>0.992581</td>\n",
              "      <td>False</td>\n",
              "    </tr>\n",
              "    <tr>\n",
              "      <th>9663</th>\n",
              "      <td>Primary ethics approval was received from the ...</td>\n",
              "      <td>14</td>\n",
              "      <td>17</td>\n",
              "      <td>BACKGROUND</td>\n",
              "      <td>METHODS</td>\n",
              "      <td>0.992487</td>\n",
              "      <td>False</td>\n",
              "    </tr>\n",
              "    <tr>\n",
              "      <th>15674</th>\n",
              "      <td>Both intervention groups included a face-to-fa...</td>\n",
              "      <td>3</td>\n",
              "      <td>11</td>\n",
              "      <td>RESULTS</td>\n",
              "      <td>METHODS</td>\n",
              "      <td>0.992281</td>\n",
              "      <td>False</td>\n",
              "    </tr>\n",
              "    <tr>\n",
              "      <th>17014</th>\n",
              "      <td>The results indicate that application of trane...</td>\n",
              "      <td>3</td>\n",
              "      <td>5</td>\n",
              "      <td>RESULTS</td>\n",
              "      <td>CONCLUSIONS</td>\n",
              "      <td>0.992220</td>\n",
              "      <td>False</td>\n",
              "    </tr>\n",
              "    <tr>\n",
              "      <th>1221</th>\n",
              "      <td>Data were collected prospectively for 12 month...</td>\n",
              "      <td>3</td>\n",
              "      <td>14</td>\n",
              "      <td>RESULTS</td>\n",
              "      <td>METHODS</td>\n",
              "      <td>0.992091</td>\n",
              "      <td>False</td>\n",
              "    </tr>\n",
              "    <tr>\n",
              "      <th>29826</th>\n",
              "      <td>We performed a secondary analysis using the Si...</td>\n",
              "      <td>1</td>\n",
              "      <td>14</td>\n",
              "      <td>RESULTS</td>\n",
              "      <td>METHODS</td>\n",
              "      <td>0.991881</td>\n",
              "      <td>False</td>\n",
              "    </tr>\n",
              "    <tr>\n",
              "      <th>15572</th>\n",
              "      <td>Participants were university students which li...</td>\n",
              "      <td>8</td>\n",
              "      <td>10</td>\n",
              "      <td>CONCLUSIONS</td>\n",
              "      <td>METHODS</td>\n",
              "      <td>0.991813</td>\n",
              "      <td>False</td>\n",
              "    </tr>\n",
              "    <tr>\n",
              "      <th>19427</th>\n",
              "      <td>Quality-adjusted lifeyears were calculated by ...</td>\n",
              "      <td>5</td>\n",
              "      <td>13</td>\n",
              "      <td>RESULTS</td>\n",
              "      <td>METHODS</td>\n",
              "      <td>0.991442</td>\n",
              "      <td>False</td>\n",
              "    </tr>\n",
              "  </tbody>\n",
              "</table>\n",
              "</div>\n",
              "    <div class=\"colab-df-buttons\">\n",
              "\n",
              "  <div class=\"colab-df-container\">\n",
              "    <button class=\"colab-df-convert\" onclick=\"convertToInteractive('df-3f5aaf8f-c33d-4552-9049-5facd45bafb7')\"\n",
              "            title=\"Convert this dataframe to an interactive table.\"\n",
              "            style=\"display:none;\">\n",
              "\n",
              "  <svg xmlns=\"http://www.w3.org/2000/svg\" height=\"24px\" viewBox=\"0 -960 960 960\">\n",
              "    <path d=\"M120-120v-720h720v720H120Zm60-500h600v-160H180v160Zm220 220h160v-160H400v160Zm0 220h160v-160H400v160ZM180-400h160v-160H180v160Zm440 0h160v-160H620v160ZM180-180h160v-160H180v160Zm440 0h160v-160H620v160Z\"/>\n",
              "  </svg>\n",
              "    </button>\n",
              "\n",
              "  <style>\n",
              "    .colab-df-container {\n",
              "      display:flex;\n",
              "      gap: 12px;\n",
              "    }\n",
              "\n",
              "    .colab-df-convert {\n",
              "      background-color: #E8F0FE;\n",
              "      border: none;\n",
              "      border-radius: 50%;\n",
              "      cursor: pointer;\n",
              "      display: none;\n",
              "      fill: #1967D2;\n",
              "      height: 32px;\n",
              "      padding: 0 0 0 0;\n",
              "      width: 32px;\n",
              "    }\n",
              "\n",
              "    .colab-df-convert:hover {\n",
              "      background-color: #E2EBFA;\n",
              "      box-shadow: 0px 1px 2px rgba(60, 64, 67, 0.3), 0px 1px 3px 1px rgba(60, 64, 67, 0.15);\n",
              "      fill: #174EA6;\n",
              "    }\n",
              "\n",
              "    .colab-df-buttons div {\n",
              "      margin-bottom: 4px;\n",
              "    }\n",
              "\n",
              "    [theme=dark] .colab-df-convert {\n",
              "      background-color: #3B4455;\n",
              "      fill: #D2E3FC;\n",
              "    }\n",
              "\n",
              "    [theme=dark] .colab-df-convert:hover {\n",
              "      background-color: #434B5C;\n",
              "      box-shadow: 0px 1px 3px 1px rgba(0, 0, 0, 0.15);\n",
              "      filter: drop-shadow(0px 1px 2px rgba(0, 0, 0, 0.3));\n",
              "      fill: #FFFFFF;\n",
              "    }\n",
              "  </style>\n",
              "\n",
              "    <script>\n",
              "      const buttonEl =\n",
              "        document.querySelector('#df-3f5aaf8f-c33d-4552-9049-5facd45bafb7 button.colab-df-convert');\n",
              "      buttonEl.style.display =\n",
              "        google.colab.kernel.accessAllowed ? 'block' : 'none';\n",
              "\n",
              "      async function convertToInteractive(key) {\n",
              "        const element = document.querySelector('#df-3f5aaf8f-c33d-4552-9049-5facd45bafb7');\n",
              "        const dataTable =\n",
              "          await google.colab.kernel.invokeFunction('convertToInteractive',\n",
              "                                                    [key], {});\n",
              "        if (!dataTable) return;\n",
              "\n",
              "        const docLinkHtml = 'Like what you see? Visit the ' +\n",
              "          '<a target=\"_blank\" href=https://colab.research.google.com/notebooks/data_table.ipynb>data table notebook</a>'\n",
              "          + ' to learn more about interactive tables.';\n",
              "        element.innerHTML = '';\n",
              "        dataTable['output_type'] = 'display_data';\n",
              "        await google.colab.output.renderOutput(dataTable, element);\n",
              "        const docLink = document.createElement('div');\n",
              "        docLink.innerHTML = docLinkHtml;\n",
              "        element.appendChild(docLink);\n",
              "      }\n",
              "    </script>\n",
              "  </div>\n",
              "\n",
              "\n",
              "<div id=\"df-1b716b33-f416-4b1e-ae83-81509af14d57\">\n",
              "  <button class=\"colab-df-quickchart\" onclick=\"quickchart('df-1b716b33-f416-4b1e-ae83-81509af14d57')\"\n",
              "            title=\"Suggest charts\"\n",
              "            style=\"display:none;\">\n",
              "\n",
              "<svg xmlns=\"http://www.w3.org/2000/svg\" height=\"24px\"viewBox=\"0 0 24 24\"\n",
              "     width=\"24px\">\n",
              "    <g>\n",
              "        <path d=\"M19 3H5c-1.1 0-2 .9-2 2v14c0 1.1.9 2 2 2h14c1.1 0 2-.9 2-2V5c0-1.1-.9-2-2-2zM9 17H7v-7h2v7zm4 0h-2V7h2v10zm4 0h-2v-4h2v4z\"/>\n",
              "    </g>\n",
              "</svg>\n",
              "  </button>\n",
              "\n",
              "<style>\n",
              "  .colab-df-quickchart {\n",
              "      --bg-color: #E8F0FE;\n",
              "      --fill-color: #1967D2;\n",
              "      --hover-bg-color: #E2EBFA;\n",
              "      --hover-fill-color: #174EA6;\n",
              "      --disabled-fill-color: #AAA;\n",
              "      --disabled-bg-color: #DDD;\n",
              "  }\n",
              "\n",
              "  [theme=dark] .colab-df-quickchart {\n",
              "      --bg-color: #3B4455;\n",
              "      --fill-color: #D2E3FC;\n",
              "      --hover-bg-color: #434B5C;\n",
              "      --hover-fill-color: #FFFFFF;\n",
              "      --disabled-bg-color: #3B4455;\n",
              "      --disabled-fill-color: #666;\n",
              "  }\n",
              "\n",
              "  .colab-df-quickchart {\n",
              "    background-color: var(--bg-color);\n",
              "    border: none;\n",
              "    border-radius: 50%;\n",
              "    cursor: pointer;\n",
              "    display: none;\n",
              "    fill: var(--fill-color);\n",
              "    height: 32px;\n",
              "    padding: 0;\n",
              "    width: 32px;\n",
              "  }\n",
              "\n",
              "  .colab-df-quickchart:hover {\n",
              "    background-color: var(--hover-bg-color);\n",
              "    box-shadow: 0 1px 2px rgba(60, 64, 67, 0.3), 0 1px 3px 1px rgba(60, 64, 67, 0.15);\n",
              "    fill: var(--button-hover-fill-color);\n",
              "  }\n",
              "\n",
              "  .colab-df-quickchart-complete:disabled,\n",
              "  .colab-df-quickchart-complete:disabled:hover {\n",
              "    background-color: var(--disabled-bg-color);\n",
              "    fill: var(--disabled-fill-color);\n",
              "    box-shadow: none;\n",
              "  }\n",
              "\n",
              "  .colab-df-spinner {\n",
              "    border: 2px solid var(--fill-color);\n",
              "    border-color: transparent;\n",
              "    border-bottom-color: var(--fill-color);\n",
              "    animation:\n",
              "      spin 1s steps(1) infinite;\n",
              "  }\n",
              "\n",
              "  @keyframes spin {\n",
              "    0% {\n",
              "      border-color: transparent;\n",
              "      border-bottom-color: var(--fill-color);\n",
              "      border-left-color: var(--fill-color);\n",
              "    }\n",
              "    20% {\n",
              "      border-color: transparent;\n",
              "      border-left-color: var(--fill-color);\n",
              "      border-top-color: var(--fill-color);\n",
              "    }\n",
              "    30% {\n",
              "      border-color: transparent;\n",
              "      border-left-color: var(--fill-color);\n",
              "      border-top-color: var(--fill-color);\n",
              "      border-right-color: var(--fill-color);\n",
              "    }\n",
              "    40% {\n",
              "      border-color: transparent;\n",
              "      border-right-color: var(--fill-color);\n",
              "      border-top-color: var(--fill-color);\n",
              "    }\n",
              "    60% {\n",
              "      border-color: transparent;\n",
              "      border-right-color: var(--fill-color);\n",
              "    }\n",
              "    80% {\n",
              "      border-color: transparent;\n",
              "      border-right-color: var(--fill-color);\n",
              "      border-bottom-color: var(--fill-color);\n",
              "    }\n",
              "    90% {\n",
              "      border-color: transparent;\n",
              "      border-bottom-color: var(--fill-color);\n",
              "    }\n",
              "  }\n",
              "</style>\n",
              "\n",
              "  <script>\n",
              "    async function quickchart(key) {\n",
              "      const quickchartButtonEl =\n",
              "        document.querySelector('#' + key + ' button');\n",
              "      quickchartButtonEl.disabled = true;  // To prevent multiple clicks.\n",
              "      quickchartButtonEl.classList.add('colab-df-spinner');\n",
              "      try {\n",
              "        const charts = await google.colab.kernel.invokeFunction(\n",
              "            'suggestCharts', [key], {});\n",
              "      } catch (error) {\n",
              "        console.error('Error during call to suggestCharts:', error);\n",
              "      }\n",
              "      quickchartButtonEl.classList.remove('colab-df-spinner');\n",
              "      quickchartButtonEl.classList.add('colab-df-quickchart-complete');\n",
              "    }\n",
              "    (() => {\n",
              "      let quickchartButtonEl =\n",
              "        document.querySelector('#df-1b716b33-f416-4b1e-ae83-81509af14d57 button');\n",
              "      quickchartButtonEl.style.display =\n",
              "        google.colab.kernel.accessAllowed ? 'block' : 'none';\n",
              "    })();\n",
              "  </script>\n",
              "</div>\n",
              "\n",
              "  <div id=\"id_65839307-1fa9-406a-86eb-cb16f700efd0\">\n",
              "    <style>\n",
              "      .colab-df-generate {\n",
              "        background-color: #E8F0FE;\n",
              "        border: none;\n",
              "        border-radius: 50%;\n",
              "        cursor: pointer;\n",
              "        display: none;\n",
              "        fill: #1967D2;\n",
              "        height: 32px;\n",
              "        padding: 0 0 0 0;\n",
              "        width: 32px;\n",
              "      }\n",
              "\n",
              "      .colab-df-generate:hover {\n",
              "        background-color: #E2EBFA;\n",
              "        box-shadow: 0px 1px 2px rgba(60, 64, 67, 0.3), 0px 1px 3px 1px rgba(60, 64, 67, 0.15);\n",
              "        fill: #174EA6;\n",
              "      }\n",
              "\n",
              "      [theme=dark] .colab-df-generate {\n",
              "        background-color: #3B4455;\n",
              "        fill: #D2E3FC;\n",
              "      }\n",
              "\n",
              "      [theme=dark] .colab-df-generate:hover {\n",
              "        background-color: #434B5C;\n",
              "        box-shadow: 0px 1px 3px 1px rgba(0, 0, 0, 0.15);\n",
              "        filter: drop-shadow(0px 1px 2px rgba(0, 0, 0, 0.3));\n",
              "        fill: #FFFFFF;\n",
              "      }\n",
              "    </style>\n",
              "    <button class=\"colab-df-generate\" onclick=\"generateWithVariable('top_50_wrong')\"\n",
              "            title=\"Generate code using this dataframe.\"\n",
              "            style=\"display:none;\">\n",
              "\n",
              "  <svg xmlns=\"http://www.w3.org/2000/svg\" height=\"24px\"viewBox=\"0 0 24 24\"\n",
              "       width=\"24px\">\n",
              "    <path d=\"M7,19H8.4L18.45,9,17,7.55,7,17.6ZM5,21V16.75L18.45,3.32a2,2,0,0,1,2.83,0l1.4,1.43a1.91,1.91,0,0,1,.58,1.4,1.91,1.91,0,0,1-.58,1.4L9.25,21ZM18.45,9,17,7.55Zm-12,3A5.31,5.31,0,0,0,4.9,8.1,5.31,5.31,0,0,0,1,6.5,5.31,5.31,0,0,0,4.9,4.9,5.31,5.31,0,0,0,6.5,1,5.31,5.31,0,0,0,8.1,4.9,5.31,5.31,0,0,0,12,6.5,5.46,5.46,0,0,0,6.5,12Z\"/>\n",
              "  </svg>\n",
              "    </button>\n",
              "    <script>\n",
              "      (() => {\n",
              "      const buttonEl =\n",
              "        document.querySelector('#id_65839307-1fa9-406a-86eb-cb16f700efd0 button.colab-df-generate');\n",
              "      buttonEl.style.display =\n",
              "        google.colab.kernel.accessAllowed ? 'block' : 'none';\n",
              "\n",
              "      buttonEl.onclick = () => {\n",
              "        google.colab.notebook.generateWithVariable('top_50_wrong');\n",
              "      }\n",
              "      })();\n",
              "    </script>\n",
              "  </div>\n",
              "\n",
              "    </div>\n",
              "  </div>\n"
            ],
            "application/vnd.google.colaboratory.intrinsic+json": {
              "type": "dataframe",
              "variable_name": "top_50_wrong",
              "summary": "{\n  \"name\": \"top_50_wrong\",\n  \"rows\": 50,\n  \"fields\": [\n    {\n      \"column\": \"abstract_text\",\n      \"properties\": {\n        \"dtype\": \"string\",\n        \"num_unique_values\": 50,\n        \"samples\": [\n          \"Compared to group S , there was a transient improvement in tissue perfusion in group P , but there were no difference in complications and mortality .\",\n          \"Participants were randomly allocated to a treatment group ( n = 26 ) which was subjected to continuous peritoneal wash for 48h via two intraperitoneal drains , and a control group ( n = 26 ) .\",\n          \"Total anaerobic counts of bacteria did not differ significantly between patients assigned to receive PDT and those assigned to receive surgical therapy ( mean , 95.2 % and 80.85 % , respectively ) .\"\n        ],\n        \"semantic_type\": \"\",\n        \"description\": \"\"\n      }\n    },\n    {\n      \"column\": \"line_number\",\n      \"properties\": {\n        \"dtype\": \"number\",\n        \"std\": 3,\n        \"min\": 1,\n        \"max\": 17,\n        \"num_unique_values\": 14,\n        \"samples\": [\n          12,\n          14,\n          8\n        ],\n        \"semantic_type\": \"\",\n        \"description\": \"\"\n      }\n    },\n    {\n      \"column\": \"total_lines\",\n      \"properties\": {\n        \"dtype\": \"number\",\n        \"std\": 3,\n        \"min\": 5,\n        \"max\": 20,\n        \"num_unique_values\": 15,\n        \"samples\": [\n          16,\n          12,\n          18\n        ],\n        \"semantic_type\": \"\",\n        \"description\": \"\"\n      }\n    },\n    {\n      \"column\": \"target\",\n      \"properties\": {\n        \"dtype\": \"category\",\n        \"num_unique_values\": 5,\n        \"samples\": [\n          \"BACKGROUND\",\n          \"CONCLUSIONS\",\n          \"RESULTS\"\n        ],\n        \"semantic_type\": \"\",\n        \"description\": \"\"\n      }\n    },\n    {\n      \"column\": \"prediction\",\n      \"properties\": {\n        \"dtype\": \"category\",\n        \"num_unique_values\": 3,\n        \"samples\": [\n          \"RESULTS\",\n          \"METHODS\",\n          \"CONCLUSIONS\"\n        ],\n        \"semantic_type\": \"\",\n        \"description\": \"\"\n      }\n    },\n    {\n      \"column\": \"pred_prob\",\n      \"properties\": {\n        \"dtype\": \"float32\",\n        \"num_unique_values\": 49,\n        \"samples\": [\n          0.9968619346618652,\n          0.9920912384986877,\n          0.9918125867843628\n        ],\n        \"semantic_type\": \"\",\n        \"description\": \"\"\n      }\n    },\n    {\n      \"column\": \"correct\",\n      \"properties\": {\n        \"dtype\": \"boolean\",\n        \"num_unique_values\": 1,\n        \"samples\": [\n          false\n        ],\n        \"semantic_type\": \"\",\n        \"description\": \"\"\n      }\n    }\n  ]\n}"
            }
          },
          "metadata": {},
          "execution_count": 99
        }
      ]
    }
  ]
}