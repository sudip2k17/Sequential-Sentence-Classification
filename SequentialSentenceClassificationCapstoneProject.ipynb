{
  "nbformat": 4,
  "nbformat_minor": 0,
  "metadata": {
    "colab": {
      "provenance": [],
      "authorship_tag": "ABX9TyMCYWY96YU7c81dbSG+rWpy",
      "include_colab_link": true
    },
    "kernelspec": {
      "name": "python3",
      "display_name": "Python 3"
    },
    "language_info": {
      "name": "python"
    }
  },
  "cells": [
    {
      "cell_type": "markdown",
      "metadata": {
        "id": "view-in-github",
        "colab_type": "text"
      },
      "source": [
        "<a href=\"https://colab.research.google.com/github/sudip2k17/Sequential-Sentence-Classification/blob/main/SequentialSentenceClassificationCapstoneProject.ipynb\" target=\"_parent\"><img src=\"https://colab.research.google.com/assets/colab-badge.svg\" alt=\"Open In Colab\"/></a>"
      ]
    },
    {
      "cell_type": "markdown",
      "source": [
        "Objective:\n",
        "Build Deep learning Model for Sequential Sentence Classification, for Converting “Harder to Read” text into “Easier to Read ” text.\n",
        "\n",
        "Approach:Create many to one model\n",
        "\n",
        "Use following models\n",
        "\n",
        "A. Naïve Bayes with TF-IDF encoder (baseline)\n",
        "\n",
        "B. Conv1D with token embedding\n",
        "\n",
        "C. Pertained Feature Extractor\n",
        "\n",
        "D. Conv1D with character embedding\n",
        "\n"
      ],
      "metadata": {
        "id": "Q7PIrysqRyeI"
      }
    },
    {
      "cell_type": "markdown",
      "source": [
        "# **Dataset details :**\n",
        "PubMed 20k RCT is dataset based on PubMed for sequential sentence classification. The dataset consists of approximately 20,000 abstracts of randomized controlled trials. Each sentence of each abstract is labelled with their role in the abstract using one of the following classes: background, objective, method, result, or conclusion. The purpose of releasing this dataset is twofold. First, the majority of datasets for sequential short-text classification i.e., classification of short texts that appear in sequences. Second, from an application perspective, researchers need better tools to efficiently skim through the literature. Automatically classifying each sentence in an abstract would help researchers read abstracts more efficiently, especially in fields where abstracts may be long, such as the medical field."
      ],
      "metadata": {
        "id": "NwDzCHn-R-se"
      }
    },
    {
      "cell_type": "code",
      "execution_count": 2,
      "metadata": {
        "id": "mWIXgThnRi4N"
      },
      "outputs": [],
      "source": [
        "#storing the PubMed_20k_RCT dataset in reference variable for future use\n",
        "datafile_directory = \"dataset/\""
      ]
    },
    {
      "cell_type": "code",
      "source": [
        "#Importing required libraries\n",
        "import pandas as pd\n",
        "import matplotlib.pyplot as plt\n",
        "import seaborn as sns\n",
        "import numpy as np\n",
        "import tensorflow as tf\n",
        "from tensorflow.keras import layers\n",
        "# TextVectorization is now in keras.layers.preprocessing\n",
        "from tensorflow.keras.layers import TextVectorization\n",
        "import random"
      ],
      "metadata": {
        "id": "bf-fAotYSGMU"
      },
      "execution_count": 3,
      "outputs": []
    },
    {
      "cell_type": "markdown",
      "source": [
        "# **Explore & Preprocess Data**"
      ],
      "metadata": {
        "id": "4Y8teItvSLp8"
      }
    },
    {
      "cell_type": "code",
      "source": [
        "def get_raw_data(filepath):\n",
        "    with open(filepath) as f:\n",
        "        return f.readlines()"
      ],
      "metadata": {
        "id": "sLWWW0QKSQYU"
      },
      "execution_count": 4,
      "outputs": []
    },
    {
      "cell_type": "markdown",
      "source": [
        "train.txt -This contains list of training set.\n",
        "\n",
        "dev.txt - This contains the development set (i.e validation set)\n",
        "\n",
        "test.txt - This file contains the test set"
      ],
      "metadata": {
        "id": "X3hqrkRTSWNU"
      }
    },
    {
      "cell_type": "code",
      "source": [
        "#Loading the data\n",
        "train_data = get_raw_data(datafile_directory + 'train.txt')\n",
        "#Viewing first 20 records from training dataset file\n",
        "train_data[:20]"
      ],
      "metadata": {
        "colab": {
          "base_uri": "https://localhost:8080/"
        },
        "id": "EQ3uql8cSZV6",
        "outputId": "ee421b10-41c7-439b-9333-958b4667d2ac"
      },
      "execution_count": 5,
      "outputs": [
        {
          "output_type": "execute_result",
          "data": {
            "text/plain": [
              "['###24293578\\n',\n",
              " 'OBJECTIVE\\tTo investigate the efficacy of 6 weeks of daily low-dose oral prednisolone in improving pain , mobility , and systemic low-grade inflammation in the short term and whether the effect would be sustained at 12 weeks in older adults with moderate to severe knee osteoarthritis ( OA ) .\\n',\n",
              " 'METHODS\\tA total of 125 patients with primary knee OA were randomized 1:1 ; 63 received 7.5 mg/day of prednisolone and 62 received placebo for 6 weeks .\\n',\n",
              " 'METHODS\\tOutcome measures included pain reduction and improvement in function scores and systemic inflammation markers .\\n',\n",
              " 'METHODS\\tPain was assessed using the visual analog pain scale ( 0-100 mm ) .\\n',\n",
              " 'METHODS\\tSecondary outcome measures included the Western Ontario and McMaster Universities Osteoarthritis Index scores , patient global assessment ( PGA ) of the severity of knee OA , and 6-min walk distance ( 6MWD ) .\\n',\n",
              " 'METHODS\\tSerum levels of interleukin 1 ( IL-1 ) , IL-6 , tumor necrosis factor ( TNF ) - , and high-sensitivity C-reactive protein ( hsCRP ) were measured .\\n',\n",
              " 'RESULTS\\tThere was a clinically relevant reduction in the intervention group compared to the placebo group for knee pain , physical function , PGA , and 6MWD at 6 weeks .\\n',\n",
              " 'RESULTS\\tThe mean difference between treatment arms ( 95 % CI ) was 10.9 ( 4.8-18 .0 ) , p < 0.001 ; 9.5 ( 3.7-15 .4 ) , p < 0.05 ; 15.7 ( 5.3-26 .1 ) , p < 0.001 ; and 86.9 ( 29.8-144 .1 ) , p < 0.05 , respectively .\\n',\n",
              " 'RESULTS\\tFurther , there was a clinically relevant reduction in the serum levels of IL-1 , IL-6 , TNF - , and hsCRP at 6 weeks in the intervention group when compared to the placebo group .\\n',\n",
              " 'RESULTS\\tThese differences remained significant at 12 weeks .\\n',\n",
              " 'RESULTS\\tThe Outcome Measures in Rheumatology Clinical Trials-Osteoarthritis Research Society International responder rate was 65 % in the intervention group and 34 % in the placebo group ( p < 0.05 ) .\\n',\n",
              " 'CONCLUSIONS\\tLow-dose oral prednisolone had both a short-term and a longer sustained effect resulting in less knee pain , better physical function , and attenuation of systemic inflammation in older patients with knee OA ( ClinicalTrials.gov identifier NCT01619163 ) .\\n',\n",
              " '\\n',\n",
              " '###24854809\\n',\n",
              " 'BACKGROUND\\tEmotional eating is associated with overeating and the development of obesity .\\n',\n",
              " 'BACKGROUND\\tYet , empirical evidence for individual ( trait ) differences in emotional eating and cognitive mechanisms that contribute to eating during sad mood remain equivocal .\\n',\n",
              " 'OBJECTIVE\\tThe aim of this study was to test if attention bias for food moderates the effect of self-reported emotional eating during sad mood ( vs neutral mood ) on actual food intake .\\n',\n",
              " 'OBJECTIVE\\tIt was expected that emotional eating is predictive of elevated attention for food and higher food intake after an experimentally induced sad mood and that attentional maintenance on food predicts food intake during a sad versus a neutral mood .\\n',\n",
              " 'METHODS\\tParticipants ( N = 85 ) were randomly assigned to one of the two experimental mood induction conditions ( sad/neutral ) .\\n']"
            ]
          },
          "metadata": {},
          "execution_count": 5
        }
      ]
    },
    {
      "cell_type": "code",
      "source": [
        "def preprocess_text_with_line_numbers(filename):\n",
        "\n",
        "  input_lines = get_raw_data(filename) # get all lines from filename\n",
        "  abstract_lines = \"\" # create an empty abstract\n",
        "  abstract_samples = [] # create an empty list of abstracts\n",
        "\n",
        "  for line in input_lines:\n",
        "    if line.startswith(\"###\"): # check to see if line is an ID line\n",
        "      abstract_id = line\n",
        "      abstract_lines = \"\"    # reset the abstract string\n",
        "    elif line.isspace():\n",
        "      abstract_line_split = abstract_lines.splitlines() # split the abstract into separate lines\n",
        "\n",
        "      for abstract_line_number, abstract_line in enumerate(abstract_line_split):\n",
        "        line_data = {}\n",
        "        target_text_split = abstract_line.split(\"\\t\")\n",
        "        line_data[\"target\"] = target_text_split[0]\n",
        "        line_data[\"text\"]   = target_text_split[1].lower()\n",
        "        line_data[\"line_number\"] = abstract_line_number\n",
        "        line_data[\"total_lines\"] = len(abstract_line_split) - 1\n",
        "        abstract_samples.append(line_data)\n",
        "\n",
        "    else:\n",
        "      abstract_lines += line\n",
        "\n",
        "\n",
        "  return abstract_samples"
      ],
      "metadata": {
        "id": "eFiD32_8SkrO"
      },
      "execution_count": 8,
      "outputs": []
    },
    {
      "cell_type": "code",
      "source": [
        "# Get data from file and preprocess it\n",
        "%%time\n",
        "train_samples = preprocess_text_with_line_numbers(datafile_directory + \"train.txt\")\n",
        "val_samples = preprocess_text_with_line_numbers(datafile_directory + \"dev.txt\") # dev is another name for validation set\n",
        "test_samples = preprocess_text_with_line_numbers(datafile_directory + \"test.txt\")\n",
        "len(train_samples), len(val_samples), len(test_samples)"
      ],
      "metadata": {
        "colab": {
          "base_uri": "https://localhost:8080/"
        },
        "id": "Yf-pWzrDSuQr",
        "outputId": "845a5041-1d21-4bb1-81e1-ba3d7d785d74"
      },
      "execution_count": 9,
      "outputs": [
        {
          "output_type": "stream",
          "name": "stdout",
          "text": [
            "CPU times: user 638 ms, sys: 98.5 ms, total: 737 ms\n",
            "Wall time: 732 ms\n"
          ]
        },
        {
          "output_type": "execute_result",
          "data": {
            "text/plain": [
              "(180040, 30212, 30135)"
            ]
          },
          "metadata": {},
          "execution_count": 9
        }
      ]
    },
    {
      "cell_type": "code",
      "source": [
        "train_samples[:15]"
      ],
      "metadata": {
        "colab": {
          "base_uri": "https://localhost:8080/"
        },
        "id": "WYlq13FmTEvj",
        "outputId": "aab4f804-0570-4dc9-9aab-937bafbf5e2d"
      },
      "execution_count": 10,
      "outputs": [
        {
          "output_type": "execute_result",
          "data": {
            "text/plain": [
              "[{'target': 'OBJECTIVE',\n",
              "  'text': 'to investigate the efficacy of 6 weeks of daily low-dose oral prednisolone in improving pain , mobility , and systemic low-grade inflammation in the short term and whether the effect would be sustained at 12 weeks in older adults with moderate to severe knee osteoarthritis ( oa ) .',\n",
              "  'line_number': 0,\n",
              "  'total_lines': 11},\n",
              " {'target': 'METHODS',\n",
              "  'text': 'a total of 125 patients with primary knee oa were randomized 1:1 ; 63 received 7.5 mg/day of prednisolone and 62 received placebo for 6 weeks .',\n",
              "  'line_number': 1,\n",
              "  'total_lines': 11},\n",
              " {'target': 'METHODS',\n",
              "  'text': 'outcome measures included pain reduction and improvement in function scores and systemic inflammation markers .',\n",
              "  'line_number': 2,\n",
              "  'total_lines': 11},\n",
              " {'target': 'METHODS',\n",
              "  'text': 'pain was assessed using the visual analog pain scale ( 0-100 mm ) .',\n",
              "  'line_number': 3,\n",
              "  'total_lines': 11},\n",
              " {'target': 'METHODS',\n",
              "  'text': 'secondary outcome measures included the western ontario and mcmaster universities osteoarthritis index scores , patient global assessment ( pga ) of the severity of knee oa , and 6-min walk distance ( 6mwd ) .',\n",
              "  'line_number': 4,\n",
              "  'total_lines': 11},\n",
              " {'target': 'METHODS',\n",
              "  'text': 'serum levels of interleukin 1 ( il-1 ) , il-6 , tumor necrosis factor ( tnf ) - , and high-sensitivity c-reactive protein ( hscrp ) were measured .',\n",
              "  'line_number': 5,\n",
              "  'total_lines': 11},\n",
              " {'target': 'RESULTS',\n",
              "  'text': 'there was a clinically relevant reduction in the intervention group compared to the placebo group for knee pain , physical function , pga , and 6mwd at 6 weeks .',\n",
              "  'line_number': 6,\n",
              "  'total_lines': 11},\n",
              " {'target': 'RESULTS',\n",
              "  'text': 'the mean difference between treatment arms ( 95 % ci ) was 10.9 ( 4.8-18 .0 ) , p < 0.001 ; 9.5 ( 3.7-15 .4 ) , p < 0.05 ; 15.7 ( 5.3-26 .1 ) , p < 0.001 ; and 86.9 ( 29.8-144 .1 ) , p < 0.05 , respectively .',\n",
              "  'line_number': 7,\n",
              "  'total_lines': 11},\n",
              " {'target': 'RESULTS',\n",
              "  'text': 'further , there was a clinically relevant reduction in the serum levels of il-1 , il-6 , tnf - , and hscrp at 6 weeks in the intervention group when compared to the placebo group .',\n",
              "  'line_number': 8,\n",
              "  'total_lines': 11},\n",
              " {'target': 'RESULTS',\n",
              "  'text': 'these differences remained significant at 12 weeks .',\n",
              "  'line_number': 9,\n",
              "  'total_lines': 11},\n",
              " {'target': 'RESULTS',\n",
              "  'text': 'the outcome measures in rheumatology clinical trials-osteoarthritis research society international responder rate was 65 % in the intervention group and 34 % in the placebo group ( p < 0.05 ) .',\n",
              "  'line_number': 10,\n",
              "  'total_lines': 11},\n",
              " {'target': 'CONCLUSIONS',\n",
              "  'text': 'low-dose oral prednisolone had both a short-term and a longer sustained effect resulting in less knee pain , better physical function , and attenuation of systemic inflammation in older patients with knee oa ( clinicaltrials.gov identifier nct01619163 ) .',\n",
              "  'line_number': 11,\n",
              "  'total_lines': 11},\n",
              " {'target': 'BACKGROUND',\n",
              "  'text': 'emotional eating is associated with overeating and the development of obesity .',\n",
              "  'line_number': 0,\n",
              "  'total_lines': 10},\n",
              " {'target': 'BACKGROUND',\n",
              "  'text': 'yet , empirical evidence for individual ( trait ) differences in emotional eating and cognitive mechanisms that contribute to eating during sad mood remain equivocal .',\n",
              "  'line_number': 1,\n",
              "  'total_lines': 10},\n",
              " {'target': 'OBJECTIVE',\n",
              "  'text': 'the aim of this study was to test if attention bias for food moderates the effect of self-reported emotional eating during sad mood ( vs neutral mood ) on actual food intake .',\n",
              "  'line_number': 2,\n",
              "  'total_lines': 10}]"
            ]
          },
          "metadata": {},
          "execution_count": 10
        }
      ]
    },
    {
      "cell_type": "code",
      "source": [
        "import pandas as pd\n",
        "train_df = pd.DataFrame(train_samples)\n",
        "val_df = pd.DataFrame(val_samples)\n",
        "test_df = pd.DataFrame(test_samples)\n",
        "train_df.head(14)"
      ],
      "metadata": {
        "colab": {
          "base_uri": "https://localhost:8080/",
          "height": 488
        },
        "id": "Q5dPorswTJ5i",
        "outputId": "0bfe6053-61d8-40fc-a9aa-75e345c17c30"
      },
      "execution_count": 11,
      "outputs": [
        {
          "output_type": "execute_result",
          "data": {
            "text/plain": [
              "         target                                               text  \\\n",
              "0     OBJECTIVE  to investigate the efficacy of 6 weeks of dail...   \n",
              "1       METHODS  a total of 125 patients with primary knee oa w...   \n",
              "2       METHODS  outcome measures included pain reduction and i...   \n",
              "3       METHODS  pain was assessed using the visual analog pain...   \n",
              "4       METHODS  secondary outcome measures included the wester...   \n",
              "5       METHODS  serum levels of interleukin 1 ( il-1 ) , il-6 ...   \n",
              "6       RESULTS  there was a clinically relevant reduction in t...   \n",
              "7       RESULTS  the mean difference between treatment arms ( 9...   \n",
              "8       RESULTS  further , there was a clinically relevant redu...   \n",
              "9       RESULTS  these differences remained significant at 12 w...   \n",
              "10      RESULTS  the outcome measures in rheumatology clinical ...   \n",
              "11  CONCLUSIONS  low-dose oral prednisolone had both a short-te...   \n",
              "12   BACKGROUND  emotional eating is associated with overeating...   \n",
              "13   BACKGROUND  yet , empirical evidence for individual ( trai...   \n",
              "\n",
              "    line_number  total_lines  \n",
              "0             0           11  \n",
              "1             1           11  \n",
              "2             2           11  \n",
              "3             3           11  \n",
              "4             4           11  \n",
              "5             5           11  \n",
              "6             6           11  \n",
              "7             7           11  \n",
              "8             8           11  \n",
              "9             9           11  \n",
              "10           10           11  \n",
              "11           11           11  \n",
              "12            0           10  \n",
              "13            1           10  "
            ],
            "text/html": [
              "\n",
              "  <div id=\"df-93d21e07-a122-453e-8c25-c674bde298df\" class=\"colab-df-container\">\n",
              "    <div>\n",
              "<style scoped>\n",
              "    .dataframe tbody tr th:only-of-type {\n",
              "        vertical-align: middle;\n",
              "    }\n",
              "\n",
              "    .dataframe tbody tr th {\n",
              "        vertical-align: top;\n",
              "    }\n",
              "\n",
              "    .dataframe thead th {\n",
              "        text-align: right;\n",
              "    }\n",
              "</style>\n",
              "<table border=\"1\" class=\"dataframe\">\n",
              "  <thead>\n",
              "    <tr style=\"text-align: right;\">\n",
              "      <th></th>\n",
              "      <th>target</th>\n",
              "      <th>text</th>\n",
              "      <th>line_number</th>\n",
              "      <th>total_lines</th>\n",
              "    </tr>\n",
              "  </thead>\n",
              "  <tbody>\n",
              "    <tr>\n",
              "      <th>0</th>\n",
              "      <td>OBJECTIVE</td>\n",
              "      <td>to investigate the efficacy of 6 weeks of dail...</td>\n",
              "      <td>0</td>\n",
              "      <td>11</td>\n",
              "    </tr>\n",
              "    <tr>\n",
              "      <th>1</th>\n",
              "      <td>METHODS</td>\n",
              "      <td>a total of 125 patients with primary knee oa w...</td>\n",
              "      <td>1</td>\n",
              "      <td>11</td>\n",
              "    </tr>\n",
              "    <tr>\n",
              "      <th>2</th>\n",
              "      <td>METHODS</td>\n",
              "      <td>outcome measures included pain reduction and i...</td>\n",
              "      <td>2</td>\n",
              "      <td>11</td>\n",
              "    </tr>\n",
              "    <tr>\n",
              "      <th>3</th>\n",
              "      <td>METHODS</td>\n",
              "      <td>pain was assessed using the visual analog pain...</td>\n",
              "      <td>3</td>\n",
              "      <td>11</td>\n",
              "    </tr>\n",
              "    <tr>\n",
              "      <th>4</th>\n",
              "      <td>METHODS</td>\n",
              "      <td>secondary outcome measures included the wester...</td>\n",
              "      <td>4</td>\n",
              "      <td>11</td>\n",
              "    </tr>\n",
              "    <tr>\n",
              "      <th>5</th>\n",
              "      <td>METHODS</td>\n",
              "      <td>serum levels of interleukin 1 ( il-1 ) , il-6 ...</td>\n",
              "      <td>5</td>\n",
              "      <td>11</td>\n",
              "    </tr>\n",
              "    <tr>\n",
              "      <th>6</th>\n",
              "      <td>RESULTS</td>\n",
              "      <td>there was a clinically relevant reduction in t...</td>\n",
              "      <td>6</td>\n",
              "      <td>11</td>\n",
              "    </tr>\n",
              "    <tr>\n",
              "      <th>7</th>\n",
              "      <td>RESULTS</td>\n",
              "      <td>the mean difference between treatment arms ( 9...</td>\n",
              "      <td>7</td>\n",
              "      <td>11</td>\n",
              "    </tr>\n",
              "    <tr>\n",
              "      <th>8</th>\n",
              "      <td>RESULTS</td>\n",
              "      <td>further , there was a clinically relevant redu...</td>\n",
              "      <td>8</td>\n",
              "      <td>11</td>\n",
              "    </tr>\n",
              "    <tr>\n",
              "      <th>9</th>\n",
              "      <td>RESULTS</td>\n",
              "      <td>these differences remained significant at 12 w...</td>\n",
              "      <td>9</td>\n",
              "      <td>11</td>\n",
              "    </tr>\n",
              "    <tr>\n",
              "      <th>10</th>\n",
              "      <td>RESULTS</td>\n",
              "      <td>the outcome measures in rheumatology clinical ...</td>\n",
              "      <td>10</td>\n",
              "      <td>11</td>\n",
              "    </tr>\n",
              "    <tr>\n",
              "      <th>11</th>\n",
              "      <td>CONCLUSIONS</td>\n",
              "      <td>low-dose oral prednisolone had both a short-te...</td>\n",
              "      <td>11</td>\n",
              "      <td>11</td>\n",
              "    </tr>\n",
              "    <tr>\n",
              "      <th>12</th>\n",
              "      <td>BACKGROUND</td>\n",
              "      <td>emotional eating is associated with overeating...</td>\n",
              "      <td>0</td>\n",
              "      <td>10</td>\n",
              "    </tr>\n",
              "    <tr>\n",
              "      <th>13</th>\n",
              "      <td>BACKGROUND</td>\n",
              "      <td>yet , empirical evidence for individual ( trai...</td>\n",
              "      <td>1</td>\n",
              "      <td>10</td>\n",
              "    </tr>\n",
              "  </tbody>\n",
              "</table>\n",
              "</div>\n",
              "    <div class=\"colab-df-buttons\">\n",
              "\n",
              "  <div class=\"colab-df-container\">\n",
              "    <button class=\"colab-df-convert\" onclick=\"convertToInteractive('df-93d21e07-a122-453e-8c25-c674bde298df')\"\n",
              "            title=\"Convert this dataframe to an interactive table.\"\n",
              "            style=\"display:none;\">\n",
              "\n",
              "  <svg xmlns=\"http://www.w3.org/2000/svg\" height=\"24px\" viewBox=\"0 -960 960 960\">\n",
              "    <path d=\"M120-120v-720h720v720H120Zm60-500h600v-160H180v160Zm220 220h160v-160H400v160Zm0 220h160v-160H400v160ZM180-400h160v-160H180v160Zm440 0h160v-160H620v160ZM180-180h160v-160H180v160Zm440 0h160v-160H620v160Z\"/>\n",
              "  </svg>\n",
              "    </button>\n",
              "\n",
              "  <style>\n",
              "    .colab-df-container {\n",
              "      display:flex;\n",
              "      gap: 12px;\n",
              "    }\n",
              "\n",
              "    .colab-df-convert {\n",
              "      background-color: #E8F0FE;\n",
              "      border: none;\n",
              "      border-radius: 50%;\n",
              "      cursor: pointer;\n",
              "      display: none;\n",
              "      fill: #1967D2;\n",
              "      height: 32px;\n",
              "      padding: 0 0 0 0;\n",
              "      width: 32px;\n",
              "    }\n",
              "\n",
              "    .colab-df-convert:hover {\n",
              "      background-color: #E2EBFA;\n",
              "      box-shadow: 0px 1px 2px rgba(60, 64, 67, 0.3), 0px 1px 3px 1px rgba(60, 64, 67, 0.15);\n",
              "      fill: #174EA6;\n",
              "    }\n",
              "\n",
              "    .colab-df-buttons div {\n",
              "      margin-bottom: 4px;\n",
              "    }\n",
              "\n",
              "    [theme=dark] .colab-df-convert {\n",
              "      background-color: #3B4455;\n",
              "      fill: #D2E3FC;\n",
              "    }\n",
              "\n",
              "    [theme=dark] .colab-df-convert:hover {\n",
              "      background-color: #434B5C;\n",
              "      box-shadow: 0px 1px 3px 1px rgba(0, 0, 0, 0.15);\n",
              "      filter: drop-shadow(0px 1px 2px rgba(0, 0, 0, 0.3));\n",
              "      fill: #FFFFFF;\n",
              "    }\n",
              "  </style>\n",
              "\n",
              "    <script>\n",
              "      const buttonEl =\n",
              "        document.querySelector('#df-93d21e07-a122-453e-8c25-c674bde298df button.colab-df-convert');\n",
              "      buttonEl.style.display =\n",
              "        google.colab.kernel.accessAllowed ? 'block' : 'none';\n",
              "\n",
              "      async function convertToInteractive(key) {\n",
              "        const element = document.querySelector('#df-93d21e07-a122-453e-8c25-c674bde298df');\n",
              "        const dataTable =\n",
              "          await google.colab.kernel.invokeFunction('convertToInteractive',\n",
              "                                                    [key], {});\n",
              "        if (!dataTable) return;\n",
              "\n",
              "        const docLinkHtml = 'Like what you see? Visit the ' +\n",
              "          '<a target=\"_blank\" href=https://colab.research.google.com/notebooks/data_table.ipynb>data table notebook</a>'\n",
              "          + ' to learn more about interactive tables.';\n",
              "        element.innerHTML = '';\n",
              "        dataTable['output_type'] = 'display_data';\n",
              "        await google.colab.output.renderOutput(dataTable, element);\n",
              "        const docLink = document.createElement('div');\n",
              "        docLink.innerHTML = docLinkHtml;\n",
              "        element.appendChild(docLink);\n",
              "      }\n",
              "    </script>\n",
              "  </div>\n",
              "\n",
              "\n",
              "<div id=\"df-c18db35b-26ae-497a-b92c-e7ee5fca8a74\">\n",
              "  <button class=\"colab-df-quickchart\" onclick=\"quickchart('df-c18db35b-26ae-497a-b92c-e7ee5fca8a74')\"\n",
              "            title=\"Suggest charts\"\n",
              "            style=\"display:none;\">\n",
              "\n",
              "<svg xmlns=\"http://www.w3.org/2000/svg\" height=\"24px\"viewBox=\"0 0 24 24\"\n",
              "     width=\"24px\">\n",
              "    <g>\n",
              "        <path d=\"M19 3H5c-1.1 0-2 .9-2 2v14c0 1.1.9 2 2 2h14c1.1 0 2-.9 2-2V5c0-1.1-.9-2-2-2zM9 17H7v-7h2v7zm4 0h-2V7h2v10zm4 0h-2v-4h2v4z\"/>\n",
              "    </g>\n",
              "</svg>\n",
              "  </button>\n",
              "\n",
              "<style>\n",
              "  .colab-df-quickchart {\n",
              "      --bg-color: #E8F0FE;\n",
              "      --fill-color: #1967D2;\n",
              "      --hover-bg-color: #E2EBFA;\n",
              "      --hover-fill-color: #174EA6;\n",
              "      --disabled-fill-color: #AAA;\n",
              "      --disabled-bg-color: #DDD;\n",
              "  }\n",
              "\n",
              "  [theme=dark] .colab-df-quickchart {\n",
              "      --bg-color: #3B4455;\n",
              "      --fill-color: #D2E3FC;\n",
              "      --hover-bg-color: #434B5C;\n",
              "      --hover-fill-color: #FFFFFF;\n",
              "      --disabled-bg-color: #3B4455;\n",
              "      --disabled-fill-color: #666;\n",
              "  }\n",
              "\n",
              "  .colab-df-quickchart {\n",
              "    background-color: var(--bg-color);\n",
              "    border: none;\n",
              "    border-radius: 50%;\n",
              "    cursor: pointer;\n",
              "    display: none;\n",
              "    fill: var(--fill-color);\n",
              "    height: 32px;\n",
              "    padding: 0;\n",
              "    width: 32px;\n",
              "  }\n",
              "\n",
              "  .colab-df-quickchart:hover {\n",
              "    background-color: var(--hover-bg-color);\n",
              "    box-shadow: 0 1px 2px rgba(60, 64, 67, 0.3), 0 1px 3px 1px rgba(60, 64, 67, 0.15);\n",
              "    fill: var(--button-hover-fill-color);\n",
              "  }\n",
              "\n",
              "  .colab-df-quickchart-complete:disabled,\n",
              "  .colab-df-quickchart-complete:disabled:hover {\n",
              "    background-color: var(--disabled-bg-color);\n",
              "    fill: var(--disabled-fill-color);\n",
              "    box-shadow: none;\n",
              "  }\n",
              "\n",
              "  .colab-df-spinner {\n",
              "    border: 2px solid var(--fill-color);\n",
              "    border-color: transparent;\n",
              "    border-bottom-color: var(--fill-color);\n",
              "    animation:\n",
              "      spin 1s steps(1) infinite;\n",
              "  }\n",
              "\n",
              "  @keyframes spin {\n",
              "    0% {\n",
              "      border-color: transparent;\n",
              "      border-bottom-color: var(--fill-color);\n",
              "      border-left-color: var(--fill-color);\n",
              "    }\n",
              "    20% {\n",
              "      border-color: transparent;\n",
              "      border-left-color: var(--fill-color);\n",
              "      border-top-color: var(--fill-color);\n",
              "    }\n",
              "    30% {\n",
              "      border-color: transparent;\n",
              "      border-left-color: var(--fill-color);\n",
              "      border-top-color: var(--fill-color);\n",
              "      border-right-color: var(--fill-color);\n",
              "    }\n",
              "    40% {\n",
              "      border-color: transparent;\n",
              "      border-right-color: var(--fill-color);\n",
              "      border-top-color: var(--fill-color);\n",
              "    }\n",
              "    60% {\n",
              "      border-color: transparent;\n",
              "      border-right-color: var(--fill-color);\n",
              "    }\n",
              "    80% {\n",
              "      border-color: transparent;\n",
              "      border-right-color: var(--fill-color);\n",
              "      border-bottom-color: var(--fill-color);\n",
              "    }\n",
              "    90% {\n",
              "      border-color: transparent;\n",
              "      border-bottom-color: var(--fill-color);\n",
              "    }\n",
              "  }\n",
              "</style>\n",
              "\n",
              "  <script>\n",
              "    async function quickchart(key) {\n",
              "      const quickchartButtonEl =\n",
              "        document.querySelector('#' + key + ' button');\n",
              "      quickchartButtonEl.disabled = true;  // To prevent multiple clicks.\n",
              "      quickchartButtonEl.classList.add('colab-df-spinner');\n",
              "      try {\n",
              "        const charts = await google.colab.kernel.invokeFunction(\n",
              "            'suggestCharts', [key], {});\n",
              "      } catch (error) {\n",
              "        console.error('Error during call to suggestCharts:', error);\n",
              "      }\n",
              "      quickchartButtonEl.classList.remove('colab-df-spinner');\n",
              "      quickchartButtonEl.classList.add('colab-df-quickchart-complete');\n",
              "    }\n",
              "    (() => {\n",
              "      let quickchartButtonEl =\n",
              "        document.querySelector('#df-c18db35b-26ae-497a-b92c-e7ee5fca8a74 button');\n",
              "      quickchartButtonEl.style.display =\n",
              "        google.colab.kernel.accessAllowed ? 'block' : 'none';\n",
              "    })();\n",
              "  </script>\n",
              "</div>\n",
              "\n",
              "    </div>\n",
              "  </div>\n"
            ],
            "application/vnd.google.colaboratory.intrinsic+json": {
              "type": "dataframe",
              "variable_name": "train_df"
            }
          },
          "metadata": {},
          "execution_count": 11
        }
      ]
    },
    {
      "cell_type": "code",
      "source": [
        "# Distribution of labels in training dat\n",
        "train_df[\"target\"].value_counts()"
      ],
      "metadata": {
        "colab": {
          "base_uri": "https://localhost:8080/",
          "height": 272
        },
        "id": "ycw2pMW0TOIY",
        "outputId": "51bdaf14-27d0-4a9a-88bd-58a2005a3101"
      },
      "execution_count": 12,
      "outputs": [
        {
          "output_type": "execute_result",
          "data": {
            "text/plain": [
              "target\n",
              "METHODS        59353\n",
              "RESULTS        57953\n",
              "CONCLUSIONS    27168\n",
              "BACKGROUND     21727\n",
              "OBJECTIVE      13839\n",
              "Name: count, dtype: int64"
            ],
            "text/html": [
              "<div>\n",
              "<style scoped>\n",
              "    .dataframe tbody tr th:only-of-type {\n",
              "        vertical-align: middle;\n",
              "    }\n",
              "\n",
              "    .dataframe tbody tr th {\n",
              "        vertical-align: top;\n",
              "    }\n",
              "\n",
              "    .dataframe thead th {\n",
              "        text-align: right;\n",
              "    }\n",
              "</style>\n",
              "<table border=\"1\" class=\"dataframe\">\n",
              "  <thead>\n",
              "    <tr style=\"text-align: right;\">\n",
              "      <th></th>\n",
              "      <th>count</th>\n",
              "    </tr>\n",
              "    <tr>\n",
              "      <th>target</th>\n",
              "      <th></th>\n",
              "    </tr>\n",
              "  </thead>\n",
              "  <tbody>\n",
              "    <tr>\n",
              "      <th>METHODS</th>\n",
              "      <td>59353</td>\n",
              "    </tr>\n",
              "    <tr>\n",
              "      <th>RESULTS</th>\n",
              "      <td>57953</td>\n",
              "    </tr>\n",
              "    <tr>\n",
              "      <th>CONCLUSIONS</th>\n",
              "      <td>27168</td>\n",
              "    </tr>\n",
              "    <tr>\n",
              "      <th>BACKGROUND</th>\n",
              "      <td>21727</td>\n",
              "    </tr>\n",
              "    <tr>\n",
              "      <th>OBJECTIVE</th>\n",
              "      <td>13839</td>\n",
              "    </tr>\n",
              "  </tbody>\n",
              "</table>\n",
              "</div><br><label><b>dtype:</b> int64</label>"
            ]
          },
          "metadata": {},
          "execution_count": 12
        }
      ]
    },
    {
      "cell_type": "code",
      "source": [
        "train_df[\"target\"].value_counts().plot(kind = 'bar')"
      ],
      "metadata": {
        "colab": {
          "base_uri": "https://localhost:8080/",
          "height": 553
        },
        "id": "4VEYtw8nTRa4",
        "outputId": "265c42ef-65c1-409c-e404-58d98da4df11"
      },
      "execution_count": 13,
      "outputs": [
        {
          "output_type": "execute_result",
          "data": {
            "text/plain": [
              "<Axes: xlabel='target'>"
            ]
          },
          "metadata": {},
          "execution_count": 13
        },
        {
          "output_type": "display_data",
          "data": {
            "text/plain": [
              "<Figure size 640x480 with 1 Axes>"
            ],
            "image/png": "[encoded data removed]"
          },
          "metadata": {}
        }
      ]
    },
    {
      "cell_type": "code",
      "source": [
        "train_df.total_lines.plot(kind= \"hist\")"
      ],
      "metadata": {
        "colab": {
          "base_uri": "https://localhost:8080/",
          "height": 448
        },
        "id": "iyIMbfNiTVJG",
        "outputId": "defc98cf-aa29-4062-a81c-fd027281e189"
      },
      "execution_count": 14,
      "outputs": [
        {
          "output_type": "execute_result",
          "data": {
            "text/plain": [
              "<Axes: ylabel='Frequency'>"
            ]
          },
          "metadata": {},
          "execution_count": 14
        },
        {
          "output_type": "display_data",
          "data": {
            "text/plain": [
              "<Figure size 640x480 with 1 Axes>"
            ],
            "image/png": "[encoded data removed]"
          },
          "metadata": {}
        }
      ]
    },
    {
      "cell_type": "code",
      "source": [
        "# Convert abstract text lines into lists\n",
        "train_sentences = train_df[\"text\"].tolist()\n",
        "val_sentences = val_df[\"text\"].tolist()\n",
        "test_sentences = test_df[\"text\"].tolist()\n",
        "len(train_sentences), len(val_sentences), len(test_sentences)"
      ],
      "metadata": {
        "colab": {
          "base_uri": "https://localhost:8080/"
        },
        "id": "B16kbCWOTY8I",
        "outputId": "25fdbaba-609a-4598-b48d-0bb08d726376"
      },
      "execution_count": 15,
      "outputs": [
        {
          "output_type": "execute_result",
          "data": {
            "text/plain": [
              "(180040, 30212, 30135)"
            ]
          },
          "metadata": {},
          "execution_count": 15
        }
      ]
    },
    {
      "cell_type": "code",
      "source": [
        "train_sentences[:15]"
      ],
      "metadata": {
        "colab": {
          "base_uri": "https://localhost:8080/"
        },
        "id": "o4TpI8UkTenS",
        "outputId": "0ad2f3d1-70ed-4c52-d09a-cc123db1586d"
      },
      "execution_count": 17,
      "outputs": [
        {
          "output_type": "execute_result",
          "data": {
            "text/plain": [
              "['to investigate the efficacy of 6 weeks of daily low-dose oral prednisolone in improving pain , mobility , and systemic low-grade inflammation in the short term and whether the effect would be sustained at 12 weeks in older adults with moderate to severe knee osteoarthritis ( oa ) .',\n",
              " 'a total of 125 patients with primary knee oa were randomized 1:1 ; 63 received 7.5 mg/day of prednisolone and 62 received placebo for 6 weeks .',\n",
              " 'outcome measures included pain reduction and improvement in function scores and systemic inflammation markers .',\n",
              " 'pain was assessed using the visual analog pain scale ( 0-100 mm ) .',\n",
              " 'secondary outcome measures included the western ontario and mcmaster universities osteoarthritis index scores , patient global assessment ( pga ) of the severity of knee oa , and 6-min walk distance ( 6mwd ) .',\n",
              " 'serum levels of interleukin 1 ( il-1 ) , il-6 , tumor necrosis factor ( tnf ) - , and high-sensitivity c-reactive protein ( hscrp ) were measured .',\n",
              " 'there was a clinically relevant reduction in the intervention group compared to the placebo group for knee pain , physical function , pga , and 6mwd at 6 weeks .',\n",
              " 'the mean difference between treatment arms ( 95 % ci ) was 10.9 ( 4.8-18 .0 ) , p < 0.001 ; 9.5 ( 3.7-15 .4 ) , p < 0.05 ; 15.7 ( 5.3-26 .1 ) , p < 0.001 ; and 86.9 ( 29.8-144 .1 ) , p < 0.05 , respectively .',\n",
              " 'further , there was a clinically relevant reduction in the serum levels of il-1 , il-6 , tnf - , and hscrp at 6 weeks in the intervention group when compared to the placebo group .',\n",
              " 'these differences remained significant at 12 weeks .',\n",
              " 'the outcome measures in rheumatology clinical trials-osteoarthritis research society international responder rate was 65 % in the intervention group and 34 % in the placebo group ( p < 0.05 ) .',\n",
              " 'low-dose oral prednisolone had both a short-term and a longer sustained effect resulting in less knee pain , better physical function , and attenuation of systemic inflammation in older patients with knee oa ( clinicaltrials.gov identifier nct01619163 ) .',\n",
              " 'emotional eating is associated with overeating and the development of obesity .',\n",
              " 'yet , empirical evidence for individual ( trait ) differences in emotional eating and cognitive mechanisms that contribute to eating during sad mood remain equivocal .',\n",
              " 'the aim of this study was to test if attention bias for food moderates the effect of self-reported emotional eating during sad mood ( vs neutral mood ) on actual food intake .']"
            ]
          },
          "metadata": {},
          "execution_count": 17
        }
      ]
    },
    {
      "cell_type": "markdown",
      "source": [
        "**One Hot Encoder**"
      ],
      "metadata": {
        "id": "r-mW3VUDTkPS"
      }
    },
    {
      "cell_type": "code",
      "source": [
        "# One hot encode labels\n",
        "from sklearn.preprocessing import OneHotEncoder\n",
        "# Remove the 'sparse' argument\n",
        "one_hot_encoder = OneHotEncoder(handle_unknown='ignore')\n",
        "train_labels_one_hot = one_hot_encoder.fit_transform(train_df[\"target\"].to_numpy().reshape(-1, 1))\n",
        "val_labels_one_hot = one_hot_encoder.transform(val_df[\"target\"].to_numpy().reshape(-1, 1))\n",
        "test_labels_one_hot = one_hot_encoder.transform(test_df[\"target\"].to_numpy().reshape(-1, 1))\n",
        "\n",
        "# Check what training labels look like\n",
        "train_labels_one_hot"
      ],
      "metadata": {
        "colab": {
          "base_uri": "https://localhost:8080/"
        },
        "id": "BWcD2iTdTom_",
        "outputId": "77b685dd-7474-40fe-9fca-24c8b09632dc"
      },
      "execution_count": 20,
      "outputs": [
        {
          "output_type": "execute_result",
          "data": {
            "text/plain": [
              "<180040x5 sparse matrix of type '<class 'numpy.float64'>'\n",
              "\twith 180040 stored elements in Compressed Sparse Row format>"
            ]
          },
          "metadata": {},
          "execution_count": 20
        }
      ]
    },
    {
      "cell_type": "markdown",
      "source": [
        "**Label encode labels**"
      ],
      "metadata": {
        "id": "Ix26-oOLURdx"
      }
    },
    {
      "cell_type": "code",
      "source": [
        "# Extract labels (\"target\" columns) and encode them into integers\n",
        "from sklearn.preprocessing import LabelEncoder\n",
        "label_encoder = LabelEncoder()\n",
        "train_labels_encoded = label_encoder.fit_transform(train_df[\"target\"].to_numpy())\n",
        "val_labels_encoded = label_encoder.transform(val_df[\"target\"].to_numpy())\n",
        "test_labels_encoded = label_encoder.transform(test_df[\"target\"].to_numpy())\n",
        "\n",
        "# Check what training labels look like\n",
        "train_labels_encoded"
      ],
      "metadata": {
        "colab": {
          "base_uri": "https://localhost:8080/"
        },
        "id": "xf9VPpVsUS67",
        "outputId": "9dd6c8d8-4604-47f1-9795-4c9cb3182776"
      },
      "execution_count": 21,
      "outputs": [
        {
          "output_type": "execute_result",
          "data": {
            "text/plain": [
              "array([3, 2, 2, ..., 4, 1, 1])"
            ]
          },
          "metadata": {},
          "execution_count": 21
        }
      ]
    },
    {
      "cell_type": "code",
      "source": [
        "# Get class names and number of classes from LabelEncoder instance\n",
        "num_classes = len(label_encoder.classes_)\n",
        "class_names = label_encoder.classes_\n",
        "num_classes, class_names"
      ],
      "metadata": {
        "colab": {
          "base_uri": "https://localhost:8080/"
        },
        "id": "xOR7tDXEUXv5",
        "outputId": "f266dd15-035f-405b-a2a4-138f959f77ad"
      },
      "execution_count": 22,
      "outputs": [
        {
          "output_type": "execute_result",
          "data": {
            "text/plain": [
              "(5,\n",
              " array(['BACKGROUND', 'CONCLUSIONS', 'METHODS', 'OBJECTIVE', 'RESULTS'],\n",
              "       dtype=object))"
            ]
          },
          "metadata": {},
          "execution_count": 22
        }
      ]
    },
    {
      "cell_type": "markdown",
      "source": [
        "**Model 0: Getting a baseline**\n",
        "\n",
        "First model will be a TF-IDF Multinomial Naive Bayes as recommended by Scikit-Learn's machine learning map.\n",
        "\n",
        "Will create a Scikit-Learn Pipeline which uses the TfidfVectorizer class to convert our abstract sentences to numbers using the TF-IDF (term frequency-inverse document frequecy) algorithm and then learns to classify our sentences using the MultinomialNB aglorithm."
      ],
      "metadata": {
        "id": "v3T3F7RvUbtp"
      }
    },
    {
      "cell_type": "code",
      "source": [
        "from sklearn.feature_extraction.text import TfidfVectorizer\n",
        "from sklearn.naive_bayes import MultinomialNB\n",
        "from sklearn.pipeline import Pipeline\n",
        "\n",
        "# Create a pipeline\n",
        "model_0 = Pipeline([\n",
        "  (\"tf-idf\", TfidfVectorizer()),\n",
        "  (\"clf\", MultinomialNB())\n",
        "])\n",
        "\n",
        "# Fit the pipeline to the training data\n",
        "model_0.fit(X=train_sentences,\n",
        "            y=train_labels_encoded);"
      ],
      "metadata": {
        "id": "wMdCj4LvUtg1"
      },
      "execution_count": 23,
      "outputs": []
    },
    {
      "cell_type": "code",
      "source": [
        "# Evaluate baseline on validation dataset\n",
        "model_0.score(X=val_sentences,\n",
        "              y=val_labels_encoded)"
      ],
      "metadata": {
        "colab": {
          "base_uri": "https://localhost:8080/"
        },
        "id": "bSWUXPfDUxqz",
        "outputId": "688f0a7e-db11-4c5c-b110-f67d3b426739"
      },
      "execution_count": 24,
      "outputs": [
        {
          "output_type": "execute_result",
          "data": {
            "text/plain": [
              "0.7317291142592347"
            ]
          },
          "metadata": {},
          "execution_count": 24
        }
      ]
    },
    {
      "cell_type": "code",
      "source": [
        "# Make predictions\n",
        "baseline_preds = model_0.predict(val_sentences)\n",
        "baseline_preds"
      ],
      "metadata": {
        "colab": {
          "base_uri": "https://localhost:8080/"
        },
        "id": "qrPEu5GfU1Oy",
        "outputId": "223766ee-7eb3-4bb2-ca5d-54ee10da13b1"
      },
      "execution_count": 25,
      "outputs": [
        {
          "output_type": "execute_result",
          "data": {
            "text/plain": [
              "array([0, 1, 3, ..., 4, 4, 1])"
            ]
          },
          "metadata": {},
          "execution_count": 25
        }
      ]
    },
    {
      "cell_type": "code",
      "source": [
        "# Download helper functions script\n",
        "!wget https://raw.githubusercontent.com/mrdbourke/tensorflow-deep-learning/main/extras/helper_functions.py"
      ],
      "metadata": {
        "colab": {
          "base_uri": "https://localhost:8080/"
        },
        "id": "taZAL2j9U5sM",
        "outputId": "ed1651b2-6f6c-4313-cc0e-f9c90366d846"
      },
      "execution_count": 26,
      "outputs": [
        {
          "output_type": "stream",
          "name": "stdout",
          "text": [
            "--2025-03-11 08:30:34--  https://raw.githubusercontent.com/mrdbourke/tensorflow-deep-learning/main/extras/helper_functions.py\n",
            "Resolving raw.githubusercontent.com (raw.githubusercontent.com)... 185.199.111.133, 185.199.108.133, 185.199.109.133, ...\n",
            "Connecting to raw.githubusercontent.com (raw.githubusercontent.com)|185.199.111.133|:443... connected.\n",
            "HTTP request sent, awaiting response... 200 OK\n",
            "Length: 10246 (10K) [text/plain]\n",
            "Saving to: ‘helper_functions.py’\n",
            "\n",
            "\rhelper_functions.py   0%[                    ]       0  --.-KB/s               \rhelper_functions.py 100%[===================>]  10.01K  --.-KB/s    in 0s      \n",
            "\n",
            "2025-03-11 08:30:34 (66.7 MB/s) - ‘helper_functions.py’ saved [10246/10246]\n",
            "\n"
          ]
        }
      ]
    },
    {
      "cell_type": "code",
      "source": [
        "# Import calculate_results helper function\n",
        "from helper_functions import calculate_results"
      ],
      "metadata": {
        "id": "Jondvd_uU-1I"
      },
      "execution_count": 27,
      "outputs": []
    },
    {
      "cell_type": "markdown",
      "source": [
        "**Model_0 Results**"
      ],
      "metadata": {
        "id": "TC0hsCBiVB-c"
      }
    },
    {
      "cell_type": "code",
      "source": [
        "# Calculate baseline results\n",
        "baseline_results = calculate_results(y_true=val_labels_encoded,\n",
        "                                     y_pred=baseline_preds)\n",
        "baseline_results"
      ],
      "metadata": {
        "colab": {
          "base_uri": "https://localhost:8080/"
        },
        "id": "Xh6cQWM3VDgy",
        "outputId": "345440cc-2032-47ba-cb35-c119be24e01f"
      },
      "execution_count": 28,
      "outputs": [
        {
          "output_type": "execute_result",
          "data": {
            "text/plain": [
              "{'accuracy': 73.17291142592347,\n",
              " 'precision': 0.7315166696974572,\n",
              " 'recall': 0.7317291142592347,\n",
              " 'f1': 0.7058060715307974}"
            ]
          },
          "metadata": {},
          "execution_count": 28
        }
      ]
    },
    {
      "cell_type": "markdown",
      "source": [
        "# **Prepare Data For Deep Neural Network Models**\n",
        "\n",
        "When this model goes through sentences, it works best when they're all the same length (this is important for creating batches of the same size tensors)\n",
        "\n",
        "* Finding the average sentence length in the Dataset.\n",
        "\n",
        "\n"
      ],
      "metadata": {
        "id": "Z9ZZr0okVIrK"
      }
    },
    {
      "cell_type": "code",
      "source": [
        "import numpy as np\n",
        "import tensorflow as tf\n",
        "from tensorflow.keras import layers"
      ],
      "metadata": {
        "id": "w_gEu86hVfYR"
      },
      "execution_count": 29,
      "outputs": []
    },
    {
      "cell_type": "code",
      "source": [
        "sen_len = [len(sentences.split()) for sentences in train_sentences]\n",
        "avg_sen_len = np.mean(sen_len)\n",
        "avg_sen_len"
      ],
      "metadata": {
        "colab": {
          "base_uri": "https://localhost:8080/"
        },
        "id": "jStRM0HeVi4Y",
        "outputId": "857df6e2-71f3-4881-a959-c95e976de5a9"
      },
      "execution_count": 30,
      "outputs": [
        {
          "output_type": "execute_result",
          "data": {
            "text/plain": [
              "26.338435903132638"
            ]
          },
          "metadata": {},
          "execution_count": 30
        }
      ]
    },
    {
      "cell_type": "code",
      "source": [
        "import matplotlib.pyplot as plt\n",
        "plt.hist(sen_len,bins=21) # Checking the Sequence Length Distribution and getting most occurance  sequence length"
      ],
      "metadata": {
        "colab": {
          "base_uri": "https://localhost:8080/",
          "height": 638
        },
        "id": "pxT7_WPlVmUg",
        "outputId": "f6030964-4e59-4c7a-8c2c-fc952cdbcf7d"
      },
      "execution_count": 31,
      "outputs": [
        {
          "output_type": "execute_result",
          "data": {
            "text/plain": [
              "(array([4.2075e+04, 7.9623e+04, 3.8292e+04, 1.2725e+04, 4.3900e+03,\n",
              "        1.6450e+03, 7.2600e+02, 2.8900e+02, 1.3600e+02, 5.5000e+01,\n",
              "        2.9000e+01, 1.5000e+01, 1.1000e+01, 9.0000e+00, 8.0000e+00,\n",
              "        5.0000e+00, 2.0000e+00, 3.0000e+00, 0.0000e+00, 1.0000e+00,\n",
              "        1.0000e+00]),\n",
              " array([  1.        ,  15.04761905,  29.0952381 ,  43.14285714,\n",
              "         57.19047619,  71.23809524,  85.28571429,  99.33333333,\n",
              "        113.38095238, 127.42857143, 141.47619048, 155.52380952,\n",
              "        169.57142857, 183.61904762, 197.66666667, 211.71428571,\n",
              "        225.76190476, 239.80952381, 253.85714286, 267.9047619 ,\n",
              "        281.95238095, 296.        ]),\n",
              " <BarContainer object of 21 artists>)"
            ]
          },
          "metadata": {},
          "execution_count": 31
        },
        {
          "output_type": "display_data",
          "data": {
            "text/plain": [
              "<Figure size 640x480 with 1 Axes>"
            ],
            "image/png": "[encoded data removed]"
          },
          "metadata": {}
        }
      ]
    },
    {
      "cell_type": "markdown",
      "source": [
        "Looks like the vast majority of sentences are between 0 and 50 tokens in length.\n",
        "\n",
        "We can use NumPy's `percentile` to find the value which covers 95% of the sentence lengthsHow long of a sentesnces cover majority of the data ? (95%)"
      ],
      "metadata": {
        "id": "VXpzgUVhVqZY"
      }
    },
    {
      "cell_type": "code",
      "source": [
        "np.percentile(sen_len,95)"
      ],
      "metadata": {
        "colab": {
          "base_uri": "https://localhost:8080/"
        },
        "id": "S1IXtre8VytL",
        "outputId": "9310c377-45ad-4c24-e8bd-ef6b4ec537ae"
      },
      "execution_count": 32,
      "outputs": [
        {
          "output_type": "execute_result",
          "data": {
            "text/plain": [
              "55.0"
            ]
          },
          "metadata": {},
          "execution_count": 32
        }
      ]
    },
    {
      "cell_type": "code",
      "source": [
        "max(sen_len)   # max length sentence in training set"
      ],
      "metadata": {
        "colab": {
          "base_uri": "https://localhost:8080/"
        },
        "id": "zuKTxD7cV2zW",
        "outputId": "dadc9d44-1d34-4dba-936e-1787fa036cbc"
      },
      "execution_count": 33,
      "outputs": [
        {
          "output_type": "execute_result",
          "data": {
            "text/plain": [
              "296"
            ]
          },
          "metadata": {},
          "execution_count": 33
        }
      ]
    },
    {
      "cell_type": "markdown",
      "source": [
        "Creaating a text vectorizer layer\n",
        "\n",
        "**Create text vectorize**\n",
        "\n",
        "The vocabulary size of the PubMed 20k dataset as 68,000. So we'll use that as our max_tokens parameter."
      ],
      "metadata": {
        "id": "QLId5i1HV6Kt"
      }
    },
    {
      "cell_type": "code",
      "source": [
        "max_tokens = 68000"
      ],
      "metadata": {
        "id": "SH1MOAoLWEn3"
      },
      "execution_count": 34,
      "outputs": []
    },
    {
      "cell_type": "code",
      "source": [
        "from tensorflow.keras.layers import TextVectorization # TextVectorization is now in keras.layers.preprocessing\n",
        "text_vectorizer = TextVectorization(max_tokens=max_tokens,standardize='lower_and_strip_punctuation',\n",
        "                                    output_sequence_length=55)"
      ],
      "metadata": {
        "id": "Bsn29pehWIWg"
      },
      "execution_count": 36,
      "outputs": []
    },
    {
      "cell_type": "code",
      "source": [
        "# Adapt text vectorizer to training sentences\n",
        "text_vectorizer.adapt(train_sentences)"
      ],
      "metadata": {
        "id": "bFn01jKgWTlH"
      },
      "execution_count": 37,
      "outputs": []
    },
    {
      "cell_type": "code",
      "source": [
        "# viewing vectorize training sentences\n",
        "import random\n",
        "target_sentence  = random.choice(train_sentences)\n",
        "print(f\"Text:\\n{target_sentence}\")\n",
        "print(f\"\\nLength of text: {len(target_sentence.split())}\")\n",
        "print(f\"\\nVectorized text:\\n{text_vectorizer([target_sentence])}\")"
      ],
      "metadata": {
        "colab": {
          "base_uri": "https://localhost:8080/"
        },
        "id": "EvAuB70RWX1P",
        "outputId": "c73a82b0-a05a-43bc-afe5-c4ed3e4d2d5e"
      },
      "execution_count": 38,
      "outputs": [
        {
          "output_type": "stream",
          "name": "stdout",
          "text": [
            "Text:\n",
            "the purpose of this study was to compare therapeutic alliance in clients receiving cognitive behavioral therapy ( cbt ) for depression by telephone ( t-cbt ) or face-to-face ( ftf-cbt ) .\n",
            "\n",
            "Length of text: 32\n",
            "\n",
            "Vectorized text:\n",
            "[[    2   754     4    23    17    10     6   237   478  5177     5  5632\n",
            "    255   321   770    67  1355    11   266    22  1134 20071    16  3156\n",
            "  30000     0     0     0     0     0     0     0     0     0     0     0\n",
            "      0     0     0     0     0     0     0     0     0     0     0     0\n",
            "      0     0     0     0     0     0     0]]\n"
          ]
        }
      ]
    },
    {
      "cell_type": "code",
      "source": [
        "# Getting the vocabulary and showing most frequent and least frequest words in the vocabulary\n",
        "rct_20k_text_vocab = text_vectorizer.get_vocabulary()\n",
        "most_common = rct_20k_text_vocab[:5]\n",
        "least_common = rct_20k_text_vocab[-5:]\n",
        "print(f\"Number of words in vocabulary: {len(rct_20k_text_vocab)}\"),\n",
        "print(f\"Most common words in the vocabulary: {most_common}\")\n",
        "print(f\"Least common words in the vocabulary: {least_common}\")"
      ],
      "metadata": {
        "colab": {
          "base_uri": "https://localhost:8080/"
        },
        "id": "4Y8Y2u_QWeic",
        "outputId": "4e6f5e4f-d224-44d7-c78a-c2d6a8414721"
      },
      "execution_count": 39,
      "outputs": [
        {
          "output_type": "stream",
          "name": "stdout",
          "text": [
            "Number of words in vocabulary: 68000\n",
            "Most common words in the vocabulary: ['', '[UNK]', 'the', 'and', 'of']\n",
            "Least common words in the vocabulary: ['httpsuploaduminacjpcgiopenbinctrctrcgifunctionbrowsactionbrowstypesummaryrecptnor000008238languagee', 'httpsregisterclinicaltrialsgov', 'httpsmartmicrosurgerycom', 'httpseudractemaeuropaeuindexhtml', 'httpseudractemaeuropaeu']\n"
          ]
        }
      ]
    },
    {
      "cell_type": "code",
      "source": [
        "# Get the config of our text vectorizer\n",
        "text_vectorizer.get_config()"
      ],
      "metadata": {
        "colab": {
          "base_uri": "https://localhost:8080/"
        },
        "id": "fJbBuutYWhvl",
        "outputId": "ba2c0279-f822-41ea-c97c-b3d80b986299"
      },
      "execution_count": 40,
      "outputs": [
        {
          "output_type": "execute_result",
          "data": {
            "text/plain": [
              "{'name': 'text_vectorization',\n",
              " 'trainable': True,\n",
              " 'dtype': {'module': 'keras',\n",
              "  'class_name': 'DTypePolicy',\n",
              "  'config': {'name': 'float32'},\n",
              "  'registered_name': None},\n",
              " 'max_tokens': 68000,\n",
              " 'standardize': 'lower_and_strip_punctuation',\n",
              " 'split': 'whitespace',\n",
              " 'ngrams': None,\n",
              " 'output_mode': 'int',\n",
              " 'output_sequence_length': 55,\n",
              " 'pad_to_max_tokens': False,\n",
              " 'sparse': False,\n",
              " 'ragged': False,\n",
              " 'vocabulary': None,\n",
              " 'idf_weights': None,\n",
              " 'encoding': 'utf-8',\n",
              " 'vocabulary_size': 68000}"
            ]
          },
          "metadata": {},
          "execution_count": 40
        }
      ]
    },
    {
      "cell_type": "markdown",
      "source": [
        "# Create custom text embedding\n",
        "\n",
        "To create a richer numerical representation of our text, we can use an **embedding**.\n",
        "\n",
        "The `input_dim` parameter defines the size of our vocabulary. And the `output_dim` parameter defines the dimension of the embedding output.\n",
        "\n",
        "Once created, our embedding layer will take the integer outputs of our `text_vectorization` layer as inputs and convert them to feature vectors of size `output_dim`."
      ],
      "metadata": {
        "id": "8cbCTDCaWlad"
      }
    },
    {
      "cell_type": "code",
      "source": [
        "token_embed = layers.Embedding(input_dim=len(rct_20k_text_vocab),\n",
        "                               output_dim= 128,\n",
        "                               mask_zero=True,\n",
        "                               input_length=55)\n",
        "\n",
        "\n",
        "\n",
        "print(f\"Sentence before Vectorization : \\n{target_sentence}\\n\")\n",
        "vec_sentence = text_vectorizer([target_sentence])\n",
        "print(f\"Sentence After vectorization :\\n {vec_sentence}\\n\")\n",
        "embed_sentence = token_embed(vec_sentence)\n",
        "print(f\"Embedding Sentence :\\n{embed_sentence}\\n\")"
      ],
      "metadata": {
        "colab": {
          "base_uri": "https://localhost:8080/"
        },
        "id": "GpmYY6LUW36x",
        "outputId": "ba9e8850-985e-45f3-c492-893f482c5a9d"
      },
      "execution_count": 41,
      "outputs": [
        {
          "output_type": "stream",
          "name": "stdout",
          "text": [
            "Sentence before Vectorization : \n",
            "the purpose of this study was to compare therapeutic alliance in clients receiving cognitive behavioral therapy ( cbt ) for depression by telephone ( t-cbt ) or face-to-face ( ftf-cbt ) .\n",
            "\n",
            "Sentence After vectorization :\n",
            " [[    2   754     4    23    17    10     6   237   478  5177     5  5632\n",
            "    255   321   770    67  1355    11   266    22  1134 20071    16  3156\n",
            "  30000     0     0     0     0     0     0     0     0     0     0     0\n",
            "      0     0     0     0     0     0     0     0     0     0     0     0\n",
            "      0     0     0     0     0     0     0]]\n",
            "\n",
            "Embedding Sentence :\n",
            "[[[ 0.04667893 -0.03171555 -0.04535919 ...  0.0018455  -0.00815983\n",
            "    0.02371644]\n",
            "  [ 0.00454547 -0.00164676 -0.02615609 ...  0.01364887  0.02144558\n",
            "   -0.03244857]\n",
            "  [-0.00535437  0.01759768 -0.03528374 ...  0.02629639  0.03365723\n",
            "    0.01808579]\n",
            "  ...\n",
            "  [ 0.04237247 -0.03857632 -0.02006659 ... -0.02306679  0.00469425\n",
            "   -0.04876305]\n",
            "  [ 0.04237247 -0.03857632 -0.02006659 ... -0.02306679  0.00469425\n",
            "   -0.04876305]\n",
            "  [ 0.04237247 -0.03857632 -0.02006659 ... -0.02306679  0.00469425\n",
            "   -0.04876305]]]\n",
            "\n"
          ]
        },
        {
          "output_type": "stream",
          "name": "stderr",
          "text": [
            "/usr/local/lib/python3.11/dist-packages/keras/src/layers/core/embedding.py:90: UserWarning: Argument `input_length` is deprecated. Just remove it.\n",
            "  warnings.warn(\n"
          ]
        }
      ]
    },
    {
      "cell_type": "code",
      "source": [
        "# Turn our data into TensorFlow Dataset\n",
        "train_dataset = tf.data.Dataset.from_tensor_slices((train_sentences, train_labels_one_hot.toarray())) # Convert sparse matrix to dense numpy array\n",
        "valid_dataset = tf.data.Dataset.from_tensor_slices((val_sentences, val_labels_one_hot.toarray())) # Convert sparse matrix to dense numpy array\n",
        "test_dataset = tf.data.Dataset.from_tensor_slices((test_sentences, test_labels_one_hot.toarray())) # Convert sparse matrix to dense numpy array"
      ],
      "metadata": {
        "id": "_19mK_fNXBS8"
      },
      "execution_count": 43,
      "outputs": []
    },
    {
      "cell_type": "code",
      "source": [
        "len(train_dataset) , train_dataset"
      ],
      "metadata": {
        "colab": {
          "base_uri": "https://localhost:8080/"
        },
        "id": "xQjyQUFcXnei",
        "outputId": "66911d4a-79e5-4f33-b2cd-a1f842234c5b"
      },
      "execution_count": 44,
      "outputs": [
        {
          "output_type": "execute_result",
          "data": {
            "text/plain": [
              "(180040,\n",
              " <_TensorSliceDataset element_spec=(TensorSpec(shape=(), dtype=tf.string, name=None), TensorSpec(shape=(5,), dtype=tf.float64, name=None))>)"
            ]
          },
          "metadata": {},
          "execution_count": 44
        }
      ]
    },
    {
      "cell_type": "code",
      "source": [
        "# Take the TensorSliceDataset's and turn them into prefetched batches\n",
        "train_dataset = train_dataset.batch(32).prefetch(tf.data.AUTOTUNE)\n",
        "valid_dataset = valid_dataset.batch(32).prefetch(tf.data.AUTOTUNE)\n",
        "test_dataset = test_dataset.batch(32).prefetch(tf.data.AUTOTUNE)\n",
        "\n",
        "train_dataset"
      ],
      "metadata": {
        "colab": {
          "base_uri": "https://localhost:8080/"
        },
        "id": "BsLZK0v-XqNY",
        "outputId": "2e6fb49f-95d7-4225-c7cf-b0c4b3addb46"
      },
      "execution_count": 45,
      "outputs": [
        {
          "output_type": "execute_result",
          "data": {
            "text/plain": [
              "<_PrefetchDataset element_spec=(TensorSpec(shape=(None,), dtype=tf.string, name=None), TensorSpec(shape=(None, 5), dtype=tf.float64, name=None))>"
            ]
          },
          "metadata": {},
          "execution_count": 45
        }
      ]
    },
    {
      "cell_type": "markdown",
      "source": [
        "**Model 1: Conv1D with token embedding**\n",
        "\n",
        "All of our deep models will follow a similar structure:\n",
        "\n",
        "Input (text) -> Tokenize -> Embedding -> Layers -> Output (label probability)"
      ],
      "metadata": {
        "id": "vt7TTosEXxGJ"
      }
    },
    {
      "cell_type": "code",
      "source": [
        "inputs = layers.Input(shape = (1,),dtype = tf.string)\n",
        "text_vector = text_vectorizer(inputs)\n",
        "embed = token_embed(text_vector)\n",
        "x = layers.Conv1D(filters = 64, kernel_size= 5, padding=\"same\",activation=\"relu\",kernel_regularizer=tf.keras.regularizers.L2(0.01))(embed)\n",
        "x = layers.GlobalMaxPool1D()(x)\n",
        "x = layers.Dropout(0.2)(x)\n",
        "outputs = layers.Dense(num_classes,activation=\"softmax\")(x)\n",
        "\n",
        "model = tf.keras.Model(inputs,outputs)\n",
        "model.summary()"
      ],
      "metadata": {
        "colab": {
          "base_uri": "https://localhost:8080/",
          "height": 440
        },
        "id": "EfZN27h2X4vw",
        "outputId": "cbb9cb77-684f-4003-9c72-6b813431be6e"
      },
      "execution_count": 46,
      "outputs": [
        {
          "output_type": "stream",
          "name": "stderr",
          "text": [
            "/usr/local/lib/python3.11/dist-packages/keras/src/layers/layer.py:938: UserWarning: Layer 'conv1d' (of type Conv1D) was passed an input with a mask attached to it. However, this layer does not support masking and will therefore destroy the mask information. Downstream layers will not see the mask.\n",
            "  warnings.warn(\n"
          ]
        },
        {
          "output_type": "display_data",
          "data": {
            "text/plain": [
              "\u001b[1mModel: \"functional\"\u001b[0m\n"
            ],
            "text/html": [
              "<pre style=\"white-space:pre;overflow-x:auto;line-height:normal;font-family:Menlo,'DejaVu Sans Mono',consolas,'Courier New',monospace\"><span style=\"font-weight: bold\">Model: \"functional\"</span>\n",
              "</pre>\n"
            ]
          },
          "metadata": {}
        },
        {
          "output_type": "display_data",
          "data": {
            "text/plain": [
              "┏━━━━━━━━━━━━━━━━━━━━━━━━━━━━━━━━━━━━━━┳━━━━━━━━━━━━━━━━━━━━━━━━━━━━━┳━━━━━━━━━━━━━━━━━┓\n",
              "┃\u001b[1m \u001b[0m\u001b[1mLayer (type)                        \u001b[0m\u001b[1m \u001b[0m┃\u001b[1m \u001b[0m\u001b[1mOutput Shape               \u001b[0m\u001b[1m \u001b[0m┃\u001b[1m \u001b[0m\u001b[1m        Param #\u001b[0m\u001b[1m \u001b[0m┃\n",
              "┡━━━━━━━━━━━━━━━━━━━━━━━━━━━━━━━━━━━━━━╇━━━━━━━━━━━━━━━━━━━━━━━━━━━━━╇━━━━━━━━━━━━━━━━━┩\n",
              "│ input_layer (\u001b[38;5;33mInputLayer\u001b[0m)             │ (\u001b[38;5;45mNone\u001b[0m, \u001b[38;5;34m1\u001b[0m)                   │               \u001b[38;5;34m0\u001b[0m │\n",
              "├──────────────────────────────────────┼─────────────────────────────┼─────────────────┤\n",
              "│ text_vectorization                   │ (\u001b[38;5;45mNone\u001b[0m, \u001b[38;5;34m55\u001b[0m)                  │               \u001b[38;5;34m0\u001b[0m │\n",
              "│ (\u001b[38;5;33mTextVectorization\u001b[0m)                  │                             │                 │\n",
              "├──────────────────────────────────────┼─────────────────────────────┼─────────────────┤\n",
              "│ embedding (\u001b[38;5;33mEmbedding\u001b[0m)                │ (\u001b[38;5;45mNone\u001b[0m, \u001b[38;5;34m55\u001b[0m, \u001b[38;5;34m128\u001b[0m)             │       \u001b[38;5;34m8,704,000\u001b[0m │\n",
              "├──────────────────────────────────────┼─────────────────────────────┼─────────────────┤\n",
              "│ conv1d (\u001b[38;5;33mConv1D\u001b[0m)                      │ (\u001b[38;5;45mNone\u001b[0m, \u001b[38;5;34m55\u001b[0m, \u001b[38;5;34m64\u001b[0m)              │          \u001b[38;5;34m41,024\u001b[0m │\n",
              "├──────────────────────────────────────┼─────────────────────────────┼─────────────────┤\n",
              "│ global_max_pooling1d                 │ (\u001b[38;5;45mNone\u001b[0m, \u001b[38;5;34m64\u001b[0m)                  │               \u001b[38;5;34m0\u001b[0m │\n",
              "│ (\u001b[38;5;33mGlobalMaxPooling1D\u001b[0m)                 │                             │                 │\n",
              "├──────────────────────────────────────┼─────────────────────────────┼─────────────────┤\n",
              "│ dropout (\u001b[38;5;33mDropout\u001b[0m)                    │ (\u001b[38;5;45mNone\u001b[0m, \u001b[38;5;34m64\u001b[0m)                  │               \u001b[38;5;34m0\u001b[0m │\n",
              "├──────────────────────────────────────┼─────────────────────────────┼─────────────────┤\n",
              "│ dense (\u001b[38;5;33mDense\u001b[0m)                        │ (\u001b[38;5;45mNone\u001b[0m, \u001b[38;5;34m5\u001b[0m)                   │             \u001b[38;5;34m325\u001b[0m │\n",
              "└──────────────────────────────────────┴─────────────────────────────┴─────────────────┘\n"
            ],
            "text/html": [
              "<pre style=\"white-space:pre;overflow-x:auto;line-height:normal;font-family:Menlo,'DejaVu Sans Mono',consolas,'Courier New',monospace\">┏━━━━━━━━━━━━━━━━━━━━━━━━━━━━━━━━━━━━━━┳━━━━━━━━━━━━━━━━━━━━━━━━━━━━━┳━━━━━━━━━━━━━━━━━┓\n",
              "┃<span style=\"font-weight: bold\"> Layer (type)                         </span>┃<span style=\"font-weight: bold\"> Output Shape                </span>┃<span style=\"font-weight: bold\">         Param # </span>┃\n",
              "┡━━━━━━━━━━━━━━━━━━━━━━━━━━━━━━━━━━━━━━╇━━━━━━━━━━━━━━━━━━━━━━━━━━━━━╇━━━━━━━━━━━━━━━━━┩\n",
              "│ input_layer (<span style=\"color: #0087ff; text-decoration-color: #0087ff\">InputLayer</span>)             │ (<span style=\"color: #00d7ff; text-decoration-color: #00d7ff\">None</span>, <span style=\"color: #00af00; text-decoration-color: #00af00\">1</span>)                   │               <span style=\"color: #00af00; text-decoration-color: #00af00\">0</span> │\n",
              "├──────────────────────────────────────┼─────────────────────────────┼─────────────────┤\n",
              "│ text_vectorization                   │ (<span style=\"color: #00d7ff; text-decoration-color: #00d7ff\">None</span>, <span style=\"color: #00af00; text-decoration-color: #00af00\">55</span>)                  │               <span style=\"color: #00af00; text-decoration-color: #00af00\">0</span> │\n",
              "│ (<span style=\"color: #0087ff; text-decoration-color: #0087ff\">TextVectorization</span>)                  │                             │                 │\n",
              "├──────────────────────────────────────┼─────────────────────────────┼─────────────────┤\n",
              "│ embedding (<span style=\"color: #0087ff; text-decoration-color: #0087ff\">Embedding</span>)                │ (<span style=\"color: #00d7ff; text-decoration-color: #00d7ff\">None</span>, <span style=\"color: #00af00; text-decoration-color: #00af00\">55</span>, <span style=\"color: #00af00; text-decoration-color: #00af00\">128</span>)             │       <span style=\"color: #00af00; text-decoration-color: #00af00\">8,704,000</span> │\n",
              "├──────────────────────────────────────┼─────────────────────────────┼─────────────────┤\n",
              "│ conv1d (<span style=\"color: #0087ff; text-decoration-color: #0087ff\">Conv1D</span>)                      │ (<span style=\"color: #00d7ff; text-decoration-color: #00d7ff\">None</span>, <span style=\"color: #00af00; text-decoration-color: #00af00\">55</span>, <span style=\"color: #00af00; text-decoration-color: #00af00\">64</span>)              │          <span style=\"color: #00af00; text-decoration-color: #00af00\">41,024</span> │\n",
              "├──────────────────────────────────────┼─────────────────────────────┼─────────────────┤\n",
              "│ global_max_pooling1d                 │ (<span style=\"color: #00d7ff; text-decoration-color: #00d7ff\">None</span>, <span style=\"color: #00af00; text-decoration-color: #00af00\">64</span>)                  │               <span style=\"color: #00af00; text-decoration-color: #00af00\">0</span> │\n",
              "│ (<span style=\"color: #0087ff; text-decoration-color: #0087ff\">GlobalMaxPooling1D</span>)                 │                             │                 │\n",
              "├──────────────────────────────────────┼─────────────────────────────┼─────────────────┤\n",
              "│ dropout (<span style=\"color: #0087ff; text-decoration-color: #0087ff\">Dropout</span>)                    │ (<span style=\"color: #00d7ff; text-decoration-color: #00d7ff\">None</span>, <span style=\"color: #00af00; text-decoration-color: #00af00\">64</span>)                  │               <span style=\"color: #00af00; text-decoration-color: #00af00\">0</span> │\n",
              "├──────────────────────────────────────┼─────────────────────────────┼─────────────────┤\n",
              "│ dense (<span style=\"color: #0087ff; text-decoration-color: #0087ff\">Dense</span>)                        │ (<span style=\"color: #00d7ff; text-decoration-color: #00d7ff\">None</span>, <span style=\"color: #00af00; text-decoration-color: #00af00\">5</span>)                   │             <span style=\"color: #00af00; text-decoration-color: #00af00\">325</span> │\n",
              "└──────────────────────────────────────┴─────────────────────────────┴─────────────────┘\n",
              "</pre>\n"
            ]
          },
          "metadata": {}
        },
        {
          "output_type": "display_data",
          "data": {
            "text/plain": [
              "\u001b[1m Total params: \u001b[0m\u001b[38;5;34m8,745,349\u001b[0m (33.36 MB)\n"
            ],
            "text/html": [
              "<pre style=\"white-space:pre;overflow-x:auto;line-height:normal;font-family:Menlo,'DejaVu Sans Mono',consolas,'Courier New',monospace\"><span style=\"font-weight: bold\"> Total params: </span><span style=\"color: #00af00; text-decoration-color: #00af00\">8,745,349</span> (33.36 MB)\n",
              "</pre>\n"
            ]
          },
          "metadata": {}
        },
        {
          "output_type": "display_data",
          "data": {
            "text/plain": [
              "\u001b[1m Trainable params: \u001b[0m\u001b[38;5;34m8,745,349\u001b[0m (33.36 MB)\n"
            ],
            "text/html": [
              "<pre style=\"white-space:pre;overflow-x:auto;line-height:normal;font-family:Menlo,'DejaVu Sans Mono',consolas,'Courier New',monospace\"><span style=\"font-weight: bold\"> Trainable params: </span><span style=\"color: #00af00; text-decoration-color: #00af00\">8,745,349</span> (33.36 MB)\n",
              "</pre>\n"
            ]
          },
          "metadata": {}
        },
        {
          "output_type": "display_data",
          "data": {
            "text/plain": [
              "\u001b[1m Non-trainable params: \u001b[0m\u001b[38;5;34m0\u001b[0m (0.00 B)\n"
            ],
            "text/html": [
              "<pre style=\"white-space:pre;overflow-x:auto;line-height:normal;font-family:Menlo,'DejaVu Sans Mono',consolas,'Courier New',monospace\"><span style=\"font-weight: bold\"> Non-trainable params: </span><span style=\"color: #00af00; text-decoration-color: #00af00\">0</span> (0.00 B)\n",
              "</pre>\n"
            ]
          },
          "metadata": {}
        }
      ]
    },
    {
      "cell_type": "code",
      "source": [
        "len(train_dataset)"
      ],
      "metadata": {
        "colab": {
          "base_uri": "https://localhost:8080/"
        },
        "id": "XpD9lzWUYDes",
        "outputId": "2ba5a791-f8d6-43ab-f841-ccd364189fd7"
      },
      "execution_count": 47,
      "outputs": [
        {
          "output_type": "execute_result",
          "data": {
            "text/plain": [
              "5627"
            ]
          },
          "metadata": {},
          "execution_count": 47
        }
      ]
    },
    {
      "cell_type": "code",
      "source": [
        "model.compile(optimizer='Adam', loss=\"categorical_crossentropy\", metrics=[\"accuracy\"])"
      ],
      "metadata": {
        "id": "Sjc6g8WeYHe4"
      },
      "execution_count": 48,
      "outputs": []
    },
    {
      "cell_type": "code",
      "source": [
        "model_1_history =  model.fit(train_dataset,\n",
        "                             steps_per_epoch=int(0.1 * len(train_dataset)),\n",
        "                             epochs = 10,\n",
        "                             validation_data = valid_dataset,\n",
        "                             validation_steps=int(0.1 * len(valid_dataset)),)"
      ],
      "metadata": {
        "colab": {
          "base_uri": "https://localhost:8080/"
        },
        "id": "ILGH9Cy2YKau",
        "outputId": "1c97a229-ac3b-44f5-ee11-7e2cc32e0c59"
      },
      "execution_count": 49,
      "outputs": [
        {
          "output_type": "stream",
          "name": "stdout",
          "text": [
            "Epoch 1/10\n",
            "\u001b[1m562/562\u001b[0m \u001b[32m━━━━━━━━━━━━━━━━━━━━\u001b[0m\u001b[37m\u001b[0m \u001b[1m87s\u001b[0m 152ms/step - accuracy: 0.5073 - loss: 1.4226 - val_accuracy: 0.7507 - val_loss: 0.7760\n",
            "Epoch 2/10\n",
            "\u001b[1m562/562\u001b[0m \u001b[32m━━━━━━━━━━━━━━━━━━━━\u001b[0m\u001b[37m\u001b[0m \u001b[1m93s\u001b[0m 165ms/step - accuracy: 0.7502 - loss: 0.7854 - val_accuracy: 0.7832 - val_loss: 0.6970\n",
            "Epoch 3/10\n",
            "\u001b[1m562/562\u001b[0m \u001b[32m━━━━━━━━━━━━━━━━━━━━\u001b[0m\u001b[37m\u001b[0m \u001b[1m82s\u001b[0m 145ms/step - accuracy: 0.7620 - loss: 0.7238 - val_accuracy: 0.7889 - val_loss: 0.6590\n",
            "Epoch 4/10\n",
            "\u001b[1m562/562\u001b[0m \u001b[32m━━━━━━━━━━━━━━━━━━━━\u001b[0m\u001b[37m\u001b[0m \u001b[1m82s\u001b[0m 146ms/step - accuracy: 0.7706 - loss: 0.6894 - val_accuracy: 0.7886 - val_loss: 0.6449\n",
            "Epoch 5/10\n",
            "\u001b[1m562/562\u001b[0m \u001b[32m━━━━━━━━━━━━━━━━━━━━\u001b[0m\u001b[37m\u001b[0m \u001b[1m86s\u001b[0m 153ms/step - accuracy: 0.7773 - loss: 0.6831 - val_accuracy: 0.7969 - val_loss: 0.6336\n",
            "Epoch 6/10\n",
            "\u001b[1m562/562\u001b[0m \u001b[32m━━━━━━━━━━━━━━━━━━━━\u001b[0m\u001b[37m\u001b[0m \u001b[1m86s\u001b[0m 153ms/step - accuracy: 0.7772 - loss: 0.6727 - val_accuracy: 0.7959 - val_loss: 0.6261\n",
            "Epoch 7/10\n",
            "\u001b[1m562/562\u001b[0m \u001b[32m━━━━━━━━━━━━━━━━━━━━\u001b[0m\u001b[37m\u001b[0m \u001b[1m84s\u001b[0m 150ms/step - accuracy: 0.7906 - loss: 0.6398 - val_accuracy: 0.8055 - val_loss: 0.6116\n",
            "Epoch 8/10\n",
            "\u001b[1m562/562\u001b[0m \u001b[32m━━━━━━━━━━━━━━━━━━━━\u001b[0m\u001b[37m\u001b[0m \u001b[1m86s\u001b[0m 153ms/step - accuracy: 0.7964 - loss: 0.6343 - val_accuracy: 0.8078 - val_loss: 0.6050\n",
            "Epoch 9/10\n",
            "\u001b[1m562/562\u001b[0m \u001b[32m━━━━━━━━━━━━━━━━━━━━\u001b[0m\u001b[37m\u001b[0m \u001b[1m142s\u001b[0m 253ms/step - accuracy: 0.7898 - loss: 0.6353 - val_accuracy: 0.7932 - val_loss: 0.6275\n",
            "Epoch 10/10\n",
            "\u001b[1m562/562\u001b[0m \u001b[32m━━━━━━━━━━━━━━━━━━━━\u001b[0m\u001b[37m\u001b[0m \u001b[1m81s\u001b[0m 145ms/step - accuracy: 0.7908 - loss: 0.6494 - val_accuracy: 0.8095 - val_loss: 0.5914\n"
          ]
        }
      ]
    },
    {
      "cell_type": "code",
      "source": [
        "# Evaluate on whole validation dataset (we only validated on 10% of batches during training)\n",
        "model.evaluate(valid_dataset)"
      ],
      "metadata": {
        "colab": {
          "base_uri": "https://localhost:8080/"
        },
        "id": "wND2DIniYXT0",
        "outputId": "02dfa42f-ea87-4ee8-efe1-e228c12489c4"
      },
      "execution_count": 51,
      "outputs": [
        {
          "output_type": "stream",
          "name": "stdout",
          "text": [
            "\u001b[1m945/945\u001b[0m \u001b[32m━━━━━━━━━━━━━━━━━━━━\u001b[0m\u001b[37m\u001b[0m \u001b[1m6s\u001b[0m 6ms/step - accuracy: 0.8114 - loss: 0.5851\n"
          ]
        },
        {
          "output_type": "execute_result",
          "data": {
            "text/plain": [
              "[0.5885724425315857, 0.8115318417549133]"
            ]
          },
          "metadata": {},
          "execution_count": 51
        }
      ]
    },
    {
      "cell_type": "code",
      "source": [
        "# Make predictions (our model outputs prediction probabilities for each class)\n",
        "model_1_pred_probs = model.predict(valid_dataset)\n",
        "model_1_pred_probs"
      ],
      "metadata": {
        "colab": {
          "base_uri": "https://localhost:8080/"
        },
        "id": "dcCB1Jr_Ya5K",
        "outputId": "f61b7e65-4bc2-4ec9-c98b-fc686a970e4c"
      },
      "execution_count": 52,
      "outputs": [
        {
          "output_type": "stream",
          "name": "stdout",
          "text": [
            "\u001b[1m945/945\u001b[0m \u001b[32m━━━━━━━━━━━━━━━━━━━━\u001b[0m\u001b[37m\u001b[0m \u001b[1m5s\u001b[0m 5ms/step\n"
          ]
        },
        {
          "output_type": "execute_result",
          "data": {
            "text/plain": [
              "array([[5.65661132e-01, 2.30835289e-01, 2.24417485e-02, 1.64464906e-01,\n",
              "        1.65969189e-02],\n",
              "       [3.06670189e-01, 6.08430624e-01, 1.08235131e-03, 7.21266791e-02,\n",
              "        1.16901668e-02],\n",
              "       [2.02820122e-01, 1.50819877e-02, 1.15063100e-03, 7.80050516e-01,\n",
              "        8.96696234e-04],\n",
              "       ...,\n",
              "       [1.95300221e-04, 1.72639883e-03, 4.55929637e-02, 2.30419857e-04,\n",
              "        9.52254951e-01],\n",
              "       [5.63084753e-03, 8.06830227e-02, 5.88298142e-02, 6.28553843e-03,\n",
              "        8.48570824e-01],\n",
              "       [1.24001585e-01, 7.67024934e-01, 1.17508061e-02, 2.30099894e-02,\n",
              "        7.42126554e-02]], dtype=float32)"
            ]
          },
          "metadata": {},
          "execution_count": 52
        }
      ]
    },
    {
      "cell_type": "code",
      "source": [
        "# Convert pred probs to classes\n",
        "model_1_preds = tf.argmax(model_1_pred_probs, axis=1)\n",
        "model_1_preds"
      ],
      "metadata": {
        "colab": {
          "base_uri": "https://localhost:8080/"
        },
        "id": "C1jluBOjYkMP",
        "outputId": "0b21a333-dfbc-4e84-cf83-a1fbad82f682"
      },
      "execution_count": 53,
      "outputs": [
        {
          "output_type": "execute_result",
          "data": {
            "text/plain": [
              "<tf.Tensor: shape=(30212,), dtype=int64, numpy=array([0, 1, 3, ..., 4, 4, 1])>"
            ]
          },
          "metadata": {},
          "execution_count": 53
        }
      ]
    },
    {
      "cell_type": "markdown",
      "source": [
        "**Model_1 Results**"
      ],
      "metadata": {
        "id": "41z03n1xYmwD"
      }
    },
    {
      "cell_type": "code",
      "source": [
        "# Calculate model_1 results\n",
        "model_1_results = calculate_results(y_true=val_labels_encoded,\n",
        "                                    y_pred=model_1_preds)\n",
        "model_1_results"
      ],
      "metadata": {
        "colab": {
          "base_uri": "https://localhost:8080/"
        },
        "id": "T3XLokJkYo0T",
        "outputId": "8fe1a429-112a-4a86-9c4e-966e58a87c03"
      },
      "execution_count": 54,
      "outputs": [
        {
          "output_type": "execute_result",
          "data": {
            "text/plain": [
              "{'accuracy': 81.15318416523236,\n",
              " 'precision': 0.8084634030673424,\n",
              " 'recall': 0.8115318416523236,\n",
              " 'f1': 0.8090492906565443}"
            ]
          },
          "metadata": {},
          "execution_count": 54
        }
      ]
    },
    {
      "cell_type": "markdown",
      "source": [
        "# **Model 2: Feature extraction with pretrained token embedding (USE)**\n",
        "\n",
        "Here We use Universal Sentence Encoder here from TF-HUB.\n",
        "\n",
        "Since we're moving towards replicating the model architecture in Neural Networks for Joint Sentence Classification in Medical Paper Abstracts, it mentions they used a pretrained GloVe embedding as a way to initialise their token embeddings.\n",
        "\n",
        "The model structure will look like:\n",
        "\n",
        "*Inputs (string) -> Pretrained embeddings from TensorFlow Hub (Universal Sentence Encoder) -> Layers -> Output (prediction probabilities)*"
      ],
      "metadata": {
        "id": "AZ959-yjYus7"
      }
    },
    {
      "cell_type": "code",
      "source": [
        "# Download pretrained TensorFlow Hub USE\n",
        "import tensorflow_hub as hub\n",
        "tf_hub_embedding_layer = hub.KerasLayer(\"https://tfhub.dev/google/universal-sentence-encoder/4\",\n",
        "                                        trainable=False,\n",
        "                                        name=\"universal_sentence_encoder\")"
      ],
      "metadata": {
        "id": "LCmq-NPmZAkd"
      },
      "execution_count": 55,
      "outputs": []
    },
    {
      "cell_type": "markdown",
      "source": [
        "Beautiful, now pretrained USE is downloaded and instantiated as a hub.KerasLayer instance, let's test it out on a random sentence"
      ],
      "metadata": {
        "id": "jFZqKBOOZFyt"
      }
    },
    {
      "cell_type": "code",
      "source": [
        "# Test out the embedding on a random sentence\n",
        "random_training_sentence = random.choice(train_sentences)\n",
        "print(f\"Random training sentence:\\n{random_training_sentence}\\n\")\n",
        "use_embedded_sentence = tf_hub_embedding_layer([random_training_sentence])\n",
        "print(f\"Sentence after embedding:\\n{use_embedded_sentence[0][:30]} (truncated output)...\\n\")\n",
        "print(f\"Length of sentence embedding:\\n{len(use_embedded_sentence[0])}\")"
      ],
      "metadata": {
        "colab": {
          "base_uri": "https://localhost:8080/"
        },
        "id": "PkekQpT2ZL46",
        "outputId": "b57bc788-8fda-4c36-aa37-3db8bc88276a"
      },
      "execution_count": 56,
      "outputs": [
        {
          "output_type": "stream",
          "name": "stdout",
          "text": [
            "Random training sentence:\n",
            "this change was significantly more evident in group a patients .\n",
            "\n",
            "Sentence after embedding:\n",
            "[-0.03269958 -0.02254067 -0.00969141  0.03898354 -0.06410518  0.02224733\n",
            "  0.03026689 -0.03579187 -0.02515364  0.02603479  0.08659169  0.02956972\n",
            "  0.08019351  0.06550868 -0.00116463  0.05165146 -0.08828314 -0.03741875\n",
            "  0.02928751 -0.01907683  0.00289375  0.08729643 -0.00566383 -0.05317733\n",
            " -0.05160442 -0.00146239  0.02739275  0.04346065 -0.00302321  0.03214739] (truncated output)...\n",
            "\n",
            "Length of sentence embedding:\n",
            "512\n"
          ]
        }
      ]
    },
    {
      "cell_type": "code",
      "source": [
        "import tensorflow_hub as hub\n",
        "import tensorflow as tf\n",
        "from tensorflow.keras import layers\n",
        "\n",
        "class USE_Embedding_Layer(layers.Layer):\n",
        "    def __init__(self, **kwargs):\n",
        "        super(USE_Embedding_Layer, self).__init__(**kwargs)\n",
        "        self.tf_hub_embedding_layer = hub.KerasLayer(\"https://tfhub.dev/google/universal-sentence-encoder/4\",\n",
        "                                                    trainable=False,\n",
        "                                                    name=\"universal_sentence_encoder\")\n",
        "\n",
        "    def call(self, inputs):\n",
        "        return self.tf_hub_embedding_layer(inputs)\n",
        "\n",
        "# Define feature extractor model using TF Hub layer\n",
        "inputs = layers.Input(shape=[], dtype=tf.string)\n",
        "# Wrap tf_hub_embedding_layer within a custom layer\n",
        "pretrained_embedding = USE_Embedding_Layer()(inputs)\n",
        "x = layers.Dense(128, activation=\"relu\")(pretrained_embedding)\n",
        "# x = layers.Dropout(0.2)(x)\n",
        "outputs = layers.Dense(5, activation=\"softmax\", kernel_regularizer=None)(x)\n",
        "model_2 = tf.keras.Model(inputs=inputs, outputs=outputs)\n",
        "\n",
        "# Compile the model\n",
        "model_2.compile(loss=\"categorical_crossentropy\",\n",
        "                optimizer=tf.keras.optimizers.Adam(),\n",
        "                metrics=[\"accuracy\"])"
      ],
      "metadata": {
        "id": "r_Sb0T0NZZY6"
      },
      "execution_count": 58,
      "outputs": []
    },
    {
      "cell_type": "code",
      "source": [
        "# Get a summary of the model\n",
        "model_2.summary()"
      ],
      "metadata": {
        "colab": {
          "base_uri": "https://localhost:8080/",
          "height": 273
        },
        "id": "6OxrPlevZc6_",
        "outputId": "313a4f98-b925-4529-b246-063b27c6a00b"
      },
      "execution_count": 59,
      "outputs": [
        {
          "output_type": "display_data",
          "data": {
            "text/plain": [
              "\u001b[1mModel: \"functional_1\"\u001b[0m\n"
            ],
            "text/html": [
              "<pre style=\"white-space:pre;overflow-x:auto;line-height:normal;font-family:Menlo,'DejaVu Sans Mono',consolas,'Courier New',monospace\"><span style=\"font-weight: bold\">Model: \"functional_1\"</span>\n",
              "</pre>\n"
            ]
          },
          "metadata": {}
        },
        {
          "output_type": "display_data",
          "data": {
            "text/plain": [
              "┏━━━━━━━━━━━━━━━━━━━━━━━━━━━━━━━━━━━━━━┳━━━━━━━━━━━━━━━━━━━━━━━━━━━━━┳━━━━━━━━━━━━━━━━━┓\n",
              "┃\u001b[1m \u001b[0m\u001b[1mLayer (type)                        \u001b[0m\u001b[1m \u001b[0m┃\u001b[1m \u001b[0m\u001b[1mOutput Shape               \u001b[0m\u001b[1m \u001b[0m┃\u001b[1m \u001b[0m\u001b[1m        Param #\u001b[0m\u001b[1m \u001b[0m┃\n",
              "┡━━━━━━━━━━━━━━━━━━━━━━━━━━━━━━━━━━━━━━╇━━━━━━━━━━━━━━━━━━━━━━━━━━━━━╇━━━━━━━━━━━━━━━━━┩\n",
              "│ input_layer_2 (\u001b[38;5;33mInputLayer\u001b[0m)           │ (\u001b[38;5;45mNone\u001b[0m)                      │               \u001b[38;5;34m0\u001b[0m │\n",
              "├──────────────────────────────────────┼─────────────────────────────┼─────────────────┤\n",
              "│ use__embedding__layer                │ (\u001b[38;5;45mNone\u001b[0m, \u001b[38;5;34m512\u001b[0m)                 │               \u001b[38;5;34m0\u001b[0m │\n",
              "│ (\u001b[38;5;33mUSE_Embedding_Layer\u001b[0m)                │                             │                 │\n",
              "├──────────────────────────────────────┼─────────────────────────────┼─────────────────┤\n",
              "│ dense_1 (\u001b[38;5;33mDense\u001b[0m)                      │ (\u001b[38;5;45mNone\u001b[0m, \u001b[38;5;34m128\u001b[0m)                 │          \u001b[38;5;34m65,664\u001b[0m │\n",
              "├──────────────────────────────────────┼─────────────────────────────┼─────────────────┤\n",
              "│ dense_2 (\u001b[38;5;33mDense\u001b[0m)                      │ (\u001b[38;5;45mNone\u001b[0m, \u001b[38;5;34m5\u001b[0m)                   │             \u001b[38;5;34m645\u001b[0m │\n",
              "└──────────────────────────────────────┴─────────────────────────────┴─────────────────┘\n"
            ],
            "text/html": [
              "<pre style=\"white-space:pre;overflow-x:auto;line-height:normal;font-family:Menlo,'DejaVu Sans Mono',consolas,'Courier New',monospace\">┏━━━━━━━━━━━━━━━━━━━━━━━━━━━━━━━━━━━━━━┳━━━━━━━━━━━━━━━━━━━━━━━━━━━━━┳━━━━━━━━━━━━━━━━━┓\n",
              "┃<span style=\"font-weight: bold\"> Layer (type)                         </span>┃<span style=\"font-weight: bold\"> Output Shape                </span>┃<span style=\"font-weight: bold\">         Param # </span>┃\n",
              "┡━━━━━━━━━━━━━━━━━━━━━━━━━━━━━━━━━━━━━━╇━━━━━━━━━━━━━━━━━━━━━━━━━━━━━╇━━━━━━━━━━━━━━━━━┩\n",
              "│ input_layer_2 (<span style=\"color: #0087ff; text-decoration-color: #0087ff\">InputLayer</span>)           │ (<span style=\"color: #00d7ff; text-decoration-color: #00d7ff\">None</span>)                      │               <span style=\"color: #00af00; text-decoration-color: #00af00\">0</span> │\n",
              "├──────────────────────────────────────┼─────────────────────────────┼─────────────────┤\n",
              "│ use__embedding__layer                │ (<span style=\"color: #00d7ff; text-decoration-color: #00d7ff\">None</span>, <span style=\"color: #00af00; text-decoration-color: #00af00\">512</span>)                 │               <span style=\"color: #00af00; text-decoration-color: #00af00\">0</span> │\n",
              "│ (<span style=\"color: #0087ff; text-decoration-color: #0087ff\">USE_Embedding_Layer</span>)                │                             │                 │\n",
              "├──────────────────────────────────────┼─────────────────────────────┼─────────────────┤\n",
              "│ dense_1 (<span style=\"color: #0087ff; text-decoration-color: #0087ff\">Dense</span>)                      │ (<span style=\"color: #00d7ff; text-decoration-color: #00d7ff\">None</span>, <span style=\"color: #00af00; text-decoration-color: #00af00\">128</span>)                 │          <span style=\"color: #00af00; text-decoration-color: #00af00\">65,664</span> │\n",
              "├──────────────────────────────────────┼─────────────────────────────┼─────────────────┤\n",
              "│ dense_2 (<span style=\"color: #0087ff; text-decoration-color: #0087ff\">Dense</span>)                      │ (<span style=\"color: #00d7ff; text-decoration-color: #00d7ff\">None</span>, <span style=\"color: #00af00; text-decoration-color: #00af00\">5</span>)                   │             <span style=\"color: #00af00; text-decoration-color: #00af00\">645</span> │\n",
              "└──────────────────────────────────────┴─────────────────────────────┴─────────────────┘\n",
              "</pre>\n"
            ]
          },
          "metadata": {}
        },
        {
          "output_type": "display_data",
          "data": {
            "text/plain": [
              "\u001b[1m Total params: \u001b[0m\u001b[38;5;34m66,309\u001b[0m (259.02 KB)\n"
            ],
            "text/html": [
              "<pre style=\"white-space:pre;overflow-x:auto;line-height:normal;font-family:Menlo,'DejaVu Sans Mono',consolas,'Courier New',monospace\"><span style=\"font-weight: bold\"> Total params: </span><span style=\"color: #00af00; text-decoration-color: #00af00\">66,309</span> (259.02 KB)\n",
              "</pre>\n"
            ]
          },
          "metadata": {}
        },
        {
          "output_type": "display_data",
          "data": {
            "text/plain": [
              "\u001b[1m Trainable params: \u001b[0m\u001b[38;5;34m66,309\u001b[0m (259.02 KB)\n"
            ],
            "text/html": [
              "<pre style=\"white-space:pre;overflow-x:auto;line-height:normal;font-family:Menlo,'DejaVu Sans Mono',consolas,'Courier New',monospace\"><span style=\"font-weight: bold\"> Trainable params: </span><span style=\"color: #00af00; text-decoration-color: #00af00\">66,309</span> (259.02 KB)\n",
              "</pre>\n"
            ]
          },
          "metadata": {}
        },
        {
          "output_type": "display_data",
          "data": {
            "text/plain": [
              "\u001b[1m Non-trainable params: \u001b[0m\u001b[38;5;34m0\u001b[0m (0.00 B)\n"
            ],
            "text/html": [
              "<pre style=\"white-space:pre;overflow-x:auto;line-height:normal;font-family:Menlo,'DejaVu Sans Mono',consolas,'Courier New',monospace\"><span style=\"font-weight: bold\"> Non-trainable params: </span><span style=\"color: #00af00; text-decoration-color: #00af00\">0</span> (0.00 B)\n",
              "</pre>\n"
            ]
          },
          "metadata": {}
        }
      ]
    },
    {
      "cell_type": "code",
      "source": [
        "model_2_history =  model_2.fit(train_dataset,\n",
        "                             steps_per_epoch=int(0.1 * len(train_dataset)),\n",
        "                             epochs = 10,\n",
        "                             validation_data = valid_dataset,\n",
        "                             validation_steps=int(0.1 * len(valid_dataset)))"
      ],
      "metadata": {
        "colab": {
          "base_uri": "https://localhost:8080/"
        },
        "id": "YT--zeiOZgWH",
        "outputId": "4460a84b-eea4-4b64-e0ee-cf0d46298ef3"
      },
      "execution_count": 60,
      "outputs": [
        {
          "output_type": "stream",
          "name": "stdout",
          "text": [
            "Epoch 1/10\n",
            "\u001b[1m562/562\u001b[0m \u001b[32m━━━━━━━━━━━━━━━━━━━━\u001b[0m\u001b[37m\u001b[0m \u001b[1m12s\u001b[0m 16ms/step - accuracy: 0.5966 - loss: 1.0718 - val_accuracy: 0.6938 - val_loss: 0.7777\n",
            "Epoch 2/10\n",
            "\u001b[1m562/562\u001b[0m \u001b[32m━━━━━━━━━━━━━━━━━━━━\u001b[0m\u001b[37m\u001b[0m \u001b[1m7s\u001b[0m 13ms/step - accuracy: 0.7109 - loss: 0.7483 - val_accuracy: 0.7148 - val_loss: 0.7351\n",
            "Epoch 3/10\n",
            "\u001b[1m562/562\u001b[0m \u001b[32m━━━━━━━━━━━━━━━━━━━━\u001b[0m\u001b[37m\u001b[0m \u001b[1m10s\u001b[0m 18ms/step - accuracy: 0.7226 - loss: 0.7265 - val_accuracy: 0.7174 - val_loss: 0.7233\n",
            "Epoch 4/10\n",
            "\u001b[1m562/562\u001b[0m \u001b[32m━━━━━━━━━━━━━━━━━━━━\u001b[0m\u001b[37m\u001b[0m \u001b[1m10s\u001b[0m 18ms/step - accuracy: 0.7330 - loss: 0.7025 - val_accuracy: 0.7244 - val_loss: 0.6975\n",
            "Epoch 5/10\n",
            "\u001b[1m562/562\u001b[0m \u001b[32m━━━━━━━━━━━━━━━━━━━━\u001b[0m\u001b[37m\u001b[0m \u001b[1m10s\u001b[0m 18ms/step - accuracy: 0.7325 - loss: 0.6913 - val_accuracy: 0.7334 - val_loss: 0.6767\n",
            "Epoch 6/10\n",
            "\u001b[1m562/562\u001b[0m \u001b[32m━━━━━━━━━━━━━━━━━━━━\u001b[0m\u001b[37m\u001b[0m \u001b[1m7s\u001b[0m 13ms/step - accuracy: 0.7346 - loss: 0.6898 - val_accuracy: 0.7420 - val_loss: 0.6699\n",
            "Epoch 7/10\n",
            "\u001b[1m562/562\u001b[0m \u001b[32m━━━━━━━━━━━━━━━━━━━━\u001b[0m\u001b[37m\u001b[0m \u001b[1m8s\u001b[0m 15ms/step - accuracy: 0.7501 - loss: 0.6553 - val_accuracy: 0.7537 - val_loss: 0.6508\n",
            "Epoch 8/10\n",
            "\u001b[1m562/562\u001b[0m \u001b[32m━━━━━━━━━━━━━━━━━━━━\u001b[0m\u001b[37m\u001b[0m \u001b[1m8s\u001b[0m 15ms/step - accuracy: 0.7548 - loss: 0.6567 - val_accuracy: 0.7553 - val_loss: 0.6394\n",
            "Epoch 9/10\n",
            "\u001b[1m562/562\u001b[0m \u001b[32m━━━━━━━━━━━━━━━━━━━━\u001b[0m\u001b[37m\u001b[0m \u001b[1m11s\u001b[0m 19ms/step - accuracy: 0.7515 - loss: 0.6524 - val_accuracy: 0.7503 - val_loss: 0.6429\n",
            "Epoch 10/10\n",
            "\u001b[1m562/562\u001b[0m \u001b[32m━━━━━━━━━━━━━━━━━━━━\u001b[0m\u001b[37m\u001b[0m \u001b[1m8s\u001b[0m 14ms/step - accuracy: 0.7523 - loss: 0.6557 - val_accuracy: 0.7576 - val_loss: 0.6374\n"
          ]
        }
      ]
    },
    {
      "cell_type": "code",
      "source": [
        "# Evaluate on whole validation dataset\n",
        "model_2.evaluate(valid_dataset)"
      ],
      "metadata": {
        "colab": {
          "base_uri": "https://localhost:8080/"
        },
        "id": "6kgnzgUkZjcN",
        "outputId": "4076283b-83c8-4c13-d383-f3b70fb234e4"
      },
      "execution_count": 61,
      "outputs": [
        {
          "output_type": "stream",
          "name": "stdout",
          "text": [
            "\u001b[1m945/945\u001b[0m \u001b[32m━━━━━━━━━━━━━━━━━━━━\u001b[0m\u001b[37m\u001b[0m \u001b[1m11s\u001b[0m 12ms/step - accuracy: 0.7585 - loss: 0.6321\n"
          ]
        },
        {
          "output_type": "execute_result",
          "data": {
            "text/plain": [
              "[0.633317768573761, 0.7601284384727478]"
            ]
          },
          "metadata": {},
          "execution_count": 61
        }
      ]
    },
    {
      "cell_type": "code",
      "source": [
        "# Make predictions with feature extraction model\n",
        "model_2_pred_probs = model_2.predict(valid_dataset)\n",
        "model_2_pred_probs"
      ],
      "metadata": {
        "colab": {
          "base_uri": "https://localhost:8080/"
        },
        "id": "HcHdHOxYZmRa",
        "outputId": "85c4f115-6cfb-47f9-de40-8e589472c545"
      },
      "execution_count": 62,
      "outputs": [
        {
          "output_type": "stream",
          "name": "stdout",
          "text": [
            "\u001b[1m945/945\u001b[0m \u001b[32m━━━━━━━━━━━━━━━━━━━━\u001b[0m\u001b[37m\u001b[0m \u001b[1m11s\u001b[0m 11ms/step\n"
          ]
        },
        {
          "output_type": "execute_result",
          "data": {
            "text/plain": [
              "array([[4.3354753e-01, 4.0830517e-01, 6.6177547e-04, 1.4777510e-01,\n",
              "        9.7103780e-03],\n",
              "       [3.7614509e-01, 5.2796394e-01, 1.9311822e-03, 9.2932008e-02,\n",
              "        1.0277649e-03],\n",
              "       [4.0652990e-01, 4.0768623e-02, 8.1535811e-03, 5.3572971e-01,\n",
              "        8.8182501e-03],\n",
              "       ...,\n",
              "       [4.0459394e-04, 2.7327001e-04, 1.6250849e-02, 1.5542311e-04,\n",
              "        9.8291588e-01],\n",
              "       [3.2085956e-03, 1.8105440e-02, 2.1170047e-01, 8.5941388e-04,\n",
              "        7.6612610e-01],\n",
              "       [4.3532167e-02, 8.6231887e-01, 8.1115492e-02, 1.0815576e-03,\n",
              "        1.1951913e-02]], dtype=float32)"
            ]
          },
          "metadata": {},
          "execution_count": 62
        }
      ]
    },
    {
      "cell_type": "code",
      "source": [
        "\n",
        "# Convert the predictions with feature extraction model to classes\n",
        "model_2_preds = tf.argmax(model_2_pred_probs, axis=1)\n",
        "model_2_preds"
      ],
      "metadata": {
        "colab": {
          "base_uri": "https://localhost:8080/"
        },
        "id": "h1FMXLV0ZpL_",
        "outputId": "83d3bb2f-dbe0-41ae-bc89-3dc656debf2c"
      },
      "execution_count": 63,
      "outputs": [
        {
          "output_type": "execute_result",
          "data": {
            "text/plain": [
              "<tf.Tensor: shape=(30212,), dtype=int64, numpy=array([0, 1, 3, ..., 4, 4, 1])>"
            ]
          },
          "metadata": {},
          "execution_count": 63
        }
      ]
    },
    {
      "cell_type": "markdown",
      "source": [
        "**Model_2 Results**"
      ],
      "metadata": {
        "id": "cVCAiYUkZtw4"
      }
    },
    {
      "cell_type": "code",
      "source": [
        "# Calculate results from TF Hub pretrained embeddings results on validation set\n",
        "model_2_results = calculate_results(y_true=val_labels_encoded,\n",
        "                                    y_pred=model_2_preds)\n",
        "model_2_results"
      ],
      "metadata": {
        "colab": {
          "base_uri": "https://localhost:8080/"
        },
        "id": "S-ya-Gm7ZzDO",
        "outputId": "ca56e9a4-a589-44dc-cd64-62e325339e04"
      },
      "execution_count": 64,
      "outputs": [
        {
          "output_type": "execute_result",
          "data": {
            "text/plain": [
              "{'accuracy': 76.01284257910764,\n",
              " 'precision': 0.7552457146250758,\n",
              " 'recall': 0.7601284257910764,\n",
              " 'f1': 0.7558829941236223}"
            ]
          },
          "metadata": {},
          "execution_count": 64
        }
      ]
    },
    {
      "cell_type": "markdown",
      "source": [
        "# **Model 3: Conv1D with character embedding**\n",
        "\n",
        "**Creating a character-level tokenizer**\n",
        "\n",
        "The Neural Networks for Joint Sentence Classification in Medical Paper Abstracts paper mentions their model uses a hybrid of token and character embeddings.\n",
        "\n",
        "The difference between a character and token embedding is that the **character embedding** is created using sequences split into characters (e.g. hello -> [h, e, l, l, o]) where as a **token embedding** is created on sequences split into tokens.\n",
        "\n",
        "\n",
        "Token level embeddings split sequences into tokens (words) and embeddings each of them, character embeddings split sequences into characters and creates a feature vector for each.\n",
        "\n",
        "\n",
        "Before we can vectorize our sequences on a character-level we'll need to split them into characters. Let's write a function to do so"
      ],
      "metadata": {
        "id": "sLooRIRfZ4ga"
      }
    },
    {
      "cell_type": "code",
      "source": [
        "\" \".join(list(train_sentences[0]))"
      ],
      "metadata": {
        "colab": {
          "base_uri": "https://localhost:8080/",
          "height": 122
        },
        "id": "u8I2XEKqaaW_",
        "outputId": "3e16409d-4420-4a74-9910-649e5fef89ae"
      },
      "execution_count": 65,
      "outputs": [
        {
          "output_type": "execute_result",
          "data": {
            "text/plain": [
              "'t o   i n v e s t i g a t e   t h e   e f f i c a c y   o f   6   w e e k s   o f   d a i l y   l o w - d o s e   o r a l   p r e d n i s o l o n e   i n   i m p r o v i n g   p a i n   ,   m o b i l i t y   ,   a n d   s y s t e m i c   l o w - g r a d e   i n f l a m m a t i o n   i n   t h e   s h o r t   t e r m   a n d   w h e t h e r   t h e   e f f e c t   w o u l d   b e   s u s t a i n e d   a t   1 2   w e e k s   i n   o l d e r   a d u l t s   w i t h   m o d e r a t e   t o   s e v e r e   k n e e   o s t e o a r t h r i t i s   (   o a   )   .'"
            ],
            "application/vnd.google.colaboratory.intrinsic+json": {
              "type": "string"
            }
          },
          "metadata": {},
          "execution_count": 65
        }
      ]
    },
    {
      "cell_type": "code",
      "source": [
        "def split_chars(text):\n",
        "  return \" \".join(list(text))\n",
        "\n",
        "split_chars(random_training_sentence)"
      ],
      "metadata": {
        "colab": {
          "base_uri": "https://localhost:8080/",
          "height": 52
        },
        "id": "TOb65qCTagKk",
        "outputId": "2a454ef7-1a5b-44bd-d1e1-32edc6e6f9b8"
      },
      "execution_count": 66,
      "outputs": [
        {
          "output_type": "execute_result",
          "data": {
            "text/plain": [
              "'t h i s   c h a n g e   w a s   s i g n i f i c a n t l y   m o r e   e v i d e n t   i n   g r o u p   a   p a t i e n t s   .'"
            ],
            "application/vnd.google.colaboratory.intrinsic+json": {
              "type": "string"
            }
          },
          "metadata": {},
          "execution_count": 66
        }
      ]
    },
    {
      "cell_type": "code",
      "source": [
        "# Split sequence-level data splits into character-level data splits\n",
        "train_chars = [split_chars(sentence) for sentence in train_sentences]\n",
        "val_chars = [split_chars(sentence) for sentence in val_sentences]\n",
        "test_chars = [split_chars(sentence) for sentence in test_sentences]\n",
        "print(train_chars[0])"
      ],
      "metadata": {
        "colab": {
          "base_uri": "https://localhost:8080/"
        },
        "id": "DFW0BsMvai98",
        "outputId": "5bff845e-31f7-439e-e4ff-f636ce6bfc53"
      },
      "execution_count": 67,
      "outputs": [
        {
          "output_type": "stream",
          "name": "stdout",
          "text": [
            "t o   i n v e s t i g a t e   t h e   e f f i c a c y   o f   6   w e e k s   o f   d a i l y   l o w - d o s e   o r a l   p r e d n i s o l o n e   i n   i m p r o v i n g   p a i n   ,   m o b i l i t y   ,   a n d   s y s t e m i c   l o w - g r a d e   i n f l a m m a t i o n   i n   t h e   s h o r t   t e r m   a n d   w h e t h e r   t h e   e f f e c t   w o u l d   b e   s u s t a i n e d   a t   1 2   w e e k s   i n   o l d e r   a d u l t s   w i t h   m o d e r a t e   t o   s e v e r e   k n e e   o s t e o a r t h r i t i s   (   o a   )   .\n"
          ]
        }
      ]
    },
    {
      "cell_type": "code",
      "source": [
        "train_chars[:15]"
      ],
      "metadata": {
        "colab": {
          "base_uri": "https://localhost:8080/"
        },
        "id": "vYarJ75Mal4i",
        "outputId": "098c3fe9-ad07-4e55-cd0b-9dd2913dfb24"
      },
      "execution_count": 68,
      "outputs": [
        {
          "output_type": "execute_result",
          "data": {
            "text/plain": [
              "['t o   i n v e s t i g a t e   t h e   e f f i c a c y   o f   6   w e e k s   o f   d a i l y   l o w - d o s e   o r a l   p r e d n i s o l o n e   i n   i m p r o v i n g   p a i n   ,   m o b i l i t y   ,   a n d   s y s t e m i c   l o w - g r a d e   i n f l a m m a t i o n   i n   t h e   s h o r t   t e r m   a n d   w h e t h e r   t h e   e f f e c t   w o u l d   b e   s u s t a i n e d   a t   1 2   w e e k s   i n   o l d e r   a d u l t s   w i t h   m o d e r a t e   t o   s e v e r e   k n e e   o s t e o a r t h r i t i s   (   o a   )   .',\n",
              " 'a   t o t a l   o f   1 2 5   p a t i e n t s   w i t h   p r i m a r y   k n e e   o a   w e r e   r a n d o m i z e d   1 : 1   ;   6 3   r e c e i v e d   7 . 5   m g / d a y   o f   p r e d n i s o l o n e   a n d   6 2   r e c e i v e d   p l a c e b o   f o r   6   w e e k s   .',\n",
              " 'o u t c o m e   m e a s u r e s   i n c l u d e d   p a i n   r e d u c t i o n   a n d   i m p r o v e m e n t   i n   f u n c t i o n   s c o r e s   a n d   s y s t e m i c   i n f l a m m a t i o n   m a r k e r s   .',\n",
              " 'p a i n   w a s   a s s e s s e d   u s i n g   t h e   v i s u a l   a n a l o g   p a i n   s c a l e   (   0 - 1 0 0   m m   )   .',\n",
              " 's e c o n d a r y   o u t c o m e   m e a s u r e s   i n c l u d e d   t h e   w e s t e r n   o n t a r i o   a n d   m c m a s t e r   u n i v e r s i t i e s   o s t e o a r t h r i t i s   i n d e x   s c o r e s   ,   p a t i e n t   g l o b a l   a s s e s s m e n t   (   p g a   )   o f   t h e   s e v e r i t y   o f   k n e e   o a   ,   a n d   6 - m i n   w a l k   d i s t a n c e   (   6 m w d   )   .',\n",
              " 's e r u m   l e v e l s   o f   i n t e r l e u k i n   1   (   i l - 1   )   ,   i l - 6   ,   t u m o r   n e c r o s i s   f a c t o r   (   t n f   )   -   ,   a n d   h i g h - s e n s i t i v i t y   c - r e a c t i v e   p r o t e i n   (   h s c r p   )   w e r e   m e a s u r e d   .',\n",
              " 't h e r e   w a s   a   c l i n i c a l l y   r e l e v a n t   r e d u c t i o n   i n   t h e   i n t e r v e n t i o n   g r o u p   c o m p a r e d   t o   t h e   p l a c e b o   g r o u p   f o r   k n e e   p a i n   ,   p h y s i c a l   f u n c t i o n   ,   p g a   ,   a n d   6 m w d   a t   6   w e e k s   .',\n",
              " 't h e   m e a n   d i f f e r e n c e   b e t w e e n   t r e a t m e n t   a r m s   (   9 5   %   c i   )   w a s   1 0 . 9   (   4 . 8 - 1 8   . 0   )   ,   p   <   0 . 0 0 1   ;   9 . 5   (   3 . 7 - 1 5   . 4   )   ,   p   <   0 . 0 5   ;   1 5 . 7   (   5 . 3 - 2 6   . 1   )   ,   p   <   0 . 0 0 1   ;   a n d   8 6 . 9   (   2 9 . 8 - 1 4 4   . 1   )   ,   p   <   0 . 0 5   ,   r e s p e c t i v e l y   .',\n",
              " 'f u r t h e r   ,   t h e r e   w a s   a   c l i n i c a l l y   r e l e v a n t   r e d u c t i o n   i n   t h e   s e r u m   l e v e l s   o f   i l - 1   ,   i l - 6   ,   t n f   -   ,   a n d   h s c r p   a t   6   w e e k s   i n   t h e   i n t e r v e n t i o n   g r o u p   w h e n   c o m p a r e d   t o   t h e   p l a c e b o   g r o u p   .',\n",
              " 't h e s e   d i f f e r e n c e s   r e m a i n e d   s i g n i f i c a n t   a t   1 2   w e e k s   .',\n",
              " 't h e   o u t c o m e   m e a s u r e s   i n   r h e u m a t o l o g y   c l i n i c a l   t r i a l s - o s t e o a r t h r i t i s   r e s e a r c h   s o c i e t y   i n t e r n a t i o n a l   r e s p o n d e r   r a t e   w a s   6 5   %   i n   t h e   i n t e r v e n t i o n   g r o u p   a n d   3 4   %   i n   t h e   p l a c e b o   g r o u p   (   p   <   0 . 0 5   )   .',\n",
              " 'l o w - d o s e   o r a l   p r e d n i s o l o n e   h a d   b o t h   a   s h o r t - t e r m   a n d   a   l o n g e r   s u s t a i n e d   e f f e c t   r e s u l t i n g   i n   l e s s   k n e e   p a i n   ,   b e t t e r   p h y s i c a l   f u n c t i o n   ,   a n d   a t t e n u a t i o n   o f   s y s t e m i c   i n f l a m m a t i o n   i n   o l d e r   p a t i e n t s   w i t h   k n e e   o a   (   c l i n i c a l t r i a l s . g o v   i d e n t i f i e r   n c t 0 1 6 1 9 1 6 3   )   .',\n",
              " 'e m o t i o n a l   e a t i n g   i s   a s s o c i a t e d   w i t h   o v e r e a t i n g   a n d   t h e   d e v e l o p m e n t   o f   o b e s i t y   .',\n",
              " 'y e t   ,   e m p i r i c a l   e v i d e n c e   f o r   i n d i v i d u a l   (   t r a i t   )   d i f f e r e n c e s   i n   e m o t i o n a l   e a t i n g   a n d   c o g n i t i v e   m e c h a n i s m s   t h a t   c o n t r i b u t e   t o   e a t i n g   d u r i n g   s a d   m o o d   r e m a i n   e q u i v o c a l   .',\n",
              " 't h e   a i m   o f   t h i s   s t u d y   w a s   t o   t e s t   i f   a t t e n t i o n   b i a s   f o r   f o o d   m o d e r a t e s   t h e   e f f e c t   o f   s e l f - r e p o r t e d   e m o t i o n a l   e a t i n g   d u r i n g   s a d   m o o d   (   v s   n e u t r a l   m o o d   )   o n   a c t u a l   f o o d   i n t a k e   .']"
            ]
          },
          "metadata": {},
          "execution_count": 68
        }
      ]
    },
    {
      "cell_type": "code",
      "source": [
        "# Check the Avrage Char Length in the training Sentences\n",
        "char_lens = [len(sentence) for sentence in train_sentences]\n",
        "avg_char_lens = sum(char_lens)/len(char_lens)\n",
        "avg_char_lens"
      ],
      "metadata": {
        "colab": {
          "base_uri": "https://localhost:8080/"
        },
        "id": "2Pn9h1whap_I",
        "outputId": "a707053c-645c-4bfd-afec-d4950ce8894a"
      },
      "execution_count": 69,
      "outputs": [
        {
          "output_type": "execute_result",
          "data": {
            "text/plain": [
              "152.006276383026"
            ]
          },
          "metadata": {},
          "execution_count": 69
        }
      ]
    },
    {
      "cell_type": "code",
      "source": [
        "import matplotlib.pyplot as plt\n",
        "plt.hist(char_lens,bins =25)"
      ],
      "metadata": {
        "colab": {
          "base_uri": "https://localhost:8080/",
          "height": 604
        },
        "id": "wG0KaXOgasll",
        "outputId": "165f29cd-b653-47b5-8cf5-56f97ad2f86d"
      },
      "execution_count": 70,
      "outputs": [
        {
          "output_type": "execute_result",
          "data": {
            "text/plain": [
              "(array([1.4099e+04, 5.4222e+04, 5.5798e+04, 3.2296e+04, 1.4142e+04,\n",
              "        5.6230e+03, 2.1610e+03, 9.2500e+02, 3.9600e+02, 1.7400e+02,\n",
              "        8.8000e+01, 5.1000e+01, 2.1000e+01, 1.4000e+01, 8.0000e+00,\n",
              "        9.0000e+00, 6.0000e+00, 2.0000e+00, 2.0000e+00, 1.0000e+00,\n",
              "        0.0000e+00, 0.0000e+00, 1.0000e+00, 0.0000e+00, 1.0000e+00]),\n",
              " array([   2.  ,   60.08,  118.16,  176.24,  234.32,  292.4 ,  350.48,\n",
              "         408.56,  466.64,  524.72,  582.8 ,  640.88,  698.96,  757.04,\n",
              "         815.12,  873.2 ,  931.28,  989.36, 1047.44, 1105.52, 1163.6 ,\n",
              "        1221.68, 1279.76, 1337.84, 1395.92, 1454.  ]),\n",
              " <BarContainer object of 25 artists>)"
            ]
          },
          "metadata": {},
          "execution_count": 70
        },
        {
          "output_type": "display_data",
          "data": {
            "text/plain": [
              "<Figure size 640x480 with 1 Axes>"
            ],
            "image/png": "[encoded data removed]"
          },
          "metadata": {}
        }
      ]
    },
    {
      "cell_type": "markdown",
      "source": [
        "It seems most of the sequences are between 0 and 200 characters long.\n",
        "\n",
        "Let's use NumPy's percentile to figure out what length covers 95% of our sequences"
      ],
      "metadata": {
        "id": "hA-YbqpWawSa"
      }
    },
    {
      "cell_type": "code",
      "source": [
        "output_seq_char_len = int(np.percentile(char_lens, 95))\n",
        "output_seq_char_len"
      ],
      "metadata": {
        "colab": {
          "base_uri": "https://localhost:8080/"
        },
        "id": "xK2vR6QPa4fb",
        "outputId": "aa33bd31-dbc8-40c3-cb48-39f4ac55fd32"
      },
      "execution_count": 71,
      "outputs": [
        {
          "output_type": "execute_result",
          "data": {
            "text/plain": [
              "296"
            ]
          },
          "metadata": {},
          "execution_count": 71
        }
      ]
    },
    {
      "cell_type": "code",
      "source": [
        "random.choice(train_sentences)"
      ],
      "metadata": {
        "colab": {
          "base_uri": "https://localhost:8080/",
          "height": 35
        },
        "id": "V7VLT0uGbBVJ",
        "outputId": "08c851f8-1006-41c7-f490-83f0f1c2b62b"
      },
      "execution_count": 72,
      "outputs": [
        {
          "output_type": "execute_result",
          "data": {
            "text/plain": [
              "'this trial included a relatively small sample .'"
            ],
            "application/vnd.google.colaboratory.intrinsic+json": {
              "type": "string"
            }
          },
          "metadata": {},
          "execution_count": 72
        }
      ]
    },
    {
      "cell_type": "code",
      "source": [
        "# Get all keyboard characters for char-level embedding\n",
        "import string\n",
        "alphabet = string.ascii_lowercase + string.digits + string.punctuation\n",
        "alphabet"
      ],
      "metadata": {
        "colab": {
          "base_uri": "https://localhost:8080/",
          "height": 35
        },
        "id": "Hlqw4UaLbEFY",
        "outputId": "c6ef0b1c-4371-40b7-861b-f23687b24f23"
      },
      "execution_count": 73,
      "outputs": [
        {
          "output_type": "execute_result",
          "data": {
            "text/plain": [
              "'abcdefghijklmnopqrstuvwxyz0123456789!\"#$%&\\'()*+,-./:;<=>?@[\\\\]^_`{|}~'"
            ],
            "application/vnd.google.colaboratory.intrinsic+json": {
              "type": "string"
            }
          },
          "metadata": {},
          "execution_count": 73
        }
      ]
    },
    {
      "cell_type": "code",
      "source": [
        "# Create char-level token vectorizer instance\n",
        "NUM_CHAR_TOKENS = len(alphabet) + 2 # num characters in alphabet + space + OOV token\n",
        "char_vectorizer = TextVectorization(max_tokens=NUM_CHAR_TOKENS,\n",
        "                                    output_sequence_length=output_seq_char_len,\n",
        "                                    standardize=\"lower_and_strip_punctuation\",\n",
        "                                    name=\"char_vectorizer\")\n",
        "\n",
        "# Adapt character vectorizer to training characters\n",
        "char_vectorizer.adapt(train_chars)"
      ],
      "metadata": {
        "id": "AYyBsfYfbHl5"
      },
      "execution_count": 74,
      "outputs": []
    },
    {
      "cell_type": "code",
      "source": [
        "# Check character vocabulary characteristics\n",
        "char_vocab = char_vectorizer.get_vocabulary()\n",
        "print(f\"Number of different characters in character vocab: {len(char_vocab)}\")\n",
        "print(f\"5 most common characters: {char_vocab[:5]}\")\n",
        "print(f\"5 least common characters: {char_vocab[-5:]}\")"
      ],
      "metadata": {
        "colab": {
          "base_uri": "https://localhost:8080/"
        },
        "id": "_3Cka-tNbKsZ",
        "outputId": "de667b41-8ccd-4853-da97-4c539bf6ce2f"
      },
      "execution_count": 75,
      "outputs": [
        {
          "output_type": "stream",
          "name": "stdout",
          "text": [
            "Number of different characters in character vocab: 38\n",
            "5 most common characters: ['', '[UNK]', 'e', 't', 'i']\n",
            "5 least common characters: ['8', '7', 'z', 'q', 'j']\n"
          ]
        }
      ]
    },
    {
      "cell_type": "code",
      "source": [
        "# Test out character vectorizer\n",
        "random_train_chars = random.choice(train_chars)\n",
        "print(f\"Charified text:\\n{random_train_chars}\")\n",
        "print(f\"\\nLength of chars: {len(random_train_chars.split())}\")\n",
        "vectorized_chars = char_vectorizer([random_train_chars])\n",
        "print(f\"\\nVectorized chars:\\n{vectorized_chars}\")\n",
        "print(f\"\\nLength of vectorized chars: {len(vectorized_chars[0])}\")"
      ],
      "metadata": {
        "colab": {
          "base_uri": "https://localhost:8080/"
        },
        "id": "cw1AH_qubNyd",
        "outputId": "514edb18-08c0-43fb-f914-2d8a2a0ae31f"
      },
      "execution_count": 76,
      "outputs": [
        {
          "output_type": "stream",
          "name": "stdout",
          "text": [
            "Charified text:\n",
            "i n t e n t i o n   t o   v i s i t   t h e   w e b s i t e   (   s t u d y   1   )   ,   c l i c k i n g   o n   t h e   l i n k   t o   v i s i t   t h e   w e b s i t e   (   s t u d i e s   2   a n d   3   )   a n d   t h e   n u m b e r   o f   p a g e s   v i s i t e d   o n   t h e   w e b s i t e   (   s t u d y   3   )   .\n",
            "\n",
            "Length of chars: 130\n",
            "\n",
            "Vectorized chars:\n",
            "[[ 4  6  3  2  6  3  4  7  6  3  7 21  4  9  4  3  3 13  2 20  2 22  9  4\n",
            "   3  2  9  3 16 10 19 24 11 12  4 11 27  4  6 18  7  6  3 13  2 12  4  6\n",
            "  27  3  7 21  4  9  4  3  3 13  2 20  2 22  9  4  3  2  9  3 16 10  4  2\n",
            "   9 25  5  6 10 28  5  6 10  3 13  2  6 16 15 22  2  8  7 17 14  5 18  2\n",
            "   9 21  4  9  4  3  2 10  7  6  3 13  2 20  2 22  9  4  3  2  9  3 16 10\n",
            "  19 28  0  0  0  0  0  0  0  0  0  0  0  0  0  0  0  0  0  0  0  0  0  0\n",
            "   0  0  0  0  0  0  0  0  0  0  0  0  0  0  0  0  0  0  0  0  0  0  0  0\n",
            "   0  0  0  0  0  0  0  0  0  0  0  0  0  0  0  0  0  0  0  0  0  0  0  0\n",
            "   0  0  0  0  0  0  0  0  0  0  0  0  0  0  0  0  0  0  0  0  0  0  0  0\n",
            "   0  0  0  0  0  0  0  0  0  0  0  0  0  0  0  0  0  0  0  0  0  0  0  0\n",
            "   0  0  0  0  0  0  0  0  0  0  0  0  0  0  0  0  0  0  0  0  0  0  0  0\n",
            "   0  0  0  0  0  0  0  0  0  0  0  0  0  0  0  0  0  0  0  0  0  0  0  0\n",
            "   0  0  0  0  0  0  0  0]]\n",
            "\n",
            "Length of vectorized chars: 296\n"
          ]
        }
      ]
    },
    {
      "cell_type": "markdown",
      "source": [
        "# **Creating a character-level embedding**\n",
        "\n",
        "We've got a way to vectorize our character-level sequences, now's time to create a character-level embedding.\n",
        "\n",
        "\n",
        "The input dimension (`input_dim`) will be equal to the number of different characters in our `char_vocab` (28). And since we're following the structure of the model in Figure 1 of Neural Networks for Joint Sentence Classification in Medical Paper Abstracts, the output dimension of the character embedding (`output_dim`) will be 25."
      ],
      "metadata": {
        "id": "DbjYOC3xbTRh"
      }
    },
    {
      "cell_type": "code",
      "source": [
        "char_embed = layers.Embedding(input_dim=NUM_CHAR_TOKENS,\n",
        "                              output_dim= 25,\n",
        "                              mask_zero= True,\n",
        "                              name= \"char_embed\")\n",
        "\n",
        "# Test out character embedding layer\n",
        "print(f\"Charified text (before vectorization and embedding):\\n{random_train_chars}\\n\")\n",
        "char_embed_example = char_embed(char_vectorizer([random_train_chars]))\n",
        "print(f\"Embedded chars (after vectorization and embedding):\\n{char_embed_example}\\n\")\n",
        "print(f\"Character embedding shape: {char_embed_example.shape}\")"
      ],
      "metadata": {
        "colab": {
          "base_uri": "https://localhost:8080/"
        },
        "id": "5vMjwHslbiMm",
        "outputId": "4bebdf1b-d99d-4857-f66c-640847b22f59"
      },
      "execution_count": 77,
      "outputs": [
        {
          "output_type": "stream",
          "name": "stdout",
          "text": [
            "Charified text (before vectorization and embedding):\n",
            "i n t e n t i o n   t o   v i s i t   t h e   w e b s i t e   (   s t u d y   1   )   ,   c l i c k i n g   o n   t h e   l i n k   t o   v i s i t   t h e   w e b s i t e   (   s t u d i e s   2   a n d   3   )   a n d   t h e   n u m b e r   o f   p a g e s   v i s i t e d   o n   t h e   w e b s i t e   (   s t u d y   3   )   .\n",
            "\n",
            "Embedded chars (after vectorization and embedding):\n",
            "[[[-0.03064638  0.03699075  0.02238566 ...  0.03245895  0.03631402\n",
            "   -0.03910057]\n",
            "  [-0.00825796 -0.004566    0.03579607 ...  0.018183    0.04555133\n",
            "   -0.01707191]\n",
            "  [ 0.03818103 -0.01497211  0.01784765 ...  0.01272618  0.0168123\n",
            "   -0.04768001]\n",
            "  ...\n",
            "  [-0.01311821  0.02561471  0.03932801 ... -0.02179231 -0.03888666\n",
            "    0.02616385]\n",
            "  [-0.01311821  0.02561471  0.03932801 ... -0.02179231 -0.03888666\n",
            "    0.02616385]\n",
            "  [-0.01311821  0.02561471  0.03932801 ... -0.02179231 -0.03888666\n",
            "    0.02616385]]]\n",
            "\n",
            "Character embedding shape: (1, 296, 25)\n"
          ]
        }
      ]
    },
    {
      "cell_type": "markdown",
      "source": [
        "Before fitting this model on the data, we'll create char-level batched `*PrefetchedDataset*`'s."
      ],
      "metadata": {
        "id": "bdOkUimNbl4X"
      }
    },
    {
      "cell_type": "code",
      "source": [
        "train_char_dataset = tf.data.Dataset.from_tensor_slices((train_chars, train_labels_one_hot.toarray())).batch(32).prefetch(tf.data.AUTOTUNE)\n",
        "val_char_dataset = tf.data.Dataset.from_tensor_slices((val_chars, val_labels_one_hot.toarray())).batch(32).prefetch(tf.data.AUTOTUNE)\n",
        "\n",
        "train_char_dataset"
      ],
      "metadata": {
        "colab": {
          "base_uri": "https://localhost:8080/"
        },
        "id": "kmtnKcvfdcnB",
        "outputId": "8a7ed7e7-860d-4d37-bc55-33b8ffeb2356"
      },
      "execution_count": 79,
      "outputs": [
        {
          "output_type": "execute_result",
          "data": {
            "text/plain": [
              "<_PrefetchDataset element_spec=(TensorSpec(shape=(None,), dtype=tf.string, name=None), TensorSpec(shape=(None, 5), dtype=tf.float64, name=None))>"
            ]
          },
          "metadata": {},
          "execution_count": 79
        }
      ]
    },
    {
      "cell_type": "markdown",
      "source": [
        "# **Building a Conv1D model to fit on character embeddings**\n",
        "\n",
        "Now we've got a way to turn our character-level sequences into numbers (`char_vectorizer`) as well as numerically represent them as an embedding (`char_embed`) let's test how effective they are at encoding the information in our sequences by creating a character-level sequence model.\n",
        "\n",
        "The model will have the same structure as our custom token embedding model (`model_1`) except it'll take character-level sequences as input instead of token-level sequences.\n",
        "\n",
        "*Input (character-level text) -> Tokenize -> Embedding -> Layers (Conv1D, GlobalMaxPool1D) -> Output (label probability)*"
      ],
      "metadata": {
        "id": "xfo-wx0Xdsew"
      }
    },
    {
      "cell_type": "code",
      "source": [
        "inputs = layers.Input(shape=(1,), dtype=\"string\")\n",
        "char_vectors = char_vectorizer(inputs)\n",
        "char_embeddings = char_embed(char_vectors)\n",
        "x = layers.Conv1D(64, kernel_size=5, padding=\"same\", activation=\"relu\",kernel_regularizer=tf.keras.regularizers.L2(0.01))(char_embeddings)\n",
        "x = layers.GlobalMaxPool1D()(x)\n",
        "outputs = layers.Dense(num_classes, activation=\"softmax\")(x)\n",
        "model_3 = tf.keras.Model(inputs=inputs,\n",
        "                         outputs=outputs,\n",
        "                         name=\"model_3_conv1D_char_embedding\")\n",
        "\n",
        "# Compile model\n",
        "model_3.compile(loss=\"categorical_crossentropy\",\n",
        "                optimizer=tf.keras.optimizers.Adam(),\n",
        "                metrics=[\"accuracy\"])\n",
        "\n",
        "model_3.summary()"
      ],
      "metadata": {
        "colab": {
          "base_uri": "https://localhost:8080/",
          "height": 392
        },
        "id": "2HyP-OQRd51R",
        "outputId": "cdc33113-d192-41d3-b274-6acb4a54e898"
      },
      "execution_count": 80,
      "outputs": [
        {
          "output_type": "stream",
          "name": "stderr",
          "text": [
            "/usr/local/lib/python3.11/dist-packages/keras/src/layers/layer.py:938: UserWarning: Layer 'conv1d_1' (of type Conv1D) was passed an input with a mask attached to it. However, this layer does not support masking and will therefore destroy the mask information. Downstream layers will not see the mask.\n",
            "  warnings.warn(\n"
          ]
        },
        {
          "output_type": "display_data",
          "data": {
            "text/plain": [
              "\u001b[1mModel: \"model_3_conv1D_char_embedding\"\u001b[0m\n"
            ],
            "text/html": [
              "<pre style=\"white-space:pre;overflow-x:auto;line-height:normal;font-family:Menlo,'DejaVu Sans Mono',consolas,'Courier New',monospace\"><span style=\"font-weight: bold\">Model: \"model_3_conv1D_char_embedding\"</span>\n",
              "</pre>\n"
            ]
          },
          "metadata": {}
        },
        {
          "output_type": "display_data",
          "data": {
            "text/plain": [
              "┏━━━━━━━━━━━━━━━━━━━━━━━━━━━━━━━━━━━━━━┳━━━━━━━━━━━━━━━━━━━━━━━━━━━━━┳━━━━━━━━━━━━━━━━━┓\n",
              "┃\u001b[1m \u001b[0m\u001b[1mLayer (type)                        \u001b[0m\u001b[1m \u001b[0m┃\u001b[1m \u001b[0m\u001b[1mOutput Shape               \u001b[0m\u001b[1m \u001b[0m┃\u001b[1m \u001b[0m\u001b[1m        Param #\u001b[0m\u001b[1m \u001b[0m┃\n",
              "┡━━━━━━━━━━━━━━━━━━━━━━━━━━━━━━━━━━━━━━╇━━━━━━━━━━━━━━━━━━━━━━━━━━━━━╇━━━━━━━━━━━━━━━━━┩\n",
              "│ input_layer_3 (\u001b[38;5;33mInputLayer\u001b[0m)           │ (\u001b[38;5;45mNone\u001b[0m, \u001b[38;5;34m1\u001b[0m)                   │               \u001b[38;5;34m0\u001b[0m │\n",
              "├──────────────────────────────────────┼─────────────────────────────┼─────────────────┤\n",
              "│ char_vectorizer (\u001b[38;5;33mTextVectorization\u001b[0m)  │ (\u001b[38;5;45mNone\u001b[0m, \u001b[38;5;34m296\u001b[0m)                 │               \u001b[38;5;34m0\u001b[0m │\n",
              "├──────────────────────────────────────┼─────────────────────────────┼─────────────────┤\n",
              "│ char_embed (\u001b[38;5;33mEmbedding\u001b[0m)               │ (\u001b[38;5;45mNone\u001b[0m, \u001b[38;5;34m296\u001b[0m, \u001b[38;5;34m25\u001b[0m)             │           \u001b[38;5;34m1,750\u001b[0m │\n",
              "├──────────────────────────────────────┼─────────────────────────────┼─────────────────┤\n",
              "│ conv1d_1 (\u001b[38;5;33mConv1D\u001b[0m)                    │ (\u001b[38;5;45mNone\u001b[0m, \u001b[38;5;34m296\u001b[0m, \u001b[38;5;34m64\u001b[0m)             │           \u001b[38;5;34m8,064\u001b[0m │\n",
              "├──────────────────────────────────────┼─────────────────────────────┼─────────────────┤\n",
              "│ global_max_pooling1d_1               │ (\u001b[38;5;45mNone\u001b[0m, \u001b[38;5;34m64\u001b[0m)                  │               \u001b[38;5;34m0\u001b[0m │\n",
              "│ (\u001b[38;5;33mGlobalMaxPooling1D\u001b[0m)                 │                             │                 │\n",
              "├──────────────────────────────────────┼─────────────────────────────┼─────────────────┤\n",
              "│ dense_3 (\u001b[38;5;33mDense\u001b[0m)                      │ (\u001b[38;5;45mNone\u001b[0m, \u001b[38;5;34m5\u001b[0m)                   │             \u001b[38;5;34m325\u001b[0m │\n",
              "└──────────────────────────────────────┴─────────────────────────────┴─────────────────┘\n"
            ],
            "text/html": [
              "<pre style=\"white-space:pre;overflow-x:auto;line-height:normal;font-family:Menlo,'DejaVu Sans Mono',consolas,'Courier New',monospace\">┏━━━━━━━━━━━━━━━━━━━━━━━━━━━━━━━━━━━━━━┳━━━━━━━━━━━━━━━━━━━━━━━━━━━━━┳━━━━━━━━━━━━━━━━━┓\n",
              "┃<span style=\"font-weight: bold\"> Layer (type)                         </span>┃<span style=\"font-weight: bold\"> Output Shape                </span>┃<span style=\"font-weight: bold\">         Param # </span>┃\n",
              "┡━━━━━━━━━━━━━━━━━━━━━━━━━━━━━━━━━━━━━━╇━━━━━━━━━━━━━━━━━━━━━━━━━━━━━╇━━━━━━━━━━━━━━━━━┩\n",
              "│ input_layer_3 (<span style=\"color: #0087ff; text-decoration-color: #0087ff\">InputLayer</span>)           │ (<span style=\"color: #00d7ff; text-decoration-color: #00d7ff\">None</span>, <span style=\"color: #00af00; text-decoration-color: #00af00\">1</span>)                   │               <span style=\"color: #00af00; text-decoration-color: #00af00\">0</span> │\n",
              "├──────────────────────────────────────┼─────────────────────────────┼─────────────────┤\n",
              "│ char_vectorizer (<span style=\"color: #0087ff; text-decoration-color: #0087ff\">TextVectorization</span>)  │ (<span style=\"color: #00d7ff; text-decoration-color: #00d7ff\">None</span>, <span style=\"color: #00af00; text-decoration-color: #00af00\">296</span>)                 │               <span style=\"color: #00af00; text-decoration-color: #00af00\">0</span> │\n",
              "├──────────────────────────────────────┼─────────────────────────────┼─────────────────┤\n",
              "│ char_embed (<span style=\"color: #0087ff; text-decoration-color: #0087ff\">Embedding</span>)               │ (<span style=\"color: #00d7ff; text-decoration-color: #00d7ff\">None</span>, <span style=\"color: #00af00; text-decoration-color: #00af00\">296</span>, <span style=\"color: #00af00; text-decoration-color: #00af00\">25</span>)             │           <span style=\"color: #00af00; text-decoration-color: #00af00\">1,750</span> │\n",
              "├──────────────────────────────────────┼─────────────────────────────┼─────────────────┤\n",
              "│ conv1d_1 (<span style=\"color: #0087ff; text-decoration-color: #0087ff\">Conv1D</span>)                    │ (<span style=\"color: #00d7ff; text-decoration-color: #00d7ff\">None</span>, <span style=\"color: #00af00; text-decoration-color: #00af00\">296</span>, <span style=\"color: #00af00; text-decoration-color: #00af00\">64</span>)             │           <span style=\"color: #00af00; text-decoration-color: #00af00\">8,064</span> │\n",
              "├──────────────────────────────────────┼─────────────────────────────┼─────────────────┤\n",
              "│ global_max_pooling1d_1               │ (<span style=\"color: #00d7ff; text-decoration-color: #00d7ff\">None</span>, <span style=\"color: #00af00; text-decoration-color: #00af00\">64</span>)                  │               <span style=\"color: #00af00; text-decoration-color: #00af00\">0</span> │\n",
              "│ (<span style=\"color: #0087ff; text-decoration-color: #0087ff\">GlobalMaxPooling1D</span>)                 │                             │                 │\n",
              "├──────────────────────────────────────┼─────────────────────────────┼─────────────────┤\n",
              "│ dense_3 (<span style=\"color: #0087ff; text-decoration-color: #0087ff\">Dense</span>)                      │ (<span style=\"color: #00d7ff; text-decoration-color: #00d7ff\">None</span>, <span style=\"color: #00af00; text-decoration-color: #00af00\">5</span>)                   │             <span style=\"color: #00af00; text-decoration-color: #00af00\">325</span> │\n",
              "└──────────────────────────────────────┴─────────────────────────────┴─────────────────┘\n",
              "</pre>\n"
            ]
          },
          "metadata": {}
        },
        {
          "output_type": "display_data",
          "data": {
            "text/plain": [
              "\u001b[1m Total params: \u001b[0m\u001b[38;5;34m10,139\u001b[0m (39.61 KB)\n"
            ],
            "text/html": [
              "<pre style=\"white-space:pre;overflow-x:auto;line-height:normal;font-family:Menlo,'DejaVu Sans Mono',consolas,'Courier New',monospace\"><span style=\"font-weight: bold\"> Total params: </span><span style=\"color: #00af00; text-decoration-color: #00af00\">10,139</span> (39.61 KB)\n",
              "</pre>\n"
            ]
          },
          "metadata": {}
        },
        {
          "output_type": "display_data",
          "data": {
            "text/plain": [
              "\u001b[1m Trainable params: \u001b[0m\u001b[38;5;34m10,139\u001b[0m (39.61 KB)\n"
            ],
            "text/html": [
              "<pre style=\"white-space:pre;overflow-x:auto;line-height:normal;font-family:Menlo,'DejaVu Sans Mono',consolas,'Courier New',monospace\"><span style=\"font-weight: bold\"> Trainable params: </span><span style=\"color: #00af00; text-decoration-color: #00af00\">10,139</span> (39.61 KB)\n",
              "</pre>\n"
            ]
          },
          "metadata": {}
        },
        {
          "output_type": "display_data",
          "data": {
            "text/plain": [
              "\u001b[1m Non-trainable params: \u001b[0m\u001b[38;5;34m0\u001b[0m (0.00 B)\n"
            ],
            "text/html": [
              "<pre style=\"white-space:pre;overflow-x:auto;line-height:normal;font-family:Menlo,'DejaVu Sans Mono',consolas,'Courier New',monospace\"><span style=\"font-weight: bold\"> Non-trainable params: </span><span style=\"color: #00af00; text-decoration-color: #00af00\">0</span> (0.00 B)\n",
              "</pre>\n"
            ]
          },
          "metadata": {}
        }
      ]
    },
    {
      "cell_type": "code",
      "source": [
        "# Fit the model on chars only\n",
        "model_3_history = model_3.fit(train_char_dataset,\n",
        "                              steps_per_epoch=int(0.1 * len(train_char_dataset)),\n",
        "                              epochs=10,\n",
        "                              validation_data=val_char_dataset,\n",
        "                              validation_steps=int(0.1 * len(val_char_dataset)))"
      ],
      "metadata": {
        "colab": {
          "base_uri": "https://localhost:8080/"
        },
        "id": "GynEyPTfd_M2",
        "outputId": "6498173e-1955-42b2-9e89-d7afd48e9d5d"
      },
      "execution_count": 81,
      "outputs": [
        {
          "output_type": "stream",
          "name": "stdout",
          "text": [
            "Epoch 1/10\n",
            "\u001b[1m562/562\u001b[0m \u001b[32m━━━━━━━━━━━━━━━━━━━━\u001b[0m\u001b[37m\u001b[0m \u001b[1m15s\u001b[0m 23ms/step - accuracy: 0.4184 - loss: 1.5060 - val_accuracy: 0.5672 - val_loss: 1.1710\n",
            "Epoch 2/10\n",
            "\u001b[1m562/562\u001b[0m \u001b[32m━━━━━━━━━━━━━━━━━━━━\u001b[0m\u001b[37m\u001b[0m \u001b[1m15s\u001b[0m 26ms/step - accuracy: 0.5520 - loss: 1.1528 - val_accuracy: 0.6077 - val_loss: 1.0655\n",
            "Epoch 3/10\n",
            "\u001b[1m562/562\u001b[0m \u001b[32m━━━━━━━━━━━━━━━━━━━━\u001b[0m\u001b[37m\u001b[0m \u001b[1m18s\u001b[0m 31ms/step - accuracy: 0.5981 - loss: 1.0666 - val_accuracy: 0.6453 - val_loss: 1.0039\n",
            "Epoch 4/10\n",
            "\u001b[1m562/562\u001b[0m \u001b[32m━━━━━━━━━━━━━━━━━━━━\u001b[0m\u001b[37m\u001b[0m \u001b[1m16s\u001b[0m 29ms/step - accuracy: 0.6355 - loss: 1.0044 - val_accuracy: 0.6516 - val_loss: 0.9662\n",
            "Epoch 5/10\n",
            "\u001b[1m562/562\u001b[0m \u001b[32m━━━━━━━━━━━━━━━━━━━━\u001b[0m\u001b[37m\u001b[0m \u001b[1m21s\u001b[0m 37ms/step - accuracy: 0.6467 - loss: 0.9697 - val_accuracy: 0.6782 - val_loss: 0.9464\n",
            "Epoch 6/10\n",
            "\u001b[1m562/562\u001b[0m \u001b[32m━━━━━━━━━━━━━━━━━━━━\u001b[0m\u001b[37m\u001b[0m \u001b[1m16s\u001b[0m 28ms/step - accuracy: 0.6649 - loss: 0.9493 - val_accuracy: 0.6775 - val_loss: 0.9145\n",
            "Epoch 7/10\n",
            "\u001b[1m562/562\u001b[0m \u001b[32m━━━━━━━━━━━━━━━━━━━━\u001b[0m\u001b[37m\u001b[0m \u001b[1m14s\u001b[0m 25ms/step - accuracy: 0.6830 - loss: 0.9123 - val_accuracy: 0.6905 - val_loss: 0.8875\n",
            "Epoch 8/10\n",
            "\u001b[1m562/562\u001b[0m \u001b[32m━━━━━━━━━━━━━━━━━━━━\u001b[0m\u001b[37m\u001b[0m \u001b[1m20s\u001b[0m 36ms/step - accuracy: 0.6876 - loss: 0.8959 - val_accuracy: 0.6915 - val_loss: 0.8811\n",
            "Epoch 9/10\n",
            "\u001b[1m562/562\u001b[0m \u001b[32m━━━━━━━━━━━━━━━━━━━━\u001b[0m\u001b[37m\u001b[0m \u001b[1m20s\u001b[0m 36ms/step - accuracy: 0.6917 - loss: 0.8800 - val_accuracy: 0.6885 - val_loss: 0.8978\n",
            "Epoch 10/10\n",
            "\u001b[1m562/562\u001b[0m \u001b[32m━━━━━━━━━━━━━━━━━━━━\u001b[0m\u001b[37m\u001b[0m \u001b[1m21s\u001b[0m 37ms/step - accuracy: 0.6872 - loss: 0.8901 - val_accuracy: 0.7091 - val_loss: 0.8545\n"
          ]
        }
      ]
    },
    {
      "cell_type": "code",
      "source": [
        "# Evaluate model_3 on whole validation char dataset\n",
        "model_3.evaluate(val_char_dataset)"
      ],
      "metadata": {
        "id": "-89jZxzgeDAb"
      },
      "execution_count": null,
      "outputs": []
    },
    {
      "cell_type": "code",
      "source": [
        "# Make predictions with character model only\n",
        "model_3_pred_probs = model_3.predict(val_char_dataset)\n",
        "model_3_pred_probs"
      ],
      "metadata": {
        "id": "pqrbZ7C3eGVn"
      },
      "execution_count": null,
      "outputs": []
    },
    {
      "cell_type": "code",
      "source": [
        "# Convert predictions to classes\n",
        "model_3_preds = tf.argmax(model_3_pred_probs, axis=1)\n",
        "model_3_preds"
      ],
      "metadata": {
        "id": "zZROo3pReJVl"
      },
      "execution_count": null,
      "outputs": []
    },
    {
      "cell_type": "markdown",
      "source": [
        "**Model_3 Results**"
      ],
      "metadata": {
        "id": "RbsH2g2VeMYW"
      }
    },
    {
      "cell_type": "code",
      "source": [
        "# Calculate Conv1D char only model results\n",
        "model_3_results = calculate_results(y_true=val_labels_encoded,\n",
        "                                        y_pred=model_3_preds)\n",
        "model_3_results"
      ],
      "metadata": {
        "id": "phQ8Lh96eN18"
      },
      "execution_count": null,
      "outputs": []
    },
    {
      "cell_type": "markdown",
      "source": [
        "# **Model 4: Combining pretrained token embeddings + character embeddings (hybrid embedding layer)**\n",
        "\n",
        "In moving closer to build a model similar to the one in Figure 1 of Neural Networks for Joint Sentence Classification in Medical Paper Abstracts, it's time we tackled the hybrid token embedding layer they speak of.\n",
        "\n",
        "![1.jfif](data:image/jpeg;base64,/9j/4AAQSkZJRgABAQEAeAB4AAD/4RDSRXhpZgAATU0AKgAAAAgABAE7AAIAAAAERDN2AIdpAAQAAAABAAAISpydAAEAAAAIAAAQwuocAAcAAAgMAAAAPgAAAAAc6gAAAAgAAAAAAAAAAAAAAAAAAAAAAAAAAAAAAAAAAAAAAAAAAAAAAAAAAAAAAAAAAAAAAAAAAAAAAAAAAAAAAAAAAAAAAAAAAAAAAAAAAAAAAAAAAAAAAAAAAAAAAAAAAAAAAAAAAAAAAAAAAAAAAAAAAAAAAAAAAAAAAAAAAAAAAAAAAAAAAAAAAAAAAAAAAAAAAAAAAAAAAAAAAAAAAAAAAAAAAAAAAAAAAAAAAAAAAAAAAAAAAAAAAAAAAAAAAAAAAAAAAAAAAAAAAAAAAAAAAAAAAAAAAAAAAAAAAAAAAAAAAAAAAAAAAAAAAAAAAAAAAAAAAAAAAAAAAAAAAAAAAAAAAAAAAAAAAAAAAAAAAAAAAAAAAAAAAAAAAAAAAAAAAAAAAAAAAAAAAAAAAAAAAAAAAAAAAAAAAAAAAAAAAAAAAAAAAAAAAAAAAAAAAAAAAAAAAAAAAAAAAAAAAAAAAAAAAAAAAAAAAAAAAAAAAAAAAAAAAAAAAAAAAAAAAAAAAAAAAAAAAAAAAAAAAAAAAAAAAAAAAAAAAAAAAAAAAAAAAAAAAAAAAAAAAAAAAAAAAAAAAAAAAAAAAAAAAAAAAAAAAAAAAAAAAAAAAAAAAAAAAAAAAAAAAAAAAAAAAAAAAAAAAAAAAAAAAAAAAAAAAAAAAAAAAAAAAAAAAAAAAAAAAAAAAAAAAAAAAAAAAAAAAAAAAAAAAAAAAAAAAAAAAAAAAAAAAAAAAAAAAAAAAAAAAAAAAAAAAAAAAAAAAAAAAAAAAAAAAAAAAAAAAAAAAAAAAAAAAAAAAAAAAAAAAAAAAAAAAAAAAAAAAAAAAAAAAAAAAAAAAAAAAAAAAAAAAAAAAAAAAAAAAAAAAAAAAAAAAAAAAAAAAAAAAAAAAAAAAAAAAAAAAAAAAAAAAAAAAAAAAAAAAAAAAAAAAAAAAAAAAAAAAAAAAAAAAAAAAAAAAAAAAAAAAAAAAAAAAAAAAAAAAAAAAAAAAAAAAAAAAAAAAAAAAAAAAAAAAAAAAAAAAAAAAAAAAAAAAAAAAAAAAAAAAAAAAAAAAAAAAAAAAAAAAAAAAAAAAAAAAAAAAAAAAAAAAAAAAAAAAAAAAAAAAAAAAAAAAAAAAAAAAAAAAAAAAAAAAAAAAAAAAAAAAAAAAAAAAAAAAAAAAAAAAAAAAAAAAAAAAAAAAAAAAAAAAAAAAAAAAAAAAAAAAAAAAAAAAAAAAAAAAAAAAAAAAAAAAAAAAAAAAAAAAAAAAAAAAAAAAAAAAAAAAAAAAAAAAAAAAAAAAAAAAAAAAAAAAAAAAAAAAAAAAAAAAAAAAAAAAAAAAAAAAAAAAAAAAAAAAAAAAAAAAAAAAAAAAAAAAAAAAAAAAAAAAAAAAAAAAAAAAAAAAAAAAAAAAAAAAAAAAAAAAAAAAAAAAAAAAAAAAAAAAAAAAAAAAAAAAAAAAAAAAAAAAAAAAAAAAAAAAAAAAAAAAAAAAAAAAAAAAAAAAAAAAAAAAAAAAAAAAAAAAAAAAAAAAAAAAAAAAAAAAAAAAAAAAAAAAAAAAAAAAAAAAAAAAAAAAAAAAAAAAAAAAAAAAAAAAAAAAAAAAAAAAAAAAAAAAAAAAAAAAAAAAAAAAAAAAAAAAAAAAAAAAAAAAAAAAAAAAAAAAAAAAAAAAAAAAAAAAAAAAAAAAAAAAAAAAAAAAAAAAAAAAAAAAAAAAAAAAAAAAAAAAAAAAAAAAAAAAAAAAAAAAAAAAAAAAAAAAAAAAAAAAAAAAAAAAAAAAAAAAAAAAAAAAAAAAAAAAAAAAAAAAAAAAAAAAAAAAAAAAAAAAAAAAAAAAAAAAAAAAAAAAAAAAAAAAAAAAAAAAAAAAAAAAAAAAAAAAAAAAAAAAAAAAAAAAAAAAAAAAAAAAAAAAAAAAAAAAAAAAAAAAAAAAAAAAAAAAAAAAAAAAAAAAAAAAAAAAAAAAAAAAAAAAAAAAAAAAAAAAAAAAAAAAAAAAAAAAAAAAAAAAAAAAAAAAAAAAAAAAAAAAAAAAAAAAAAAAAAAAAAAAAAAAAAAAAAAAAAAAAAAAAAAAAAAAAAAAAAAAAAAAAAAAAAAAAAAAAAAAAAAAAAAAAAAAAAAAAAAAAAAAAAAAAAAAAAAAAAAAAAAAAAAAAAAAAAAAAAAAAAAAAAAAAAAAAAAAAAAAAAAAAAAAAAAAAAAAAAAAAAAAAAAAAAAAAAAAAAAAAAAAAAAAAAAAAAAAAAAAAAAAAAAAAAAAAAAAAAAAAAAAAAAAAAAAAAAAAAAAAAAAAAAAAAAAAAAAAAAAAAAAAAAAAAAAAAAAAAAAAAAAAAAAAAAAAAAAAAAAAAAAAAAAAAAAAAAAAAAAAAAAAAAAAAAAAAAAAAAAAAAAAAAAAAAAAAAAAAAAAAAAAAAAAAAAAAAAAAAAAAAAAAAAAAAAAAAAAAAAAAAAAAAAAAAAAAAAAAAAAAAAAAAAAAAAAAAAAAAAAAAAAAAAAAAAAAAAAAAAAAAAAAAAAAAAAAAAAAAAAAAAAAAAAAAAAAAAAAAAAAAAAAAAAAAAAAAAAAAAAAAAAAAAAAAAAAAAAAAAAAAAAAAAAAAAAAAAAAAAAAAAAAAAAAAAAAAAAAAAAAAAAAAAAAAAAAAAAAAAAAAAAAAAAAAAAAAAAAAAAAAAAAAAAAAAAAAAAAAAAAAAAAAAAAAAAAAAAAAAAAAAAAAAAAAAAAAAAAAAAAAAAAAAAAAAAAAAAAAAAAAAAAAAAAAAAAFkAMAAgAAABQAABCYkAQAAgAAABQAABCskpEAAgAAAAM3NgAAkpIAAgAAAAM3NgAA6hwABwAACAwAAAiMAAAAABzqAAAACAAAAAAAAAAAAAAAAAAAAAAAAAAAAAAAAAAAAAAAAAAAAAAAAAAAAAAAAAAAAAAAAAAAAAAAAAAAAAAAAAAAAAAAAAAAAAAAAAAAAAAAAAAAAAAAAAAAAAAAAAAAAAAAAAAAAAAAAAAAAAAAAAAAAAAAAAAAAAAAAAAAAAAAAAAAAAAAAAAAAAAAAAAAAAAAAAAAAAAAAAAAAAAAAAAAAAAAAAAAAAAAAAAAAAAAAAAAAAAAAAAAAAAAAAAAAAAAAAAAAAAAAAAAAAAAAAAAAAAAAAAAAAAAAAAAAAAAAAAAAAAAAAAAAAAAAAAAAAAAAAAAAAAAAAAAAAAAAAAAAAAAAAAAAAAAAAAAAAAAAAAAAAAAAAAAAAAAAAAAAAAAAAAAAAAAAAAAAAAAAAAAAAAAAAAAAAAAAAAAAAAAAAAAAAAAAAAAAAAAAAAAAAAAAAAAAAAAAAAAAAAAAAAAAAAAAAAAAAAAAAAAAAAAAAAAAAAAAAAAAAAAAAAAAAAAAAAAAAAAAAAAAAAAAAAAAAAAAAAAAAAAAAAAAAAAAAAAAAAAAAAAAAAAAAAAAAAAAAAAAAAAAAAAAAAAAAAAAAAAAAAAAAAAAAAAAAAAAAAAAAAAAAAAAAAAAAAAAAAAAAAAAAAAAAAAAAAAAAAAAAAAAAAAAAAAAAAAAAAAAAAAAAAAAAAAAAAAAAAAAAAAAAAAAAAAAAAAAAAAAAAAAAAAAAAAAAAAAAAAAAAAAAAAAAAAAAAAAAAAAAAAAAAAAAAAAAAAAAAAAAAAAAAAAAAAAAAAAAAAAAAAAAAAAAAAAAAAAAAAAAAAAAAAAAAAAAAAAAAAAAAAAAAAAAAAAAAAAAAAAAAAAAAAAAAAAAAAAAAAAAAAAAAAAAAAAAAAAAAAAAAAAAAAAAAAAAAAAAAAAAAAAAAAAAAAAAAAAAAAAAAAAAAAAAAAAAAAAAAAAAAAAAAAAAAAAAAAAAAAAAAAAAAAAAAAAAAAAAAAAAAAAAAAAAAAAAAAAAAAAAAAAAAAAAAAAAAAAAAAAAAAAAAAAAAAAAAAAAAAAAAAAAAAAAAAAAAAAAAAAAAAAAAAAAAAAAAAAAAAAAAAAAAAAAAAAAAAAAAAAAAAAAAAAAAAAAAAAAAAAAAAAAAAAAAAAAAAAAAAAAAAAAAAAAAAAAAAAAAAAAAAAAAAAAAAAAAAAAAAAAAAAAAAAAAAAAAAAAAAAAAAAAAAAAAAAAAAAAAAAAAAAAAAAAAAAAAAAAAAAAAAAAAAAAAAAAAAAAAAAAAAAAAAAAAAAAAAAAAAAAAAAAAAAAAAAAAAAAAAAAAAAAAAAAAAAAAAAAAAAAAAAAAAAAAAAAAAAAAAAAAAAAAAAAAAAAAAAAAAAAAAAAAAAAAAAAAAAAAAAAAAAAAAAAAAAAAAAAAAAAAAAAAAAAAAAAAAAAAAAAAAAAAAAAAAAAAAAAAAAAAAAAAAAAAAAAAAAAAAAAAAAAAAAAAAAAAAAAAAAAAAAAAAAAAAAAAAAAAAAAAAAAAAAAAAAAAAAAAAAAAAAAAAAAAAAAAAAAAAAAAAAAAAAAAAAAAAAAAAAAAAAAAAAAAAAAAAAAAAAAAAAAAAAAAAAAAAAAAAAAAAAAAAAAAAAAAAAAAAAAAAAAAAAAAAAAAAAAAAAAAAAAAAAAAAAAAAAAAAAAAAAAAAAAAAAAAAAAAAAAAAAAAAAAAAAAAAAAAAAAAAAAAAAAAAAAAAAAAAAAAAAAAAAAAAAAAAAAAAAAAAAAAAAAAAAAAAAAAAAAAAAAAAAAAAAAAAAAAAAAAAAAAAAAAAAAAAAAAAAAAAAAAAAAAAAAAAAAAAAAAAAAAAAAAAAAAAAAAAAAAAAAAAAAAAAAAAAAAAAAAAAAAAAAAAAAAAAAAAAAAAAAAAAAAAAAAAAAAAAAAAAAAAAAAAAAAAAAAAAAAAAAAAAAAAAAAAAAAAAAAAAAAAAAAAAAAAAAAAAAAAAAAAAAAAAAAAAAAAAAAAAAAAAAAAAAAAAAAAAAAAAAAAAAAAAAAAAAAAAAAAAAAAAAAAAAAAAAAAAAAAAAAAAAAAAAAAAAAAAAAAAAAAAAAAAAAAAAAAAAAAAAAAAAAAAAAAAAAAAAAAAAAAAAAAAAAAAAAAAAAAAAAAAAAAAAAAAAAAAAAAAAAAAAAAAAAAAAAAAAAAAAAAAAAAAAAAAAAAAAAAAAAAAAAAAAAAAAAAAAAAAAAAAAAAAAAAAAAAAAAAAAAAAAAAAAAAAAAAAAAAAAAAAAAAAAAAAAAAAAAAAAAAAAAAAAAAAAAAAAAAAAAAAAAAAAAAAAAAAAAAAAAAAAAAAAAAAAAAAAAAAAAAAAAAAAAAAAAAAAAAAAAAAAAAAAAAAAAAAAAAAAAAAAAAAAAAAAAAAAAAAAAAAAAAAAAAAAAAAAAAAAAAAAAAAAAAAAAAAAAAAAAAAAAAAAAAAAAAAAAAAAAAAAAAAAAAAAAAAAAAAAAAAAAAAAAAAAAAAAAAAAAAAAAAAAAAAAAAAAAAAAAAAAAAAAAAAAAAAAAAAAAAAAAAAAAAAAAAAAAAAAAAAAAAAAAAAAAAAAAAAAAAAAAAAAAAAAAAAAAAAAAAAAAAAAAAAAAAAAAAAAAAAAAAAAAAAAAAAAAAAAAAAAAAAAAAAAAAAAAAAAAAAAAAAAAAAAAAAAAAAAAAAAAAAAAAAAAAAAAAAAAAAAAAAAAAAAAAAAAAAAAAAAAAAAAAAAAAMjAyMTowNjowNiAxOTo1NzowMQAyMDIxOjA2OjA2IDE5OjU3OjAxAAAARAAzAHYAAAD/4QsWaHR0cDovL25zLmFkb2JlLmNvbS94YXAvMS4wLwA8P3hwYWNrZXQgYmVnaW49J++7vycgaWQ9J1c1TTBNcENlaGlIenJlU3pOVGN6a2M5ZCc/Pg0KPHg6eG1wbWV0YSB4bWxuczp4PSJhZG9iZTpuczptZXRhLyI+PHJkZjpSREYgeG1sbnM6cmRmPSJodHRwOi8vd3d3LnczLm9yZy8xOTk5LzAyLzIyLXJkZi1zeW50YXgtbnMjIj48cmRmOkRlc2NyaXB0aW9uIHJkZjphYm91dD0idXVpZDpmYWY1YmRkNS1iYTNkLTExZGEtYWQzMS1kMzNkNzUxODJmMWIiIHhtbG5zOmRjPSJodHRwOi8vcHVybC5vcmcvZGMvZWxlbWVudHMvMS4xLyIvPjxyZGY6RGVzY3JpcHRpb24gcmRmOmFib3V0PSJ1dWlkOmZhZjViZGQ1LWJhM2QtMTFkYS1hZDMxLWQzM2Q3NTE4MmYxYiIgeG1sbnM6eG1wPSJodHRwOi8vbnMuYWRvYmUuY29tL3hhcC8xLjAvIj48eG1wOkNyZWF0ZURhdGU+MjAyMS0wNi0wNlQxOTo1NzowMS43NTY8L3htcDpDcmVhdGVEYXRlPjwvcmRmOkRlc2NyaXB0aW9uPjxyZGY6RGVzY3JpcHRpb24gcmRmOmFib3V0PSJ1dWlkOmZhZjViZGQ1LWJhM2QtMTFkYS1hZDMxLWQzM2Q3NTE4MmYxYiIgeG1sbnM6ZGM9Imh0dHA6Ly9wdXJsLm9yZy9kYy9lbGVtZW50cy8xLjEvIj48ZGM6Y3JlYXRvcj48cmRmOlNlcSB4bWxuczpyZGY9Imh0dHA6Ly93d3cudzMub3JnLzE5OTkvMDIvMjItcmRmLXN5bnRheC1ucyMiPjxyZGY6bGk+RDN2PC9yZGY6bGk+PC9yZGY6U2VxPg0KCQkJPC9kYzpjcmVhdG9yPjwvcmRmOkRlc2NyaXB0aW9uPjwvcmRmOlJERj48L3g6eG1wbWV0YT4NCiAgICAgICAgICAgICAgICAgICAgICAgICAgICAgICAgICAgICAgICAgICAgICAgICAgICAgICAgICAgICAgICAgICAgICAgICAgICAgICAgICAgICAgICAgICAgICAgICAgICAKICAgICAgICAgICAgICAgICAgICAgICAgICAgICAgICAgICAgICAgICAgICAgICAgICAgICAgICAgICAgICAgICAgICAgICAgICAgICAgICAgICAgICAgICAgICAgICAgICAgIAogICAgICAgICAgICAgICAgICAgICAgICAgICAgICAgICAgICAgICAgICAgICAgICAgICAgICAgICAgICAgICAgICAgICAgICAgICAgICAgICAgICAgICAgICAgICAgICAgICAgCiAgICAgICAgICAgICAgICAgICAgICAgICAgICAgICAgICAgICAgICAgICAgICAgICAgICAgICAgICAgICAgICAgICAgICAgICAgICAgICAgICAgICAgICAgICAgICAgICAgICAKICAgICAgICAgICAgICAgICAgICAgICAgICAgICAgICAgICAgICAgICAgICAgICAgICAgICAgICAgICAgICAgICAgICAgICAgICAgICAgICAgICAgICAgICAgICAgICAgICAgIAogICAgICAgICAgICAgICAgICAgICAgICAgICAgICAgICAgICAgICAgICAgICAgICAgICAgICAgICAgICAgICAgICAgICAgICAgICAgICAgICAgICAgICAgICAgICAgICAgICAgCiAgICAgICAgICAgICAgICAgICAgICAgICAgICAgICAgICAgICAgICAgICAgICAgICAgICAgICAgICAgICAgICAgICAgICAgICAgICAgICAgICAgICAgICAgICAgICAgICAgICAKICAgICAgICAgICAgICAgICAgICAgICAgICAgICAgICAgICAgICAgICAgICAgICAgICAgICAgICAgICAgICAgICAgICAgICAgICAgICAgICAgICAgICAgICAgICAgICAgICAgIAogICAgICAgICAgICAgICAgICAgICAgICAgICAgICAgICAgICAgICAgICAgICAgICAgICAgICAgICAgICAgICAgICAgICAgICAgICAgICAgICAgICAgICAgICAgICAgICAgICAgCiAgICAgICAgICAgICAgICAgICAgICAgICAgICAgICAgICAgICAgICAgICAgICAgICAgICAgICAgICAgICAgICAgICAgICAgICAgICAgICAgICAgICAgICAgICAgICAgICAgICAKICAgICAgICAgICAgICAgICAgICAgICAgICAgICAgICAgICAgICAgICAgICAgICAgICAgICAgICAgICAgICAgICAgICAgICAgICAgICAgICAgICAgICAgICAgICAgICAgICAgIAogICAgICAgICAgICAgICAgICAgICAgICAgICAgICAgICAgICAgICAgICAgICAgICAgICAgICAgICAgICAgICAgICAgICAgICAgICAgICAgICAgICAgICAgICAgICAgICAgICAgCiAgICAgICAgICAgICAgICAgICAgICAgICAgICAgICAgICAgICAgICAgICAgICAgICAgICAgICAgICAgICAgICAgICAgICAgICAgICAgICAgICAgICAgICAgICAgICAgICAgICAKICAgICAgICAgICAgICAgICAgICAgICAgICAgICAgICAgICAgICAgICAgICAgICAgICAgICAgICAgICAgICAgICAgICAgICAgICAgICAgICAgICAgICAgICAgICAgICAgICAgIAogICAgICAgICAgICAgICAgICAgICAgICAgICAgICAgICAgICAgICAgICAgICAgICAgICAgICAgICAgICAgICAgICAgICAgICAgICAgICAgICAgICAgICAgICAgICAgICAgICAgCiAgICAgICAgICAgICAgICAgICAgICAgICAgICAgICAgICAgICAgICAgICAgICAgICAgICAgICAgICAgICAgICAgICAgICAgICAgICAgICAgICAgICAgICAgICAgICAgICAgICAKICAgICAgICAgICAgICAgICAgICAgICAgICAgICAgICAgICAgICAgICAgICAgICAgICAgICAgICAgICAgICAgICAgICAgICAgICAgICAgICAgICAgICAgICAgICAgICAgICAgIAogICAgICAgICAgICAgICAgICAgICAgICAgICAgICAgICAgICAgICAgICAgICAgICAgICAgICAgICAgICAgICAgICAgICAgICAgICAgICAgICAgICAgICAgICAgICAgICAgICAgCiAgICAgICAgICAgICAgICAgICAgICAgICAgICAgICAgICAgICAgICAgICAgICAgICAgICAgICAgICAgICAgICAgICAgICAgICAgICAgICAgICAgICAgICAgICAgICAgICAgICAKICAgICAgICAgICAgICAgICAgICAgICAgICAgICAgICAgICAgICAgICAgICAgICAgICAgICAgICAgICAgICAgICAgICAgICAgICAgICAgICAgICAgICAgICAgICAgICAgICAgIAogICAgICAgICAgICAgICAgICAgICAgICAgICAgPD94cGFja2V0IGVuZD0ndyc/Pv/bAEMABwUFBgUEBwYFBggHBwgKEQsKCQkKFQ8QDBEYFRoZGBUYFxseJyEbHSUdFxgiLiIlKCkrLCsaIC8zLyoyJyorKv/bAEMBBwgICgkKFAsLFCocGBwqKioqKioqKioqKioqKioqKioqKioqKioqKioqKioqKioqKioqKioqKioqKioqKioqKv/AABEIAxwCJgMBIgACEQEDEQH/xAAfAAABBQEBAQEBAQAAAAAAAAAAAQIDBAUGBwgJCgv/xAC1EAACAQMDAgQDBQUEBAAAAX0BAgMABBEFEiExQQYTUWEHInEUMoGRoQgjQrHBFVLR8CQzYnKCCQoWFxgZGiUmJygpKjQ1Njc4OTpDREVGR0hJSlNUVVZXWFlaY2RlZmdoaWpzdHV2d3h5eoOEhYaHiImKkpOUlZaXmJmaoqOkpaanqKmqsrO0tba3uLm6wsPExcbHyMnK0tPU1dbX2Nna4eLj5OXm5+jp6vHy8/T19vf4+fr/xAAfAQADAQEBAQEBAQEBAAAAAAAAAQIDBAUGBwgJCgv/xAC1EQACAQIEBAMEBwUEBAABAncAAQIDEQQFITEGEkFRB2FxEyIygQgUQpGhscEJIzNS8BVictEKFiQ04SXxFxgZGiYnKCkqNTY3ODk6Q0RFRkdISUpTVFVWV1hZWmNkZWZnaGlqc3R1dnd4eXqCg4SFhoeIiYqSk5SVlpeYmZqio6Slpqeoqaqys7S1tre4ubrCw8TFxsfIycrS09TV1tfY2dri4+Tl5ufo6ery8/T19vf4+fr/2gAMAwEAAhEDEQA/APpGiiigAooooAKKKKACiiigAooooAKKKKACiiigAooooAKKKKACiiigAooooAKKKKACiiigAooooAKKKKACiiigAooooAKKKKACiiigAooooAKKKKACiiigAooooAKKKKACiiigAooooAKKKKACiiigAooooAKKKKACiiigAooooAKKKKACiiigAooooAKKKKACiiigAPTiuB0LWdWHjzV4NSvS9ppumRzaguQY4rmRi4ROOAsYwfXIJ5rvq8b8Qm4u9A16XwfdMJfGN79lit7m0ZZyygQyuh3D92EUtuI459Ridb6b/rt+v4DVra7f0/0O9+HWo6nrPgSw1XWpTJc3++5UFQuyN3JjXAHZCtdIkscjOscis0bbXCtkqcA4PocEH8aoGyt9L8MLZpNJa2tnahPMibayIi9j24Fc58JbN4fh5aXs/mGfVZZdQkMrl2PmuWXLEknCbBk+laOzk7bL+l+pKvypvd/0ztaKKKkYUUUUAFFFFABRRRQBm6+9ymlM1rcLaoGDXFwSMxQjl2XIPzYGB6Zz2rz6HxR4gb4Y+G5Uuni1TxBqkcNrI6hnjtnlZxnI5IgXqfX15rtvGlzZQ+EL6HVPtRt71PsRFpEZJSZj5Y2qO+WrjdJ0rUbz4k6LYTXNvd6b4RsCrSW8BjT7S6CNFOWOXEeWIH3dw9aI/F81+GrX5feEvh+//Jfn+B6TdXltYw+be3EVvHnG+Vwi59MmnxTR3EKSwSLLG4DI6MCrD1BHWuX1e4l03xG2rap+5sLVVWGUsrbwVbciICWMjOVGAOQgwecUfDjTdR03wmf7XhNtPd3lxeLaE5NsksjOsZ9CAeR2JNC1B6HV0UUUAFFFFABRRRQAUUUUAFFFFABRRRQAV59rqXr/ABV8P2UN5J50s8t9KUYgQ2cUWzysZwd8kmSe/H90V6DXnfiTUIR4u1C8gjvrPWNMsxaWhgMbvqQlw+xImBPysF+fGAd2eAaV7NP+v6vYdrpr+v6saXgi+utY8SeLtTluJZLMakLC0iZyURYECuVHQZdmzjriuosdTs9TFwbC4ScW07W8pT+CRfvL9RmuZ8I6FqfhL4f6XpMYjm1JiXvLiQ7kjkkZpJHbkFsEkDHU46DmtLwTrlx4k8JWuq3aRq87y7DGCFdFkZUfBJxuUA4z3qrW07afPuTe+vf8jeooopDCiiigAooooAKKKKACiiigArgPiuLwaHGtpdOk97JFp9hFGxUrcyyAeaSD/AgJHocn0rv647xvPYzapo1hqYltUjlbUIdTEqKltLDjauG++W3kbQCcZPuF1Xr/AMP+A+j/AK9PxI/td3ffGO206K7m+x6Po5muUVyFlmmcKm8DgkKjEZ6Zrta4DwTper2Np4k8S3cNxcalrFwZLWC7CpIYY12wq4AATPJx2Dc85qofHPiFPCGqa4y6e0dhqLWVsFhfN+ROIsj5/kySVH3uRnpxVdl1/wA3+l7E7arbb7l+trnpVISFUliAAMkntWRqPi/w5pGoLYatr+mWN4wBFvcXkcchz0+UnPNZHxUlhh+GurPLEJpWi8q3jbOGmkPlpx3+Zxwal3tdFJJuzOnsL+11SxjvNPnW4tpQTHKnKuAcZB7jjr3qxVDQtLj0Tw9p+lwACOyto4Fx/sqB/Sr9VKybSJi21dhRRRSGFFFFABRRRQBk+JhjQppZbk21pAPPu2UkM0KAsygjpnGCfQmvN4brVx8MfCGmtd3EF/4j1SJ/3chV4LZpGuGRSOQFjAX6HFegeNbuG08I3v2qwk1C3uFFrNBHIsfySEIzF2ICgBiST0xXJ+H9Bmv/AIg6dew39zf6H4csGtrOeZUCSzOApKbVG8Ki4L9CTgdDRH4vmvw1f36L5hL4fv8Ax0X3as9Korh7PxN4gvfFWraZItjZWun2sdzNPJGXa33mTbGQGwx2KrE5GMkYORje8H6zceIfBulavewrBPe2yzOiAhRkdQDyARzj3oWqv/XX/IHo7f1/WptUUUUAFFFFABRRRQAUUUUAFFFFABVWDTLC1upLm1sraGeXPmSxxKrPk5OSBk81aooA5zxzp2ua14Uv9J8PLZLLfW7wNPdXDx+UGGCQFjbPBPpWto1tJZaLaWk0ENu1vEsQihlMiKqjAwxVSeAOwq7RQtAetgooooAKKKKACiiigAooooAjuLaC7t3gu4Y54XGHjkUMrD3B4NJbWtvZW6wWcEVvCv3Y4kCqPwFS0UAcXe2Xi221STVrPTtJ1a4kkeOCK5uXgNlFnC7WCuGyPmbAUnOMkAY6jSre6tdLgi1G5+1XYXM0oGAzk5O0dlBOAPQCrlFC0Vg63CiiigAooooAKKKKACiiigAooooAKKKKACiiigDkfG3iq2stI1bSNOmMmvNZhba0VG3O825I8HGDyCSAeApJwK3tA0qPQ/DmnaVDjZZW0cAx32qBn9Ktwvb3Kx3UBjlVl+SVMHKn0PpUtC0T8/8Ag2/MHr/Xp/kFFFFABRRRQAUUUUAFFFFABRRRQAUUUUANlDtC6xsEcqQrEZwfXFcangB4PB2gaLb6gpk0e5ju3lkhLJcyruJLKGB++2/GeoFdpTJZooFDTyLGrMqAscZZjgD6kkCj/gfgH9feQWdhHa2cEDs1w8KBDNN8zuQOpPqetYXi3wxqfiaSwSDVbS0tLO8hvPJksWlMrxnIVmEq/LnBxjsOa6eijrcOlhsYcRqJWVnwNzKuAT3IGTj8zTqKKACiiigAooooAKKKKACiimTTRW8LS3EixRqMs7nAH40ActN4JefS/Flu2pMtz4jkcm4SPBgQxLGiYzzgL7Zyelbeh6Y+k6cLeSYStkEBAVSNQoVURSThQqj6nJ71o0ULT8F9wPX+u4UUUUAFFFFABRRRQAUUUUAFFFFABWV4n1638MeFdS1u75isbd5iucbyBwv1JwPxrVryz406brHjSHSvAfh4FDqUv2nUbogmO2tozwX/AN58FR3MZ+tAEf7PXji48Y+AZodVuWudU066dJ5HPzSLIS6McfVl/wCAV6vXzZ8JvD2p/Dn4mXE1qZLvw1fajc6HNOfvQTRSYhZwB/EcKD0y5HHGfpOgAooooAKKKKACiiigAooooAK8i/aF8f3PgvwrpsGkT+VqV7epIhB5EcLB2/Ntgx3BNeu18z/FnwtqfxA1fxT4tvGltNA8NWj2un5HN5LGTvKj+4HLAt3wAOh2gH0Toer22v6BYavYnNvfW6Tx+wZQcH3GcVfry/4J2+seGtH1DwR4jjYXGjS+ZaXA/wBXc20pLKyHqcMHz6ZAr1CgAooooAKKKKACiiigAooooAKKKKACiiigArk/if4qHgz4b6vrKPtuI4DHbf8AXZ/lT64Jz9Aa6yvNviV4JvfiT4h0bQp2e28N2DG91GUHDTyHKxxJ7gbiT2DjvigDA/Zk8Wf218O5tFuJC91o05UbjkmGQllP/fW8ewAr2ivAvhv4MvfC/wATNQ8QeGkX+w5NYvdHv7FQS0Eav+5kT1AbaDnlRk8gnb77QAUUUUAFFFFABRRRQAUUUUAFFFFABRRRQAV8/ftN+Op9Fm8PaLpU5ju4rhdVkKnG3yziLPqC2449UFfQNfOnjn4bTa/Nq3jfxlvEmo6rZ2em2SMVNvZm4jjDP6OyEnb23Enk4UA948N65b+JfDGna1Z/6m+t0nUZztyMlT7g5B+ladcD8KvDWq+BdOv/AAnqLm6sbO4M+l3naSCQklD6OrZJH+2MV31ABRRRQAUUUUAFFFFABRRRQAV4p+074tOi+AbbQ7WUpdaxON204IhjIZj7ZbYPcZr2uvn34teBb3xNfeIfGfiEmPTdLSGy0a0BIaQeaqySuPQsz7cckYPQDcAes/DXxUPGfw60jWiwaeaAJc47TJ8r8dssCR7EV1NebfDPwXf/AA313WtAjZrnw7eOL3TJictC2AskUnv9wj1Ck9cgek0AFFFFABRRRQAUUUUAFFFFABRRRQAVyOp/Ejw1purTWFtJcatqkfyzWukWj3cqY7OUBC4yeGI71T8V3V94n8VReCdHupbK3W3F3rV7A22SOBiQkCN/C8hVsnqFB9a6zRtE0zw9pcWnaJZQ2VpEMLFCuB9T6k9yeTQB5h4N8b6Z4dg1qLxdp2raHFqGt3V5DNqemSxwlJHyu59pVT9T+NesW11Be2sdzZzx3EEqh45YnDK6noQRwRUjosiMkihlYYZWGQR6V5vqGmp8LvEEGt6KWg8LahcLb6ppqn9zZySMFS5iXog3EK4GBhgcccAHpNFFFABRRRQAUUUUAFFFISFUliAAMkntQBW1PVLHRtOlv9Wu4bO0hG6SadwqqPqa8v8AG/jAeL/h7q+jeD/DHiDUo720aG3u4tP8q3PoQZCpK/7qmtTw1pyfEXVf+Ey1+P7RpUUzLoGnyjMaIp2/amXo0jkErn7q4xyc16NQBxmmfEfQZ9RttP1e3vtA1KUeXBDrNobcyk4yEk5RskDgNzxXZ1T1bSNP13TJtO1izhvbOddskMyblP8AgfQ9RXHeC3u/CfiOfwJql5cX1ulub3Rr26k3yyW+7Dwux6tGxGP9lh0xigDvaKKKACiiigAooooAKKKKACiiigAooooAZPPFbW8k9zKkMMal3kkYKqKOSST0FcSPiRLq7MPBHhnUvEMKkj7cGS1tWwcHZJKRv57qpFV9Yt/+E/8AH03h65Jbw7oKxTajCDxe3TjdHC3qiLhyO5ZQRxXfxxpFGscSKiIAqqowFA6ACgDyvwxrXiLwXHq7+KPBWpx2l/qtxfm406WK8EKyHOGRG34GOoU/SvR9F1zTPEWlRalod7De2kv3ZYmyM9wR1BHcHkVfrzrxNp8PgHxPH430iMW9lfTxW3iGBeEkR2CJc47MjMM46qzd+aAPRaKKKACiiigAooooAKKKKACiiigAooqvqF9BpemXV/eNst7WF5pW/uoqlifyFAGT4m8Y6X4WSBL3zrm+uyVtNPs4/NuLkjqEQdh3Y4A7muO8S2nxE8b6PHbQ+H9H0S3W6gulXUdSeSZvKlWQAiKNlXO3BGT1rY+HOjy3Fm/jLXYw2ua8gmJbn7JbHmK3T0ULgn1Ykmu3oA4R/H2reHWX/hP/AA2+mWZIU6tp8/2u1Q+snyq8Y9ypHvXb29xDdW0dxaypNDKoeOSNgyupGQQRwQR3pzoksbRyKrowKsrDIIPYiuB8J2w8D+Obrwbb/Lot9A+paRGeluQ4E8A/2Qzq4HbeaAPQKKKKACiiigAooooAKKKCcDJ4FAGP4k8U6V4U09bvWJ2XzX8u3giQyTXEh6JGg5Zj6D8cVw/iiPx78QfDF1pdj4asNDs7rYVk1jUD55CurjMcSOFJ29CxrR8A2o8U6lcfEDU182S8d4NGRxxaWasVDKOzyYLMeuCB0rv6AOEl8aeJfDi+b418K7bBf9bqWiXBu44h3Z4iqyBR1JAbFdlp2pWWr6dBf6XdRXdpcLvimhYMrj2IqzXn1jZx+AviZDp+nqItC8UmWRLdR8lrfIu9tvosiBjj+8nGM4oA9BooooAKKKKACiiigAooooAKKKKAOI8CAS+L/HlzN/x9NrKQt6+UlrD5f4fM35mu3rz/AFW5HgT4kPrl4fL0HxGkVveXB+7aXcY2xO5/hR0ITPQFVz1r0AHIyORQAVzPxJghuPhb4njuQDH/AGVctyehETEH8CAa6auA8f3n/CTXkPw/0l/MuNQKyatJGeLOyDAvuI6NJjYo/wBonoKAI9F8T/EKXQbCQ+BbSYvbRsZX11UL5UfMV8o4J647Vd/4SL4hf9CBYfj4hX/4zXaoqoiogCqowAOwpaAOJ/4SH4h/9CFpw/7mEf8Axij+3/iJ/wBCLpg+viD/AO0V21FAHE/298Rf+hH0ofXX/wD7RR/bnxG/6ErSB9deP/xiu2ooA4n+2viOf+ZO0YfXXG/+MVk+K9Z+Iw8Ga0ZPC2kQINPn3Sxawzug8tvmVfJG4jqBkZ9a9MpksUc8LwzIHjkUq6sOGBGCKAMfwVHDF4B0BLYKIV0y3CBTkbfKXGDW3XAeAdQPhq5b4f63JsutPB/smaQ4F9ZZ+TaT1eMfIy9RtB6Gu/oAK87+I95c6b428D3ml6bNqd8l1dotpA6I8kZtm3jLkAYIU8n+H6V6DLLHBC808ixxRqWd3bCqB1JJ6CuD8NSt438dSeL0Vv7E02B7HRmYEfaWcjzrkD+6doRT3AY0AWf+E08Vf9E21f8A8D7P/wCO0f8ACaeKv+ibav8A+B9n/wDHa7aigDif+E08Vf8ARNtX/wDA+z/+O12NtLJNaQyzQPbySIrPC5BaMkZKkgkEjpwSKlooAK5/QbfxVD4g1qTxDeWE+lySqdKitlIkiTnIkyo5+70J710FFHUOljn9At/FUOua0/iO8sJ9NkmB0uO2UiSKPnIkyo5+70J70mhW/iyHUtcfxBeafPaST50hLdTuij+biX5Rk/d6E9DzXQ0UAcTs+Kf/AD8eEP8Avxdf/F0bPin/AM/Hg/8A78XX/wAXXbUUAcTs+Kf/AD8eD/8Avxdf/F0bPin/AM/Hg/8A78XX/wAXXbUUAef/AAo+3L/wlya2bc6qPEMxuTbhghzDDt2hiTt24xmvQK8/8QSSeA/G0vi3y3fQNVijg1kxqWNpInEVzgclNp2PjoAp7V3drdW99axXVlPHcW8yh45YnDK6noQRwRQBLXI/Fcwj4R+KPtONh02YLn++Vwv/AI9iuurzrWb6P4keJLfw5ozC40HTbpLjWr1OYpXjYNHaKejEsAz46AAZycUAWbTXfiPDYwJP4H0+d1jUM414KScdSDD1qb/hI/iD/wBE/svw8QL/APGa7aigDif+Eg+Ib8J4D06M+smvgj9Ia6+xe6ksIH1CGOC6aNTNFFIZFR8cgMQMgHvgVPRQBz9vb+Kh48up7m8sG8MNahbe2VT9oWb5cknbjb97+LuOKLW38VL47vJ7u8sG8MtbKLW2RT9oWb5cljtxt+9/Eeo4roKKFoBgWdv4pXxzfz315Yv4aa3UWdvGD9oSX5dxY7cY+9/Eeorfooo6WAx/EKeJJLeEeFLjS4Jt5846lBJKpXHG0I64OfXNYP2L4nt97W/C6f7umTn+c1dtRQBxP9lfEpvveKdAT/d0aQ/zmrn/AB5oHxBl+HniAXXizTbmEadOZLeDRjG0qhCWUP5xwSMjODXq1I6LIjI6hlYYKkZBHpQBR0K4gu/Dum3NoQYJrSKSIr02lAR+lX6848P6ovw1vh4T8SSGDRWlP9hapKf3Xlsci1lborqSQpPDLjuMV6MCGUFSCCMgjvQAtecePrTUNU+J3g2z0HVP7Mv4oL+d7kW6zGOLbGvKtxgsQP17V2PiLxPpHhXTTfa5eJbR52xp1kmbsiIOWY+gFYXgrS9SvtYv/GXiS2azv9SjW3s7GTG6ys1JKo3+2zEuw7HA7UAM/wCEW8df9FGb/wAElv8A40f8Ir45/wCijP8A+CS3rtqKAOJ/4RXxx/0UaT/wS29H/CK+OP8Aoo8v/gltq7aigDif+EV8cf8ARR5f/BLbUf8ACK+Of+ijSf8Aglt67aigDif+EW8c/wDRRm/8ElvVe/8ACXjuXTbmNPiE0jPC6hP7GgXcSDxkHj6131FAHJ/CyeG4+EvhdrfG1dMgjYDs6IFf/wAeBrrK85gvR8LfEF3a6ruj8Japctc2l9jKadPIcyQyY+7GzEsrdASQfWvQ4pY54UlgkWSNwGV0bIYeoI60APriPiERNrvge0i5uX8QJMgHXy44JjIfpg/rXUazremeHtLl1HW76GxtIhlpZmwPoPU+gHJrk/C1tfeKvFbeNdXtZrKzhga10SyuF2yLExBkuHX+Fn2qAOyjnrQB3dFFFABRRRQAUUUUAFFFFABRRRQBDeWdtqNlNZ39vHc206FJYZVDK6nqCD1FcVH4F1zw6uzwP4rksrBeU0zVbf7ZBEP7qPuWRF9txFd3XAfGzxZ/wiPwp1S5ik2Xd4v2K25wd8gIJHuE3t+FAGf4al8XfETw/DqkXjays9LuHdM6PpZjmcK5Q4eV32HK8EL0wa7fw34V0rwpp72ujwMplfzLi4lcyTXEnd5HPLMff8MV4T+yv4oeNtZ8IXxZJIz9tt43GCOiSrz0/gOP96vo6gAooooAKKKKACiiigAooooAyfEXhfSfFWniz1u0Eyo3mQyKxSSBx0eNxyrD1BrgvFS+IPh5oa3x+Ikv9nfaYrdF1XTI7qVd7hc+YrIW2gljnJwpr1OvmP8Aak8STajrmm+FNPWSZLCFr+7WNS2GIIXOOm1Axz6PQB7H/wAK5uNZkRvHfiW88QwowYWCxLa2bEcjfEnMnPZmI9q7eKKOCFIoUWOONQqIgwFA6ADsK4j4N+LP+Ew+Fmk30sm+7t4/sl0ScnzI+Mn3Zdrf8CruaACiiigAooooAKKKKACiiigAooooAKKKKAEZQ6lXAZWGCCMgiuFv/hzpGkJdal4f1nVPCkaK086abcAW3AyzGF1ZBxn7oFd3XlX7Q3iWXRvhq2kWG99R1+YWMMUYy7IeZMAcnIwn/AxQBH4H0O3+Jngyy1zWfFPiLU7O63LLp0tylvHlWKlXECqW5GeTyCOK9Q07TbLSNPhsdLtYbS0gXbHDCgVUHsBXz7+zLrV3o2s6/wCBNbRre5hc3MULn7rofLmXPQ9E6ejV9F0AFFFFABRRRQAUUUUAFFFFABRRRQAUUUUAQXtjaalZS2eo20N3bTLtkhnjDo49CDwa8c+JGl+F/hnpul3Fhea3pEN/qMVs1tp2sTwxRxE5lkCbiBtUHAGBkivaq+UP2gb3U/HPxCnsNCt3u7Dw2kVrK8ZyguZpFUrnpuLFEx1yjehoA+iND+HvhrQtQGp2tk13qOONQv53upx9HkJK/wDAcV09cB8FPE8nib4X6ebzcNQ03On3iSAhlkiwBuzzkrtJ9ya7+gAooooAKKKKACiiigAooooAZNDFcwPDcRpLFIpV43UMrA9QQeoryH4m+HvDHw58F3viDRzqejyeaiR2mk6pNaxTSOw42K20cbm4A+7XsNfNH7TGr3viHxDZ+FtGRp4dIhF7qBTlYnkIVN57YBGP+uooA9j8O+AfCX+heIIIp9ZuJYkntr/VLqS7kCsAysvmEhTgg5UCu0ryj9nvXbq68BzeHNZjkg1Xw5cG0nglGHSM5aPI/wC+lHsler0AFFFFABRRRQAUUUUAFFFFABRRRQAVyniPwLa+LfFmkajrrefp+jBpYLDqk07cb5AeCFCjaPUnPHB6uigDyDwh4JttT8S6h4qsX+y6zpfijUE8wfduLdpCHif14Zip7GvX6jht4bcOLeGOISOZHCKF3MeSxx1J9akoAKKKKACiiigAooooAKKKKACvJvHXgqy0H4b+PddlP2rWtYtpJLm7fkqnGyFPRFAA9TjJ7Aes1HcW8N3bvBdQxzQyLteORQysPQg8EUAc34Y8FWXhbXNUvtFPkWerhJp7If6uOdcgvGOg3A/MPVR9B1FFFABRRRQAUUUUAFFFFABRRRQAUUUUAFFFFABWJc+FbC+8X2viK/X7RdWMBhskcfLbbj87gf324GewUY7526KAPM/Cfgi3vNZv9cvbSWz1XTvE19PZXRQqzwyNhlwfvIylgD2zkd8+mUUUAFFFFABRRRQAUUUUAFFFFABRRRQAUUUUAFeeeMvCkGleBEstBsXklm1uyu7lo03STyG7jaSVyBknuT2A7AV6HRQBm2OgWGm61f6nYQiCbUdhulThZXXOHI/vYOCe+BnpWlRRQAUUUUAFFFFABRRRQAUUUUAFeefELwpb23w98SyaPYvcanqs8M1zKke+aciZNq8DJVF4A6AA+pJ9DooAzI/D+nw+JZddt4RDf3EHkXLxjH2hQRtL+rLjAPUAkemNOiigAooooAKKKKACiiigAooooAKKKKAMjxXquoaJ4WvtR0fSpNXvYI90NlEfmlOQMcAnjOeOeK4TV/iVr3g9PDl34ssbBrXWZI4Z4LYPFcWDuMgMrMwcDkH7vSt74saN4n17wFcWPgq6NvqDyIXCzeU0sXO5Ff8AhJ47joR3rzzxp8PNS13wno9v4R8CjSZ9Nu4rm4S4mtlmuSvBUOrnf1JLOwzxjPYjvr3X3dQltp2f39D3eiuB+IeqeJLL4b3+v6XdyaDPa2LyvZy28U0ocdPnDMg/DP1rd8AX1zqXw58P3t/M09zcadBJLK5yXYoCSffNC6+X63/yDt5/8D/M6GiiigAooooAKKKKACiiigDkvFGveJbLxRo+keHdFE1vfbzc6rNG0kNptHAZVK9fdh7Zqh4R+IVzq3j3WfB2s21suo6ZEs6XVk5MNxGdvODkqRuHGT39KyPGfhjxBqXxU0/U9Q0ybxF4Shttv9lwzxqI5+fneKRlWQfUn6cc0vD3hLxBoXxwu/E0XhcQaNqlklqsVrPbqbLBQZkTeB0TJ2buvGaIbq/n/wAAJdbeX/BPYKK8b1lfHVn8P/EvibxPrN1oOq6fNLNYR2txE9u0K42KY8EHd0+Y7uR9K9A+Huu3/ib4e6NrGsQC3vbu2DyoF2gnJG4DsCAG/Ghaq/p+IPR/f+B0lFFFABRRRQAUUUUAFFFFABRRRQAUUUUAB6cda8W1Dxp4t0nwzrmoa54n0iw1+wllkttEhaCeOSFcEBgP3gJ5Gdw7cCvX9UtJNQ0i7s4bh7WS4geJZ4/vRFlIDD3Gc15b4d+GviXR/hnf+B3TRUjvFmSXWIppGllV88tEYxlsHbnfgDHXGKl31t20KVtL99TvPBnihfFHgPTPEVzGloLu2EsqlvljPRuT2yD1rfVg6hlIZSMgg8GvJX8M3vhv4A3fhzxpp0eo2NhbEO2jXuJHhUmQyHzVQKRgcDdn9K7rwFPYXPw90OXRoZoLBrKP7PFO+51TbgBj3NaSs5Stt/nczjdRjff/ACsdDRRRUlBRRRQAUUUUAFFFFABRRRQAV5LqHifxRZ3HiU654o0rQ7q0d20fT4mgmNxEoJBkQ5k5wOhXqeK9YkUvGyhipYEBh1HvXlPgz4deJvCGh61oQOkXi6rNK76088guNrjHzx7DuYckDeBz19Zd9bdvxKVtL9zq/hh4xm8efD7T9eu7dLe5m3pMkedu5WKkrnnBxnFdbXknhuLWvgh8LbiLXrC31XT9NkaRZ9Nuf3hR3JLOkiqBjIHysx56cV0Nz8U7Gys9E1G90m/g0rWp47e3vW8vAeQZUlN27b1+bHbOMYNaSs5e75fiZq6Xvef4HdUUV5x8boLu2+Gus6vY6xqVlLbWyqsVrP5aNlwCTgbicMR1x7VnKXKrmkVzOx6PRWL4MdpPAegvIxZ2023LMxySfLXmtqtJR5ZNGcXzRTCiiipKCiiigAooooA4fx1q3iHTvEGjJZ6lp2jeHpS/9o6jcTwpLGQPlCCXKnP0P4VkeAviFfat8S9b8IXt7b6vb2dut1Z6nDGI2kQ7cq4Hykjf1AHQ+tWPEPgPWp/i5YeNdONhqcNra/Zxp2oSvF5Lc/vI2COAee49efSDTfA3inTvjFc+NmbSZ4tStVtru1E8itbgFf8AVnyyJCFQfe2ZJPSiGjV/P/gBLrby/wCCenUVwejfE/8At3UdZ0yy8N6j/aOjy+Xc27SQ4Xg8l9+3nGAAST6YBNb/AIN8Xaf448L2+uaSs0cExZTHMoDxspwVOCR1HY0LXYHobtFFFABRRRQAUUUUAFFFFABRRRQAUUUUAcN8XbhpfhzrOkWtlqF5fX9m6W8dnYTThm44LIhVf+BEVa+GF1n4f6Pp01pf2t3p9hBDcR3ljNb7XCYIUyKofBB5XIHHqK6+ihaX87fhf/MHrby/W3+QUUUUAFFFFABRRRQAUUUUAFFFFAHg3jDxvq2u+KGt9R+GvirVfD9hKDbWq2Escd3Ip/1soKHcoP3U6dznoPXvBt5qWoeD9OvNbtWs76eMySWzx+W0ALEqhXAwQuB07Vt0ULSNgesrhRRRQAUUUUAFFFFABRRRQAUUUUAFFFFABRRRQByPxF1KxPgPxPpwvbf7cujXExtfNXzQnlsN2zOcZ4z0pPhOCPhH4Yzx/wAS6L+VW9b+H3hrxFqr6lqunGS7lt/s0skc8kXnRZz5bhGAZcgcH6dK6C3t4bS1itrWJIYIUCRxouFRQMAAdgBRHRPzt+F/8werXlf8bf5ElFFFABRRRQAUUUUAFFFFABRRRQAUUUUAcd8V9M1PXfhrquj6Hp0t/eX8YhRI5I0Ccg7mMjKMcY4yeRxXE+MPDXinWvhz4M0ix8MXpvNJurWa7Rrm1AQQqVYA+dgk9Rjt1weK9nooWjv5p/dsD1VvX8TgNT+EfhrxJqkmt6nHq1veXZWWWEagyeW2B8uEYqMY7Ej3p/xa07WNd8Aaj4c0DQ7vUJ76BVSdJoEijIcHDGSRW6DsprvKKTSceXoNNqXN1Oe8EG/h8K6fp+qaPd6ZPYWkNu32iSFxKyoASpjkfjI/iweeldDRRVSbk7smKsrIKKKKQwooooAKKKKACgnAJAz7DvRRQB5T4G0nxHofi/xxquo+F79INanFzaKtxaMxChhsOJsBju45xwckVofBHQNb8K+AzoviPSprC5huZJQzTRSJIHYkbSjseO+QOvGa9GooWm3ZL7gev33CiiigAooooAKKKKACiiigAooooAKKKKACiiigAooooAKKKKACiiigAooooAKKKKACiiigAooooAKKKKACiiigAooooAKKKKACiiigArG8X+IoPCfg/VNdusFLG3aUKT99+iL+LED8a2a8c+O0Gr+L5NK8A+HEJluj9v1GYg7Le3TIUufQtkgdSUFAHS/BfxnN43+GNjqF/MJtQt2a1vG7l0PBPuUKE+5Nd9Xzj+z5Bq3grXbXTtVQtpXi2wS9064UEp5yKWaM/wB1thbOeuxa+jqACiiigAooooAKKKKACiiigAooooAKKKKACiiigAooooAKKKKACiiigAooooAKKKKACiiigAooooAKKKKACiiigAooooAKKKKACiiigAooooAKKKKACiiigAooooAKKKKACiiigAooooAKKKKACiiigAooooAKKw/FPiuz8K2MMtxFNd3d1KILKxtl3TXUp/hUe3Uk8AcmsCPQfG/iZfO8R6//AMI5auMjTdD2mVR6PcuCd3Y7FA9D3oA7umpIkgJjdXAOCVOa4ofCDwdL82p2Fzq8x+9Lqd/PcM313OR+lc3458EeA/CNhZ3dr4DstQudQv4bGK3Sc24LvkKc8gdPTvQB63RXkOk/DjTbvVIYdV+E+n6faMT5lyusecY+Dj5AATzgde9bq/DL4XPqLaemj6U16oy1sLgmQD127s0Aeg0V59efDH4XadJFHqGj6VavMcRLPcFC59AC3P4U6++Fvwx0y3E+paJplpCTtElxOY1z6ZLYoA7+qd5bww2t9cRxKsssJ8yQDltqkDJ9v6mvOPDngP4deIr3WoIfCNpGul3v2QSCZnE37tH3jngfP79KpTeE/h1/wsiHwjZ+DrG4k+zfabq5N3sEIO4BQm7LtleQMYBzR1S7/wCV/wAg6N9v+GOt+F9pBc/CLwmLiJZPLsLeVNw+6wUYI9DXZ155B8MfhZNfPp9to+lSXUI+e3S4LSJj1XdkUT/DX4V2r7brSdJhbeUxJclTuAyV5brjnFAHodFcIfhL8OBcLbnw9YCZ1LrGZG3MvqBuzioZvhh8L7a0kurjRtLit4mKSTPcFURhwQSWwD7UAeg0V5/F8L/hhPYi9h0XS5LQ9LhJyYzzj727HWo5fht8KoLWW5m0vSI4IZDFJK9yQqP/AHSd+AfbrQB6JRXleg+BPhzr+ta3YW/hKzCaVNFGJ1mZ1nEkQkDDB4HzY6mt3/hUHg6L5tPsbvTZR92Ww1K4hZfptfH6UAdvRXCv4W8Y+Hx5vhXxXJqkS8/2d4hUSh/YXCASKfTduFa/hXxfF4ja6sruym0rWrAgXum3DAvFno6sOHQ9mHX2oA6OiiigAooooAKKKKACiiigAooooAKKKKACiiigAooooAKKKKACiiigAooooAKKKKACiiigAooooAKKKKACiiigAooooAKKKKACiiigAooooAKKKKACiiigAooooAKKKKACiiigDgfEM8Oj/GPw/quskLp1zp82n2k7/ct7tpEbBPRTIi7Qe+3Heu+qpqmlWGt6ZPp2r2kV5Z3C7ZYZl3Kw/wA857Vx6eEvFnhldngvxHHd2KjEema+jTLGP7qTqfMUDoAwfFAHd15x8aIHutF8NwQ3ElrJL4js0WeLG+Mkt8wyCMjryCK0B4p8cWfy6j8PmuNvWXTNWhkU+4WTy2/CoLvxfd36xLqHww1+58iVZohNFaSCORfuuuZeGHYjkUdV6p/c7h0fo/yL8XhzXNEs7+8j8V6vrE62cogtrtINnmbcqfkjU5yPXvXi9hpl3N8NdEv1fwjZXEtzBJFqitO+pNdGQFg22Mszlshl5GM9hXsP/Cf6t/0TzxP+Vt/8erFhvrG311tag+DurR6mxLG7W0sxJk9Tu83OT69aI6Sv6fg7g9Y29Tl7iyv9W8c+OX1Kz8KXRguBEx8QvIJILTywUMeFIVDknIwd2faneCrOzvfE/hew8Z3Frq1pD4bZ9Le6RjDM5nIZlWVQSwi8scjOOfeun1fULPxBeQ3WufB/V9QuIeI5bm1s5GUemTL09qm1jWovEFnFa658Jdav4ITmOO4t7R1Q+wMvH4Uo6JeX+TX63HLVvz/zT/Swnwei0qCfxlF4f8v+zk151gERygHlR5C/7IOQMcYrJ8SadHbfFHxbf6Rp1v8A2tD4V+020yQL5izlpV3qcZ3kADPUjit/T/FU2kxvHpfwt12ySQhnW2gtIwxACgkLKM8AD6ACn/8ACZXUd8+of8Ky8QLdNEI3ufKtBIYwSQpbzs7QSTjpRJXSXZW/8lt/wQi7X83f8b/8A4rUNP8ADFn8LvCF94Uishrsl3YmyubcL9pmmZ183cw+ZsgvuB/GtHS/A+k+K9T+JRvLKGa/m1CW0t7iVAzQZt0wUz905bkjk4FXtK1TS7e/Gu6N8IdTjurlfMW9t7WyDOGGdwYS9weo65rXtvGN3ZyTyWnwx8QQPcyebO0UNoplfAG5iJuTgAZPpTl71/O/yvb/AC/ESvG3lb52v/meWWnia4kudO+JV55nleHxa6PdLzj5oHE5I9pZIx+FdAbBbPRPAuhXWk2F/rV+LjVCdXnKWkcrjfIXQA+Y48zCjHGM11J16NtOn09vhJrBsrmQyz2xtLPy5XJyWZfNwxJAOTzkU3Wdcj8RWkdtrvwn1vUIIm3Rx3NvaOEPqMzcU276vv8A8P8AjqFktv67fhoeczFT4C+KNmsum7FvrPKaOpjtkY+WG8sZOORgnuQa7W88OeHNO+LHh3RL3TbGDQ10qeaytpYlEM15vUMzA8PJ5eOTk96trfWKNMU+Duqjz4UglUWdlteNCCqkebggEDA7YHpVjWfEA8Q2QtNd+FOuahbq25Y7mC0cKfUZm4NLaz/ra3/BDo1/W9/+ARfCmDSLbxX47h8OCFdPTU4hGsGPLVvJG4LjjAbcMDgV6ZXnmneJpNIR00j4V65Yq4UOLa3s4w20bVztlGcAYHoKuf8ACXeMrrjTvh3dRg9JNR1S3hUfUIXb9KfRLyX4IDt64GSeHV/jnZtoxDnRtMnh1a4T7uZWQwwE/wB4FWfHYH3qR/D/AI58RjZ4j8Q22h2TfftNARjM49Dcycj/AIAgPvXUaD4e0vwxpKabodnHaWyEttXkux6szHlmPckkmkBpUUUUAFFFFABRRRQAUUUUAFFFFABRRRQAUUUUAFFFFABRRRQAUUUUAFFFFABRRRQAUUUUAFFFFABRRRQAUUUUAFFFFABRRRQAUUUUAFFFFABRRRQAUUUUAFFFFABRRRQAUUUUAFFFFABRRRQAUUUUAFFFFABXnPx38Vjwr8J9SMb7bvUh9gt8HnMgO8/ggY59cV6NXkfxR8C3XjnXJ77WWMXh3w7ps0sEAOGu7opuJP8A0zUBB65DDoTQBN+zr4q/4SL4U21nO+660ZzZvk8mMcxn6bTt/wCAGvVq8Y+E3gO58FalpGtaKWl0TxHo1ub+AnLW10Iw6ye6HLj2L+nT1m+1zSdMnSHUtUsrSWT7kdxcJGzfQE80AXqKjt7iG7t1ntZo54XGVkjYMrfQipKACiiigAooooAKKKKACiiigAooooAKKKKACiiigAooooAKKKKACiiigAooooAKKKKACiiigAooooAKKKKACiiigAooooAKKKKACiiigAooooAKKKKACiiigAooooAKKKKACiiigAooooAKKKKACiiigAooooAKKKKACiiigAooooAKxvGJ2+BtdPpptwf/ACE1bNYfjc7fh/4hPppdyf8AyE1ACeBht+HnhwemlWw/8hLXmN1a+O9M8U+JtR8Cw6H4r0u+vnF5aXny3EMiqFaHJKggAAAZIx29fUfBg2+A9AHpptuP/IS1U/4V/oCXt5d2sd7Zz30zT3T2mo3EHnu3UsEcA/07Ura38v8AId9LFT4VajY6l8NtMl0vT5dMgjEkJs5W3GF1dgy57gMDj2rsKq6Zpllo+mw2Gl26W1rAu2OKMcKOv4nPOe9WqqTu7kpWQUUUUhhRRRQAUUUUAFFFFABRRRQAUUUUAFFFFABRRRQAUUUUAFFFFABRRRQAUUUUAFFFFABRRRQAUUUUAFFFFABRRRQAUUUUAFFFFABXL/ErWb7w/wDDXW9V0ibyL21ti8MpQNsbIGcEEHr3FdRXE/GT/kjviT/r0/8AZloAP+EP8Yf9FL1L/wAFdn/8bo/4Q/xh/wBFL1L/AMFdn/8AG67aigDif+EP8Yf9FL1L/wAFdn/8bo/4Q/xh/wBFL1L/AMFdn/8AG67aigDif+EP8Yf9FL1L/wAFdn/8bo/4Q/xh/wBFL1L/AMFdn/8AG67aigDif+EP8Yf9FL1L/wAFdn/8bo/4Q/xh/wBFL1L/AMFdn/8AG67aigDif+EP8Yf9FL1L/wAFdn/8bo/4Q/xh/wBFL1L/AMFdn/8AG67aigDif+EP8Yf9FL1L/wAFdn/8bo/4Q/xh/wBFL1L/AMFdn/8AG67aigDif+EP8Yf9FL1L/wAFdn/8bo/4Q/xh/wBFL1L/AMFdn/8AG67aigDif+EP8Yf9FL1L/wAFdn/8bo/4Q/xh/wBFL1L/AMFdn/8AG67aigDif+EP8Yf9FL1L/wAFdn/8bo/4Q/xh/wBFL1L/AMFdn/8AG67aigDif+EP8Yf9FL1L/wAFdn/8bo/4Q/xh/wBFL1L/AMFdn/8AG67asTxN4u0jwnaxyarMxnnbZbWduhkuLp/7scY5Y/oO5FAGJ/wh/jD/AKKXqX/grs//AI3R/wAIf4w/6KXqX/grs/8A43TU8XeNZEDp8NroKwyok1e2Vse4zwfanf8ACV+N/wDom9x/4ObX/GgA/wCEP8Yf9FL1L/wV2f8A8bo/4Q/xh/0UvUv/AAV2f/xuj/hK/G//AETe4/8ABza/40f8JX43/wCib3H/AIObX/GgA/4Q/wAYf9FL1L/wV2f/AMbrG8ZeFfFdt4F16e5+IeoXMMWm3DyQNptoolURMSpIjyARxkc1s/8ACV+N/wDom9x/4ObX/GszxJq/jrXPCmraTF8PJonv7Ka2WQ6xbEIXQqDjPOM0AHhvwl4sk8KaS8HxF1CCNrKEpEumWjCMbBhQTHk46c1p/wDCH+MP+il6l/4K7P8A+N1T0nX/ABxpui2Vi3w6nc21vHCWGsWw3bVAz19quf8ACV+N/wDom9x/4ObX/GgA/wCEP8Yf9FL1L/wV2f8A8bo/4Q/xh/0UvUv/AAV2f/xuj/hK/G//AETe4/8ABza/40f8JX43/wCib3H/AIObX/GgA/4Q/wAYf9FL1L/wV2f/AMbo/wCEP8Yf9FL1L/wV2f8A8bo/4Svxv/0Te4/8HNr/AI02Txl4wtozNdfDe+8iP5pPs+p20sgXvtQNlj7DrQA7/hD/ABh/0UvUv/BXZ/8Axuj/AIQ/xh/0UvUv/BXZ/wDxuug8O+J9I8Vab9t0S7W4jVtkqEFZIXHVHQ8qw9CK1qAOJ/4Q/wAYf9FL1L/wV2f/AMbo/wCEP8Yf9FL1L/wV2f8A8brtqKAOJ/4Q/wAYf9FL1L/wV2f/AMbo/wCEP8Yf9FL1L/wV2f8A8brtqKAOJ/4Q/wAYf9FL1L/wV2f/AMbo/wCEP8Yf9FL1L/wV2f8A8brtqKAOJ/4Q/wAYf9FL1L/wV2f/AMbo/wCEP8Yf9FL1L/wV2f8A8brtqKAOJ/4Q/wAYf9FL1L/wV2f/AMbo/wCEP8Yf9FL1L/wV2f8A8brtqKAOJ/4Q/wAYf9FL1L/wV2f/AMbo/wCEP8Yf9FL1L/wV2f8A8brtqKAOJ/4Q/wAYf9FL1L/wV2f/AMbo/wCEP8Yf9FL1L/wV2f8A8bron8QWaeLI/DxWX7bJZteq20bPLDhDznOcn0qxqepf2ZBDJ9ju7vzZ0h22kXmMm443sOyjqT2FH9foByv/AAh/jD/opepf+Cuz/wDjdH/CH+MP+il6l/4K7P8A+N111/eR6dptze3AYxW0TTOFGTtUEnHvxUGhaxbeINAsdXsRIttfQLPEJQAwVhkZAJ5oA5j/AIQ/xh/0UvUv/BXZ/wDxuj/hD/GH/RS9S/8ABXZ//G6n1H4iWtrrF5pulaHrWuy2BC3j6Zbo6QMRnYWd1y2CDhcnmnJ8Q7C70C01fRdK1jWILl3jaOxtN0lu6HDLIrMpUg8fhR0uHWxW/wCEP8Yf9FL1L/wV2f8A8bo/4Q/xh/0UvUv/AAV2f/xum6B8UrTxJMg07w34i8hp2t3upLNBFE6nDbmDnGD1rT8D+PNH+IGkT6hoXnrHBOYJI7hAjqwAOcAngg8GjcDO/wCEP8Yf9FL1L/wV2f8A8brK1WLxb4U1rw1LceNrrVrbUNYisZ7WfT7aNWRo5GJ3IgYHKDoa6bQPHuj+JPFOs6Bpn2hrrRmCXLugEbEkj5TnJwQQeB0rO+I//H54L/7Ga3/9FTUdE+4dbHbUUUUAFFFFABRRRQAUUUUAFFFFABRRRQAVxPxk/wCSO+JP+vT/ANmWu2rifjJ/yR3xJ/16f+zLQB21FFFABRRRQAUUUUAFFFFABRRRQAUUUUAFFFFABRRRQAUEhVJY4A5JPasTxN4u0jwnaRy6rOxmnbZbWcCGSe5f+7HGOWP6DuRXMjw74g8fETeNi+kaG3Mfh+1m/eTjt9qlXr/1zTj1JxQBNeeN7/xHeS6V8NreK9aNjHc63cA/YrU9wpH+ucf3V4HGTWr4Z8DWHh+6k1O6nm1fXbhcXGq3uGlYf3UHSNPRVwPrXQWdnbafZxWlhbxW1tCoSOGFAqIo7ADgCpqAOV8QeM59O8QRaBoOiT65qzW/2qWGOdIUgiztDO78ZJ4A6nBrPPxNSbTtNXTtBv7jW9Rlmhj0h2SKSJojiUu5O0KvHzc5yMVFq9nrfhv4k3PifStEn12y1LT47WeG1ljSaCSNmKth2UFSGwcHIIrPnsPGtvrGheMr/SI9Qv4Irm2vNKs5UV4YJWDR7GYhXZdoDcjOeKUdlfz/AFt9+n53Q3vp/Wmv9fI0p/inb6f4d1y91jRruy1HQmiF7prSK7bZGAR0deGU56+xGKnsfiHN/wAJFa6Z4h8PXWhx39vLcWVxcTxuJFjUM4dVJ8tgpzg5rlNb8IeJvFGj+L9Xl0hrO/1lbO3stMkuIzIsMMgYs7BtgY5Y4zwBjrXT+N/Cl/4j8UeHmt4iLKG2v4LucOo8nzoNinBOTz6A0O6V+v8AwP8AP/IFZu3T+v8Agken/E24vn0+9bwtqEPh/U7hYLTVDIjFtxwjtCDuRGPRj6jI5o1f4lX2lLqN/wD8IjqEuhaZM0VzqLTxxt8pwzpEx3OoJ68Z7VT8Mz+ObDSdC8Lr4cFidOMUF7qss8b28lvGMZiUNvLOAOCo255ri9d8CeI9Y0bX7LUvCd1q/iCeWd4NZutTU2wiLExiKMv8rbcKF2DB5JFN2T021+e3/B7fgKOu/l+v9dfxO8Xxhrz/ABqXQ49PlfRG0kXIYSQ45f8A1/8Afx/Bs655xjmnr8TbyNrK91HwlqFjod9dpaQX808Yk3O2xGaDO5VJ/HHOKoiw8SDx9pmr2mizxRXnhz+z3lkljzYThi4Mi7jkdB8ua4ibwR4gm0PTpJPBF/P4g068t7nUNTvdUSZ7opIGfyAZCPm68hABxyaaSTSff/25/p/T6Tq031t/7av1/pdfQ7z4nXgvNdg0bwlfammgTNHezLcRxIFVQ2U3HLNjPygduvIrSu/HU01no0nhfQLzW5dXtftcSh1gjiiwDmSRuAfmACjJPNUtB8PatbWfjn7VZGF9YvZp7NDIhMitAijoTj5gRziuSm8I+IbbT/CVprXh/UNa0my0VLW40ux1FYfKvBj55P3ih1xxncQOalbJPy/J3/Gxb3uvP81b8Lmn4q+Jurt4AfU/D2lXNpqNrq8enX0UkkLG2cSIGTJJVwwYKGHTdnjFdHfeO9QXVBpOi+F7rVNVgto7nULdbqKNbPePlQyE4Zzg8DsM5rz+DwX4ltPhz4l0iDwx9muP7bh1OztYLiNo5Yt8bmNGJ+8oQg5Ayemava54Mnk8aX3iPUvBl/rcGtW1u4t7TUhBNYzom0xuBKisp4+YE4INPp/X8q/W/wDTF1/rv/kdHDo+mePrKHxh4TuLnw7r3zRNdJGA+9GKtDcxfdlAIxg88DBFXNL8d3GnalDonxBtI9G1KVtltexsTY3x/wCmch+43/TN8H0zV/4e+H5fDfg+GzubC106eSSSeW1tZXkSIu2cb3ZizYxk5wTnArc1TSrDWtNm0/VrSG8tJ12yQzIGVh9D/Om9xIt0V59/ZviX4efNoP2jxL4bTrpksm69s1/6YO3+tUD+Bju4ABNdX4d8TaR4q037bod4txGrbJEwVkhcdUdDyrD0IpDNaiiigAooooAKKKKACiiigAooooA8v8U+H9P8SfHPTLHV5Zvs39gyu1vFO0QuMTr8rFSCQM5xnsK5i7mudHh1TQrC9uX0zS/F2nQ2bPOztGkhRnh3E5KqTjBPevVfEHgXQPE+oRahqtrMb+CLyoLuC6lhkhXOflKMMHPfrjjpRb+A/DltodvpMWnf6Jb3a3qgzSFmnVtwkZ925myM/MTn6UQ921+n/wAlf8tAlrfz/wDkbfmZOt6z4luLXxBY33hT7HpSWN0I9T/tKOTzAEbafKA3Dd+lXfhd/wAkn8Mf9gyD/wBAFdNd2sN9ZzWl0m+CeNo5EyRuVhgjI5HBrkLX4R+DrHyRaWV/EsOPLRdYvNq46Db5uMe1EdLp+X4X/wAwlrZrz/G3+Ri2Oi311rWvat8M/FiWvmajIuo6bqNj5sP2pQFcg5V0zgdMg9q2/hprDapperRXWlWOm6hY6pNbX408fuJ5xgtKvf5sjOecjmrOrfDfw5rGrTanJDd2l5cAC4lsL6a2NwBwN4jYBvqea2tE0HTPDelpp2iWcdnaoSwjTJyT1Yk8sT6kk0R0Wva35fh5f5BLV6d/8/6v/mcV8Hf+RF1P/sM3/wD6OavOvAOuJ8OvDVhrc3FprehzsF7NeW0j7F+rI2P+A17zo+gaboFjLZ6RbfZ7eWaSd08xmy7ncxyxJ5J6dKy5fh54Wm0DTdFm0lJNP0ucXFnC0sh8qQEkHO7J5Y8EkH0pW0t5Jfcmn+d0O+rfm3+N1/wThPhToknh/wCIGqWN0c3f9h2U10x6tNI8ryH/AL6Y11XxH/4/PBf/AGM1v/6Kmrp4dD0631661qG326hdwpBNNvY70QkqNucDG48gZrmPiP8A8fngv/sZrf8A9FTVTd19/wCbZNtW/T8kjtqKKKQwooooAKKKKACiiigAooooAKKKKACuJ+Mn/JHfEn/Xp/7MtdtXE/GT/kjviT/r0/8AZloA7aiiigAooooAKKKKACiiigAooooAKKKKACiiigAooooA4O++EekX3i268Sf2z4gt9Sucgy2+olPLT+4nGVX2zU3/AArKL/ocPGH/AIOX/wAK7SSRIo2eVlRFGSzHAA+tctqXxP8ABelz+RP4is5rjp9ns2NzLn02RBjn8KAKn/Csov8AocPGH/g5f/Cj/hWUX/Q4eMP/AAcv/hTf+E91rVOPC3gbV7odrjVCunw/X58yEfRKP7I+Ims/8hTxHpugQnrDo9oZ5SPTzpuAfcJQBBqHw9srKxknvPHniuyiUfNPLrhVU98sMfnXzx4613xR4ZuXm8OfE7VPEWmeb5f2mG4uVWJjkhC+fLY4B+6xJwTgV9KWnwr8MR3SXesQXPiG9XkXOt3DXZH0RvkX8FFU/E/w2g8a+LNMfXdi+HNFj3W+lxjC3M7dWfHARQAAvUnd0HDAHkXwj8P/ABJ8fOmra54s17TvD6n5ZFvpRLdn0jy3C+rEY7DPOPZf+FZRf9Dh4w/8HL/4V2kUUcMKRQoscaKFREGAoHQAdhTqAOJ/4VlF/wBDh4w/8HL/AOFH/Csov+hw8Yf+Dl/8K7aigDif+FZRf9Dh4w/8HL/4Uf8ACsov+hw8Yf8Ag5f/AArtqKAOJ/4VlF/0OHjD/wAHL/4V5H8XPC/xH8EJLrXhrxbr+o6EBmVWvpTNaepbDfMv+0AMdxxk/SVIyh1KsAykYII4IoA+NPBXiHxb4mut+ufEvVPD2mrJ5ZvZ5rmRC/XbuB2KcH+Jl696+i9M+H1lfafFPZ+P/FWoRMOLiHXCyv7gqMU7QvhpB4Q8eXup+GvLj0LWYTHqGkMo8uOUZKypnt1Up0G8noABevfhZ4YmumvNJt7jw/fN1utFna0Y/VV+Rv8AgSmgCL/hWUX/AEOHjD/wcv8A4Uf8Kyi/6HDxh/4OX/wpn9mfETQv+Qbrmm+JLYdIdWgNtOB6CWIFSfcpS/8ACxrrS+PGHhDWtHA+9c28QvrdR6l4csB9UFADv+FZRf8AQ4eMP/By/wDhTdD+FOkaD4wXxLb6rrlxqOwpK11fmRbhSpAEgxlwM5GTwQPQVu6H4z8N+JQP7C1yxvX7xRTDzF+qH5h+IrboAKKKKACiiigAooooAKKKKACiiigAooooAKKKKACiiigAooooAK4n4j/8fngv/sZrf/0VNXbVxPxH/wCPzwX/ANjNb/8AoqagDtqKKKACiiigAooooAKKKKACiiigAooooAK4n4yf8kd8Sf8AXp/7MtdtXE/GT/kjviT/AK9P/ZloA7aiiigAJwMngVx178T9BjvZLHQ0vfEd9EcSQaLbm4EZ9Gk4jX8Wql4qhl8XfEC28GXFzLb6NFp39pajHBIUe9DSGNISw5CZVi2DzwK7XT9OstJsY7LS7SGztYhhIYIwiKPYDigDkf7d+Ieocaf4N0/TFPSTVdWDH8UhRv8A0Kl/4um3bwfH+N0/+FdtRQBxOfimn8Hg+f8A4HdRf0aj+1fiXb/67wvoF5/17azJHn/vuGu2ooA4n/hK/HEf+v8AhxK/r9m1q3f/AND2Uf8ACd69F/x9fDnxCvr5MtrL/Kau2ooA4n/hY9yOD4B8Xg+n2KE/r52KP+Fi3p+78PvFx+trbj/2tXbUUAcT/wAJz4gn4sPhzrzn/p5ntYB+spo/4SP4gT8W/gK0t89Gu9dTj6hI2/nXbUUAcR5fxRu+Gn8KaWp7xxXF06/mYx+lH/CFeKL7jW/iHqZTvHpVnBZj/voq7f8Aj1dvRQBxSfCXwpJIsusQXuuzKc+Zq9/Ndf8AjrNt/Sup03R9M0eDydI060sIv7lrAsa/koFXKKACiiigAooooAKKKKACiiigAooooAKKKKACiiigAooooAwtc8EeGPEjFtc0GwvZT/y2kgXzB9HHzD8DWJ/wrT+zufCvirX9E2/cg+1/a4F/7Zzh/wBCK7iigDh/L+Juk8JP4f8AEcK/89UksJ2/EeYn6Cl/4T/V9P48ReAtetfWTTxHfx/X922//wAdrt6KAOMg+LngeWUQ3GvRafN3i1GKS0YfXzVWuk0/XdI1ZQ2lapZXoPQ21wkn/oJNW57eG6iMVzDHNGeqSKGB/A1zeofDTwTqjFr3wppLuerraIjH/gSgGgDqKK4n/hUXhGLmwttQ05uzWWq3MWPwEmP0o/4Vjbp/x7+LPF0A7Aa3K4H/AH3mgDtqK4n/AIVvMOnjvxgP+3+M/wA4qP8AhXFz/wBD94wx6fbYf/jNAHbUVxP/AArTd/rfGnjB/wDuLbf/AEFRR/wq3Tn/AOPjxD4ruB6Sa9cY/RhQB21FcT/wqLwk/wDx8w6pcn1m1m7b/wBq0f8ACnfAvfQ93u15OT+r0AdtRXE/8Ke8DD7mivGfWO+uEP5iQGkPwt0+3/5Auv8AibSPRbbWJXQH/dlLg/lQB29FcM1j8RfD/wC8stVsPFlsvW2v4RZ3OPRZY8oT/vIPrWl4d8eabrmoNpN3FPo+uRjMmlagoSXH95D92RePvKT+FAHT0UUUAFcT8R/+PzwX/wBjNb/+ipq7auJ+I/8Ax+eC/wDsZrf/ANFTUAdtRRRQAUUUUAFFFFABRRRQAUUUUAFFFFABXE/GT/kjviT/AK9P/Zlrtq4n4yf8kd8Sf9en/sy0AdtRRRQBxnjXS9Ss9W0/xj4ct2u9Q0tHgurFMbr20cgui/7alQ6+pBHeuh0LxDpniPQ4dX0m6WazlUneflKEfeVgfusDwQelaVeS654QsvEfxan0jSJLiw09rVbrxPFaylIr4s37mJlHR2CMWYYJTg9aAOhf4g3mu3Elt8PNEbXFjYpJqlxN9nsUbOMLJgtLjvsBHvThY/E+f55Nb8M2h/55RabPKB/wJpQT+Qrsra2gs7WK2tIY4IIVCRxRqFVFHAAA4AqWgDhX1v4gaADLrfh/T9es15eXQZWSdB3PkS/f+ivn2rpPDvijSPFWntd6HeLcJG2yaMgpJA/dJEOGRvYitauA8c6U3hm8b4geHYdl7ZqDq9vEMDUbQfe3DvJGvzK3XCkcjigDv6KitrmG8tIbq1kWWCZFkjdejKRkEfUGotS1Sw0exe91e9t7G1TAee5lWNFycDLMQOtAFqiq9jfW+pWMV5ZSeZbzLujk2lQ69iMjoex7jkVYoAKx/EninSfClgl1rNyY/Nfy4II0Mktw/ZI0XJZvp+NaF/fW+l6bc399IIra1iaaaQ9FRQST+QrjPAejTavKPHXiWHdq2px7rKCQZGnWh5SJB2Yj5nPUk46CgByav8Q9dAl0jQdM8P2jDKNrcrTXDA9CYYiAh9i+acbL4n2/zxaz4YvT/wA8ptPnhB/4EsrY/I129FAHDRfEOfRbqO0+Iejt4eMjBItRSYT2MjdMGUAeWT2DgfWu4BDKCpBBGQR3qG9srXUrGay1C3jubWdDHLDKoZXU9QQeorifB5m8IeKZ/At1K8unfZze6FLIxLLAG2yW5J6+WSu3vtYelAHe0VHcXENpbyXF1NHBDGpZ5JGCqgHUkngCq2lazp2uWZu9Hu47y13FFnhO6NyOu1ujDtkEjORQBdooooAKKKKACiiigAooooAKKKiubmCytZLm8njt4IlLySyuFVFHUkngCgCWsnxF4n0nwrpwvNbuhCjuI4o1UvJO56IiDJZj6AVJa+ItJvtGm1ezvop9OgV2e7jOYiqDLMrdGAweRkcH0rlPAmlSeIbkePvEURa+v0J0u3kGRp1ofuBR2dxhmbrzjgCgB6a18QdeAl0Xw/p2gWjcpJrsrSTuD0Pkxfc+jPmnmx+J8Hzx634ZvD/zym06eIH/AIEsrEfka7eigDhk+IV1oVxHbfETRW0FZCETVIZvtFi7dPmkwDFntvAHvXcI6yIrxsGVhlWU5BHrUV3aW9/ZzWl9BHcW06GOWGVAyupGCCDwQa4fwoJfBfi+TwTNK8mk3MDXmhPKxLRIpAltdx6hNysvfa2O1AHfUU2WWOGJpJnWONBlnc4Cj1JrF0bxloXiLU7my0C9XUmtP+Pia2UvDGT0XzPukn0Uk+uKANyiiigAooooAKKKKACis/Vtf0nQo4m1jUbez85tkKyyANM3ZUXqzewBNY3jrxDeaRoltbaEFOtaxcJZaeJFOEdgS0rDrhEDOfoB3oATX/HlppWq/wBi6RZXOva6VDf2dYgZiB6NLIfliX3Y59AaoqPifqP7wyeGtDjbkQmOa9kX2Zt0a/kK3fCnhWw8JaMtjYBpJXPmXV3Kcy3cp+9JI3UsT+XQcVt0AcOzfE7TP3hXw3r8S8mGMS2UzeysTImfritDw9480/WtSOj31vcaLrqKWfS79QsjAdWjYZWVeDypPviuorn/ABf4Qs/FulrHKxtdQtT5un6jEP3tnL2dT1xkDK9CODQB0FY3ibwppXizTha6tC2+Nt9vcwtsmtpB0eNxyrD/APXkVU8C+IrnxH4cL6pEkOrWM8ljqMKfdSeM4Yj/AGWG1x7MK6SgDjvBut6nFq174R8VSrPq+nRrPBeBQo1C1YkLLt7MCNrjpnBHWuxriPFAEPxZ8DTRcSzfb7eTH8UXkb8H2Don5129ABXE/Ef/AI/PBf8A2M1v/wCipq7auJ+I/wDx+eC/+xmt/wD0VNQB21FFFABRRRQAUUUUAFFFFABRRRQAUUUUAFcT8ZP+SO+JP+vT/wBmWu2rifjJ/wAkd8Sf9en/ALMtAHbUUUUAFcR4Gw3jPx683/H1/a8Stnr5QtYfL/DBbFdvXAeIZj4F8fDxVKCNB1iKOz1aQdLWZDiG4b/YIYox7fKaAO/opEdZI1eNg6MMqynII9RS0AFVtRWB9Lu1vNv2doXEu7ps2nOfwqzXC/ELVptSVfA3h+XOsazGUuHQ5+w2h4lmf0JUlVHdjx0oA4CLUfi3b/B7w03gbT9Pmt/7KhBl3eZeAbBghHwmMYwBvJ9q8h8O3eta38VLWD4iKL/UAx8iz8TXMsEHmE/KrLsbAPZcBSeOeh+0LGyg03T7exs08u3tolhiQfwooAA/IVT1zw3oviaz+y+INLtdRhH3VuIg20+qnqp9xQBzn234nDpofhf/AMGk/wD8Zo+3fE//AKAfhf8A8Gk//wAZrrrCyj06xitIGlaKFdiGaQyMFHQFmyTjpkkn3qxQB4/8Tbz4hN8NNbXVdJ0GCxa3xcyWmoTPIsZYBsKYgDxnPPTNevRKiwosIURhQEC9MdsVW1XTbbWdHvNMv03215A8Eyg9UZSp/Q1ynw+1yeOB/B/iKQLr+iRrE244+2244juE9QRgN6MCD2oA7aiiigAryT4xz+K7bxZ4Rl8D2lpcasrXgthLJ8zZh/eDacLtAAOS33gox6+sSyxwQvNPIscUalnd2wqgckknoK4TwtI/jXxtN4y2MNGsoHsNFLcefuYGa5A7KxVVX1Ck96APl3XNU8Yal43srT4ry3wiacbrbVJJLW269fkUhVzjLIvTuOo+otPn+IdvpttDpegeEY7KOJVt0g1OYRrHj5QuIcYxjGK7TUtLsNYsns9Wsre+tn+9DcRLIh/AjFQ6Jodj4d01dP0mN4bOMkxQGRnWIf3V3EkL7dB2xQAaJJq8ulo3iK2s7a+3HdHZTtLHjPHzMqnOPatCiigAqjJa6i2vQ3UeoqmnLAySWP2cEySE8P5mcjA4245q9RQBlwWOrpFqaz6wkr3EjtYsLQL9jUrhVI3fvMHnJxnpVvTobq3023h1G7F5dRxqs1wsQiErActsBO3PpmrNFABRRRQBxfxFuviFbacD8OtP0u6fafNN1KfOH+4pwn4sx+lfKmr6p4u1Lx3Y2vxWlvPLM4JttWlktLb6/IhCoTgFlXp3HUfb9VNT0nT9asXs9Xsbe+tn+9DcxCRT+BoA8n8dT+PLf4R6zbx6L4btNJTTHjzp1/Kxjg2YPlr5QXGztkDFeu2SwJYW62e37OsSiLb0244x+FZtr4W0qy8Nz+H7eBxpU0Tw/ZmlZ1SNxhkUsSQuCcDOB2wOK574e6vNYI3gjxBJt1rRYwkLucfbrQcRTp6/KArejA560AdzRRRQAV538T4tRk8QeDB4cuILbWm1C4S2luIzIiqbWXeWUEZHC/Tg89K9CeRIo2klZURQWZmOAAOpJrgvDkx8c+PG8WRgnQtJhkstHc9LqRiBPcL/ALOFCKe+GNAHz98UvB3xiklkn8WPea5YqdwfT38y3X38pQNv1KD616p8J9f1+/8AAltH4B0HwtFYW52SQPqU6zRyd/NHk/ePXPOe3Fe2VQh0PS7fV5dUtrC3gvp12zXEUYR5h/tkfex2znHagDmVvfiduG7Q/C+M8/8AE0n/APjNdTqtvfXekzwaVfLp9664iumgEwiPrsJAb8xVyigDOubPVJLvTXttUSGG3JN5EbUN9rG3AAbP7vB54z6U+3tdRj1m8uLjUVmsZVQW9mLcKYCAdxMmcvu44IGMVeooAK8O+K2q/Gy0NwPDmnWsek5O2bRwbi5C+jbxuz7onHrXuNFAHyH8FLrU7/x7d3c0Wnar4rQEQf8ACQ6hMkqgA7jGPLbLjnOTkDOBjJr2pp/E8/xh8IDxfY6XaRrb6g1p9gupJg0nlxg7tyLghS2PYt6V3Gs+ENB1+6hutU0yGS8t2DwXiAxzxEdCsi4YfnWZ4+0TUL3SbHVdBTz9a0G5W9tIy203AAKywk9t8bMPrigDraKyvDfiPTvFWhQarpEu+GUYZGGHhcfejdf4WU8EVq0AFFFY3irxPY+EtCk1LUCznIjt7aPmS5lPCxIvdieP16CgDB8H4X4lePkh/wBR9qs2IHTzTarv/HATNdvXL+ANBvdF8Pyz63tOsardSahqGxsqksmMID6IgVP+A0zxv4mutKitdG8PIk/iPVyYrGJuVhUffnk9EQc+5wB1oAz9OceJ/i/ealF+807w1atp0Un8LXkpVptv+6iop92Iru6yPCvhy28KeGrTSLR2lECkyTyffnkY7nkb3ZiT+Na9ABXE/Ef/AI/PBf8A2M1v/wCipq7auJ+I/wDx+eC/+xmt/wD0VNQB21FFFABRRRQAUUUUAFFFFABRRRQAUUUUAFcT8ZP+SO+JP+vT/wBmWu2rifjJ/wAkd8Sf9en/ALMtAHbUUUUAFRzwQ3VvJb3MSTQyqUkjkUMrqRggg9QakrA8XeKovC+nwmO2fUNTvpRb6fp8TAPcyntk/dUDlmPAA+goAwP+EO13wiHfwBrUEemqC39jayGkt4vXypQd8Q/2fmUegrFuPjNeadMbbUdK8PeevUw+LLQKfwfaw/EVuW/w7l8QFb74lX7a1cNhl0yF2jsLbvtWMEeYR/ekzn0FdNbeFfD1nCIbTQtMgiHRIrONV/ICgDkLLU/G/ja3J02/8P6BYNw89jdDU7kD/ZICxqcdzu+ldV4Z8JaX4Utpk05ZZbm6fzLu9upDLcXT/wB6RzyfYcAdgKy9T+F/hW/l+1WWnjRdQUfu7/SD9kmQ+uUwG+jAiqmj+Idb8OeJIPDPjiSO7jvTt0nXEQRrdsBkwyoOElxyCOHHTBGKAO6ooooAKKKKACsHxP4P0zxVFA1559te2jF7PULOTyri2Y9Sjjse6nIPcVvVwmpa7rXizX7vw/4KuVsLOwfytU1woJDHJjJggU8NIARuY8L6E0AVL7WfG3gmAf2veeHdesgMJcXd4NLuGA/vbg0bH3G36Cs62+Md9qcwttM0vw8J26GfxZalR+EYZj+VdVpfww8J6bJ9on0tNVv2x5l/qx+1zufXdJnH/AQB7Vr3XhTw7fQmG90HTLiI9Uls42H5EUAcwPBOs+K2SX4h6zDdWIIddF0pWitHPUea5O+YdODtXjpXdxRRwwpFCixxooVEQYCgdAB2FcHdfD+78Mq998Mr19NlQFm0a4kaSxuu+3axzCx/vIQPUV0HhDxTD4r0Y3H2d7G/tpDb39hK2XtJ1+8hPcdw3Qgg+1AG9RRRQAUUUUAFFFFABRRRQAUUUUAFFFFABWH4m8I6Z4rt4V1ATQ3VqxktL61kMVxav/eRxyPccg9wa3K4bVtf1nxN4huvDfgidLOKxYJqmtvGJBbuRnyYVPDy4wSTwmecnigCne6p438E24Op33h/X7FeEnvroaZcn/eJDRsfcbfpWZb/ABlvNRmFtp2leHvPboZvFlqVH4JuY/lXVaX8L/Cuny/abvThrOoMP3l/q5+1zOfXL5C/RQB7VsXPhXw9eQmG70HTJ4j1SWzjYfkRQBzH/CG654t2SfEDWoJtOOGGjaOGjtpe482UnfKPb5V9jXdQQRW1vHBbRJFDEoRI41CqigYAAHQCuFuvh5P4dD33wzvm0e4XLHSpnaSwuj12mMn90T03JjHoa3fB/iuPxVpcjy2r6fqdnIbfUdOlYF7WYdVyPvKeqsOGBB9qAOgooooAKKKKACiiigAooooAKKKr6hqFrpWm3F/qM6W9rbRtLNK5wEUDJJoA5fWPAZfWJdd8I6pJ4f1mYg3DxxiS3vMf89oSQGPbcCGGetYGo/EjxF4Vk+y+JrLwvcyqcebbeIY7Qt/2ynAI/wC+jVu0sdd+JUa6hrNzeaD4amw1rpdq5iubyPs88g+ZAw58tSDg8muk0vwF4T0WER6Z4d02Djl/sys7f7zkFm/EmgDkdN+IPibxa/2fwxaeF7Rzx51xrqXrL64igHP/AH0K6HQvAiWmsJrviXUpvEGuoCIrm4QJFag9RBCPljyOCeWPc1b1X4f+EtbjK6l4d06Vu0q26xyL/uuuGX8CK5DXj4s+FmmT6hoUkvifw9FG7SWeoTE3Gn8cOsuC0kQ/iU5YADBIzgA7Dxd4utvC1nCiQvf6tesYtP02A/vbqT0/2VHVmPCj8BVbwd4UuNKludb8RXCX3iTUlH2u4UfJAg5WCEH7sa/mx5PtF4K8MR22fE2qahHreuanErSaig/dJEfmWKAfwxDP1bqfbr6ACiiigArifiP/AMfngv8A7Ga3/wDRU1dtXE/Ef/j88F/9jNb/APoqagDtqKKKACiiigAooooAKKKKACiiigAooooAK4n4yf8AJHfEn/Xp/wCzLXbVxPxk/wCSO+JP+vT/ANmWgDtqKKKACuF0GMa98WvEWsXPzx6GkWk2II4jZkWWdh/tEui59F967quG8LP/AGT8T/F+iz/K1+8OsWuf+WkbRrFJj/deMD/gQoA7miiigArn/HPh9fE3gvUdOGVuDEZbSVfvRTp80bg9iGA/WugrH8Xa5D4a8H6pq9wfltbZnUYzvfGEUe5YgD3NADfB2tnxL4J0bWXAEl9ZRTSADADlRuA/HNbVeZeFPg9pVl4P0m31K51qO9jtIxcJDrFxGiybRuAVXAABzwK1/wDhVHh//n91/wD8Ht3/APHKAOs1KK9m06ZNLuY7a725hklj8xA3YMuQSvrgg+hFeSRfH5PDevSeH/ihoc2iajCQGurTM1vKvaRR94Ke2N3vzkDpdS+GeiWOnzXFufEt7Mi/u7eDXbndI3ZQTIAPqSAO9eaWf7Oes+KtUOp+PNbksoCf3OnW9y93LDH/AHPOlJwfXAYE+nSgD1XXviNo7/DbWtf8KataajLa2jNF5EgYpKw2x7l6j5iOCBW74R8PQ+FfCWn6PBybaECWQ9ZZTy7k9yzEn8a4PWfgt4Z0P4b63aeEtGT+1XsnMNzKTLPI6/MFDN03FQMLgc16H4e1q28R+G9P1ixYNBe26TLjtkcg+4OQfcUAaVFFFABXA61JB4X+MGkap5sdta+IrWWxvi7BUMsK+ZDIT/e2+YuT2wK76vPfF1hY+LPin4b0G9s7fULbTLe41K+huIlkjAZfKhVgQQcsWbH+xmgCl8QfiDrHg9k1rw/PpHiHR1/4/dONwqXMPo0TKeV9QVYj6E7WeFf2hvAviTZFd3r6JdN1j1EBEz7SDK4+pH0qn4/+Fx8QqNC8FeFPDmiW0g/0zWpbCFZAP7kKqu7Pqxx6A5yQnhL9m3wZ4f2Taws2v3a8k3XyQg+0a9foxagD1u3uIbu3Se1mjmhkG5JI2DKw9QRwakqCzsrXTrOO00+2htbaIbY4YIwiIPQKOBU9ABRRVG+0Wx1K/sLy8iZ59PkaS2YSuoRiMEkAgNx2YEUAXqKoQaLYW2tXerQxMt7eIkc8hlchlT7oCk7R17AZ70uj6NY6Dpq2GlRNDbK7OEaV5DlmLH5mJPUnvQBeooooAK818YfFO/8AhxrSJ4u0CW40K4bFvrGmtna3/POSJvusBk53cjkDqBu6j8LvB+ralPf6hpLS3Nw5klf7XMu5j1OA4A/AV5R47+E03ifVBoXgDwxFpenxEG71y/uZdrsDzHEjElgODvAIJ4BAGSAegXnxm8JXngbV9X8N65aXF5aWUs0VrIfLlLhTtHlthiN2MkAium8E+Hk8L+DdO0wZadIg91I3LSzt80jk9yWJrx4fsv6LpngzVGku7rV9dNnIbVs+TEswUlMIDk84HzEj2r2bwhrFrr/g3SdTsFRILi1RhGi4EZAwyY7bSCuPagDZooooAK4XW4xoPxd8P6tbfJHr0Uul3wA4d0RpYHP+0Nsi59G9q7qvOvHml2PjH4h+F/DN5Cbm3tVn1S+RXZdkYQxR5III3O//AI4aAOq8VXev6fpDXvheyt9TuIPmewmcxtcL3CSdFb0yCD04rhfDf7Q/gzWJ/setPceHdQVjHJBqMeFVxwRvHAwf722pfFXw18KaPozyaH4HfWtTk+S2tFuZQrN6u7PtRR1ySM9BXn/hz9l2e/vG1Dxxqsdv5rbzYaUvC5/h8xhxjpgA/XvQB9FWl7a6hapc2FzDdW8gyksMgdGHsRwamrn/AAj4F8O+BrF7XwzpqWaSkGV9zO8h9WZiT+HT2rS1TRrHWRajUYml+x3KXUO2V02yLnaTtIyOehyD6UAXqKo/2LY/8JAdb8pvt/2b7L5vmvjy927GzO3Oe+M+9Gl6NY6KtyunRNELq4e5m3Su+6R/vH5icDjoMAdhQBeqnqo1E6bKdFa3F6ozELpSY3P91tpBAPTI6dcHoTVtKstc0ufTtUhM1pOAJIw7JuAIPVSCOQOhritT+FngPTdOmuj4YmvGjX5YIJp5JJW7KBv7+pwB1JA5oAw9P/aD0az1eXRfH+k3vhbVYG2SpKPPhB7EOgzg9c7cYPUjmtXxPrGleOtZ8J6BpWo2uo6VqF1Je3ptpVkWSK2UOI2x2MjR5B9K8wsv2ctX8W65JqviVbPwpYSN+60qxb7RLGg6KXJ2577st9B0HZxfDjw38J/GXhHV9EtpUt5biXTb67uJTIxaZMQsf4V+dduVAHz80AeyUUUUAFIyh1KsAykYII4IpaKAOG+G6/2PdeJPCan/AEfRNRzZj+5bToJkT/gJZ1HsBXc1w3w/f+1vEHi/xJFza6hqS21q3aSO2jERceoLiQZ9q7mgAooooAK4n4j/APH54L/7Ga3/APRU1dtXE/Ef/j88F/8AYzW//oqagDtqKKKACiiigAooooAKKKKACiiigAooooAK4n4yf8kd8Sf9en/sy121cT8ZP+SO+JP+vT/2ZaAO2ooooAK5jxl4WuNbWz1TQrmOy8QaU5ksbmQEowPDwyAcmNxwe44I6V09FAHHaL8R9OubtdJ8Txnw3roGGsb9gqynpmGT7sq56YOfUCux69Kpapo2m65ZNaazp9tf27dYrmJZF+uCOteMfEDSfAHgfxV4U0ldKkt49YvSlykGpXMKRQ42BtqSAD53U5x0RhQB654g8W6D4WtvO1/VLezyPkjd8ySH0RB8zH2ANcvaWOqfELXLPVtfsJtL8OadKJ7DTLobZ7yYfdmmX+BV6qh5zyewrf0LwD4V8NXBuNF0Kztrk9bgpvl/7+Nlv1roaACiiigAooooAK88ltdT+G2rXV5o9hPqnhS+lae4sbRd0+myty8kSfxxMeSg5UkkDGRXodFAGToPinQ/FFp9o0DVLa+TGWEUgLp7Mv3lPsQDWsSACScAdSa87+K+h+D7Hwdq3ifW9Csp7yzt2aKcL5Uryn5YwZEw3LFR171n+B/AfgPxj4H0jXm0iS5F5bq8kNxqNzPGkg4ddryEHDBh07UAdDrHxHslu30jwfF/wkuukYFtZOGitz03Tyj5Y1Hpncewq94N8LS+H7a7vNVuVv8AXdUlE+o3irhXYDCxoDyI0HyqPqe9bWm6Vp+jWa2mkWNvY2y/dhtoljUfgBVugAooooAKKKKACiiigAooooAKKKKACiiigArz66stU+Het3mqaFYTap4a1CUz3um2q7p7GY/emhX+NG6sg5B5HcV6DRQBj+H/ABZoXim18/QNUtr0AfOkb/vI/Z0PzKfYgVsE4GTXO654A8KeJLgXOs6FZ3FyP+XkJ5cv/fxcN+teW/DzSfAHjrxJ4q0xtJkuE0i+2WyT6lczJLBjbu2vIQfnRz06MooA9C1r4j6dBdtpPhaM+JNdIwtlYOGSE9N00o+WJc9cnPoDVzwb4Wn0OO81LW7lL7X9VcS390ikIMDCRRg8iNBwO55J61taXo+m6JZLaaNYW1hbr0itoljX8gKuUAFFFFABRRRQAUUUUAFFFFABWfr2h2PiTQrvSNWi820u49kig4I7hgexBAIPYgVoUUAee6f4uvvA/l6P8Ry/2eMiO08SBCbe5XoonP8Ayyk9SflPJBrvLS8tr+1S5sLiG5gkGUlhcOrD2I4NSSRpNE0cyLJG4wysMhh6EV5v438DeAvDvhjV/Es2gQ2z2lu8xFlcS2YlfHyqfKZfvNgfjQB6FfahZ6ZaPdaldwWdunLzXEgjRfqTwK4K/wDEmofENX0fwGZrfSZSY73xGyFECdGS2zzI55G/7q9ck4rO+F3hLwN4o8E6N4mGg291eSwjzmvZJLoxzKdr481mx8wJHtivVURY0VEUKqjAUDAAoAqaTpVloej2ul6XAtvZ2kYihjX+FR/M+p7mrlFFABRRRQAVxPxH/wCPzwX/ANjNb/8Aoqau2rifiP8A8fngv/sZrf8A9FTUAdtRRRQAUUUUAFFFFABRRRQAUUUUAFFFFABXE/GT/kjviT/r0/8AZlrtq474t21xefCXxDBZwS3Ez2h2RRIWZvmB4A5NAHY0VxP/AAtrwx/c1n/wR3f/AMbo/wCFteGP7ms/+CO7/wDjdAHbUVxP/C2vDH9zWf8AwR3f/wAbo/4W14Y/uaz/AOCO7/8AjdAHbV8dfE+3174p/FO8vNAtHurKOWTTtNYHCz/Z42kkCH+Ikh2GP7yjvX0ZL8VvDEsLx/8AE8TepXcmiXYIz3B8rrXGal428JWHizwJFo1pqNrp+lzXQ8ldHuU2q1s6japjy5ycnGT1J7mgDvvhd4qPjD4c6XqUzZvVj+z3qt95Z4/lfcOxON2PRhXXV55Y/ETwXpt1ez2NtrEDX0omuFTQ7sK8mMF8eV94gDJ74FXf+FteGP7ms/8Agju//jdAHbUVxP8Awtrwx/c1n/wR3f8A8bo/4W14Y/uaz/4I7v8A+N0AdtRXE/8AC2vDH9zWf/BHd/8Axuj/AIW14Y/uaz/4I7v/AON0AdtRXE/8La8Mf3NZ/wDBHd//ABuj/hbXhj+5rP8A4I7v/wCN0AcJ8fzq3jHVtC+HPhiIzXl2TqF3kkJFEpKIzt2XJcn3VcAkgVR/Zh125trDUfCOqI8ckYGpWO8HEkLHY5U91DgfizehrvLX4ieC7TU7zUYbbWBeXpXz5zod2WYKMKufK4UDt0ySepNcn8N/GfhKz8D+G5NQttTOpabFKqTwaRcyYDs25d6xkMpyDjJGQD1FAHt9FcT/AMLa8Mf3NZ/8Ed3/APG6P+FteGP7ms/+CO7/APjdAHbUVxP/AAtrwx/c1n/wR3f/AMbo/wCFteGP7ms/+CO7/wDjdAHbUVxP/C2vDH9zWf8AwR3f/wAbo/4W14Y/uaz/AOCO7/8AjdAHbUVxP/C2vDH9zWf/AAR3f/xuj/hbXhj+5rP/AII7v/43QB21FcT/AMLa8Mf3NZ/8Ed3/APG6P+FteGP7ms/+CO7/APjdAHbUVxP/AAtrwx/c1n/wR3f/AMbo/wCFteGP7ms/+CO7/wDjdAHbUVxP/C2vDH9zWf8AwR3f/wAbo/4W14Y/uaz/AOCO7/8AjdAHbUVxP/C2vDH9zWf/AAR3f/xuj/hbXhj+5rP/AII7v/43QBN8VPFJ8IfDnU9Qt2IvpU+y2KL9555PlTaO5GS2PRTXzZ8JrfXvhp8RrHVNbtHttMubw6JfuTxDK6JIqv8A3cF4zk/3W9K+gL34h+C9RvLK5vrbWJ3sZDNbh9DuyqSYwHx5X3gCQD2ya5Xw3428JXa+NbLXLTUbqz1PW5JfK/si5kBQwQgbtseUYFc4OGHB9DQB7bRXDx/FfwxHEif8Tt9qgbm0S7JPuf3XWnf8La8Mf3NZ/wDBHd//ABugDtqK4n/hbXhj+5rP/gju/wD43R/wtrwx/c1n/wAEd3/8boA7aiuJ/wCFteGP7ms/+CO7/wDjdH/C2vDH9zWf/BHd/wDxugDtqK4n/hbXhj+5rP8A4I7v/wCN0f8AC2vDH9zWf/BHd/8AxugDtqK4n/hbXhj+5rP/AII7v/43R/wtrwx/c1n/AMEd3/8AG6AO2orif+FteGP7ms/+CO7/APjdH/C2vDH9zWf/AAR3f/xugDtq8W/aCuNT8Rrovw88MRm41HVpftVyinAjgQ4VnPZC/Of+mf4V2f8Awtrwx/c1n/wR3f8A8bqlD8RPBcGsXOqJbawb26RI5J20O7LbF+6gPlcLkk49STQB51+zJrN3pVxqXhDVlaPz4/7T08t92Vd3lSFSeoyq/irehr6IrxD4d+M/CVv4G8PHU7bU21DTHneGeHSLmTy98jhgHWMggq2CM46dwMdz/wALa8Mf3NZ/8Ed3/wDG6AO2orif+FteGP7ms/8Agju//jdH/C2vDH9zWf8AwR3f/wAboA7aiuJ/4W14Y/uaz/4I7v8A+N0f8La8Mf3NZ/8ABHd//G6AO2rifiP/AMfngv8A7Ga3/wDRU1H/AAtrwx/c1n/wR3f/AMbrB8Q+L9O8Xa54RstDttVllt9ehuZTLpdxCqRrFKCxZ0A6sO/egD1SiiigAooooAKKKKACiiigAooooAKKKKACiiigAooooAKKKKACuJ8Xf8lO+H//AF93v/pHJXbVkap4eh1TxDoerSTvHJo8s0kcagYk8yJoyD9A2aANeiiigAooooAKKKKACiiigArifg5/ySHQP+uL/wDoxq7asjwp4eh8KeF7LRLad54rNCqySABmyxbnH1oA16KKKACiiigAooooAKKKKACiiigAooooAKKKKACiiigArifh3/yFvHH/AGMkv/pPb121ZGheHotCutYmhneU6rqDXzhwB5bGNE2j2/dg/jQBr0UUUAFFFFABRRRQAUUUUAFFFFABRRRQAUUUUAcT8Hv+ST6N/wBtv/R8ldtWR4V8PQ+FfDNpo1tO88drv2ySABm3Ozdv96tegAooooAKKKKACiiigAooooAKKKKACiiigAooooAKKKKACiiigAooooAKKKKACiiigDkviN4+tvh94ejvpbZr27up1trO1V9vmyH1bnAHc4rO1bxl4g8HXWiSeLbbTZrDVbtLKSSw8xWs5XHy53E+YvBBI2/So/jF8Pbnx/4YtY9LeFdR025F1bpcf6ubjDI3pn19veo7bRheGzSz+GGm6PeLKjT3d7b2bRQAEFjH5TF3bg7eF7EkdKI769/w0/4IS207fj/Vj0aiuKn1/WrX4w6d4fmubWTTbvT7i6CR2xR1KsoUMxY56noF+ldrR0T/AK3sHVr+u4UUUUAFFFFABSMwVSzHAAySe1LTZI1liaNxlXBUj2NJ3toCPO/DXj3XfiANVvfB1rp0Gl2Fw1tBLqHmM946gEkBSPLXkcnceeldD4C8YxeOPCyaqls1pMkr29zbM27ypUOGXPcdCD71514N+HD+AZNU0rVfBNv4qsZbpp7DUIY7V5VUgDy5BMykYx1BI5Ndlaad4msrKwttM07SdAs7i7llvlsFjVrOHb8mMqUdyQNxxjsP71UrW+S+/wDq/wDW49/m/u/r+u3cUVx3wz8Rat4l8OXV1rKpIIb+a3tbyOPy1vYUOFmC9s89ODjiuxpAFFFFABRRRQAUUUUAFFFFABRRRQAUUUUAFFFFAHm/xQ+I8/hTWdB8P6ZNaWl7rU217+9/1VnCCAXIJAJ5OMnHFQW3jybTfiJomiR+I7LxRp2sLJG00HlGazmUZBPlfLsbpyM8dTWr8Qfh9P4p1TRNf0W7htNc0KfzbZrhSYplyCY3xyBx1GcZPHNa9qvi2/1G0fU107SbOBt80dnctdPdHBAXLxIEXJzxknAHFEPPu/u/r8Ql5dvxOgSaKR3SORHaM4dVYEqeuD6U+vM/hv8A2EvxF8bx6ZpWo6fqouIpNR+13CSIzPvZdm0kAdTye+PavTKOifdA/ia7BRRRQAUUUUAFFFFABRRRQAUUUUAc58QfE0ng7wBq2vQRLNNZwbokboXJCrn2yQTXmFhq2t6h8LYdestZ8U3Pi2a3F3EI9OuWtXcnIiCCLyihHGfxzXsus6RZa/ot3pWqQiazvIjFKmcZU+/Y981yWh+CfEnhzw/H4f0rxXCNKhBjglm03fdwxk/dEgkCEjPDFDj0NLXX5W/Efb+u3/BOr0G9utR8O6feajavZ3dxbRyT27qVMTlQWUg8jByKv1574t8ZX/w+1Pwvo9rpq6nZalItjHLLdsbkyAAc5XBzkfMW6k5p0nxA1q0+Isfg270O1kv7uyF5aywXjeUq7iGEhKAjG08gHPAwM1Tak9O7/wA/yJSaWvZf5fmegUVx/g3xvP4i8R+ItB1Gxjtb7QZ0jkeCUvHMrglWGQCDxyK7Cl0TH1a7BRRRQAUUUUAFFFFABRRRQAUUUUAFFFFABRRRQAUUUUAFFFFABRRRQAUUUUAFFFFAHI33hDU7r4h2fimPWLSP7HbSWsdq2ns2Y3YE5fzh83HXAHtXXUUUdLB1uFFFFABRRRQAUUUUAFc1448Oax4o0ZNO0bX49FRnzcO1iLnzk/uYLqAp7jnI46Zz0tFJq407GB4Q0HU/D+lzQa3rf9tXUs2/7QLRbZUUKqqixqSFAC9vWt+iiqbuSlYKKKKQwooooAKKKKACiiigAooooAKKKKACiiigAoorzn4Z/E+Lx34m8WacGTbpt7/oRX/lpb42bh6/Mhb/ALaAUAR+BtG16w+K3jDWNT0K6srDWmga2mknt2x5SlSGVJGIznjAPvivSqKKOiXYHq2+4UUUUAFFFFABRRRQAUUUUAFFFFABRRRQB578RfCHiHxP4l8M32ix6Z5GhXgvW+13ckbTNkfJhYmCjAHzZPXpxy268I+JZ/jVZeMVh0kWNtYfYDCb6TzSpYsZMeTjI3Ebc846jPHolFC0/H8Vb8gev9dnf8zzzwX4Q8R6H8RvE+v6rFpYtNeeN9lteSSSQGNSAMNCobOfUY969Dooo6Jdg6t9wooooAKKKKACiiigAooooAKKKKACiiigAooooAKKKKACiiigAooooAKKKKACiiigAooooAKKKKACiiigAooooAKKKKACiiigAooooAKKKKACiiigAooooAKKKKACiiigAooooA4v4teJ5PC3w41C4sg7aleAWOnxxKS7zy/Ku0DqwGWA/wBmvnP4ZaV4h+F3xEtNZ1e28vTFvRo2qPG24W7SxxuA5HQBnQ55GUI9M/W9xp1rd3lrdXMKyy2jM0Bbny2IwWA9cZGeuCfU1xfg6xtdS1P4gWWoQR3FtPrjRyxSLlXU2sGQRQB3tFNjQRRLGpYhVCgsck49T3p1ABRRRQAUUUUAFFFFABRRRQAUUUUAFFFFABRRRQAUUUUAFFFFABRRRQAUUUUAFFFFABRRRQAUUUUAFFFFABRRRQAUUUUAFFFFABRRRQAUUUUAFFFFABRRRQAUUUUAFFFFABRRRQAUUUUAFFFFABRRRQAUUUUAFR3FxDaW0lxdzRwQRKWklkYKqAdSSeAK5rxH48sdF1AaRptvNrevyLmPS7LBdR/elY/LEnT5m/AGsy38Dah4muY9Q+JV3HfBGDwaFakixgPYvnmdh6t8vXC0ANfxhrXjORrX4dW6w2GSsviO+iPkjsfs8ZwZj/tHCcdTUsXwn0V4w+qanr2o3jczXUusXEZkb12xuqqPQAAAV3CIscapGoRFACqowAPQCqGvSXcXhvUpNNBN4lpK0AAyTIEO39cVMnyxbHFXaRxqfDzwPLqL6fFqd+96gy1sviK5Mi/VfNyKJfh54Hg1BLCbU7+O8k+5bv4iuRI30Xzcmud8L6f4Cj8AeDL+4EQ1ae4t3iurUA3ct6Tlw7AbiN24MDxjrWXZWfhi7+DHibVfEsVm/iHzr1ry4nC/aorpXYRKrH5lIwm0Cql7t79L/p/n+XcUfetbrb8b/wCX9WO3u/h14I09XN/qWoWwjAZzN4iuU2gnAJzLxmnv8NfBken/AG6S/wBSWz27/tDeILoR7fXd5uMe9c94e0O3174qQP4ssYr67g8J2LyR3cYcLMzMHYqeN2cjPbJrmtAt7N9T8M6LrCR/8I3H4h1eNLebHkGVGPkRsDxgZYqD3p215fX8Hb/hvuFfS/p+KueiwfDfwXc2P2221DUprTBPnx+Ibpo8DqdwlxVS3+Hvw+axu9Q0/ULyaCPMlxNbeIbhhkDqxEuM4HesPxQ/gvTdO1rTtA09LwX2s2drc2Xn/Z7BbkjK7mUYC4UFwM5OAetVdDsoh8WtW0vUbfw3ibw24ubLRof3BIlG0SBuGfHsOMVDeja8/wAI3KS1V/L87G/4f8JeA/EfhWDxDaXWsQWM0e8m5165Uxez4mIU/jWjD8OfBNxYi9g1HUJbQ9LhPENyY+uPvCXHWvL7G3D+BfhlZaXb6K1ldSzPeR352Ws12qfuxPsBy3XAbqQKf4g06e00Lx9C02iQRyQWIudP0LzfJhm89cPlkChyvUKc8AkVpJe80u/9f16dyVsmz0y2+HXgi9upraz1LULieA4lii8Q3LNH/vAS5H403/hX3gU6l/Zw1W++3f8APr/wkdz5v/fPm5qjqmh6R4W+KXgh9D023sFe2vopvssQQyosIYBsfeORnnnNecatJBL8PrLXLDT/AA3pVrd6pFPau0rT6rI5uQSTLxhupPXA4qVq0v63sH2W/wCtj0ax8KeBNQ8Xah4bt7jW/t2nxxySZ1252vv3cLibJI2nIwMcVeT4eeE7i5mtdE8Q6pa6pb8h7bX5pZbdh3MbSMPqGXFcvrlvb6f46+JF3olraxayuhQz2ckUSibe0cvmOhAzuPBJHXjNZGm6RNDZ+B7m0Pg/Ti15bNaXWnNO95dAj94jYQlty7txbgHqRRHVpen4tr9By0v/AFsk/wBT0RfFuueCnFt8Q4FutNztj8R2ER8v2+0RDJiP+0Mpz2rura6gvbWO5s547iCVQ0csThlcHoQRwRUjKroUdQysMEEZBFcLc+Bb7w5dSaj8NbuLTmdi8+i3OTY3J7lQOYWP95OOmVoA7uiuV8O+PbLV9ROjatazaFr6Ll9MvSAzj+9E4+WVevK/iBXVUAFFFFABRRRQAUUUUAFFFFABRRRQAUUUUAFFFFABRRRQAUUUUAFFFFABRRRQAUUUUAFFFFABRRRQAUUUUAFFFFABRRRQAUUUUAFFFFABRRRQAUUUUAFFFFABRRRQAUUUUAFeOeIvH3ifW9buNJs/D/irQNEhYpLqNto0st3dYOCIuNsan+/8x5GAK9jooA8y8OeJfD/hTTzaaH4H8WwK7b5pToc7STv3eRz8zt7k1r/8LOtv+hT8Yf8Agim/wrtqKAOJ/wCFnW3/AEKfjD/wRTf4Uf8ACzrb/oU/GH/gim/wrtqKAPMLTX/CdhrcmsWXw21+31KQktdx+GXWQk9TuC5ye571lav8Qfhpb62NZ17wfew6lGQ32u80PbICOhLN3Hr1FeheMPEfhnRdO+zeKJIJ1uxsj05ofPluj/dWEAl+fbHrXzN8V/AMENlaato/hFPDJ1K9W2stOM7y3l475OTEGKQqOBtGTkgcUbAewad8ePAGpa8p0nT9Ru9WuU8kG10zzJ5UXLbflyxA5OO3JrRuvFHhm90ubTbr4d+IZbKeUzS27eGX2PITkuV243E8561B8F/hFb/DvRft2pok3iC8QfaJRyLdevlIf5nufYCvUaAPMl8ReFk0BtDT4ceIF0pvvWQ8MyeUT1yVxjOec9aqaR4s8EQ3SHRPh9rUc+kSPAptfDjBrZ2UFl+UZUlWGQecH3r1ioYLO2tZJ3treKF7iTzZmjQKZXwF3NjqcKBk9gKAPNU13wlHo8+kp8NtfXTriQyy2v8AwjL+W7n+IrjGeBz7VJaeJPC9jozaRafDnxBFpztue0Xwy/lOcg5K7cE5A5PoK9MooA8n1j45eBNM1mBfEGl6pZ6laKWh+26UY5oQ4wSu7lQRxx1rHs/iD8ItRkvH0/whJdPfAi5aDRFcygnJBx78/Xmux+LPwssPiV4e2DZbaxaqTZXZHQ/8839UP6Hkdwfn74X/AA3nfVNZGseFrbXb/Q7hY7zRrm4e3mRWGVkjYN5cmcN8rcEYIPNAHu0Pi3w2up2+qweAPEYvYIPs8N0nh2TekWMBA2OmO1Q6drvhLSNVk1PS/hrr1nfS533EHhh0c568heM9/Wuk8G+KfC1/GdH0KBNGu7cfvNFmthazw/8AbLjI/wBpcj3rrKPMDif+FnW3/Qp+MP8AwRTf4Uf8LOtv+hT8Yf8Agim/wrtqKAPM/EXifw/4q04WeueBvFlzGrb4n/sKdZIX7Ojj5kb3BFY2g+PvE3h/WYNMufD/AIs8Q6HKwSK9utGljvLTnAEhxtlX/a+Vuuc17LVPVNWstFshd6lN5MJljhDbS2XdwijA55ZgKALlFFFABRRRQAUUUUAFFFFABRRRQAUUUUAFFFFABRRRQAUUUUAFFFFABRRRQAUUUUAFFFFABRRRQAUUUUAFFFFABRRRQAUUUUAFFFFABRRRQAUUUUAFFFFABRRRQAUUUUAeW+H/ABjr3xF8YeI7TQtQTRtI0KX7MjpAkk11LlgSS4KqvyngLnnrXX+BJfFcvhlf+E9gtYdWWV1P2ZgVeMH5WOCQCeent06VzGjeA9d8DeNdc1Xwl/Z9/peuSCeexvbh7d4Jck5R1jcFfmPBA7enPcaJBq0NrK+vXUM9zNMZBHbriO3XAAjUkAsBjO48kk8AYAI/CvT8ev8AW1gl8T9fw/r53NKis7W9f0nw3prX+u6hBYWq8eZM+Mn0A6sfYZNcn/b/AIu8ZfJ4S08+H9Lb/mMavDmaQesNsefcNJgexoA6fxD4p0XwrYi617UIrNGO2NWOXlb+6iDLOfYA1zH9oeNfGfGj2zeEdIb/AJfb+MPfTL/sQ/di+r5PfbWt4e8AaPoN8dTk8/VdZcYk1XUX86c+yk8Iv+ygArp6AOd8OeBtE8MTSXVnBJc6lMP3+p3shmupv96RuQPYYHtWhdaDYXviCy1i7hE11p8ciWhcZEJkxvZR/eIUDPYZA6nOlRQAUUUUAFFFFABRRRQAVnjQ7FfEX9uRRCO/a3NtLInHmx5BAb1KkcHtk+taFFAGL4j8I6H4rt0j1ywSd4jmG4UlJoG9UkXDKfoa5z7N448Gc2Ux8ZaOv/LC5dYtQhX/AGZOEm/4FtY+prvaKAOf8OeN9D8UPJb6fctDfw/8fGnXcZhuYD/tRtz+IyPeugrC8R+DdD8VJGdXsg1zDzb3kLGK4tz6pKuGX6Zx6iufx448GdCfGmjp2O2LUoV/RJ8D/dY+9AHe14n8fW1hNW8IQ22sNBZXmsQoLZYFIWRWBDk9WwT93gV6f4b8Z6H4qWRdJvP9Kg4uLKdDFcW59HibDL9cY9DWB8UvAl/40ttFuNGuLeK+0bUEvI47osscwHVSygleg5waPtRfmvzH0a8n+R12j2moWdj5Wral/aU+8nz/ALOsPHYbV4/Gr1Ynhuw1S1Oo3euSxm5v7rzhbwzNLHbIEVAiswXP3dx+UcseO9bdMkKKKKQwooooAKKKKACiiigAooooAKKKKACiiigAooooAKKKKACuQ+J+oahp3glpNIvZLC5mvrS3FxEFLoslxGjEbgRnDHtXX1xPxZ/5EiL/ALC2n/8ApXFQAf8ACAav/wBFE8T/AJ23/wAZo/4QDV/+iieJ/wA7b/4zW34v8Rr4T8Mz6w9sboQyRJ5QfZnfIqZzg9N2fwrQtdV0+/lmisL62uZYDiVIZlcxn0YA8fjQByn/AAgGr/8ARRPE/wCdt/8AGaP+EA1f/oonif8AO2/+M102h6hPqujQ3l3aJZzSbt0KXCzhcMQPnXg5Azx0ziqGneKVv/HOs+HBaFG0uCCYz+ZkSeaGONuOMbfU0dbB0uZH/CAav/0UTxP+dt/8Zo/4QDV/+iieJ/ztv/jNaXivxbJoF3pmm6Zpj6rq+qu62tqJhCu1F3O7uQdqgEdieelZ2n+OdWfW59A1vw19g1v7E95ZQx3yywXiqcFRLtG05IyCvAOaNwE/4QDV/wDoonif87b/AOM0f8IBq/8A0UTxP+dt/wDGazX+IvixPFUfh1vAcf8AaMlo14qf21Ht8oMFJ3eXjOT0q1N8Tm0/4g6J4T1rRGs7nVLVZXmW6EiW8jFwsZwvzZKYzkdelC1tbr/X6A9L+X9fqWP+EA1f/oonif8AO2/+M0f8IBq//RRPE/523/xmnePPiNb+CNS0Sxawe+n1a5EW1JdnkpuVPMPByNzqMcV2lG6uGzscT/wgGr/9FE8T/nbf/GaP+EA1f/oonif87b/4zXbUUAcT/wAIBq//AEUTxP8Anbf/ABmj/hANX/6KJ4n/ADtv/jNdtRQBxP8AwgGr/wDRRPE/523/AMZo/wCEA1f/AKKJ4n/O2/8AjNdtRQBxP/CAav8A9FE8T/nbf/GaP+EA1f8A6KJ4n/O2/wDjNdtRQBxP/CAav/0UTxP+dt/8Zo/4QDV/+iieJ/ztv/jNdtRQBxP/AAgGr/8ARRPE/wCdt/8AGaP+EA1f/oonif8AO2/+M121FAHE/wDCAav/ANFE8T/nbf8Axmj/AIQDV/8Aoonif87b/wCM121FAHE/8IBq/wD0UTxP+dt/8Zo/4QDV/wDoonif87b/AOM12F5e2unWcl3f3MVrbRLukmmcIiD1JPAriW8dat4pYwfDjSRdQE4OuakrRWa+8a/fm/4CAv8AtUARap4Vn0XT5L7V/ih4gsrSIZeaeW1RR+Jh/SuRt7Hxr4quEHgfxV4li0zILazrKwRxSL/0xhEIkkz6koPeu90z4c2Y1CPVvFt7N4n1eM7o575QIbc/9MYB8ifXlveuyoA8uj+CYfWItZv/ABr4gvNWjUBbubyH8s/9Mw8beWPZTW3/AMIBq/8A0UTxP+dt/wDGa7aigDif+EA1f/oonif87b/4zR/wgGr/APRRPE/523/xmu2ooA4n/hANX/6KJ4n/ADtv/jNH/CAav/0UTxP+dt/8ZrtqKAOJ/wCEA1f/AKKJ4n/O2/8AjNH/AAgGr/8ARRPE/wCdt/8AGa7aigDif+EA1f8A6KJ4n/O2/wDjNH/CAav/ANFE8T/nbf8Axmu2ooA4n/hANX/6KJ4n/O2/+M0f8IBq/wD0UTxP+dt/8ZrtqKAOJ/4QDV/+iieJ/wA7b/4zR/wgGr/9FE8T/nbf/Ga7aigDif8AhANX/wCiieJ/ztv/AIzUXghtVsfHfinQtS1291m2sYLGa3e9Ee9DKJt4yirkfIvbtXd1xPh3/ksnjX/ry0v+VxQB21FFFAHP+JPBOh+KWjm1G1aO+g/499QtXMNzAfVJF5H0OR7Vhef448Gf8fUR8Z6On/LaBVi1GFfdOEmx/s7WPoa72igDF8OeL9D8VwO+iXyTSQnE9s4Mc0B9HjbDKfqK2q53xH4F0TxNOl5dQyWmpwj9xqdjIYLqL6SLyR7Nke1Yn2/xt4N41a1Pi/SF/wCXywjEd/Ev+3D92X6oQf8AZoA72isjw94r0TxVZtcaDqEV0IztljGVkhb+66HDIfYgVr0AFFFFABRRRQAUUUUAFFFFABRRRQAUUUUAFFFFABRRRQAVxPxZ/wCRIi/7C2n/APpXFXbVxPxZ/wCRIi/7C2n/APpXFQBX+N3k/wDCo9V+1ErB5lt5hB5C/aI8/pWNf6b4d034jeB/+EIgsbeaVbgTjTwoEln5JOX2/eG7bgnvXqF5Y2mo2rW2oWsN1bsQWinjDqSCCCQeOCAfqKoaR4U0DQLm4uNE0Ww0+a5/10ltbrGz98EgdPalbf8ArpYHqjzr4ff8Jl/wqnw//wAIb/Yez/SPtH9q+dnPnvjb5f45z7Vo6FfW9l8cvF51G6t7dm0/T+XkCAna+cZr0OysbTTbRLXTrWG0t487IYIwiLk5OFHA5JNZupeDfDGs3rXmseHNJv7pgFM91YxSuQOg3MpNVfW4bpr+t0zlfG83hXXdf0DTtVu7qzuJjM+m63YXYh8iVQA0YkB+8wP3SCDiqujahrPh74oad4Yl8T/8JPY31pPKwuIo/tNhsAKlnQDcrE4+Yda7U+EPDZ0VtH/sDTBprPvNmtnGIt397YBjPv1p+ieF9C8Nxunh/R7LTRJ9/wCywLGX+pAyfxpR0YPVHJ3P/Jx1j/2LMv8A6ULXM/EPSJ9Y+J2riwH+n2fhiG+syOomhuy64+u3H416+dPszqS6gbSA3qxGFbkxDzBGTkpuxnbnnHTNH2Cz/tA3/wBkg+2NF5JufLHmGPOdm7rtzzjpmlqlG26v+N7fdcfV362/C3+R4FrmqR+OLebxrED9k/tPStNsc9gJUkm/8fcL/wAAr6FrOj8PaLFpsenxaRYJZRyiZLZbZBGsgbcHC4wG3c5655rRqtLWXe/4L9U2Tre7/rf9AooopDCiisPxN4w0nwpbxNqUryXVwdlrY2yGS4um/uxxjk/XoO5FAG2zKilnIVVGSScACuEuvGupeKbqTTPhrDFcIjGO41+5Umztz3EY/wCW7j0X5Rxk9qjXwzr3jxhcePGOm6MTui8O2k2TKOxupV+//wBc1+Xpkmu7tbW3srWK2s4I7e3hUJHFEgVUUdAAOAKAONHg/wAY4G74l6iT3xpVmP8A2nS/8If4w/6KXqX/AIK7P/43VG9/tLxj8StX0JNc1DRtN0S1gbbpsixyzzTBm3M5BO1QMbe561nW3/CR614qs/BmpeKZkTT9Na8u9Q0plimvGMzRxgtg7cKvzberULW3n/wf8gel/L9bf5m//wAIf4w/6KXqX/grs/8A43R/wh/jD/opepf+Cuz/APjdcTqviPxNYaRqmgW2vTPeaZ4jsrC31SRFMjwzbWCyAABiu7B4GeK07/VNV+Hni7UIP7a1HW7M+HbnU/K1KRZCs8LADaQowpB5UcUrq1+n/wBrzfkOzvb+t7fmdH/wh/jD/opepf8Agrs//jdH/CH+MP8Aopepf+Cuz/8AjdZvh7RPEMdjoHiSbxndTXF55c2o2t66/ZZY5F3FIkCjYwyNpB7c1xOo+LNUtrEeIdK17xRqk/8AaMYN2tqItIeJpwhRVcAkbTtDLkk85qrPm5XvsTdcvMj0GPw74llvprOL4q3b3UCq0sC6fYl4w2dpZfLyAcHGeuKn/wCEP8Yf9FL1L/wV2f8A8brm7O0Ol/GLx1qsmvXdulrpkE5NyytAm5ZSN6hclUxkAHPXrWPpPiLVLLxB4UuLTVfFl/Hql8lteXGrW6xWVyroxzCjAMvIyuBjHWlHVpd/1dhy0v5f5J/qdDrHwe1PxBqVtfa3481K/kteYYriwtnhU/3vJKeWW9yua2l8G+L1UKvxJ1EKBgAaVZcf+Q65Bk8RazonjnWW8XataNomoXq6dBauixoIl3APlSXHQYJwB9am1XxHPrlxoqTaz4h82XRoLuXTPDFt++Esgz5ksmMKp6BSR60k7pP0/FN/oN6P7/waX6nR3Xh3xLY+T9t+Kt3b+fKIYvN0+xTzJD0Rcx8sccAc1JL4V8d20Zm0/wCIUt1cR/MkF/pdsIJSP4XMaK4B9VORXnN5Nqni7wJ4Ju9W1fU4LpPE/wBhZ0aNJCBLIqu2FI81QoGRxkng1pal4l1TWvFev2xu/GMEGkXH2GyGgWXmJvVAWkmbad7En7vAx9afT+trL/MXX+t7tfod/oHjyO71RdB8UWTaD4gx8trO+YroD+KCXpIPbhh3HFddXGaJp3/CffDLTU8f6Tm8mizcRTxGKSORWKiRehjY43AjGM1R+0+J/h3xqH2rxT4aXpdIu/ULFf8Apoo/16D+8PnHOQabVnYSd1c9Boqlo+s6br+lxajot7De2cwyk0LZB9vYjuDyKu0hhRRRQAUUUUAFFFFABRRRQAUUUUAFcT4d/wCSyeNf+vLS/wCVxXbVxPh3/ksnjX/ry0v+VxQB21FFFABRRRQAUUUUAc14h8BaL4hvF1Bkm07V4xiLVdOk8i5T2LD74/2WBHtWP/a/jPwd8viKxPinSl/5iWlwhLuMestv0f6xnt92u9ooAytA8TaN4psPtmgajDewg4fy2+aM/wB11PzKfYgGtWuX1/4f6Prd/wD2pbmfSNaUfJqmmv5M30fHEg9nBFZX9v8Ai/wd8vizTv8AhIdLX/mL6RDiaMes1t19y0ZI9qAO9orN0PxDpHiXTlvtB1CC/tjwXhfO0+jDqp9jg1pUAFFFFABRRRQAUUUUAFFFFABRRRQAUUUUAFcT8Wf+RIi/7C2n/wDpXFXbVxPxZ/5EiL/sLaf/AOlcVAHbUUUUAFFFFABRRRQAUUUUAFFFFABRRRQB5P4m+NWltrk/hzwvq2l2t3Cxju9W1SUR29oQSCEUkGZxg8D5emTU3hnXfhl4duJdRm8aabqut3Ixc6re3qNNJ/sr2jT0RcDp1r0prCzdiz2kDMxySYwSTTWsNPQZe1tlHqY1FAHOf8LV8Bf9Dfo//gYn+NH/AAtXwF/0N+j/APgYn+NbMj6DD/rW05P94xiqk+teD7ZS1zqWhwqOpknhUD8zQBw+va18PtW1061pnxJg0LUZIBbXE1hfQ/6REDkBlcMMjJwwwRmqTN8LrW30z/hHviDb6Je6bC8Ed9a38TSSo7bnEocMr5YluR1PFdXc/Ef4aWr7H17RJW7LbFZyfwQGoP8AhYfhq5/5AXhzWdbPrZaHIF/77kVF/WjYNzChuvhVHocenv45tZn/ALTj1We8k1CIzXNwjBgXOMY4AwAOBxitS/8AFHww1PxIms3vi/S5JVsJdPaA3sflPFIwLZHXPGOvTtSagniTxVZPZJ8NdHtrSX+LxBdRsPY+VErnP/Aga+eZvhDqHiP4rX3hvww1m8Vm4Go3drG62lk5+8gLuzMR0xnJIIwACaP6/C35aB/X43/PU9q01vhpZXVgLz4kpqenaW2/T9Nu9QhMNucEA5Chn2gkLuJxVCXTvhrNoR0R/ipIdLhYPY2n9pQbLRg25SPly+D0DkgfXmvR/A/wz8OeA9DWw0uyjmmYA3F5PGGlnb1J7D0UcD65J6X+zbH/AJ87f/v0v+FH9f15+YHlV5e/DTUNcvNRvPiDbSLqOmjT7+2+3RCO6UKVDtgZDDcTxgZ7VnlPh/Kumtd/FuW6m0mdJdPkl1C3xbheMbQgDEjgswJ9Mc17L/Ztj/z52/8A36X/AAo/s2x/58rf/v0v+FGzv/XcN1b+ux51beIfhja6Nr2mR+NrAw67PcT3LNfRbkaZdrBOMAAdMg/jWNLdfDe1vLe50f4mtpLrYw2FwbO+hJuoohhN2UOGAz8y469qyfi7+zzb6wJ9d8BwR2t/y8+mrhY5/ePsje3Q+x64vwQ8L38OgTap4f0zw9qGqWly9vqFlrNs8V3ayLxtSb5toIP9wc5Bzg0f192gf1+p1SQ/DGPwquiWfxIjt4IdSGp2Mov4vNtJMk4UkZYZZj82Tz1q7qN/8PrrVLq+0v4oDRn1BVXUFsb+AC6Krt3ncp2PjgsuK3/+Ey/sz5fFfw/1TTMfeuLS1S/gA9d0OWA+qCr+meOvh7q8nlWWsaOJs48ifbBJn/ckCt+lH9fp+gf1+pX0fx98NdB0a10rS/FOjQ2lpGI4k+2IcAepzye5NXf+Fq+Av+hv0f8A8DE/xroYrLTZoxJDbWsiN0ZI1IP40/8As2x/587f/v0v+FNtt3YLTQ8n1jWfA9vqkuveBfHmiaHrEh3TxG5VrO/PpNED1/21wwyetdF4B+Lei+Nr6XRy8VtrlupaW2imE0UqjGXilX5XXkcHDDnI4Ndt/Ztj/wA+dv8A9+l/wp8VnbQPvgt4o2xjciAHH4UgJqKKKACiiigAooooAKKKKACiiigArifDv/JZPGv/AF5aX/K4rtq4nw7/AMlk8a/9eWl/yuKAO2ooooAKKKbLII42c9hQA7OOtYer+NfDGgkrrOv6bZOOqTXSK3/fOc15Ro/iPRviB4i1a1+IXiS40tra/ltLbQBeG0t5I0ONxkUqZiTnjcMY+7jBr1XRfBXhXQ0RtD0DTLU4yJYbZNx/4HjJ/OgDF/4XB4Qm40y5vtVfsunabcT5+hVMfrR/wsmeX/j08CeLpgehawSIH/v5IpH5V3FFAHD/APCbeKpv+PP4bau3p9ovbSL+cho/4Sb4gSf6r4ewp/1312Jf/QUau4ooA8c1zw14x1XUjq+meDLHQNb/AOglpviDy5H9pF8jbKPZgfwrd0fU/i3a6ekWteHdB1G4Xgzxam0G4e6+Wwz9MD2FejUUAcR/b3xGHXwPpbfTX8f+0aT/AISjx7H/AK34dB/+uGtwN/6EFruKKAOH/wCE58SQ/wDH78N9cX1+z3FrN/KWg/Ewxc3vgrxdbL3Y6X5oH/fpmruKKAOHX4w+CVYJe6rJpz9CuoWc1vg/V0A/Wuj0nxRoOuqDous2F/kZ/wBGuUkP5A1qModSrAMDwQR1rl9e8B+CNRhe513QtKQL8zXRiWF19/NXDD65oA6mivELPxhY+GfiBo2k+C/Ed94h0W+uGtryK4kN1BZttLJ5dyed3yn5MtwD04r21G3oGHcUAOooooAKKKKACuJ+LP8AyJEX/YW0/wD9K4q7auJ+LP8AyJEX/YW0/wD9K4qAO2ooooAKKKKACoLy9tdOspby/uIra2hUvJNM4VEHqSeBU9cB4jtIfEnxc0nQdbAl0m00x9TjtH/1d1cCUIN4/iCKc49WB7UASL4+1XxD/wAiD4Zn1G2b7uqak5s7Q/7SZBkkHuq496ePD3j7U/m1bxpa6Wrfet9F01eB6CWYufx2iu4AAAAGAOgFcnqfxO8I6XfNYvqy3l6vDWunQvdyKfQiJW2n64oAq/8ACsbeX/j/APFfiy8HcPrDxg/hGFFH/CoPBjcz6fd3Dd3n1S6kJ/OSkPxZ8Ow/NqNrrmnRf89rzRbpE/PZx+NdPo2v6R4ishd6FqVrqFv3ktpQ4U+hx0PsaAOZ/wCFOeAT97w5C/8A10mlb+bUf8Kc+H//AEK9n+b/APxVdtRQBxP/AApz4f8A/Qr2f5v/APFUq/B34fKc/wDCKaex/wBtC38zXa0UAcnH8LPAcX3fB+jH/eskb+Yq5D4A8HWzBrfwnocTDoU06EH/ANBpNe8eeGPDNwttrOs28N033bWPMs5/7ZIC/wClZX/C19CA3yad4ijg6m4bQrrYB652Zx+FAHX21la2SbLO2ht1/uxRhR+lT1ieH/Gfh3xTvGgavbXkkf34VbbKn+9G2GX8RW3QAEZBAOPf0rO0TQNN8O2LWuk2ywJJI00z4y88rfekdurMe5P9K0aKACiiigAooooAKow6PYW+tXGq29usV5dRrHcSRjHnBful/wC8RyATyAcVeooAKoanoWk61H5esaXZagmMbbq3SUf+PA1fooA4uX4ReCDIZbTRf7OlPPmabcy2pB/7Zsopn/Ctnh/48PG/i22A+6p1FZwP+/qMf1q/rHxI8J6HfGxvdYjkvlyDaWcb3Myn0KRBiPxxVD/hbGgRfNe2Ov2UPee40O6VB+Ow0AL/AMIh4yg4s/iPeFR0W80q2l/VVQ/rR/ZnxMtP9R4k8Pah/wBfekyxE/8AfExrotC8T6J4ntTceH9VtdQjX73kShinsy9VPsQK1KAOJ+0fFGDl9O8KXgHaK8uISfwMbD9aP+Ek8fw8T+ALabHe112M5/B41/nXbUUAcT/wnWv2/wDyEPhzr6ev2Wa1uP5Sik/4Wtotv/yGdL8Q6OP717o0+3/vpFYfrXb1i+IPGPh7wsqHX9XtbJ5P9XE75kk/3Yxlm/AGgCjpvxM8FatKIrHxRpjTE4EUlwI3J9Nr4P6V06sHUMpDKRkEHrXnep+OvBmuQldS8N6rqtoR/rZvDdxLGR6/NH0/CsrRNG+HOtXbQ+AvEd74f1EHJtdPvZbZ89ebWbgj/gGKAPWqK4Rrj4g+Fvmu4rXxlp6/ee1jFpfIPXYT5cn0BQn0rf8ADXi/R/FcMp0q4YXFu225s7hDFcWzf3ZI25X69D2JoA3KKKKACuJ8O/8AJZPGv/Xlpf8AK4rtq4nw7/yWTxr/ANeWl/yuKAO2ooooAKhu+bWT/dqaobr/AI9ZPpQB578NNK0/V/C/iC01axtr63bxDfZhuYlkU/vPQgitJvhJ4WhYvoseoaDKTnfpGozWw/75Vtv6VB8JP+QHr3/Yw33/AKMrvaAOI/4QPXbT/kD/ABD1+L/ZvUt7sf8Aj0YP60v9ifEe3/1PjHR7sDp9q0QqT9Skw/lXbUUAcT5fxTj6XPhC4Hvb3UWf/H2o+2fFCH/WaN4Wuh/0x1K4jP8A49Ca6bUtf0bRnjTWNWsbBpASi3VykRcDqRuIzUNl4s8O6ldpa6dr+l3dxJnZDBeRu7YGThQcngUbhsc//bHxIHXwhojfTW3H/tCj+2/iP/0Jmj/X+3W/+MV2kkiRRtJK6oiAszMcBQOpJpsE8N1bxz20qTQyqHjkjYMrqehBHBFAHG/2x8ST08JaGv11tz/7Qo+0/FGXlNN8J2w9JL65kI/KIfzrtqKAOJ8j4pS8Nf8AhK2H+xZ3MpH5yLR/YHxDuP8Aj48cafajuLPQwT+ckrD9K7aigDiP+Ffaldc6v4/8TXDdxayw2in8I4wR+dSW/wAJvByTrcX+lvq9wpz52rXMl4xPriRiP0rs6KAPNvifbw2lx4IgtYY4IY9dUJHGoVVH2ebgAdK9Dtf+PWP6VwHxX/4//Bf/AGHh/wCk81d/a/8AHrH9KAJqKKKACiiigArifiz/AMiRF/2FtP8A/SuKu2rifiz/AMiRF/2FtP8A/SuKgDtqKKKACiiigArmvGfhebXra1vtHulsde0qQz6ddsCVDEYaNwOsbgYYfQ9q6WuS+KeoXOm/C/W5rFzHcSwrbRyA4KGV1i3fhvz+FAHMaJPrPxhtRc6ss2ieGIiYntLS4O/VJV4c+cuD9nByBtwX5ye1ej6To2m6FYJZaLYW9jbIOIreIIv146n3p2laZbaNo9pplhGI7azhSCJB2VRgfyq3QAVx/iL4eWWpXD6t4dnbw74hVT5ep2Khd564mj+7KueoYH2NdhRQBzPgrxPca7a3Vjrdulnr+lSCDUbZM7NxGVljzyY3HzL+I7V01ef+KLu18M/Fnw/rU0y20GpWF3ZXzscKViUTRsfcYkHr82K4zxV+1J4a01Wi8K2NxrU2OJpAbeEf99DefptH1oA9zrhdd1TVfFfiafwn4WvH0+1s1U6zq8Q+eHcMrbwk8eaRyW/gBHciuK8A/Ez+1438S/EHxxo1kGUvZ6BZ3ccQiGPvS/NuZj2RiQOpGeF7v4SW2z4a6dqExD3esb9Tu5O8kszFyT9AVX6KKANrw74R0PwrbGLRNPjgd+ZbhvnmmJ6s8hyzEn1NbVFFAHP+JPBGh+KNsuoWphv4ubfUbRvJuoG7FJF5H0OR6isjwjresaZrTeDvGlyt5qkcRnsNTWIRrqUAOGO0cLImQGXPQg88mu3rzv4xalY+HtF0bxJczrBc6Rq0E0RGd8kbMI5kGOxjdsj2HtQB6JRXzt4m/aniab7H4I0YSSO2xbzVJBGgJOM7AenuzDHcV3XgvxxoenaX9o8YfEnR9U1i5G6YR30SQW47RxopAwP7xGTQB6fRWXovibQ/EizN4f1ey1MQECU2k6yeXnOM4PGcH8jWpQAUUUUAFFcv40+I3hnwDbxyeJL8wyTAmGCOJpJJMegAwPqSB714rq37S+o+IdUj0jwVZ2WipcNs/tTWp1AiH98rnauOvJfPTB6UAfSVee3NxqHxI1y803TL2fTvCunSm3vLy1YpNqMy/fijccrGp4ZhyxyAcZNZl58RfDvhv4a6mYfHtjruvJYyyLObyPfPcbDt2RqcIu7GFUcD1OSe78G6ND4e8FaRpVsBstrRFYj+NyMs31LEk/WgCxofh3R/DVgtloOnW9hbqPuwoAW92PVj7nJrSoooA5TxN8P9M12VtR09m0XX41P2fV7EbJUbtvAwJUz1RuCM9OtJ4L8SX97NeeHvFCpF4i0oL55jGEvIj9y4j/2WwQR/CwI9K6yuD8cyRaF448H+Iy4hDXcul3TZxvhlheQbvZXhDfn60Ad5RXiniv8Aad8J6OHh8OW9xrtwOA6gwQg/7zDcfwXB9ap+APidceKr/wDt/wAeeNtF0PTlyLXQba6jiZ2B4klYtvx/sE4bgkAcMAei+K9f1S61yDwj4QkSLVbiLz7y/dN6abb5xvx0aRiCEU+hJ4FaHhvwNonhhmns7drnUZebjU7xvOup27lpDz+AwPasX4VyQ6vZ694oSRZ31rV7gpMrbswQsYYVB9AqZH+8a7ygArH8Q+E9D8VWog13TobnbzHLjbLCezJIMMp9wRWxRQBwOhahq/g3xLB4X8VahJqlhqDN/Y2rTLiTcBn7LMR1cKMq5+/g9+K2PFHgew8RzR6hBLJpeu2w/wBE1a0+WaL/AGW7SJ6o2QQT061U+K9l9q+GWsXMTeXdaXD/AGlay94pYP3qsPf5SPxNdTYXQvtNtrtVKi4iWUKe24A4/WgDnPCHie+vry78PeKIY7XxFpyh5RFnyruEnC3EWf4SeCOqtwe1dXXDeP4xp3iLwf4gt/luodXj06Qj/lpBcgxsp9cNsYehWu5oAK4nw7/yWTxr/wBeWl/yuK7auJ8O/wDJZPGv/Xlpf8rigDtqKKKACobr/j1k+lTVDdf8esn0oA4j4Sf8gPXv+xhvv/Rld7XBfCT/AJAevf8AYw33/oyu9oAKKKKAM/VtI03UoGfUdPtbto42CNPArleO2RxXjvgy6j0D4MeEJ9D0zTv+Eg1e7+wWt5PbqfKZ5JMyMRhjhFPGeeBXuEieZE6ZxuUjPpXBw/DAW/w30nw1FrDpe6NOLqy1NLcDZMHZgxjLHIwxBGeRSWjfy+67v+A919/5aGfqOreItB1K68NeJdTg1mDVNHu7i1vI7QW8kTxJ8yMqkgqQ2Qevasv4X+N5/EGmaRpeizxWumeH9Jt31KSWPM103l42RKeiAqQX7kYHrXU23gTVb7VLrVvFmtwX2oNp8un2gtLMww2qSfffaXYsxwO44GKLf4arZN4XuLDUxBeaHaLYXEv2bK39ttAaNl3DbyNwOTtPrTV0n/X81vuur/qJ2f4/+2/nZ/8AAPO/+F03z6R/wksXiXTSxl3r4ZFgxYw78Y8/r5m35v7ueMV2jat4w8SeOfEekaFrNppNhpkVtJFM9iJ5WaWLdtwSBtzkk8noBUtn8O/EGn2EXh+x8XNbeGoZd0cUNqUvFi3bvJE4fhe24LuxxXS6V4Y/svxZr+tfa/N/tgW48ny8eT5SFPvZO7Oc9Bj3oe2n9bBrch+HviG68VeAdL1jUUjS7uI2EwiGFLq5QkDsDtz+NdLWF4L8Nf8ACIeErPRPtf2z7MX/AH3l+Xu3Oz/dycY3Y69q3acrN6CWiCiiikM86+K//H/4L/7Dw/8ASeau/tf+PWP6VwHxX/4//Bf/AGHh/wCk81d/a/8AHrH9KAJqKKKACiiigArifiz/AMiRF/2FtP8A/SuKu2rifiz/AMiRF/2FtP8A/SuKgDtqKKKACiiigArnfH+hT+JfAOr6VZnF1PblrYk4/eoQ8f8A48q10VFAGN4S8RW/ivwrY6xa/L9oiBliPWGQcPGw7FWBB+lbNcNqnh3WvDOvXXiHwNFFdx3z+ZqehzSCNbh8Y86F+iSnAyD8rd8HmprP4r+FZJRbazeP4dvsfNZ63GbR1+jP8rD3ViKAOzormrv4jeCrGEy3PizRlUf3b6NifoASTWLN4x1vxeps/h7p01vbyDD+INTt2ihiU/xQxMA0zYzjgLnGTQBJLKPEfxotUtSHtfCtnK1xIDx9quAFWP6rGrE+m8VP4r+Efgrxlvk1bRYY7p+Td2n7mXPqSvDH/eBrc8L+GrLwpoiadYGSUl2mnuZm3S3MrHLyO3dif6DoK2KAPNPBPwuu/AtzNpqX9vrvhufOy3v4FFxZk/3XAIdT3B246jnO7S+FNwbTwzN4VvGxqPhqdrCZCeWiBJhkA/utGVwfUH0rua5PxT4UvbrVoPEnhS6isfEFrH5R84EwXsOc+TMBzjPIYcqfWgDrKK4aD4pabYOtr44s7nwrfZ2kXyFraQ+sdwo2MPqQfatdviD4NSDzm8WaGI8Z3f2jFj/0KgDoq4P4iumualoHgyELLJqN9HeXsZ5CWdu4kYsOwZ1RB6kn0pZviWmsk2vw80yfxFdMdv2vY0NjCfV52GGx6JuJrV8I+E5NDku9U1m8/tPX9SKm9vdm1QB92KJf4Y1zwOpOSeTQBy/iv9n/AMC+Ji80Fg2i3jcifTSI1z7x8p+QB963fBXhPUtC0r+yvE8mn62LcAW+pC2Ec0qf3ZUOfmH94McjryMnsaKAIoLS3tQRawRQhuSI0C5/Kq19a6jPf2EtjqK2tvDIzXUBtxIblSMBQxI2YPORn0q9RQBQgtdRj1q7uJ9SWWwlRBb2YtwpgYfeYyZy2eOMDFLo9rqFnpqw6xqK6ldB2LXC24hBBYlRtBPQYGc84zV6igCvfWFnqdm9pqVpBd20gw8M8YdG+oPBryzxF+zr4U1C7GoeGpbjw3qUbeZFLaHfEH7Exsf0UqK9booA4w+D7nVvh9faF4jg0yTUZ7OS1N9awhVlJQqsu3aNjZ5IGQD0PYXfh5rx1/wTYy3A2X9ov2O/hY/NDcxfJIp9ORkexBrpq4vXfDOr6Z4hl8UeBjCb64VV1HS7h9kOoqowrBsfu5QOA3QjANAHaUVxNr8VvDqSLa+JXn8Mah0a21mMwDPfbKf3bj3DVp3HxD8GWsJln8WaKqDuNQiOfoA2TQB0dcJr0o8Q/Ffw/otsRJDoO/V9QIPEbsjRQIf9ol3bHovvTJvHuo+J1Nr8N9LlvPMGDrV/C8FlCP7y7gGmPsox74rofCfhW38K6ZLEtxJfX13Kbi+v5wPMupj1Y46DsFHAAAoAz/Ffwv8AB/jMO2u6JbyXLf8AL3CPKmz671wT9DkVzng34TXPw/1Zo9H1GLV/D1w2ZLDU4VMtuf78cgGD7qQoPXOa9QooA4PwA6aF4i8SeD5wsT296+p2KdBJa3Db/lHokhdT6cetd5XN+LvCbeIBaX+l3h0zXdNYvY3yruC5GGjdf4o2HBH0I6VkQ/Ek6Hi1+I2lzaBcqQv26NGmsJj6rMo+TP8AdcKR70Ad3RXOp8QfBskHnJ4s0Qx4zu/tGLj/AMerJuPinpV47Wvgq1ufFV/naE09D9nQ+slwR5aD8SfagBfirePJ4RPhyxbOp+JJBplsgPO1/wDWuR/dWPcSfp612dvBHa20VvCu2OJAiD0AGBXK+GPCt/FrMvibxfcw3mvTx+THHAD5Gnw5z5UWeSSeWc8n2ArW8UeJrHwnoUup6iWbBEcFvGN0lzK3CRIvdmPAH49BQBzvjB/7c8f+FfDdv85tLn+274j/AJZxQhliz/vSsMf7h9K7quT8DeHr7T4rzXPEZVvEGtMs14EOVtkUYjt0/wBlAcZ7sWPeusoAK4nw7/yWTxr/ANeWl/yuK7auJ8O/8lk8a/8AXlpf8rigDtqKKKACobr/AI9ZPpU1Q3X/AB6yfSgDiPhJ/wAgPXv+xhvv/Rldvd3trp9s1xf3MNrAv3pZpAij6k8VxHwk/wCQHr3/AGMN9/6MrC+JUeoX3xU8NWKwaRcWhsriW3g1tmFtJcBlB4UHc4Q8AjuTS6pD6NnqS6hZPZpdpdwNbSY2TCVSjZOBhs4PNV/+Eg0byZ5v7XsfKtm2zv8AaU2xN6Mc/KfrXg2o6a0fgfxhZyXGlG0l1vT1az0Uy/Z7WQyIJVRmVRk/KSFJwc9K7GTwV4ZX48WVmuhaetonh5pRbC2Xyi4mChymMFgrEZIzzTWtvP8A+R5hPRf13sdvq3jC00vWNBtMRzW+sNNtuxOBHEscZk3Z6EED1FbNlf2epWwuNOu4LuAnAlgkDqT9RxXz7ptrosreD9P19IP7Ji8T6tBHBNgQgAt5aEHjbuwMdO1XvGa/2PefEKPwIsdtZLpFob1LIbYopmlIcgLwreTknHOOaV9L9/8AJPUdtbf1u0e42eradqE0sVhf2t1JCcSpBMrlD7gHj8ayPFfjTTfC+ialdtNb3V5YW5uGsFuVWVwPbkj64rzCw0i5sfGXhCWyHg/TZQX+zroZmaW8g8o7lbCYK9DucgZHXJrEu7Hwrcfs36jqmrxWbeIneZrm5lC/ahe+aQVJ+9ntt/u+1N7P+v6/z08wjq15/wBf1/wD36XWtPtVtvt17bWsl0oMUc0yozk9lBPP4VheHPGk3iOw0W9t9LWK31M3AkL3iboPKYqMKQDJuK9hx3ritCsfDmq+LfGreOYLGe5t1gSIX4U+TZeQpVk3fdBYsSR3rG8BeX5Xwq8gkxY1bYW6lfmxQ9Nf62bITfKj2sa3pRuYbcanZmecZhi+0Juk7fKM5PQ9KkutUsLGaGG+vra2lnOIkmmVGkPooJ5/CvAofDmkW/7NH9txafbjVRci4W+8secri82gh+owBjAOK6q1Twtd+OPHb/EAac9xC8SQjUduY7PyQQY93QFixJXv70PS/lf9P8y/6/r+vI9RuNY0y0slvLvUbSC1Y7VnlnVUJ9NxOO1WYZoriFJreRJYnG5HRgysPUEda+e/DGmQ6p4Z8Ef2be6RLqNvY3j2+l6/bu9tcxNOQXDAYWQYHqcHpivTvhNdWk3hW9gstNj0wWep3EEtvBc+fAJAQzGFsD93luAAMcinbVr+t7f19xPb+vMp/Ff/AI//AAX/ANh4f+k81d/a/wDHrH9K4D4r/wDH/wCC/wDsPD/0nmrv7X/j1j+lIZNRRRQAUUUUAFcT8Wf+RIi/7C2n/wDpXFXbVxPxZ/5EiL/sLaf/AOlcVAHbUUUUAFFFFABRRWd4g1q28OeHNQ1m+z9nsbd53A6sFGcD3PT8aAM3xP40s/Dk9vYRW1xqms3gJtdLswGlkA6sc8Ig7uxA+tYc2g+PfFEH/E81bStBtnHFjZWK3rgHs8s3y5H+ymK0Ph/4dn0/TZNc14CXxHrQW4v5SOYsj5IF9EQYXHqCe9dfQB5tbfCvUtKmFxoni77PcD+KbRLJ1/8AHI0b8mFW5fGPiHwdz8QtNgl0vgHXNHV2ii7ZmhOXQf7Slhz2rvqbJGk0TRyorxuCrKwyGB6gigBtvcQ3drFc2k0c8EyB45Y2DK6kZBBHBBHepK8/8NI/gjxpeeEIleTSLy2fUtFiGMw4bE9spJAwCysoOMBiM8Vu6B4/8M+Jryey0vVYjf20jRT2M4MNxG6/eBjcBjg8EjIz3oA6OsnxJ4m0zwrpf27V5mRWcRwwxoXluJD92ONByzH0H8q1q8/8GW48YeIbvx1qI82FJZbPQomHywW6NseYDs8jK3PXaFHQ0APz8QPFkZZVsPCOmyfcjuYBe3jr23LkRpn0+YiqC/CK6imFzD4sdbsHd5h0SwK59dvkj+demUUAcE+oeO/CKh9Ws7XxVpUf359LhNveRL/e8gkrIB6IQfaur0DxBpfijRINW0K7S8srgZSRMj6gg8gjuDzWlXn+qWy+BviFYaxp48rSfEl0tlqduo+RbpgfJuAOzMRsY98qTzQB6BRWB4n8Z6T4OSCfxE09rYzuIxeiEvFG56K5XJXPqRj3rU0zVtO1qyW80e+tr62bpNbSrIp/EGgC3RRRQAUUUUAFFFRwXMFyrNbTRzBGKMY2DbWHUHHcelAElYPijxhp3haO3S5Se8v7xilnp1mnmT3LDrtX0HdjgDua1768g07T7i9u32W9tE00r/3VUEk/kK434daVLfW8njfXY92s66gkjD8/Y7Q8wwJ6DaQzerE56UARSaZ8QPFMBOp3ul+GLRxkWcNqt/Pj0d5P3YP+6pHvVOD4TX1hMLjS/FrQ3K9Hk0SxZfyWJT+RFelUUAcBP4o8V+C4zN420+31TR4wTJrGjxsHt1H8c1uSSFxyWQtjHSu3sL+01TT4L7TriO5tbhBJFNG2VdT0INWOvWvP9Ktx4E+JCaHZjZoPiNJbiyt1Hy2l4g3SxoP4UdMuB0BVsYzQB6BRXNWHxB8NX3iC50FtSSz1m1YJLYXg8mUE8jbu4fIwcoW4IPeuloAo61rWneHtIn1PWruO0s7dcySyHp6ADqSTwAOSa5BNU8c+L1MmiWNt4X0mT7l1q0Jmu5V/vLbghUHs7E+1MsrceOfiNe6hfjzdG8L3P2Wwt2HyS3oUGWZh3Kbgi+h3Ec16BQB5o/wju55jc3Pix3uydxkXRLALn6GIn9avbPiD4UiDL/Z3i3To+WhhgFjeKvfYATE+OuPlzXe0UAcZ/wALV8Lt4ZbV4rmZ5BObQab5RF4bkcfZ/JPPmZ4x075xzTPDvhrU9V1yPxb44SNdRRSNO0tG3xaWjdeejzEfeft0HFZ3j7SLPwx4ksPiTZ2sQnsnW21Y+WCZbSQhDJ7OhIORyVBB4wK9HoAKKKKACuJ8O/8AJZPGv/Xlpf8AK4rtq4nw7/yWTxr/ANeWl/yuKAO2ooooAKhuv+PWT6VNUN3/AMesn0oA4j4Sf8gPXv8AsYb7/wBGV12saFpXiCx+x65p1rqFtu3eVcxCRQfUZ6H3rzb4WeLNI0xdY0TXr2DSdYl1m6uVsruTyyySPlSjNgPn/ZzXrAORkcigDNh8OaJb6RHpUGkWKafGwdLQW6eUrA5DbcYyCAc9c81bNhaHUBfm1hN4IvJFz5Y8wR5zs3dduecdM1PRQBkz+FfD11bfZ7nQtNlh3yP5b2kZXdJ99sY6t3PU96m0rQNI0LTjYaNplpY2jEloLeFUViepIA5/GtCigDH0fwj4d8P3U1zoeh6fp883EkltbLGzD0yB09ulRz+CfC91qk+o3Xh3S57y4UpNPLZozSAjB3EjnI4NblFAGRqfhPw9rN5bXWraJp97cWoAglntkdowOgBI6e1WYdD0m3NqbfS7KI2e/wCzFLdF8jf9/ZgfLu74696vUUAUf7D0n+yf7K/suy/s7/nz+zp5P3t33MY+9z0681x3ijwn4k1LxFLe2EXhjUrcov2Q61Y7ptOYDkxsqksCfmwSMHvXf0UmrjOT034daDD4K0zw7rdha6zFp6cSXcCtlycs4BztySeldHp+m2Wk2MdlpdpBZ2sQxHBbxhEX6AcVZpk00dvC0s8iRRoMs7sAFHqSapu7bJPPfiv/AMf/AIL/AOw8P/Seau/tf+PWP6V5R428V6N4t8WeGNK8M3qapLp2p/a7ua1O+GBBFImDIPl3EsMAEnr0r1i1/wCPWP6UhktFFFABRRRQAVxPxZ/5EiL/ALC2n/8ApXFXbVxPxZ/5EiL/ALC2n/8ApXFQB21FFFABRRRQAVxPxhUn4T6y2CyRiGSUD/nmsyM//joau2qvqFhbarplzp99EJba6iaGaM9GRhgj8jQBOrBlDKQVIyCO9LXB+B9am0S4TwJ4om26pYJt0+5k4XU7VR8rqT1kUYDr1yM8g13lABRRVPVtXsNC0qfUtXu4rOzt13yzStgKP6n0A5JoA4X4g22pX/xH8E22gajHp2oKL+X7S9sJxHEIlDZTcuQSVHXqQe1eCfFbStU8VfEVdP0K7/4SzXbMeXe3Ol6T9nETA4VXdXYMVwQWONuMZ4IH0P4PsLvxHrd/401y1ktRfW4stLs5QVkgswSxZv7ryNhiOoAUZrsbDTbLSrRbXTLOCzt16RW8QjUfgOKAPHPhp4O+L+k2Y/4SPxPFFZeWQNPuv9Mm6cDzMjZ7YdgPSu7+EjxP8IvDXkjASwSNxjGHX5XH13A12Ned2F2vw28WXOk6oRD4b1u6a5028biO0uJDmS2c9FDNl0PA5YUAeiUUUUAFcL8Yleb4f/ZbSQR311qdhFZPt3FZjdRkED2AJruXdY42eRgiKCWZjgAepNee2Nx/wsfxtaapajd4X8Pys9rMQduo3mCvmJ6xxgsA3dicZAoAxviAmu+GvB15deLviBaTWEyGH7IfD0TtdMw4jVTJyT+nU4AzXiPw/wDhJ8Tb3UV1LQEuvC8LHIu7iZ7c7c9Ng+dhj1GD619hSWFpNexXk1rDJcwqVimdAWjB67Seme+OuBVigDE8KaXrekaGlt4l17+3b0Hm6+yrBx2G1euPU8mrt8dWF/Yf2atkbQyN9tNwziQJjjywBgnPXOOKvUUAUIDq39tXYulshpmxPsrRs5mL/wAe8EbQOmMH60ujnVjpq/8ACQLZre723CyZ2j27jtwWAOduM++avUUAcnqfirxFZ6nPbWPgPU9Qhjbalyl7aoko9QGkBA+oFeK/Ge71fTmh8ZW3h/U/Bmtblga9i1W2IvF7I8cchZiPXB4GDkAY+lq5HUfhp4e17xL/AG54mgbWrqMbbeG8O6C2T+6sQ+U+pLbiT+AAB896X8WviZ4u8A65pdxoba3YyafPHNqccBhaFdh3FnHyNgZ+XAJr6h8PXEd14Z0y4gQRxS2kTooIIClAQOParYtLdbP7IsEa22zy/JCAJtxjbjpjHauD8HagfBOpr4D16Ty4lLHQLyQ/Ld2+ciDcePNjztx3XaQKAPQqKKKACvPvilDeXupeC7LRbxbLVZNb8yC4aHzfLRLaYyHbkZGCMjIrur29tdNsZrzULiO2toELyzSsFVFHUknpXE+FVn8Z+Lm8bXcMkGl28DWmhQzKVd0YgyXRB5XfgKvfaM96APEPjlYalq2v2OgHVovFniWEZaHTdE8qW2iPOHdZGzkkHaRwDnjIz1fwp8DfGTSPIbUPESaTpikE2Oof6axX0CZ+QfR1I9K92sNKsNLWRdOs4LbzWLymKMKZGPJZj1Ykk8nnmrdAHEfCj5PDOpwS/wDH1BruoJc8cmT7Q7Z/75ZT+VdvXnuqTn4deNrrXZ1I8Ma8yf2hIoJGn3YG1Zmx0jdQqsezKCetegRypNEksLrJG6hldTkMD0IPcUAOooooA5T4pSwxfCXxQ1zjY2lzouRn52Qqv/jxFdBpEc0Oi2MV1nzkt41kycncFGf1rhtXu1+I/iiDw/pRE/h/SbpLjWLxeY7iaM7ktFPRsMAz44GAOpr0SgAooooAK4nw7/yWTxr/ANeWl/yuK7auJ8O/8lk8a/8AXlpf8rigDtqKKKACmyIJIyp6EU6igDgfE3w7s9b3fabeK4Rv4ZUDD9a4sfC250dj/YF/qmke1hfSxKf+A52/pXuVIVU9QD+FAHiItviJphxZeMtQZR/DeWsFxn8SgP61Ovij4pWox9s0S7x3n02RSf8AviUV7G1rC33o1P4VE2m2rdYl/KgDyQfEL4lRf67TPDk3+6LiP+rVIvxU8bw/6/wlpc//AFx1GRP/AEKI16i+iWT9Yl/Koz4esD/yyX8qAPNv+Fv+Kx18BW5+mtf/AGmoY/jb4hlvZrOPwLbtcQqryRjXBlQ2duf3Pfaa9Ll0DTIYnllREjRSzMwACgdSa+WPh746tr/9oie8ugF03Xp2tEVhjYpwIOPX5UX/AIEaAPYj8XvFh6eA7YfXWc/+0aib4o+Opf8AUeF9Hg/6638r/wAoxXpv/COWH/PJfypR4esB/wAsl/KgDy0+P/iZN/qrDw3D/vRXEn/s61G/iL4o3YwdU0qzz3ttMLH/AMfkP8q9aXRbJekS/lU66dbL0iX8qAPFzpnj7U/+Qh4z1g57WqQ2w/8AHEz+tNj+Eg1OZZdba81WUHO/UbqS4P5MSP0r25baFPuxr+VSBQOgAoA4vw74FttI2bIkjVOiooAH4Cu0VQqhR0FLRQAUUUUAFFFFABXE/Fn/AJEiL/sLaf8A+lcVdtXE/Fn/AJEiL/sLaf8A+lcVAHbUUUUAFFFFABRRRQBleIfDOkeKtN+xa5ZpcxK2+NslXicdHRxgqw9QRXLT6L408LWU02k+L7TUdOt4y5j8RWpd4kUZJ8+IqW4HVlJ+td9XlP7RPio+H/hbNp9sxF5rcgs41X73lnmQ49No2/8AAxQBc8O658RfGHhux1jTLjwpZ2d9CJEl8u4mkTPUFCVG4HIPJGRWvYfDuKXU4dV8Y6rc+J9Qt2DwfakWO2t2/vRwL8ob/abceOteb/sueJ5JvD+q+Er/AHJc6XMZ4Y5Bhljc4dcdtrgk+7173QAUUUUAFVtQ0+z1bT5rHU7WK7tJ12SwzIGVx6EGrNFAHCR+B9f8O/L4F8UPb2S/c0vWITeQRj+6j7lkRR6biKy9L8VfEDWfEWs6DYyeEftujNEl25+1EL5i7lIXjPQgjdwRivQdc1e20DQL/V744t7G3eeT3CqTge5xivkn4LePLyy+OAv9YkZU8TySRTs2QpeRyUI/7aAKPQE0AfRR+H2oa+6t8QPEU2sW4O7+yrOL7JZk+jqCXkA9GbHtXbQQQ2tvHb20SQwxKEjjjUKqKOAABwBUlFABRRRQAUUUUAFFFFABRRRQAVn65oOl+JNKk03XLKK9tJCCY5B0I6MCOVI7EYIrQooA4VPCnjHQAE8K+LUvLNeEs/EFubgxj0E6FXx2+bdWV4c8UeP/ABfFqB0ifwlEun30thcS7bmUrJHjdtX5QRyCDmuo+I/ilfBnw71fWwwWaCArb57zN8qcd/mIJ9ga+fP2YvFE2leOL7w3qLOi6xALiES5BMqDeDz/AHo2Y577RQB7nb/Do6leRXvjzWp/Es0LB4rSSJYLKJuxEC8MR6uWrtwMDA4FFFABRRRQAyaGO4heGeNZYpFKujqCrA8EEHqK4j/hXt7oMjSfD7xBNokLNuOl3MQurLPfahIaPP8AsMB7V3VFAHmFx4p+IFn4wsvC80vhB9SvbWS5ib/SVBRCAcrzycsQM9EbkcZ1ZPBPiLxENnjfxS0lk339M0WE2kMg/uvIWaVlPcBlr5r8YfEu4k/aEbxdZM8tppV4sEGzo1vGdjgH0fc5/wCB19k21zDeWkNzayCSGZFkjdejKRkEfgaAItN0yx0bTYdP0q0hs7SBdsUMKBVUewFWqKKACiiigArifDv/ACWTxr/15aX/ACuK7auJ8O/8lk8a/wDXlpf8rigDtqKKKACiiigAooooAKKKKACiiigDnPHukap4h8HXmiaJcrZz6li2ku2G4QQsf3jbe5KblAGOWHI6jyW/+Cnh688Z3HhfSN+nS6f4ftbiyv15lS4+0T/vXIxuLYGenQYxgY99ribb/kvWpf8AYt2v/pTPQB1elPevpFqdVjWO+8pRcKhyokx820+mc49sdKt0UUAFFFFABRRRQAUUUUAFFFFABRRRQAVxPxZ/5EiL/sLaf/6VxV21ct8RtF1LXfBz2uiQxT3sd3a3McMsvlrJ5U6SFd2DjIU84oA6miuJ/wCEj+IP/QgWP/hQr/8AGaP+Ej+IP/QgWP8A4UK//GaAO2orif8AhI/iD/0IFj/4UK//ABmj/hI/iD/0IFj/AOFCv/xmgDtqK4n/AISP4g/9CBY/+FCv/wAZo/4SP4g/9CBY/wDhQr/8ZoA7auWv/A9nrPxAs/E2st9p/suDy9NtDzHDITl5iO79AOw2g8nG2l/wkfxB/wChAsf/AAoV/wDjNH/CR/EH/oQLH/woV/8AjNAHL/DPwRaTLpnjHTnNpqkF9qNtd7ThL2BruYbXA/iU4ZT/ALIBzwV9erx34aa541t/BSR6b4MtLyD7denzX1tYjuN1KWXb5R6MSM55xnjOK6z/AISP4g/9CBY/+FCv/wAZoA7aiuJ/4SP4g/8AQgWP/hQr/wDGaP8AhI/iD/0IFj/4UK//ABmgDtqK4n/hI/iD/wBCBY/+FCv/AMZo/wCEj+IP/QgWP/hQr/8AGaANXxp4VTxpoaaJeXDw6dNOj3qxnDzRodwjB7ZYLk+gIHXI4Gf4e6H4p8beMtBmtxZRWtppRsJrRQj2Tqs21oz2xjp3FdT/AMJH8Qf+hAsf/ChX/wCM1yeh6541T4oeLJYPBlpLdyW1gJ7c62qiEBZdhD+V827J4wMY75oA9dtBcLZQi9ZHuBGolaMYUvjkj2zUtcT/AMJH8Qf+hAsf/ChX/wCM0f8ACR/EH/oQLH/woV/+M0AdtRXE/wDCR/EH/oQLH/woV/8AjNH/AAkfxB/6ECx/8KFf/jNAHbUVxP8AwkfxB/6ECx/8KFf/AIzR/wAJH8Qf+hAsf/ChX/4zQB21FcT/AMJH8Qf+hAsf/ChX/wCM0f8ACR/EH/oQLH/woV/+M0AdtRXE/wDCR/EH/oQLH/woV/8AjNH/AAkfxB/6ECx/8KFf/jNAHbUVxP8AwkfxB/6ECx/8KFf/AIzR/wAJH8Qf+hAsf/ChX/4zQBoeLvBVp41utKh1pvM0qwuPtclnji5lAwgf/YALEjuSOwOeHsvA9l4m8YeKb6Iiz1bRvEUVxp90gxsK20B8tsdY2xgiuo/4SP4g/wDQgWP/AIUK/wDxmuT8H6541i8SeMWtPBlpcSyaqrXEba2qCB/s8Q2g+Ud3ABzx1x2oA9iorif+Ej+IP/QgWP8A4UK//GaP+Ej+IP8A0IFj/wCFCv8A8ZoA7aiuJ/4SP4g/9CBY/wDhQr/8Zo/4SP4g/wDQgWP/AIUK/wDxmgDtqo63Z3OoaFe2Vhc/ZLi5haFLgZzDuGN4x3AOR7gVy/8AwkfxB/6ECx/8KFf/AIzR/wAJH8Qf+hAsf/ChX/4zQBy9v8O/DWk+O9J8Hxaek2kv4avEnSXlp2M9vmRmGPnJGcjGMDGMDHofg/w+/hXwva6GbuS8hscxW00p/eGHOUVu2VB28cYUHA6Dzi61zxqfjDps7eDLRb1dEuUS1/ttSrRmaEs+/wArgggDbjnOc8V1n/CR/EH/AKECx/8AChX/AOM0AdtRXE/8JH8Qf+hAsf8AwoV/+M0f8JH8Qf8AoQLH/wAKFf8A4zQB21FcT/wkfxB/6ECx/wDChX/4zR/wkfxB/wChAsf/AAoV/wDjNAHbVxPh3/ksnjX/AK8tL/lcUf8ACR/EH/oQLH/woV/+M0eDNN8Q/wDCY+I9f8SaVb6V/aUNnDDbw3guT+5Eu4lgq4z5g7etAHbUUUUAFFFFABRRRQAUUUUAFFFFABXE23/JetS/7Fu1/wDSmeu2ribb/kvWpf8AYt2v/pTPQB21FFFABRRRQAUUUUAFFFFABRRRQAUUUUAFFFFABRRRQAUUUUAFYur+MNB0O/jsdR1FEvZV3paxI0sxX+95aAtj3xitqvFPhe0lp8eviDba+duqXMiSWnm/ektgzY2Z6jaY+np7ULWXL5N/cD0jzen4nrWia/pXiTT/ALdoV9De228oXiP3WHVSOoI9DzWjXI6LL4P8IaVqyeHbZoLS1u2a9FlbTTgTFQzfdDZwMZxwvQ4re0LWrTxFoNnrGnbza3sQliMi7W2npkdqe+3kHqcz8I/+SfJ/2EdQ/wDSyau2rifhH/yT5P8AsI6h/wClk1dtSAKKKKAMXV/GGg6Hfx2Oo6iiXsq70tYkaWYr/e8tAWx74xVnRNf0rxJp/wBu0K+hvbbeULxH7rDqpHUEeh5ryX4XtJafHr4g22vnbqlzIklp5v3pLYM2Nmeo2mPp6e1drYal4I8B6XfRaJHHawf2mLeWO3DESXkgHyBmO0noDzhcYOMUR1im+qv+P9L1B6Sa7P8AT+vkdtXE+HP+SxeNv+vTTP8A0GetvQPFeneIbvULO1We3vtNkEd5Z3KbZISwypOCQQR0IJFYnhz/AJLF42/69NM/9BnoA7aiiigAooooAKKKKACiiigAooooAKKKKACuJ8Cf8jb48/7DSf8ApLDXbVxHgfd/wlXj3Z97+2Vx9fskNJuyuBral478NaTqE1jeaon2q3TfPDBG8zQr6uEB2D/exWvpmqWOtabDqGk3cV5ZzruimhbcrD2NeNfACCKXR/GOjeJEVtYfU5f7ShuPvyRsoGW7lSd/Pv713Nv4i8I+B/Atq+gQOdJW7+xWlvaIzGWUyEHYXPzDO47s4wCcmqS0Xnb8f6QPd+Tf4HbUVFdXKWdq88yysiDJEMTSsfoqgsfwFZ3hrxLp/ivSTqOkGVrcTSQZljMbbkYq3ynkcjvSA1qKKKAOJvf+S76T/wBi9d/+lEFdNrGv6R4etln1zUrWwidtqNcShN59FB6n2Fcze/8AJd9J/wCxeu//AEogrhGkluv2wxDrfzQ2+mZ0tJPug+WCSo9c+Zz7e1C1ko+v4K4bRb/rex67o3ifRPELTLouqW148GPNjikBePPTcvUZ9xWpXM2Hhnw1pHxAvtXtAsev6vb7plMxJeNCoLBCeBnbk1vWeoWeoCY2N1DciCVoZTE4bZIv3lOOhHcUdEHUsUUUUAFFFFABRRRQAUUUUAFFFFABRRRQAUUUUAFcTbf8l61L/sW7X/0pnrtq4m2/5L1qX/Yt2v8A6Uz0AdtRRRQAUUUUAFFFFABRRRQAUUUUAFFFFABRRRQAUUUUAFFFcX8SPF+seFtN05PDGlQ6rqupXy2dvbzSiNclHfOSQP4MYyOvWgDtKzNW8N6HrxjOt6PY6i0X+ra6tkkKfQsDivJP+Ew+LUnGr6PdaS/cafoAvVH/AAL7Vz+VH/CT+K/+Yh4k8VWY7lPAxUD8fnoA9R1yC00jwZe2mn2LRQ/ZpIYbawtGfBZSAAkanAz7YrL+FIlt/hjoljd2t3aXVnaRxTw3VrJCysB0+dRn6jIrgv8AhJbN/wDkKfFLxZAe4/4R/wCz/wDttij+2/B7f6/4weK1+pWP/wBthQuvnb8L/wCYPp5X/G3+R3Hwj/5J8n/YR1D/ANLJq7bNeE6dL8M9NtRaWXxa1y3h3u/ljVBGNzMWY4EY6sSfxrQSf4cS/e+LesN/veJnT+RFAHs2RRketeQpafDCb/WfEy6l/wCuvi9xn/yIKnTQPhTN97xeLj/e8WSnP5TUAeiat4c0LXmjOt6RYag0X+ra6t0kKfQsDis7xJdWPhPwi0lh4dk1BLYj7Lpum2PmHfnK4RFO0A87scfWuSHhD4TP/wAxeF/r4nuD/wC16ePBPwnbpeW7fXxFOf8A2tS6WQ+upP8ACuT7XqGvanc6LrFjfXzxS3d3q9mbVriTDAJHGScRooUDknk5rQ8OEf8AC4vG3I/49NM/9BnrMHgH4Ut0a0b663Mf/atOT4b/AAp3s62tgzNjc39pyEnHTP7yqZJ6PuHqPzo3L6j8689Hw0+FzdNO05vrfOf/AGenj4W/DBumiaY31nJ/9mpDO/LqOrAfjTfOj/56L/31XDL8J/hofu+G9Kb8c/1p/wDwqb4b/wDQsaT/AN8//XoA7bz4v+eqf99Ck+0Q/wDPVP8AvoVxf/Cpvhx/0LGk/wDfH/16X/hU3w5/6FfSf+/Y/wAaAOz+0wf89o/++hR9oh/57R/99CuN/wCFTfDr/oVtJ/79j/Gj/hU3w5/6FbSf+/Y/xoA7Lz4f+eqf99Cl86L/AJ6J/wB9CuL/AOFTfDj/AKFfSf8Avgf40n/Cpvhv/wBCxpP/AHz/APXoA7YSIejr+dLuX1H51wx+E3w1xz4Z0kfh/wDXqM/Cr4Yr10DS1+khH/s1AHe7h6j864nwKR/wlvjzkf8AIaT/ANJYaqH4Y/C9eulaav0u2H/s9R/8K1+FcZJFlp8ZY5JGouuf/IlAHXan4V8Oa1drdaxoemX1wowJrm1jkfHpkjOPauZ8Xabdv4x8Nta6RNc6XYRSmFbVUKR3J2CIyKSu1FAJyD7fWofh98Kl6rZr9NYlH/tWmHwL8KF63Fqv01+Yf+1qAOr0eXxNYwXc/jC50u5jVVMI0iynDjrnKlnLdsbR61z3wcWez8JXNjfWV9Z3A1C6n2XVnLDlHmYqQXUA5Bzgc1RPg34TL/zEoE+niW4H/teo28MfCeLkeIo4fceKph/Oemt7+Vv6+4OlvO/9feeqZHrRmvJH0v4WQ/d+IMkH+54vkH/tWq7j4bRfc+K2pp7J4rdv/ZjSA628/wCS76T/ANi9d/8ApRBW14h8HaD4pe2l1qwE1xaNut7mKR4ZoT/syIQw/A15RKfhgupJqH/C19YF5HE0KTjW97qjEEqCVPBKg49hUv8AbPgcf6n4xeJz/uXayf8AtA0Ad14gttM+H3g3XNd08SfbxaFVur26eeaR8YjTzJWJxuIwucc1d+HnhhPCXg220/H+kOzXFyd24mVzk5Pc9BnvjNeY3up+Fb6xmtH+Kfii8gmQpJDLpouVdT1BX7LzUOlX8mhaelj4U8XeJzaoSUhh8Fbxk9TxCpJ9zQtLg+h73RXiH/CVfEJObK41+99Fn8F+Vn8TOv8AKrFh8R/iZpus6Wni7wjaw6TqF/FYrdlhbyhnzyY/NkPAUnHQ4xkZoA9nopFYOoYdDS0AFFFFABRRRQAUUUUAFFFFABRRRQAVxNt/yXrUv+xbtf8A0pnrtq4m2/5L1qX/AGLdr/6Uz0AdtRRRQAUUUUAFFFFABRRRQAUUUUAFFFFABRRRQAUUUUAFeefEP/kbvA//AGH4/wD0RNXodeefEP8A5G7wP/2H4/8A0RNQB6HRRRQAUUUUAIyqwwwBHuKgews5P9ZaQP8A70YNWKKAKD6Do8n+s0qxf/etkP8ASq7+EvDkn+s8P6W/+9ZRn+la9cF8T728lfw74bsbqayXX9RFtc3EDbZFgVS7qrdiwGM/WjXRLr+oeZ0B8EeE2znwxop9f+JfF/8AE0w+AfBzfe8J6GfrpsP/AMTWFP8ACXRLCS0vPBajw7qlrMji7g3P5yA/PHKpYeYGGRyc55rmNJ1jxbYa14/n8OWOm3FrY6tJcTPqE8imTEKHy4wo4OFzknHzDjrRddfN/l/n+AWfT+t/8j0E/DrwS33vB+gH66ZD/wDE0w/DXwM3XwdoP4abCP8A2Wsm/wDHGsXeg6FqPh+z020t9UsxdzX2s3XlwWwKgiPjlmOT6DCmslfizfN4Dl1mDTLO+v7bWk0l4rO53wXDF1G+JyOhDDGadne3X/g2/MV7q/8AW1/yOoPww8CN18H6J+FhGP6Uw/CrwE3Xwho/4WaD+lZ2qeJPGumwWUF1aeHLC4kjea6v7y9dbOL5sJEuQGZ8ck8AYNUbP4rXOoeD7K6sdOtbnW7/AFR9Jt4YrktbSSoTulEmM+VtG7pnt70t9v61t+Y/6/X8jcPwl8AHr4R0n8LYCm/8Ki+H/wD0KOl/9+BXLePPEPj6y+H/AIkhvbG0sLu0t0mj1XT7iVInjY4YRnG5ZVIHBOCD1rT1Dx7rVle6d4di/sGDWzYC8vrm/vHS1iUkqqrwHdmxntjFH9fn/kH9fl/ma3/Cofh//wBClpf/AH4FJ/wqH4ff9Clpn/fmufPxa1KbRbE6do9pd6vJrR0ae3ju8wmTYWEiSY5Q/KckcDPcV6HaXV5aeH1uvEf2WK6hhMl2bQs0S4BJ2lgCRgd6Hor9P+Bf8mG7t/W9jnP+FQfD7/oUtM/780f8Kg+H3/QpaZ/35rl4/jBqK6fa+IrqDQxoNzMi/ZI9Q3ahFE7BVlZMbT1BKDkA9a0dU8eeLG1bxVb+H9I0t7bw3teWe8nkBnXyhIUVVH3uvJOOnXPA9N/6tb/Ma12Nj/hUPw//AOhS0v8A780f8Ki+H/8A0KOl/wDfgVkaV8QfEc194Zu9Y0jT7bRvEz+XaLDcO9zATGZEMmVCkEDoOme9c14O8T+MNA+GT6zb6Rp9zoem3F08yy3Li6njE7l3QY2gKCcAnnaenFD03EtVp/W/+R3o+Efw/H/Mo6V/4Dinj4UeAV6eENI/G1U1j6r8Sbq68QSaV4Uk0SL7Naw3Nxda1dmFG81dyRoq8k7cEnoMio7f4pXmuaPokPhzTLZte1a4ntzBcXBMFsYP9a7Ooyy9MY67hRqGn9feb4+FvgNeng/RfxsYz/Snj4Z+BV6eDtC/HToj/wCy15/D4w1jwz4z8Y6j4j06F9Ths9Ptre1s5yYrqR3kWMoWGVBLDORkYPWtG5vPFh+K/gyDxZZ6dCGW9kjl02Z2Q/uOUYOAcjg56HPbFHS4PRtHZD4ceCF6eDtA/wDBZD/8TUg+H3gxfu+EdCH00yH/AOJrg9B8cahbeG/B1h4V0CzEmuNeIkM11J5duYnJ3FjuYjqSOvYVqf8ACzNT0jTvEUHiPS7WTWdGuLe3iisJW8q7a4A8rBcZXk85zjFH9foB1Y8CeEV+74W0UfTTov8A4mpF8GeF0+54b0hfpYRD/wBlrl18Y+LdH8V6To/irSNMZNRhuJluNMmkfHlR7zHtcA7unPQ57Yqt4O+Imv8AiifTr2Kz0W60y+fbLb2F6XvNOBzhplYAHGMEDBGe9C1dkGyudwnhrQo/9Xounp/u2qD+lWE0nTo/9XYWqf7sKj+lW6KAGJBFH/q4kT/dUCn0UUAFFFFABXnvxd/48/Cn/YyWv/oEtehV578Xv+PLwr/2Mlr/AOgS0Ad5a/8AHrH/ALtTVDaf8esf+7U1ABRRRQAUUUUAFFFFABRRRQAUUUUAFcTbf8l61L/sW7X/ANKZ67auJtv+S9al/wBi3a/+lM9AHbUUUUAFFFFABRRRQAUUUUAFFFFABRRRQAUUUUAFFFFABXnnxD/5G7wP/wBh+P8A9ETV6HXm/wAVf7Qtrvw5qumac+pHS9VjuprdJVjZoxHIpILcZ+ccd6APSKK8yj+OGmji98L+Jbd++LSOVfzSQ/yqwnxv8Kf8vFvrdt/110mb+imgD0WiuBT43eAG+/rUsJ9JtOuUx+cdTD4z/D0/8zPbL/vxyL/NaAO4orjE+MHw+k+74t00f70uP51OnxT8Byfd8X6MP969QfzNAHWVzPjjwpN4o02zbTbtbHVtMukvbC4dNyLIuRtcd1YEg/WnJ8R/BEn3PGGgn2/tOH/4qp08ceE5f9X4o0Z/93UIj/7NQBzV/ofjbxktrpviiPSdJ0mKdJrs6ddSTS3mw7gi7kXYhIGckmtHSvCN/YweMkmltyddvJp7bazfIrwqgD/LwcqemeK2h4t8ON93xBpZ+l7H/jTx4n0Fvu63px+l3H/jSaTTXf8AW3+SGm00+3/B/wAzzd/hrr1i3hedLDQtfOlaOumy2epSuIYpQQfPjPltnpg5UHAFLY/DbxMmk32nXj6SPM8RW+sxzQO6IVDK0kYTaduNmF5Oe+K9LHiDRm+7q9ifpcp/jTxrWlt93UrM/Sdf8aq7vzf1vf8AMmytb+trfkcR4s8GavffECHxDYaZomuQfYRaLbaw7Kto4ct5qAIwOc4PAPHWsbTvhr4osdJBWbS/7V0zXZNWsJVZ1huRICJI3ULmMYJAxur1MapYN92+tj9Jl/xp4vbVvu3MJ+kgpLTb+tb/AJjeu/8AWlvyOA1fwv4z8W+FfEtvrt1YWcupWa29jp1vK0kMBU5LvIUBLMcDgYAHeqWp+BNbu9XsfEs+heHdW1F9OWyv9Mv2LQqVYlJIpDG2DzggryO9eoCeJvuyofowpfMT++v50f1+f+Yf1+X+SPOLL4d6rFbaC8raPBPZ65/ad1DY24ghjj8tkEUe1AXIyPmfBPPPQV6FfWcWo6dc2VxkxXMTRPjrtYEH9DU29f7w/OjcPUfnQ9Vyvb/gJfoC0d/63b/U8g0v4X6zZ2ljoTaN4TjtbORA+uizSS7nhU5A8p4iokIGCxYjqRzXVxeDdQjm8dMZrbHiL/j0wzfJ/o4j+f5ePmHbPH5V2uRSZHqKH7yafX9bf5DWjTRwjeB9SOleArbz7Xf4bmie7O9sSBYGjPl/Lzye+OKwLTwR4+tfBVx4LaXRDpt88wk1FZpPNt4ZZGZ0EZTDthjg5A59sn1rcv8AeH50nmJ/eX86bd279f8Agf5CWiSXT9L/AOZ5hq3w2udP8UXOqaDoXh/Xbe9toIHttaGGtniTYro3lvlSoGV45HWpf+Ffa7pNl4e1PRZdKk17R5J2ltxALW1uEn+/Gvlr8uMLtYgk45616UZYx1dR+NMN3br96eIfVxS1DQ8tvfhv4n8RXWv6nrd7ptnfaglnJYJas8iWktu7MqsSo3KcjJH95uOBnVh0DxprXjbQNc8Rpo9jbaStwrWtncSStI0ke3fuKAdcfL2GeT0ruTqNkv3ry3H1lX/GmHV9NX72oWo+s6/40dLA9dTgvDXw61bRm8Fm6uLJ/wCwDffavLdzv8/OzZlRnGec49s1T8beEBbx+MNd1fVrfTbW9m0+5s7rY8v2eW3wAZFC/dLYHBPBJOK9GOvaQv3tVsh9bhP8ahm1/wAPyxPFcatprxuCrI9zGQwPUEE0O+6/rW4K3U8tivtf8SfFrw2l5rGhyy2tleuBoUjXC2waIIJnZx1LEYXGODyc1ft/APiXUfEeiXmuaZ4dtLrSrtLm412wZlur4J/CUEagb/4ssR1wK7TTr7wRoayDSLrw/pwkOZBayQRbz77cZq03jLwwn3/EekL9b6If+zU9rNdP87/13DWzRtUVzz/EHwZH/rPF2hL/AL2pQj/2aoH+J3gWP73jHQz/ALuoRH+TUgOoorj3+LXgCP73i7ST/u3IP8qgb4y/D1f+ZqsW/wB0s38hQB29FcI3xr+Hy/8AMwq//XO1nf8AkhqB/jf4K/5d7jUrr/rjpNzz+aCgD0KvPfi9/wAeXhX/ALGS1/8AQJagf44aAP8AU6L4kn9NumFc/wDfRFc94g8YXfxCvtBstM8NalY29lq0N7Lc37RJ8iK4wEV2JJ3UAeyWn/HrH/u1NUVqMWsefSpaACiiigAooooAKKKKACiiigAooooAK4m2/wCS9al/2Ldr/wClM9dtXE23/JetS/7Fu1/9KZ6AO2ooooAKKKKACiiigAooooAKKKKACiiigAooooAKKKKACq15Yw3se2ZcirNFAHPv4QsHP3B+VQP4Jsj0UV09FAHIv4EtG6AVg+LPD2n+F/Cepa5dY8qxt2l2n+NgPlX8WwPxr0yvG/j2dV8U/wBjfDzwzGZb7Vpftd0eQkNvGcBpD2Xec59UA6kAgEPwx0u08e/D6w1iTY1zhoboYHEqHB+mRhv+BV1DfDCxb70ER+qCvM/2dbq/8JeKL/wtqqyCy1YzT6bcFcJNLbyNFKF9yFyQeQEHqM/R1AHm7/CjTG+9ZW5+sK/4VA/wh0dvvaZZn626/wCFen0UAeVt8HNEP/MJsT/27J/hUTfBjRD/AMwbTz/26p/hXrNFAHkLfBXQz/zBdP8A/AVP8K878HaB4Y8V/EbxL4dh0rTiunMDalbdcuqHZKc45G/BHsa97+I3iY+Efh/qurQ5a6SHyrRFGS07nZGAO/zMDj0Br5a8K6H4l+FPjy18SavbsLfS2tm1kI29reK63qNwHU4B+jbR6UAezn4IaGf+YPZf9+R/hTD8DdDP/MHtP+/Qr2cEMoKkEHkEd6WgDxQ/AvQz/wAwi1/74pv/AAonQ/8AoEW3/fNe20UAeJH4E6H/ANAi2/75NJ/wonQ/+gTb/wDfJr26igDxH/hROh/9Am3/ACNH/CidD/6BFv8A98mvbqKAPEf+FE6H/wBAm3/75NL/AMKJ0P8A6BFt/wB8mvbaKAPEx8CtD/6BFt/3xTh8DNDH/MItf+/de1UUAeLP8E9AhjaSXSrJERSzM0QwAOpNcN8K/Dfhv4hQ6yYtIsN9leMI1+zqD5D5MZPHXhh+Fev/ABt1q7074dTaXo0Tz6tr0q6ZZwxDLMZM7/8AxwMM9iRXifwr0/WPhP8AFyOHWAG028uV0S7niy0aXMkSSxr/AN9MAG9Nx9aAPT1+Cmhj/mDWH/gMn+FSr8F9DH/MG0//AMBE/wAK9booA8oX4NaIP+YRYD/t1T/CpV+D2jDppdkPpbJ/hXqVFAHmifCXSl+7p9qPpAv+FTL8LdPX7ttCv0jFei1Be3kGnafcXt5IIre2iaaVz/CijJP5CgDwPVZ9K0n43aV4LxEI7m2ImcKPknf5o1+uFx/20Felr8Pbcf8A6q+YdR8PeNvFvi2bxrZ2Usd7erLrdjAf9c0EMsaqUXvgMu0dWCZGcjP194T8Q2/ivwjpmu2nEd9brKV/uNj5l/BgR+FAGKngG1HWp08D2a9VFdXRQBza+DLBeqCr1p4dsrRw0aDI9q1qKAADAAHQUUUUAFFFFABRRRQAUUUUAFFFFABRRRQAVxNt/wAl61L/ALFu1/8ASmeu2ribb/kvWpf9i3a/+lM9AHbUUUUAFFFFABRRRQAUUUUAFFFFABRRRQAUUUUAFFFFABRRRQAUUUUAFV4rC1hv572OFRdXCqkkuMsyrnaufQZJx0ySe5qxRQBwPwtsLW98A2j3UKyPbatfzQuR80bi7mGQe3BIPqCR0Nd9XIfDCxutO8Dpb39tLbTC/vn8uVCrbWu5WU4PYggj1BBrr6ACiiigAooooAr3Nha3k1tJdQrK1rJ50O8ZCPgjcB64J59647QoYrj4t+OobiNJYpLLTUeN1BVlKTggg9RXc1yGg2N1B8VfF95NbSpbXNtp6wzMhCSFVm3BT0OMjPpkUAdVa20VnaQ21uu2GFBHGuScKBgDJ9qloooAKKKKACiiigAooooAKKKKACiiigCvJYWsuoQ30sKvcwIyRSMMmMNjdj0ztGfpXE+E7C11PX/iBZ38Kz28usoHRxwf9FgIPsQcEHqCM131ch4Msbq08T+NJbq2lhjudXSSB3QgSr9mhG5SeoyCMjuCO1AHX0UUUAFFFFABUF9Y22pWUtnfRLNbzDbJE33XHoR3B7joRxU9FAHEXYC/HbSAowB4euwAO37+Cuvs7C10+OSOyhWBJJWmZEGF3scsQO2Tkn1JJ6muYu7G6b4z6XfLbSm0TQrqJ5wh2K5nhIUt0yQCcex9K6+gAooooAKKKKACiiigAooooAKKKKACiiigAooooAKKKKACuJtv+S9al/2Ldr/6Uz121YUXh54/iFdeJDcKY59MhsRBt5BSWRy2fQ+YBj2oA3aKKKACiiigAooooAKKKKACiiigAooooAKKKKACiiigAooooAKKKKACsHxNqmuafFEPD2l2t4+1pZ5b268iGJFxkbgCdxzxxgYJJ9d6uN8VPr814Xg0A6rpFoy7rKO6WOW8fg7sMNrIvHyllyQTyAAUNG54e1a51zTzfz2D2MEpH2eOUgyMmPvHBIAJzj1GD3wNauWvdZ1zSPAWoa1qdvbQ6hHHJOlmX3rAMfJGWX77dM4wCTgHGK6HTxcrptsL9xJdCJfOcDAZ8Dccduc1TJLFFFFIYUUUUAc94n1fXNMCHQtKtbuONDNdT3t39njjjHVQcHLkZPOAMcmr2g6lc6vpovrmxksY5m3QQzY8zy8DBcAkAk5OM9Md8iue8Sy+IX1H7RH4dbVtKtJVEdlFdpHLPJ180qw2sinAClhyCxBwMXW1DW7fTLQ6vts5p2ea6khAZLOMMMJvIK5CnJYjB2tjqMC2u/6/r+tQe/8AX9f12OnorH8KX17qfhi0vNTjZJ5d5G9NjMm9hGxXsWQKxHHJ6CtigAooooAKKKKACiiigAooooAKKKKAOc8T63rekyK+kaTbXNpAnn3txd3fkKqZwVj4OXwCecAcc81p6LfXWp6at5eWT2PnEtFBL/rFj/h3gcBj1x2yB1rmfEE/iM6sLxfDTavpttMEtrKK8SORpB0ndW+UqD90bsj72CcbbNvda2/ibQbLULkR3Btrm8v4LfBjC5VY484ycF/vcZ2E96I6r+vX+v8AMJbnW0VT1a9OnaPd3o8sfZ4WlJkJCgKMknHsKg8NXF/d+F9OudX2/bp7dJZwi7QrMNxUD0GcfhRvf+v62A06KKKACiiigDmtZ8b2mja0untpuq3gQK11dWdoZYbMN0MhBz05wASBycCtjSNUh1rTUvrVJFt5STC0i7fNTPDgddp6jPbBrh9f8daBNfGDxDfPYaErskZkgk26pIv3lVguGQHjaDlz/sj5ugi8S3kmp+HrQaYLYarFNNLFM5EtvGigglQMZyyAjsWx2ojqgejOlooooAKKKKACiiigAooooAKKKKACiiigAooooAKKKKACs1/EWix3E0EmrWKTQAtKjXCAoAQDkZ4xkZ9Mirt0VFpMZJvs6bDulDAeWMfeyeBjrzXnN9YWF58UvBug2ISWz0Swm1NjkNuztjiYnuSxLZ7kZoWrt/XV/oD0Vz0SyvrTUbUXFhcxXMLEgSQuGXIOCMjuDxU9ZXhuy0ax0VV8NwxxWMkskg8sHDuXO5ueTls8/lxWrQAUUUUAFFFFABRRRQAUUUUAFFFFABRRRQAUUUUAFFFFABRRRQAUUUUAYvifRLvX7GGzt72G1hW4immElsZfNEciuF4dcAlcHrxW0M4GeT3xRRQAUUUUAFFFFABWFrmk6rf3Uc+n3lkghUeXBe2rTR788uQrryOMdcc+vG7RQBDZwyW9lFFPO1xKigPMwwXbucdue3apqKKACiiigAooooAKKKKACiiigAooooAKwp/DS3Xia51K6nWW1urNLWS0aPIKqXON2eh8zJGOoHNbtFAHPaz4UW88Jz6BoklvpVrcApKBbGQFCfmAAdcZGRnnrW/ErJCiuVLKoBKrtBPsMnH506igAooooAKKKKAGGKMqoMakIcqNo+U+3pXMIty/xUlmms5zBDpqQW82w+WNzs8h3dM5WJcdfwrqqKOt/wCuwdLBRRRQAUUUUAFFFFABRRRQAUUUUAFFFFABRRRQAUUUUAVdT0201jS7nTtShE9pdRNFNESRvUjBGRzWJD4A0C3lSa3huIZ1h+zmaO6kR3hwAIyQR8g2jA7Y4xk56WigBkEEVtbxwW8axRRKEREGAqgYAA9KfRRQAUUUUAFFFFABRRRQAUUUUAf/2Q==)"
      ],
      "metadata": {
        "id": "L0LX1uKKeTj5"
      }
    },
    {
      "cell_type": "markdown",
      "source": [
        "* This hybrid token embedding layer is a combination of token embeddings and character embeddings. In other words, they create a stacked embedding to represent sequences before passing them to the sequence label prediction layer\n",
        "\n",
        "To start replicating (or getting close to replicating) the model in Figure 1, we're going to go through the following steps:\n",
        "\n",
        "1. Create a token-level model (similar to model_1)\n",
        "2. Create a character-level model (similar to model_3 with a slight modification to reflect the paper)\n",
        "3. Combine (using layers.Concatenate) the outputs of 1 and 2\n",
        "4. Build a series of output layers on top of 3 similar to Figure 1 and section 4.2 of Neural Networks for Joint Sentence Classification in Medical Paper Abstracts\n",
        "5. Construct a model which takes token and character-level sequences as input and produces sequence label probabilities as output"
      ],
      "metadata": {
        "id": "K_WFWeAUe3B7"
      }
    },
    {
      "cell_type": "code",
      "source": [
        "import tensorflow_hub as hub\n",
        "import tensorflow as tf\n",
        "from tensorflow.keras import layers\n",
        "\n",
        "# Wrap tf_hub_embedding_layer in a custom layer\n",
        "class USE_Embedding_Layer(layers.Layer):\n",
        "    def __init__(self, **kwargs):\n",
        "        super(USE_Embedding_Layer, self).__init__(**kwargs)\n",
        "        self.tf_hub_embedding_layer = hub.KerasLayer(\"https://tfhub.dev/google/universal-sentence-encoder/4\",\n",
        "                                                    trainable=False,\n",
        "                                                    name=\"universal_sentence_encoder\")\n",
        "\n",
        "    def call(self, inputs):\n",
        "        return self.tf_hub_embedding_layer(inputs)\n",
        "\n",
        "# Token_level Model (using Pretrained -- Universal Sentence Encoder)\n",
        "token_inputs = layers.Input(shape = [], dtype= tf.string, name = \"token_input\")\n",
        "# Pass token_inputs through the custom layer\n",
        "token_embedding = USE_Embedding_Layer()(token_inputs)\n",
        "token_dense = layers.Dense(128,activation=\"relu\")(token_embedding)\n",
        "token_model = tf.keras.Model(inputs = token_inputs,\n",
        "                             outputs = token_dense)\n",
        "\n",
        "2 # char_level Model\n",
        "char_inputs = layers.Input(shape=(1,), dtype= tf.string, name=\"char_input\")\n",
        "char_vectors = char_vectorizer(char_inputs)\n",
        "char_embedding = char_embed(char_vectors)\n",
        "char_bi_lstm = layers.Bidirectional(layers.LSTM(25,activation=\"relu\"))(char_embedding)\n",
        "char_model = tf.keras.Model(inputs= char_inputs,    # char_dense = layers.Dense(128,activation=\"relu\")(char_bilstm)\n",
        "                            outputs =char_bi_lstm)\n",
        "\n",
        "\n",
        "3 # Now Concatenate token_model and char_model\n",
        "concat_layer = layers.Concatenate(name = \"token_char_hybrid\")([token_model.output,\n",
        "                                                               char_model.output])\n",
        "\n",
        "4 # Add Some Layer on top of concat_layer\n",
        "concat_dropout = layers.Dropout(0.5)(concat_layer)\n",
        "concat_dense = layers.Dense(256,activation=\"relu\")(concat_dropout)\n",
        "final_dropout = layers.Dropout(0.2)(concat_dense)\n",
        "output_layer = layers.Dense(num_classes,activation=\"softmax\")(final_dropout)\n",
        "\n",
        "model_4 = tf.keras.Model(inputs = [token_model.input, char_model.input],\n",
        "                         outputs = output_layer,\n",
        "                         name=\"model_4_token_and_char_embeddings\")"
      ],
      "metadata": {
        "id": "j55JFC3Ze_1r"
      },
      "execution_count": 83,
      "outputs": []
    },
    {
      "cell_type": "code",
      "source": [
        "model_4.summary()"
      ],
      "metadata": {
        "colab": {
          "base_uri": "https://localhost:8080/",
          "height": 609
        },
        "id": "X1R1DROAfxDr",
        "outputId": "82adbd97-c760-4e33-e2f8-558142dec02f"
      },
      "execution_count": 84,
      "outputs": [
        {
          "output_type": "display_data",
          "data": {
            "text/plain": [
              "\u001b[1mModel: \"model_4_token_and_char_embeddings\"\u001b[0m\n"
            ],
            "text/html": [
              "<pre style=\"white-space:pre;overflow-x:auto;line-height:normal;font-family:Menlo,'DejaVu Sans Mono',consolas,'Courier New',monospace\"><span style=\"font-weight: bold\">Model: \"model_4_token_and_char_embeddings\"</span>\n",
              "</pre>\n"
            ]
          },
          "metadata": {}
        },
        {
          "output_type": "display_data",
          "data": {
            "text/plain": [
              "┏━━━━━━━━━━━━━━━━━━━━━━━━━━━┳━━━━━━━━━━━━━━━━━━━━━━━━┳━━━━━━━━━━━━━━━━┳━━━━━━━━━━━━━━━━━━━━━━━━┓\n",
              "┃\u001b[1m \u001b[0m\u001b[1mLayer (type)             \u001b[0m\u001b[1m \u001b[0m┃\u001b[1m \u001b[0m\u001b[1mOutput Shape          \u001b[0m\u001b[1m \u001b[0m┃\u001b[1m \u001b[0m\u001b[1m       Param #\u001b[0m\u001b[1m \u001b[0m┃\u001b[1m \u001b[0m\u001b[1mConnected to          \u001b[0m\u001b[1m \u001b[0m┃\n",
              "┡━━━━━━━━━━━━━━━━━━━━━━━━━━━╇━━━━━━━━━━━━━━━━━━━━━━━━╇━━━━━━━━━━━━━━━━╇━━━━━━━━━━━━━━━━━━━━━━━━┩\n",
              "│ char_input (\u001b[38;5;33mInputLayer\u001b[0m)   │ (\u001b[38;5;45mNone\u001b[0m, \u001b[38;5;34m1\u001b[0m)              │              \u001b[38;5;34m0\u001b[0m │ -                      │\n",
              "├───────────────────────────┼────────────────────────┼────────────────┼────────────────────────┤\n",
              "│ token_input (\u001b[38;5;33mInputLayer\u001b[0m)  │ (\u001b[38;5;45mNone\u001b[0m)                 │              \u001b[38;5;34m0\u001b[0m │ -                      │\n",
              "├───────────────────────────┼────────────────────────┼────────────────┼────────────────────────┤\n",
              "│ char_vectorizer           │ (\u001b[38;5;45mNone\u001b[0m, \u001b[38;5;34m296\u001b[0m)            │              \u001b[38;5;34m0\u001b[0m │ char_input[\u001b[38;5;34m0\u001b[0m][\u001b[38;5;34m0\u001b[0m]       │\n",
              "│ (\u001b[38;5;33mTextVectorization\u001b[0m)       │                        │                │                        │\n",
              "├───────────────────────────┼────────────────────────┼────────────────┼────────────────────────┤\n",
              "│ use__embedding__layer_1   │ (\u001b[38;5;45mNone\u001b[0m, \u001b[38;5;34m512\u001b[0m)            │              \u001b[38;5;34m0\u001b[0m │ token_input[\u001b[38;5;34m0\u001b[0m][\u001b[38;5;34m0\u001b[0m]      │\n",
              "│ (\u001b[38;5;33mUSE_Embedding_Layer\u001b[0m)     │                        │                │                        │\n",
              "├───────────────────────────┼────────────────────────┼────────────────┼────────────────────────┤\n",
              "│ char_embed (\u001b[38;5;33mEmbedding\u001b[0m)    │ (\u001b[38;5;45mNone\u001b[0m, \u001b[38;5;34m296\u001b[0m, \u001b[38;5;34m25\u001b[0m)        │          \u001b[38;5;34m1,750\u001b[0m │ char_vectorizer[\u001b[38;5;34m1\u001b[0m][\u001b[38;5;34m0\u001b[0m]  │\n",
              "├───────────────────────────┼────────────────────────┼────────────────┼────────────────────────┤\n",
              "│ not_equal_2 (\u001b[38;5;33mNotEqual\u001b[0m)    │ (\u001b[38;5;45mNone\u001b[0m, \u001b[38;5;34m296\u001b[0m)            │              \u001b[38;5;34m0\u001b[0m │ char_vectorizer[\u001b[38;5;34m1\u001b[0m][\u001b[38;5;34m0\u001b[0m]  │\n",
              "├───────────────────────────┼────────────────────────┼────────────────┼────────────────────────┤\n",
              "│ dense_4 (\u001b[38;5;33mDense\u001b[0m)           │ (\u001b[38;5;45mNone\u001b[0m, \u001b[38;5;34m128\u001b[0m)            │         \u001b[38;5;34m65,664\u001b[0m │ use__embedding__layer… │\n",
              "├───────────────────────────┼────────────────────────┼────────────────┼────────────────────────┤\n",
              "│ bidirectional             │ (\u001b[38;5;45mNone\u001b[0m, \u001b[38;5;34m50\u001b[0m)             │         \u001b[38;5;34m10,200\u001b[0m │ char_embed[\u001b[38;5;34m1\u001b[0m][\u001b[38;5;34m0\u001b[0m],      │\n",
              "│ (\u001b[38;5;33mBidirectional\u001b[0m)           │                        │                │ not_equal_2[\u001b[38;5;34m0\u001b[0m][\u001b[38;5;34m0\u001b[0m]      │\n",
              "├───────────────────────────┼────────────────────────┼────────────────┼────────────────────────┤\n",
              "│ token_char_hybrid         │ (\u001b[38;5;45mNone\u001b[0m, \u001b[38;5;34m178\u001b[0m)            │              \u001b[38;5;34m0\u001b[0m │ dense_4[\u001b[38;5;34m0\u001b[0m][\u001b[38;5;34m0\u001b[0m],         │\n",
              "│ (\u001b[38;5;33mConcatenate\u001b[0m)             │                        │                │ bidirectional[\u001b[38;5;34m0\u001b[0m][\u001b[38;5;34m0\u001b[0m]    │\n",
              "├───────────────────────────┼────────────────────────┼────────────────┼────────────────────────┤\n",
              "│ dropout_1 (\u001b[38;5;33mDropout\u001b[0m)       │ (\u001b[38;5;45mNone\u001b[0m, \u001b[38;5;34m178\u001b[0m)            │              \u001b[38;5;34m0\u001b[0m │ token_char_hybrid[\u001b[38;5;34m0\u001b[0m][\u001b[38;5;34m…\u001b[0m │\n",
              "├───────────────────────────┼────────────────────────┼────────────────┼────────────────────────┤\n",
              "│ dense_5 (\u001b[38;5;33mDense\u001b[0m)           │ (\u001b[38;5;45mNone\u001b[0m, \u001b[38;5;34m256\u001b[0m)            │         \u001b[38;5;34m45,824\u001b[0m │ dropout_1[\u001b[38;5;34m0\u001b[0m][\u001b[38;5;34m0\u001b[0m]        │\n",
              "├───────────────────────────┼────────────────────────┼────────────────┼────────────────────────┤\n",
              "│ dropout_2 (\u001b[38;5;33mDropout\u001b[0m)       │ (\u001b[38;5;45mNone\u001b[0m, \u001b[38;5;34m256\u001b[0m)            │              \u001b[38;5;34m0\u001b[0m │ dense_5[\u001b[38;5;34m0\u001b[0m][\u001b[38;5;34m0\u001b[0m]          │\n",
              "├───────────────────────────┼────────────────────────┼────────────────┼────────────────────────┤\n",
              "│ dense_6 (\u001b[38;5;33mDense\u001b[0m)           │ (\u001b[38;5;45mNone\u001b[0m, \u001b[38;5;34m5\u001b[0m)              │          \u001b[38;5;34m1,285\u001b[0m │ dropout_2[\u001b[38;5;34m0\u001b[0m][\u001b[38;5;34m0\u001b[0m]        │\n",
              "└───────────────────────────┴────────────────────────┴────────────────┴────────────────────────┘\n"
            ],
            "text/html": [
              "<pre style=\"white-space:pre;overflow-x:auto;line-height:normal;font-family:Menlo,'DejaVu Sans Mono',consolas,'Courier New',monospace\">┏━━━━━━━━━━━━━━━━━━━━━━━━━━━┳━━━━━━━━━━━━━━━━━━━━━━━━┳━━━━━━━━━━━━━━━━┳━━━━━━━━━━━━━━━━━━━━━━━━┓\n",
              "┃<span style=\"font-weight: bold\"> Layer (type)              </span>┃<span style=\"font-weight: bold\"> Output Shape           </span>┃<span style=\"font-weight: bold\">        Param # </span>┃<span style=\"font-weight: bold\"> Connected to           </span>┃\n",
              "┡━━━━━━━━━━━━━━━━━━━━━━━━━━━╇━━━━━━━━━━━━━━━━━━━━━━━━╇━━━━━━━━━━━━━━━━╇━━━━━━━━━━━━━━━━━━━━━━━━┩\n",
              "│ char_input (<span style=\"color: #0087ff; text-decoration-color: #0087ff\">InputLayer</span>)   │ (<span style=\"color: #00d7ff; text-decoration-color: #00d7ff\">None</span>, <span style=\"color: #00af00; text-decoration-color: #00af00\">1</span>)              │              <span style=\"color: #00af00; text-decoration-color: #00af00\">0</span> │ -                      │\n",
              "├───────────────────────────┼────────────────────────┼────────────────┼────────────────────────┤\n",
              "│ token_input (<span style=\"color: #0087ff; text-decoration-color: #0087ff\">InputLayer</span>)  │ (<span style=\"color: #00d7ff; text-decoration-color: #00d7ff\">None</span>)                 │              <span style=\"color: #00af00; text-decoration-color: #00af00\">0</span> │ -                      │\n",
              "├───────────────────────────┼────────────────────────┼────────────────┼────────────────────────┤\n",
              "│ char_vectorizer           │ (<span style=\"color: #00d7ff; text-decoration-color: #00d7ff\">None</span>, <span style=\"color: #00af00; text-decoration-color: #00af00\">296</span>)            │              <span style=\"color: #00af00; text-decoration-color: #00af00\">0</span> │ char_input[<span style=\"color: #00af00; text-decoration-color: #00af00\">0</span>][<span style=\"color: #00af00; text-decoration-color: #00af00\">0</span>]       │\n",
              "│ (<span style=\"color: #0087ff; text-decoration-color: #0087ff\">TextVectorization</span>)       │                        │                │                        │\n",
              "├───────────────────────────┼────────────────────────┼────────────────┼────────────────────────┤\n",
              "│ use__embedding__layer_1   │ (<span style=\"color: #00d7ff; text-decoration-color: #00d7ff\">None</span>, <span style=\"color: #00af00; text-decoration-color: #00af00\">512</span>)            │              <span style=\"color: #00af00; text-decoration-color: #00af00\">0</span> │ token_input[<span style=\"color: #00af00; text-decoration-color: #00af00\">0</span>][<span style=\"color: #00af00; text-decoration-color: #00af00\">0</span>]      │\n",
              "│ (<span style=\"color: #0087ff; text-decoration-color: #0087ff\">USE_Embedding_Layer</span>)     │                        │                │                        │\n",
              "├───────────────────────────┼────────────────────────┼────────────────┼────────────────────────┤\n",
              "│ char_embed (<span style=\"color: #0087ff; text-decoration-color: #0087ff\">Embedding</span>)    │ (<span style=\"color: #00d7ff; text-decoration-color: #00d7ff\">None</span>, <span style=\"color: #00af00; text-decoration-color: #00af00\">296</span>, <span style=\"color: #00af00; text-decoration-color: #00af00\">25</span>)        │          <span style=\"color: #00af00; text-decoration-color: #00af00\">1,750</span> │ char_vectorizer[<span style=\"color: #00af00; text-decoration-color: #00af00\">1</span>][<span style=\"color: #00af00; text-decoration-color: #00af00\">0</span>]  │\n",
              "├───────────────────────────┼────────────────────────┼────────────────┼────────────────────────┤\n",
              "│ not_equal_2 (<span style=\"color: #0087ff; text-decoration-color: #0087ff\">NotEqual</span>)    │ (<span style=\"color: #00d7ff; text-decoration-color: #00d7ff\">None</span>, <span style=\"color: #00af00; text-decoration-color: #00af00\">296</span>)            │              <span style=\"color: #00af00; text-decoration-color: #00af00\">0</span> │ char_vectorizer[<span style=\"color: #00af00; text-decoration-color: #00af00\">1</span>][<span style=\"color: #00af00; text-decoration-color: #00af00\">0</span>]  │\n",
              "├───────────────────────────┼────────────────────────┼────────────────┼────────────────────────┤\n",
              "│ dense_4 (<span style=\"color: #0087ff; text-decoration-color: #0087ff\">Dense</span>)           │ (<span style=\"color: #00d7ff; text-decoration-color: #00d7ff\">None</span>, <span style=\"color: #00af00; text-decoration-color: #00af00\">128</span>)            │         <span style=\"color: #00af00; text-decoration-color: #00af00\">65,664</span> │ use__embedding__layer… │\n",
              "├───────────────────────────┼────────────────────────┼────────────────┼────────────────────────┤\n",
              "│ bidirectional             │ (<span style=\"color: #00d7ff; text-decoration-color: #00d7ff\">None</span>, <span style=\"color: #00af00; text-decoration-color: #00af00\">50</span>)             │         <span style=\"color: #00af00; text-decoration-color: #00af00\">10,200</span> │ char_embed[<span style=\"color: #00af00; text-decoration-color: #00af00\">1</span>][<span style=\"color: #00af00; text-decoration-color: #00af00\">0</span>],      │\n",
              "│ (<span style=\"color: #0087ff; text-decoration-color: #0087ff\">Bidirectional</span>)           │                        │                │ not_equal_2[<span style=\"color: #00af00; text-decoration-color: #00af00\">0</span>][<span style=\"color: #00af00; text-decoration-color: #00af00\">0</span>]      │\n",
              "├───────────────────────────┼────────────────────────┼────────────────┼────────────────────────┤\n",
              "│ token_char_hybrid         │ (<span style=\"color: #00d7ff; text-decoration-color: #00d7ff\">None</span>, <span style=\"color: #00af00; text-decoration-color: #00af00\">178</span>)            │              <span style=\"color: #00af00; text-decoration-color: #00af00\">0</span> │ dense_4[<span style=\"color: #00af00; text-decoration-color: #00af00\">0</span>][<span style=\"color: #00af00; text-decoration-color: #00af00\">0</span>],         │\n",
              "│ (<span style=\"color: #0087ff; text-decoration-color: #0087ff\">Concatenate</span>)             │                        │                │ bidirectional[<span style=\"color: #00af00; text-decoration-color: #00af00\">0</span>][<span style=\"color: #00af00; text-decoration-color: #00af00\">0</span>]    │\n",
              "├───────────────────────────┼────────────────────────┼────────────────┼────────────────────────┤\n",
              "│ dropout_1 (<span style=\"color: #0087ff; text-decoration-color: #0087ff\">Dropout</span>)       │ (<span style=\"color: #00d7ff; text-decoration-color: #00d7ff\">None</span>, <span style=\"color: #00af00; text-decoration-color: #00af00\">178</span>)            │              <span style=\"color: #00af00; text-decoration-color: #00af00\">0</span> │ token_char_hybrid[<span style=\"color: #00af00; text-decoration-color: #00af00\">0</span>][<span style=\"color: #00af00; text-decoration-color: #00af00\">…</span> │\n",
              "├───────────────────────────┼────────────────────────┼────────────────┼────────────────────────┤\n",
              "│ dense_5 (<span style=\"color: #0087ff; text-decoration-color: #0087ff\">Dense</span>)           │ (<span style=\"color: #00d7ff; text-decoration-color: #00d7ff\">None</span>, <span style=\"color: #00af00; text-decoration-color: #00af00\">256</span>)            │         <span style=\"color: #00af00; text-decoration-color: #00af00\">45,824</span> │ dropout_1[<span style=\"color: #00af00; text-decoration-color: #00af00\">0</span>][<span style=\"color: #00af00; text-decoration-color: #00af00\">0</span>]        │\n",
              "├───────────────────────────┼────────────────────────┼────────────────┼────────────────────────┤\n",
              "│ dropout_2 (<span style=\"color: #0087ff; text-decoration-color: #0087ff\">Dropout</span>)       │ (<span style=\"color: #00d7ff; text-decoration-color: #00d7ff\">None</span>, <span style=\"color: #00af00; text-decoration-color: #00af00\">256</span>)            │              <span style=\"color: #00af00; text-decoration-color: #00af00\">0</span> │ dense_5[<span style=\"color: #00af00; text-decoration-color: #00af00\">0</span>][<span style=\"color: #00af00; text-decoration-color: #00af00\">0</span>]          │\n",
              "├───────────────────────────┼────────────────────────┼────────────────┼────────────────────────┤\n",
              "│ dense_6 (<span style=\"color: #0087ff; text-decoration-color: #0087ff\">Dense</span>)           │ (<span style=\"color: #00d7ff; text-decoration-color: #00d7ff\">None</span>, <span style=\"color: #00af00; text-decoration-color: #00af00\">5</span>)              │          <span style=\"color: #00af00; text-decoration-color: #00af00\">1,285</span> │ dropout_2[<span style=\"color: #00af00; text-decoration-color: #00af00\">0</span>][<span style=\"color: #00af00; text-decoration-color: #00af00\">0</span>]        │\n",
              "└───────────────────────────┴────────────────────────┴────────────────┴────────────────────────┘\n",
              "</pre>\n"
            ]
          },
          "metadata": {}
        },
        {
          "output_type": "display_data",
          "data": {
            "text/plain": [
              "\u001b[1m Total params: \u001b[0m\u001b[38;5;34m124,723\u001b[0m (487.20 KB)\n"
            ],
            "text/html": [
              "<pre style=\"white-space:pre;overflow-x:auto;line-height:normal;font-family:Menlo,'DejaVu Sans Mono',consolas,'Courier New',monospace\"><span style=\"font-weight: bold\"> Total params: </span><span style=\"color: #00af00; text-decoration-color: #00af00\">124,723</span> (487.20 KB)\n",
              "</pre>\n"
            ]
          },
          "metadata": {}
        },
        {
          "output_type": "display_data",
          "data": {
            "text/plain": [
              "\u001b[1m Trainable params: \u001b[0m\u001b[38;5;34m124,723\u001b[0m (487.20 KB)\n"
            ],
            "text/html": [
              "<pre style=\"white-space:pre;overflow-x:auto;line-height:normal;font-family:Menlo,'DejaVu Sans Mono',consolas,'Courier New',monospace\"><span style=\"font-weight: bold\"> Trainable params: </span><span style=\"color: #00af00; text-decoration-color: #00af00\">124,723</span> (487.20 KB)\n",
              "</pre>\n"
            ]
          },
          "metadata": {}
        },
        {
          "output_type": "display_data",
          "data": {
            "text/plain": [
              "\u001b[1m Non-trainable params: \u001b[0m\u001b[38;5;34m0\u001b[0m (0.00 B)\n"
            ],
            "text/html": [
              "<pre style=\"white-space:pre;overflow-x:auto;line-height:normal;font-family:Menlo,'DejaVu Sans Mono',consolas,'Courier New',monospace\"><span style=\"font-weight: bold\"> Non-trainable params: </span><span style=\"color: #00af00; text-decoration-color: #00af00\">0</span> (0.00 B)\n",
              "</pre>\n"
            ]
          },
          "metadata": {}
        }
      ]
    },
    {
      "cell_type": "markdown",
      "source": [
        "**Visualize the Hybrid Model**"
      ],
      "metadata": {
        "id": "W-IWp_lff05w"
      }
    },
    {
      "cell_type": "code",
      "source": [
        "tf.keras.utils.plot_model(\n",
        "    model_4, to_file='model.png', show_shapes=False, show_dtype=False,\n",
        "    show_layer_names=True, rankdir='TB', expand_nested=False, dpi=96\n",
        ")"
      ],
      "metadata": {
        "colab": {
          "base_uri": "https://localhost:8080/",
          "height": 697
        },
        "id": "pMj-GiMqf2zx",
        "outputId": "2d688326-3900-43ee-f304-0a93a1f25ea6"
      },
      "execution_count": 85,
      "outputs": [
        {
          "output_type": "execute_result",
          "data": {
            "image/png": "[encoded data removed]",
            "text/plain": [
              "<IPython.core.display.Image object>"
            ]
          },
          "metadata": {},
          "execution_count": 85
        }
      ]
    },
    {
      "cell_type": "code",
      "source": [
        "# Compile token char model\n",
        "model_4.compile(loss=\"categorical_crossentropy\",\n",
        "                optimizer=tf.keras.optimizers.Adam(), # section 4.2 of https://arxiv.org/pdf/1612.05251.pdf mentions using SGD but we'll stick with Adam\n",
        "                metrics=[\"accuracy\"])"
      ],
      "metadata": {
        "id": "LI0vpM8Zf9Yw"
      },
      "execution_count": 86,
      "outputs": []
    },
    {
      "cell_type": "code",
      "source": [
        "# Combine chars and tokens into a dataset\n",
        "train_char_token_data = tf.data.Dataset.from_tensor_slices((train_sentences, train_chars)) # make data\n",
        "# Convert train_labels_one_hot to a dense NumPy array\n",
        "train_char_token_labels = tf.data.Dataset.from_tensor_slices(train_labels_one_hot.toarray()) # make labels\n",
        "train_char_token_dataset = tf.data.Dataset.zip((train_char_token_data, train_char_token_labels)) # combine data and labels\n",
        "\n",
        "# Prefetch and batch train data\n",
        "train_char_token_dataset = train_char_token_dataset.batch(32).prefetch(tf.data.AUTOTUNE)\n",
        "\n",
        "# Repeat same steps validation data\n",
        "val_char_token_data = tf.data.Dataset.from_tensor_slices((val_sentences, val_chars))\n",
        "# Convert val_labels_one_hot to a dense NumPy array\n",
        "val_char_token_labels = tf.data.Dataset.from_tensor_slices(val_labels_one_hot.toarray())\n",
        "val_char_token_dataset = tf.data.Dataset.zip((val_char_token_data, val_char_token_labels))\n",
        "val_char_token_dataset = val_char_token_dataset.batch(32).prefetch(tf.data.AUTOTUNE)"
      ],
      "metadata": {
        "id": "E5Rq-1J7gA3Q"
      },
      "execution_count": 88,
      "outputs": []
    },
    {
      "cell_type": "code",
      "source": [
        "# Check out training char and token embedding dataset\n",
        "train_char_token_dataset, val_char_token_dataset"
      ],
      "metadata": {
        "colab": {
          "base_uri": "https://localhost:8080/"
        },
        "id": "pRlUNFz5gYx2",
        "outputId": "a1583283-708b-4b76-8155-596343a162a4"
      },
      "execution_count": 89,
      "outputs": [
        {
          "output_type": "execute_result",
          "data": {
            "text/plain": [
              "(<_PrefetchDataset element_spec=((TensorSpec(shape=(None,), dtype=tf.string, name=None), TensorSpec(shape=(None,), dtype=tf.string, name=None)), TensorSpec(shape=(None, 5), dtype=tf.float64, name=None))>,\n",
              " <_PrefetchDataset element_spec=((TensorSpec(shape=(None,), dtype=tf.string, name=None), TensorSpec(shape=(None,), dtype=tf.string, name=None)), TensorSpec(shape=(None, 5), dtype=tf.float64, name=None))>)"
            ]
          },
          "metadata": {},
          "execution_count": 89
        }
      ]
    },
    {
      "cell_type": "code",
      "source": [
        "# Fit the model on tokens and chars\n",
        "model_4_history = model_4.fit(train_char_token_dataset, # train on dataset of token and characters\n",
        "                              steps_per_epoch=int(0.1 * len(train_char_token_dataset)),\n",
        "                              epochs=10,\n",
        "                              validation_data=val_char_token_dataset,\n",
        "                              validation_steps=int(0.1 * len(val_char_token_dataset)))"
      ],
      "metadata": {
        "colab": {
          "base_uri": "https://localhost:8080/"
        },
        "id": "L_U0BEnxgcjx",
        "outputId": "b1b408e2-8549-4c75-f9fc-21fe4c7e166e"
      },
      "execution_count": null,
      "outputs": [
        {
          "output_type": "stream",
          "name": "stdout",
          "text": [
            "Epoch 1/10\n",
            "\u001b[1m562/562\u001b[0m \u001b[32m━━━━━━━━━━━━━━━━━━━━\u001b[0m\u001b[37m\u001b[0m \u001b[1m262s\u001b[0m 450ms/step - accuracy: 0.5596 - loss: 1.0796 - val_accuracy: 0.7051 - val_loss: 0.7508\n",
            "Epoch 2/10\n",
            "\u001b[1m562/562\u001b[0m \u001b[32m━━━━━━━━━━━━━━━━━━━━\u001b[0m\u001b[37m\u001b[0m \u001b[1m227s\u001b[0m 404ms/step - accuracy: 0.5927 - loss: nan - val_accuracy: 0.1157 - val_loss: nan\n",
            "Epoch 3/10\n",
            "\u001b[1m304/562\u001b[0m \u001b[32m━━━━━━━━━━\u001b[0m\u001b[37m━━━━━━━━━━\u001b[0m \u001b[1m1:24\u001b[0m 328ms/step - accuracy: 0.1227 - loss: nan"
          ]
        }
      ]
    },
    {
      "cell_type": "code",
      "source": [
        "# Evaluate on the whole validation dataset\n",
        "model_4.evaluate(val_char_token_dataset)"
      ],
      "metadata": {
        "id": "v-qxofEOgh5m"
      },
      "execution_count": null,
      "outputs": []
    },
    {
      "cell_type": "code",
      "source": [
        "# Make predictions using the token-character model hybrid\n",
        "model_4_pred_probs = model_4.predict(val_char_token_dataset)\n",
        "model_4_pred_probs"
      ],
      "metadata": {
        "id": "KRcVEm4ygkc-"
      },
      "execution_count": null,
      "outputs": []
    },
    {
      "cell_type": "code",
      "source": [
        "# Turn prediction probabilities into prediction classes\n",
        "model_4_preds = tf.argmax(model_4_pred_probs, axis=1)\n",
        "model_4_preds"
      ],
      "metadata": {
        "id": "qRSgzIcUgoLt"
      },
      "execution_count": null,
      "outputs": []
    },
    {
      "cell_type": "code",
      "source": [
        "# Get results of token-char-hybrid model\n",
        "model_4_results = calculate_results(y_true=val_labels_encoded,\n",
        "                                    y_pred=model_4_preds)\n",
        "model_4_results"
      ],
      "metadata": {
        "id": "iVL3aTLbgqe4"
      },
      "execution_count": null,
      "outputs": []
    },
    {
      "cell_type": "markdown",
      "source": [
        "# **Model 5: Transfer Learning with pretrained token embeddings + character embeddings + positional embeddings**\n",
        "\n",
        "As it's a Sequential classification problem the sequences come in a particular order. Like OBJECTIVE comes first rather then CONCLUSION.\n",
        "\n",
        "Abstracts typically come in a sequential order, such as:\n",
        "\n",
        "* OBJECTIVE ...\n",
        "* METHODS ...\n",
        "* METHODS ...\n",
        "* METHODS ...\n",
        "* RESULTS ...\n",
        "* CONCLUSIONS ...\n",
        "\n",
        "Or,\n",
        "\n",
        "* BACKGROUND ...\n",
        "* OBJECTIVE ...\n",
        "* METHODS ...\n",
        "* METHODS ...\n",
        "* RESULTS ...\n",
        "* CONCLUSIONS ...\n",
        "\n",
        "Here we do some Feature Engineering so that our model can learn the order sentences in the Abstract and know where the sentence appear in the Abstract. The \"`line_number`\" and \"`total_lines`\" columns are features which didn't necessarily come with the training data but can be passed to our model as a **positional embedding**.\n",
        "\n",
        "**Positional Embedding make your model include the information about order of the input. The positional encoding step allows the model to recognize which part of the sequence an input belongs to.**\n",
        "\n",
        "But to avoid our model thinking a line with \"`line_number`\"=5 is five times greater than a line with \"`line_number`\"=1, we'll use one-hot-encoding to encode our \"`line_number`\" and \"`total_lines`\" features.\n",
        "\n",
        "That is why we have to use one-hot encoding. We use tf.one_hot for it."
      ],
      "metadata": {
        "id": "_2j4ayq9guhn"
      }
    },
    {
      "cell_type": "code",
      "source": [
        "# Checking the Distribution of line Number in The data.\n",
        "train_df[\"line_number\"].value_counts()"
      ],
      "metadata": {
        "id": "9Q06Lr3shzkB"
      },
      "execution_count": null,
      "outputs": []
    },
    {
      "cell_type": "code",
      "source": [
        "# Check the distribution of line numbers\n",
        "train_df.line_number.plot.hist()"
      ],
      "metadata": {
        "id": "d1AxcH4wh4HQ"
      },
      "execution_count": null,
      "outputs": []
    },
    {
      "cell_type": "markdown",
      "source": [
        "Looking at the distribution of the \"line_number\" column, it looks like the majority of lines have a position of 15 or less.\n",
        "\n",
        "Knowing this, let's set the depth parameter of tf.one_hot to 15."
      ],
      "metadata": {
        "id": "-9GTAxDAh6t3"
      }
    },
    {
      "cell_type": "code",
      "source": [
        "train_line_numbers_one_hot = tf.one_hot(train_df[\"line_number\"].to_numpy(),depth= 15)\n",
        "val_line_numbers_one_hot = tf.one_hot(val_df[\"line_number\"].to_numpy(),depth= 15)\n",
        "test_line_numbers_one_hot = tf.one_hot(test_df[\"line_number\"].to_numpy(),depth= 15)"
      ],
      "metadata": {
        "id": "0G8_YJQ6h8Fo"
      },
      "execution_count": null,
      "outputs": []
    },
    {
      "cell_type": "code",
      "source": [
        "# Check one-hot encoded \"line_number\" feature samples\n",
        "train_line_numbers_one_hot.shape, train_line_numbers_one_hot[:20]"
      ],
      "metadata": {
        "id": "6cfy0-b1iAG4"
      },
      "execution_count": null,
      "outputs": []
    },
    {
      "cell_type": "markdown",
      "source": [
        "We could create a one-hot tensor which has room for all of the potential values of \"line_number\" (depth=30), however, this would end up in a tensor of double the size of our current one (depth=15) where the vast majority of values are 0. Plus, only ~2,000/180,000 samples have a \"line_number\" value of over 15. So we would not be gaining much information about our data for doubling our feature space. This kind of problem is called the curse of dimensionality. However, since this we're working with deep models, it might be worth trying to throw as much information at the model as possible and seeing what happens. I'll leave exploring values of the depth parameter as an extension.\n",
        "\n",
        "We can do the same above process for the total line also in data."
      ],
      "metadata": {
        "id": "xpvXy9bRiCxk"
      }
    },
    {
      "cell_type": "code",
      "source": [
        "# How many different numbers of lines are there?\n",
        "train_df[\"total_lines\"].value_counts()"
      ],
      "metadata": {
        "id": "hQyTXebdiF8o"
      },
      "execution_count": null,
      "outputs": []
    },
    {
      "cell_type": "code",
      "source": [
        "# Check the distribution of total lines\n",
        "train_df.total_lines.plot.hist();"
      ],
      "metadata": {
        "id": "2rZme-tTiIhf"
      },
      "execution_count": null,
      "outputs": []
    },
    {
      "cell_type": "markdown",
      "source": [
        "It shows that majority of data has line number below 20. We can perform numpy percentile to check this."
      ],
      "metadata": {
        "id": "i7mUBN-biL3z"
      }
    },
    {
      "cell_type": "code",
      "source": [
        "# Check the coverage of a \"total_lines\" value of 20\n",
        "np.percentile(train_df.total_lines, 98) # a value of 20 covers 98% of samples"
      ],
      "metadata": {
        "id": "Cz_CwPWeiMzv"
      },
      "execution_count": null,
      "outputs": []
    },
    {
      "cell_type": "code",
      "source": [
        "# Use TensorFlow to create one-hot-encoded tensors of our \"total_lines\" column\n",
        "train_total_lines_one_hot = tf.one_hot(train_df[\"total_lines\"].to_numpy(), depth=20)\n",
        "val_total_lines_one_hot = tf.one_hot(val_df[\"total_lines\"].to_numpy(), depth=20)\n",
        "test_total_lines_one_hot = tf.one_hot(test_df[\"total_lines\"].to_numpy(), depth=20)\n",
        "\n",
        "# Check shape and samples of total lines one-hot tensor\n",
        "train_total_lines_one_hot.shape, train_total_lines_one_hot[:10]"
      ],
      "metadata": {
        "id": "wYQJTvveiQ_e"
      },
      "execution_count": null,
      "outputs": []
    }
  ]
}